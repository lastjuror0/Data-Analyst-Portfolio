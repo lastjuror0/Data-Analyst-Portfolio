{
 "cells": [
  {
   "cell_type": "markdown",
   "id": "c264724f",
   "metadata": {},
   "source": [
    "# Problem statement\n",
    "\n",
    "**With thousands of books varying in genre, format, language, and popularity, identifying similar titles based solely on content characteristics can be challenging.**\n",
    "**A recommendation model makes it easier to discover books, find similar reads, and keep readers engaged.**"
   ]
  },
  {
   "cell_type": "code",
   "execution_count": 1,
   "id": "71fa2d88",
   "metadata": {},
   "outputs": [],
   "source": [
    "import pandas as pd\n",
    "import numpy as np\n",
    "import matplotlib.pyplot as plt\n",
    "import seaborn as sns\n",
    "import datetime\n",
    "import scipy\n",
    "import duckdb # I will be using SQL to aggregate and explore the data, while Python will handle more complex tasks such as cleaning, transformation, and modeling.\n",
    "\n",
    "from sklearn.cluster import KMeans\n",
    "from sklearn.metrics import silhouette_score"
   ]
  },
  {
   "cell_type": "code",
   "execution_count": 3,
   "id": "edbcbea7",
   "metadata": {},
   "outputs": [
    {
     "name": "stdout",
     "output_type": "stream",
     "text": [
      "shape: (8654, 12)\n",
      "no of duplicates: 0\n",
      "missing values:\n",
      "Unnamed: 0          0\n",
      "BookTitle          26\n",
      "Author             26\n",
      "Format             66\n",
      "Published          63\n",
      "ISBN             1679\n",
      "ASIN             1596\n",
      "Language          169\n",
      "Total_Ratings      26\n",
      "Reviews            26\n",
      "Rating             26\n",
      "Genres              0\n",
      "dtype: int64\n"
     ]
    }
   ],
   "source": [
    "df = pd.read_csv('goodreads_scraped_data.csv')\n",
    "print(f'shape: {df.shape}')\n",
    "print(f'no of duplicates: {df.duplicated().sum()}')\n",
    "print('missing values:')\n",
    "print(df.isnull().sum())"
   ]
  },
  {
   "cell_type": "code",
   "execution_count": 4,
   "id": "f3ef5534",
   "metadata": {},
   "outputs": [
    {
     "name": "stdout",
     "output_type": "stream",
     "text": [
      "<class 'pandas.core.frame.DataFrame'>\n",
      "RangeIndex: 8654 entries, 0 to 8653\n",
      "Data columns (total 12 columns):\n",
      " #   Column         Non-Null Count  Dtype  \n",
      "---  ------         --------------  -----  \n",
      " 0   Unnamed: 0     8654 non-null   int64  \n",
      " 1   BookTitle      8628 non-null   object \n",
      " 2   Author         8628 non-null   object \n",
      " 3   Format         8588 non-null   object \n",
      " 4   Published      8591 non-null   object \n",
      " 5   ISBN           6975 non-null   object \n",
      " 6   ASIN           7058 non-null   object \n",
      " 7   Language       8485 non-null   object \n",
      " 8   Total_Ratings  8628 non-null   object \n",
      " 9   Reviews        8628 non-null   object \n",
      " 10  Rating         8628 non-null   float64\n",
      " 11  Genres         8654 non-null   object \n",
      "dtypes: float64(1), int64(1), object(10)\n",
      "memory usage: 811.4+ KB\n"
     ]
    }
   ],
   "source": [
    "df.info()"
   ]
  },
  {
   "cell_type": "markdown",
   "id": "f7d54d69",
   "metadata": {},
   "source": [
    "**The dataset has 8,654 entries and 12 columns.**\n",
    "\n",
    "**No duplicate rows are present.**\n",
    "\n",
    "**Several columns contain missing values**\n",
    "\n",
    "**Some columns have incorrect data types, for example:**\n",
    "\n",
    "**Total_Ratings is stored as object but should be numeric**\n",
    "\n",
    "**Unnamed: 0 appears to be an unnecessary index column.**\n"
   ]
  },
  {
   "cell_type": "code",
   "execution_count": 5,
   "id": "5c840025",
   "metadata": {},
   "outputs": [
    {
     "data": {
      "application/vnd.microsoft.datawrangler.viewer.v0+json": {
       "columns": [
        {
         "name": "index",
         "rawType": "int64",
         "type": "integer"
        },
        {
         "name": "Unnamed: 0",
         "rawType": "int64",
         "type": "integer"
        },
        {
         "name": "BookTitle",
         "rawType": "object",
         "type": "string"
        },
        {
         "name": "Author",
         "rawType": "object",
         "type": "string"
        },
        {
         "name": "Format",
         "rawType": "object",
         "type": "string"
        },
        {
         "name": "Published",
         "rawType": "object",
         "type": "string"
        },
        {
         "name": "ISBN",
         "rawType": "object",
         "type": "unknown"
        },
        {
         "name": "ASIN",
         "rawType": "object",
         "type": "unknown"
        },
        {
         "name": "Language",
         "rawType": "object",
         "type": "string"
        },
        {
         "name": "Total_Ratings",
         "rawType": "object",
         "type": "string"
        },
        {
         "name": "Reviews",
         "rawType": "object",
         "type": "string"
        },
        {
         "name": "Rating",
         "rawType": "float64",
         "type": "float"
        },
        {
         "name": "Genres",
         "rawType": "object",
         "type": "string"
        }
       ],
       "ref": "2adc5f25-65f2-4422-a8b8-eb8b21434483",
       "rows": [
        [
         "0",
         "0",
         "Mortality",
         "Kellie Sheridan",
         "280 pages, ebook",
         "March 19, 2013 by Patchwork Press",
         "9.78099E+12",
         null,
         "English",
         "541 ratings",
         "149 reviews",
         "3.82",
         "['Zombies', 'Young Adult', 'Horror', 'Fantasy', 'Romance', 'Post Apocalyptic', 'Dystopia']"
        ],
        [
         "1",
         "1",
         "Finnegans Wake",
         "James Joyce",
         "628 pages, Paperback",
         "November 4, 2002 by Faber & Faber",
         "9780571217359 (ISBN10: 0571217354)",
         "571217354",
         "English",
         "13,079 ratings",
         "1,270 reviews",
         "3.68",
         "['Fiction', 'Classics', 'Literature', 'Ireland', 'Irish Literature', 'Novels', 'Literary Fiction']"
        ],
        [
         "2",
         "2",
         "Madame Bovary",
         "Gustave Flaubert",
         "411 pages, Paperback",
         "December 14, 1991 by Vintage",
         "9780679736363 (ISBN10: 0679736360)",
         "679736360",
         "English",
         "344,293 ratings",
         "17,289 reviews",
         "3.7",
         "['Fiction', 'Classics', 'France', 'Literature', 'French Literature', 'Romance', '19th Century']"
        ],
        [
         "3",
         "3",
         "Skin Deep",
         "J.M. Stone",
         "277 pages, Kindle Edition",
         "25-Apr-13",
         null,
         "B00CJ1ICH6",
         "English",
         "10,168 ratings",
         "724 reviews",
         "3.98",
         "['Romance', 'Contemporary Romance', 'Erotica', 'Contemporary', 'New Adult', 'Humor', 'Erotic Romance']"
        ],
        [
         "4",
         "4",
         "What I Didn't Say",
         "Keary Taylor",
         "336 pages, Paperback",
         "April 28, 2012 by CreateSpace",
         "9781475156454 (ISBN10: 1475156456)",
         "1475156456",
         "English",
         "7,665 ratings",
         "972 reviews",
         "3.95",
         "['Young Adult', 'Romance', 'Contemporary', 'High School', 'New Adult', 'Fiction', 'Disability']"
        ]
       ],
       "shape": {
        "columns": 12,
        "rows": 5
       }
      },
      "text/html": [
       "<div>\n",
       "<style scoped>\n",
       "    .dataframe tbody tr th:only-of-type {\n",
       "        vertical-align: middle;\n",
       "    }\n",
       "\n",
       "    .dataframe tbody tr th {\n",
       "        vertical-align: top;\n",
       "    }\n",
       "\n",
       "    .dataframe thead th {\n",
       "        text-align: right;\n",
       "    }\n",
       "</style>\n",
       "<table border=\"1\" class=\"dataframe\">\n",
       "  <thead>\n",
       "    <tr style=\"text-align: right;\">\n",
       "      <th></th>\n",
       "      <th>Unnamed: 0</th>\n",
       "      <th>BookTitle</th>\n",
       "      <th>Author</th>\n",
       "      <th>Format</th>\n",
       "      <th>Published</th>\n",
       "      <th>ISBN</th>\n",
       "      <th>ASIN</th>\n",
       "      <th>Language</th>\n",
       "      <th>Total_Ratings</th>\n",
       "      <th>Reviews</th>\n",
       "      <th>Rating</th>\n",
       "      <th>Genres</th>\n",
       "    </tr>\n",
       "  </thead>\n",
       "  <tbody>\n",
       "    <tr>\n",
       "      <th>0</th>\n",
       "      <td>0</td>\n",
       "      <td>Mortality</td>\n",
       "      <td>Kellie Sheridan</td>\n",
       "      <td>280 pages, ebook</td>\n",
       "      <td>March 19, 2013 by Patchwork Press</td>\n",
       "      <td>9.78099E+12</td>\n",
       "      <td>NaN</td>\n",
       "      <td>English</td>\n",
       "      <td>541 ratings</td>\n",
       "      <td>149 reviews</td>\n",
       "      <td>3.82</td>\n",
       "      <td>['Zombies', 'Young Adult', 'Horror', 'Fantasy'...</td>\n",
       "    </tr>\n",
       "    <tr>\n",
       "      <th>1</th>\n",
       "      <td>1</td>\n",
       "      <td>Finnegans Wake</td>\n",
       "      <td>James Joyce</td>\n",
       "      <td>628 pages, Paperback</td>\n",
       "      <td>November 4, 2002 by Faber &amp; Faber</td>\n",
       "      <td>9780571217359 (ISBN10: 0571217354)</td>\n",
       "      <td>571217354</td>\n",
       "      <td>English</td>\n",
       "      <td>13,079 ratings</td>\n",
       "      <td>1,270 reviews</td>\n",
       "      <td>3.68</td>\n",
       "      <td>['Fiction', 'Classics', 'Literature', 'Ireland...</td>\n",
       "    </tr>\n",
       "    <tr>\n",
       "      <th>2</th>\n",
       "      <td>2</td>\n",
       "      <td>Madame Bovary</td>\n",
       "      <td>Gustave Flaubert</td>\n",
       "      <td>411 pages, Paperback</td>\n",
       "      <td>December 14, 1991 by Vintage</td>\n",
       "      <td>9780679736363 (ISBN10: 0679736360)</td>\n",
       "      <td>679736360</td>\n",
       "      <td>English</td>\n",
       "      <td>344,293 ratings</td>\n",
       "      <td>17,289 reviews</td>\n",
       "      <td>3.70</td>\n",
       "      <td>['Fiction', 'Classics', 'France', 'Literature'...</td>\n",
       "    </tr>\n",
       "    <tr>\n",
       "      <th>3</th>\n",
       "      <td>3</td>\n",
       "      <td>Skin Deep</td>\n",
       "      <td>J.M. Stone</td>\n",
       "      <td>277 pages, Kindle Edition</td>\n",
       "      <td>25-Apr-13</td>\n",
       "      <td>NaN</td>\n",
       "      <td>B00CJ1ICH6</td>\n",
       "      <td>English</td>\n",
       "      <td>10,168 ratings</td>\n",
       "      <td>724 reviews</td>\n",
       "      <td>3.98</td>\n",
       "      <td>['Romance', 'Contemporary Romance', 'Erotica',...</td>\n",
       "    </tr>\n",
       "    <tr>\n",
       "      <th>4</th>\n",
       "      <td>4</td>\n",
       "      <td>What I Didn't Say</td>\n",
       "      <td>Keary Taylor</td>\n",
       "      <td>336 pages, Paperback</td>\n",
       "      <td>April 28, 2012 by CreateSpace</td>\n",
       "      <td>9781475156454 (ISBN10: 1475156456)</td>\n",
       "      <td>1475156456</td>\n",
       "      <td>English</td>\n",
       "      <td>7,665 ratings</td>\n",
       "      <td>972 reviews</td>\n",
       "      <td>3.95</td>\n",
       "      <td>['Young Adult', 'Romance', 'Contemporary', 'Hi...</td>\n",
       "    </tr>\n",
       "  </tbody>\n",
       "</table>\n",
       "</div>"
      ],
      "text/plain": [
       "   Unnamed: 0          BookTitle            Author                     Format  \\\n",
       "0           0          Mortality   Kellie Sheridan           280 pages, ebook   \n",
       "1           1     Finnegans Wake       James Joyce       628 pages, Paperback   \n",
       "2           2      Madame Bovary  Gustave Flaubert       411 pages, Paperback   \n",
       "3           3          Skin Deep        J.M. Stone  277 pages, Kindle Edition   \n",
       "4           4  What I Didn't Say      Keary Taylor       336 pages, Paperback   \n",
       "\n",
       "                           Published                                ISBN  \\\n",
       "0  March 19, 2013 by Patchwork Press                         9.78099E+12   \n",
       "1  November 4, 2002 by Faber & Faber  9780571217359 (ISBN10: 0571217354)   \n",
       "2       December 14, 1991 by Vintage  9780679736363 (ISBN10: 0679736360)   \n",
       "3                          25-Apr-13                                 NaN   \n",
       "4      April 28, 2012 by CreateSpace  9781475156454 (ISBN10: 1475156456)   \n",
       "\n",
       "         ASIN Language    Total_Ratings         Reviews  Rating  \\\n",
       "0         NaN  English      541 ratings     149 reviews    3.82   \n",
       "1   571217354  English   13,079 ratings   1,270 reviews    3.68   \n",
       "2   679736360  English  344,293 ratings  17,289 reviews    3.70   \n",
       "3  B00CJ1ICH6  English   10,168 ratings     724 reviews    3.98   \n",
       "4  1475156456  English    7,665 ratings     972 reviews    3.95   \n",
       "\n",
       "                                              Genres  \n",
       "0  ['Zombies', 'Young Adult', 'Horror', 'Fantasy'...  \n",
       "1  ['Fiction', 'Classics', 'Literature', 'Ireland...  \n",
       "2  ['Fiction', 'Classics', 'France', 'Literature'...  \n",
       "3  ['Romance', 'Contemporary Romance', 'Erotica',...  \n",
       "4  ['Young Adult', 'Romance', 'Contemporary', 'Hi...  "
      ]
     },
     "execution_count": 5,
     "metadata": {},
     "output_type": "execute_result"
    }
   ],
   "source": [
    "df.head(5)"
   ]
  },
  {
   "cell_type": "markdown",
   "id": "1d452669",
   "metadata": {},
   "source": [
    "# Data Cleaning"
   ]
  },
  {
   "cell_type": "markdown",
   "id": "63b23662",
   "metadata": {},
   "source": [
    "**Dealing with null values**"
   ]
  },
  {
   "cell_type": "code",
   "execution_count": 6,
   "id": "bf01dd9b",
   "metadata": {},
   "outputs": [],
   "source": [
    "# Dropping \"Unnamed: 0\" as it's just an unnecessary index column.\n",
    "df.drop(columns=\"Unnamed: 0\",axis=1,inplace=True)"
   ]
  },
  {
   "cell_type": "code",
   "execution_count": 7,
   "id": "458113de",
   "metadata": {},
   "outputs": [
    {
     "data": {
      "text/plain": [
       "np.int64(3703)"
      ]
     },
     "execution_count": 7,
     "metadata": {},
     "output_type": "execute_result"
    }
   ],
   "source": [
    "df.isnull().sum().sum()"
   ]
  },
  {
   "cell_type": "code",
   "execution_count": 8,
   "id": "dccfe745",
   "metadata": {},
   "outputs": [
    {
     "data": {
      "application/vnd.microsoft.datawrangler.viewer.v0+json": {
       "columns": [
        {
         "name": "index",
         "rawType": "int64",
         "type": "integer"
        },
        {
         "name": "BookTitle",
         "rawType": "object",
         "type": "unknown"
        },
        {
         "name": "Author",
         "rawType": "object",
         "type": "unknown"
        },
        {
         "name": "Format",
         "rawType": "object",
         "type": "unknown"
        },
        {
         "name": "Published",
         "rawType": "object",
         "type": "unknown"
        },
        {
         "name": "ISBN",
         "rawType": "object",
         "type": "unknown"
        },
        {
         "name": "ASIN",
         "rawType": "object",
         "type": "unknown"
        },
        {
         "name": "Language",
         "rawType": "object",
         "type": "unknown"
        },
        {
         "name": "Total_Ratings",
         "rawType": "object",
         "type": "unknown"
        },
        {
         "name": "Reviews",
         "rawType": "object",
         "type": "unknown"
        },
        {
         "name": "Rating",
         "rawType": "float64",
         "type": "float"
        },
        {
         "name": "Genres",
         "rawType": "object",
         "type": "string"
        }
       ],
       "ref": "2cf02aae-74e4-4de6-89ea-6baadffc07c4",
       "rows": [
        [
         "0",
         null,
         null,
         null,
         null,
         null,
         null,
         null,
         null,
         null,
         null,
         "[]"
        ],
        [
         "1",
         null,
         null,
         null,
         null,
         null,
         null,
         null,
         null,
         null,
         null,
         "[]"
        ],
        [
         "2",
         null,
         null,
         null,
         null,
         null,
         null,
         null,
         null,
         null,
         null,
         "[]"
        ],
        [
         "3",
         null,
         null,
         null,
         null,
         null,
         null,
         null,
         null,
         null,
         null,
         "[]"
        ],
        [
         "4",
         null,
         null,
         null,
         null,
         null,
         null,
         null,
         null,
         null,
         null,
         "[]"
        ],
        [
         "5",
         null,
         null,
         null,
         null,
         null,
         null,
         null,
         null,
         null,
         null,
         "[]"
        ],
        [
         "6",
         null,
         null,
         null,
         null,
         null,
         null,
         null,
         null,
         null,
         null,
         "[]"
        ],
        [
         "7",
         null,
         null,
         null,
         null,
         null,
         null,
         null,
         null,
         null,
         null,
         "[]"
        ],
        [
         "8",
         null,
         null,
         null,
         null,
         null,
         null,
         null,
         null,
         null,
         null,
         "[]"
        ],
        [
         "9",
         null,
         null,
         null,
         null,
         null,
         null,
         null,
         null,
         null,
         null,
         "[]"
        ],
        [
         "10",
         null,
         null,
         null,
         null,
         null,
         null,
         null,
         null,
         null,
         null,
         "[]"
        ],
        [
         "11",
         null,
         null,
         null,
         null,
         null,
         null,
         null,
         null,
         null,
         null,
         "[]"
        ],
        [
         "12",
         null,
         null,
         null,
         null,
         null,
         null,
         null,
         null,
         null,
         null,
         "[]"
        ],
        [
         "13",
         null,
         null,
         null,
         null,
         null,
         null,
         null,
         null,
         null,
         null,
         "[]"
        ],
        [
         "14",
         null,
         null,
         null,
         null,
         null,
         null,
         null,
         null,
         null,
         null,
         "[]"
        ],
        [
         "15",
         null,
         null,
         null,
         null,
         null,
         null,
         null,
         null,
         null,
         null,
         "[]"
        ],
        [
         "16",
         null,
         null,
         null,
         null,
         null,
         null,
         null,
         null,
         null,
         null,
         "[]"
        ],
        [
         "17",
         null,
         null,
         null,
         null,
         null,
         null,
         null,
         null,
         null,
         null,
         "[]"
        ],
        [
         "18",
         null,
         null,
         null,
         null,
         null,
         null,
         null,
         null,
         null,
         null,
         "[]"
        ],
        [
         "19",
         null,
         null,
         null,
         null,
         null,
         null,
         null,
         null,
         null,
         null,
         "[]"
        ],
        [
         "20",
         null,
         null,
         null,
         null,
         null,
         null,
         null,
         null,
         null,
         null,
         "[]"
        ],
        [
         "21",
         null,
         null,
         null,
         null,
         null,
         null,
         null,
         null,
         null,
         null,
         "[]"
        ],
        [
         "22",
         null,
         null,
         null,
         null,
         null,
         null,
         null,
         null,
         null,
         null,
         "[]"
        ],
        [
         "23",
         null,
         null,
         null,
         null,
         null,
         null,
         null,
         null,
         null,
         null,
         "[]"
        ],
        [
         "24",
         null,
         null,
         null,
         null,
         null,
         null,
         null,
         null,
         null,
         null,
         "[]"
        ],
        [
         "25",
         null,
         null,
         null,
         null,
         null,
         null,
         null,
         null,
         null,
         null,
         "[]"
        ]
       ],
       "shape": {
        "columns": 11,
        "rows": 26
       }
      },
      "text/html": [
       "<div>\n",
       "<style scoped>\n",
       "    .dataframe tbody tr th:only-of-type {\n",
       "        vertical-align: middle;\n",
       "    }\n",
       "\n",
       "    .dataframe tbody tr th {\n",
       "        vertical-align: top;\n",
       "    }\n",
       "\n",
       "    .dataframe thead th {\n",
       "        text-align: right;\n",
       "    }\n",
       "</style>\n",
       "<table border=\"1\" class=\"dataframe\">\n",
       "  <thead>\n",
       "    <tr style=\"text-align: right;\">\n",
       "      <th></th>\n",
       "      <th>BookTitle</th>\n",
       "      <th>Author</th>\n",
       "      <th>Format</th>\n",
       "      <th>Published</th>\n",
       "      <th>ISBN</th>\n",
       "      <th>ASIN</th>\n",
       "      <th>Language</th>\n",
       "      <th>Total_Ratings</th>\n",
       "      <th>Reviews</th>\n",
       "      <th>Rating</th>\n",
       "      <th>Genres</th>\n",
       "    </tr>\n",
       "  </thead>\n",
       "  <tbody>\n",
       "    <tr>\n",
       "      <th>0</th>\n",
       "      <td>None</td>\n",
       "      <td>None</td>\n",
       "      <td>None</td>\n",
       "      <td>None</td>\n",
       "      <td>None</td>\n",
       "      <td>None</td>\n",
       "      <td>None</td>\n",
       "      <td>None</td>\n",
       "      <td>None</td>\n",
       "      <td>NaN</td>\n",
       "      <td>[]</td>\n",
       "    </tr>\n",
       "    <tr>\n",
       "      <th>1</th>\n",
       "      <td>None</td>\n",
       "      <td>None</td>\n",
       "      <td>None</td>\n",
       "      <td>None</td>\n",
       "      <td>None</td>\n",
       "      <td>None</td>\n",
       "      <td>None</td>\n",
       "      <td>None</td>\n",
       "      <td>None</td>\n",
       "      <td>NaN</td>\n",
       "      <td>[]</td>\n",
       "    </tr>\n",
       "    <tr>\n",
       "      <th>2</th>\n",
       "      <td>None</td>\n",
       "      <td>None</td>\n",
       "      <td>None</td>\n",
       "      <td>None</td>\n",
       "      <td>None</td>\n",
       "      <td>None</td>\n",
       "      <td>None</td>\n",
       "      <td>None</td>\n",
       "      <td>None</td>\n",
       "      <td>NaN</td>\n",
       "      <td>[]</td>\n",
       "    </tr>\n",
       "    <tr>\n",
       "      <th>3</th>\n",
       "      <td>None</td>\n",
       "      <td>None</td>\n",
       "      <td>None</td>\n",
       "      <td>None</td>\n",
       "      <td>None</td>\n",
       "      <td>None</td>\n",
       "      <td>None</td>\n",
       "      <td>None</td>\n",
       "      <td>None</td>\n",
       "      <td>NaN</td>\n",
       "      <td>[]</td>\n",
       "    </tr>\n",
       "    <tr>\n",
       "      <th>4</th>\n",
       "      <td>None</td>\n",
       "      <td>None</td>\n",
       "      <td>None</td>\n",
       "      <td>None</td>\n",
       "      <td>None</td>\n",
       "      <td>None</td>\n",
       "      <td>None</td>\n",
       "      <td>None</td>\n",
       "      <td>None</td>\n",
       "      <td>NaN</td>\n",
       "      <td>[]</td>\n",
       "    </tr>\n",
       "    <tr>\n",
       "      <th>5</th>\n",
       "      <td>None</td>\n",
       "      <td>None</td>\n",
       "      <td>None</td>\n",
       "      <td>None</td>\n",
       "      <td>None</td>\n",
       "      <td>None</td>\n",
       "      <td>None</td>\n",
       "      <td>None</td>\n",
       "      <td>None</td>\n",
       "      <td>NaN</td>\n",
       "      <td>[]</td>\n",
       "    </tr>\n",
       "    <tr>\n",
       "      <th>6</th>\n",
       "      <td>None</td>\n",
       "      <td>None</td>\n",
       "      <td>None</td>\n",
       "      <td>None</td>\n",
       "      <td>None</td>\n",
       "      <td>None</td>\n",
       "      <td>None</td>\n",
       "      <td>None</td>\n",
       "      <td>None</td>\n",
       "      <td>NaN</td>\n",
       "      <td>[]</td>\n",
       "    </tr>\n",
       "    <tr>\n",
       "      <th>7</th>\n",
       "      <td>None</td>\n",
       "      <td>None</td>\n",
       "      <td>None</td>\n",
       "      <td>None</td>\n",
       "      <td>None</td>\n",
       "      <td>None</td>\n",
       "      <td>None</td>\n",
       "      <td>None</td>\n",
       "      <td>None</td>\n",
       "      <td>NaN</td>\n",
       "      <td>[]</td>\n",
       "    </tr>\n",
       "    <tr>\n",
       "      <th>8</th>\n",
       "      <td>None</td>\n",
       "      <td>None</td>\n",
       "      <td>None</td>\n",
       "      <td>None</td>\n",
       "      <td>None</td>\n",
       "      <td>None</td>\n",
       "      <td>None</td>\n",
       "      <td>None</td>\n",
       "      <td>None</td>\n",
       "      <td>NaN</td>\n",
       "      <td>[]</td>\n",
       "    </tr>\n",
       "    <tr>\n",
       "      <th>9</th>\n",
       "      <td>None</td>\n",
       "      <td>None</td>\n",
       "      <td>None</td>\n",
       "      <td>None</td>\n",
       "      <td>None</td>\n",
       "      <td>None</td>\n",
       "      <td>None</td>\n",
       "      <td>None</td>\n",
       "      <td>None</td>\n",
       "      <td>NaN</td>\n",
       "      <td>[]</td>\n",
       "    </tr>\n",
       "    <tr>\n",
       "      <th>10</th>\n",
       "      <td>None</td>\n",
       "      <td>None</td>\n",
       "      <td>None</td>\n",
       "      <td>None</td>\n",
       "      <td>None</td>\n",
       "      <td>None</td>\n",
       "      <td>None</td>\n",
       "      <td>None</td>\n",
       "      <td>None</td>\n",
       "      <td>NaN</td>\n",
       "      <td>[]</td>\n",
       "    </tr>\n",
       "    <tr>\n",
       "      <th>11</th>\n",
       "      <td>None</td>\n",
       "      <td>None</td>\n",
       "      <td>None</td>\n",
       "      <td>None</td>\n",
       "      <td>None</td>\n",
       "      <td>None</td>\n",
       "      <td>None</td>\n",
       "      <td>None</td>\n",
       "      <td>None</td>\n",
       "      <td>NaN</td>\n",
       "      <td>[]</td>\n",
       "    </tr>\n",
       "    <tr>\n",
       "      <th>12</th>\n",
       "      <td>None</td>\n",
       "      <td>None</td>\n",
       "      <td>None</td>\n",
       "      <td>None</td>\n",
       "      <td>None</td>\n",
       "      <td>None</td>\n",
       "      <td>None</td>\n",
       "      <td>None</td>\n",
       "      <td>None</td>\n",
       "      <td>NaN</td>\n",
       "      <td>[]</td>\n",
       "    </tr>\n",
       "    <tr>\n",
       "      <th>13</th>\n",
       "      <td>None</td>\n",
       "      <td>None</td>\n",
       "      <td>None</td>\n",
       "      <td>None</td>\n",
       "      <td>None</td>\n",
       "      <td>None</td>\n",
       "      <td>None</td>\n",
       "      <td>None</td>\n",
       "      <td>None</td>\n",
       "      <td>NaN</td>\n",
       "      <td>[]</td>\n",
       "    </tr>\n",
       "    <tr>\n",
       "      <th>14</th>\n",
       "      <td>None</td>\n",
       "      <td>None</td>\n",
       "      <td>None</td>\n",
       "      <td>None</td>\n",
       "      <td>None</td>\n",
       "      <td>None</td>\n",
       "      <td>None</td>\n",
       "      <td>None</td>\n",
       "      <td>None</td>\n",
       "      <td>NaN</td>\n",
       "      <td>[]</td>\n",
       "    </tr>\n",
       "    <tr>\n",
       "      <th>15</th>\n",
       "      <td>None</td>\n",
       "      <td>None</td>\n",
       "      <td>None</td>\n",
       "      <td>None</td>\n",
       "      <td>None</td>\n",
       "      <td>None</td>\n",
       "      <td>None</td>\n",
       "      <td>None</td>\n",
       "      <td>None</td>\n",
       "      <td>NaN</td>\n",
       "      <td>[]</td>\n",
       "    </tr>\n",
       "    <tr>\n",
       "      <th>16</th>\n",
       "      <td>None</td>\n",
       "      <td>None</td>\n",
       "      <td>None</td>\n",
       "      <td>None</td>\n",
       "      <td>None</td>\n",
       "      <td>None</td>\n",
       "      <td>None</td>\n",
       "      <td>None</td>\n",
       "      <td>None</td>\n",
       "      <td>NaN</td>\n",
       "      <td>[]</td>\n",
       "    </tr>\n",
       "    <tr>\n",
       "      <th>17</th>\n",
       "      <td>None</td>\n",
       "      <td>None</td>\n",
       "      <td>None</td>\n",
       "      <td>None</td>\n",
       "      <td>None</td>\n",
       "      <td>None</td>\n",
       "      <td>None</td>\n",
       "      <td>None</td>\n",
       "      <td>None</td>\n",
       "      <td>NaN</td>\n",
       "      <td>[]</td>\n",
       "    </tr>\n",
       "    <tr>\n",
       "      <th>18</th>\n",
       "      <td>None</td>\n",
       "      <td>None</td>\n",
       "      <td>None</td>\n",
       "      <td>None</td>\n",
       "      <td>None</td>\n",
       "      <td>None</td>\n",
       "      <td>None</td>\n",
       "      <td>None</td>\n",
       "      <td>None</td>\n",
       "      <td>NaN</td>\n",
       "      <td>[]</td>\n",
       "    </tr>\n",
       "    <tr>\n",
       "      <th>19</th>\n",
       "      <td>None</td>\n",
       "      <td>None</td>\n",
       "      <td>None</td>\n",
       "      <td>None</td>\n",
       "      <td>None</td>\n",
       "      <td>None</td>\n",
       "      <td>None</td>\n",
       "      <td>None</td>\n",
       "      <td>None</td>\n",
       "      <td>NaN</td>\n",
       "      <td>[]</td>\n",
       "    </tr>\n",
       "    <tr>\n",
       "      <th>20</th>\n",
       "      <td>None</td>\n",
       "      <td>None</td>\n",
       "      <td>None</td>\n",
       "      <td>None</td>\n",
       "      <td>None</td>\n",
       "      <td>None</td>\n",
       "      <td>None</td>\n",
       "      <td>None</td>\n",
       "      <td>None</td>\n",
       "      <td>NaN</td>\n",
       "      <td>[]</td>\n",
       "    </tr>\n",
       "    <tr>\n",
       "      <th>21</th>\n",
       "      <td>None</td>\n",
       "      <td>None</td>\n",
       "      <td>None</td>\n",
       "      <td>None</td>\n",
       "      <td>None</td>\n",
       "      <td>None</td>\n",
       "      <td>None</td>\n",
       "      <td>None</td>\n",
       "      <td>None</td>\n",
       "      <td>NaN</td>\n",
       "      <td>[]</td>\n",
       "    </tr>\n",
       "    <tr>\n",
       "      <th>22</th>\n",
       "      <td>None</td>\n",
       "      <td>None</td>\n",
       "      <td>None</td>\n",
       "      <td>None</td>\n",
       "      <td>None</td>\n",
       "      <td>None</td>\n",
       "      <td>None</td>\n",
       "      <td>None</td>\n",
       "      <td>None</td>\n",
       "      <td>NaN</td>\n",
       "      <td>[]</td>\n",
       "    </tr>\n",
       "    <tr>\n",
       "      <th>23</th>\n",
       "      <td>None</td>\n",
       "      <td>None</td>\n",
       "      <td>None</td>\n",
       "      <td>None</td>\n",
       "      <td>None</td>\n",
       "      <td>None</td>\n",
       "      <td>None</td>\n",
       "      <td>None</td>\n",
       "      <td>None</td>\n",
       "      <td>NaN</td>\n",
       "      <td>[]</td>\n",
       "    </tr>\n",
       "    <tr>\n",
       "      <th>24</th>\n",
       "      <td>None</td>\n",
       "      <td>None</td>\n",
       "      <td>None</td>\n",
       "      <td>None</td>\n",
       "      <td>None</td>\n",
       "      <td>None</td>\n",
       "      <td>None</td>\n",
       "      <td>None</td>\n",
       "      <td>None</td>\n",
       "      <td>NaN</td>\n",
       "      <td>[]</td>\n",
       "    </tr>\n",
       "    <tr>\n",
       "      <th>25</th>\n",
       "      <td>None</td>\n",
       "      <td>None</td>\n",
       "      <td>None</td>\n",
       "      <td>None</td>\n",
       "      <td>None</td>\n",
       "      <td>None</td>\n",
       "      <td>None</td>\n",
       "      <td>None</td>\n",
       "      <td>None</td>\n",
       "      <td>NaN</td>\n",
       "      <td>[]</td>\n",
       "    </tr>\n",
       "  </tbody>\n",
       "</table>\n",
       "</div>"
      ],
      "text/plain": [
       "   BookTitle Author Format Published  ISBN  ASIN Language Total_Ratings  \\\n",
       "0       None   None   None      None  None  None     None          None   \n",
       "1       None   None   None      None  None  None     None          None   \n",
       "2       None   None   None      None  None  None     None          None   \n",
       "3       None   None   None      None  None  None     None          None   \n",
       "4       None   None   None      None  None  None     None          None   \n",
       "5       None   None   None      None  None  None     None          None   \n",
       "6       None   None   None      None  None  None     None          None   \n",
       "7       None   None   None      None  None  None     None          None   \n",
       "8       None   None   None      None  None  None     None          None   \n",
       "9       None   None   None      None  None  None     None          None   \n",
       "10      None   None   None      None  None  None     None          None   \n",
       "11      None   None   None      None  None  None     None          None   \n",
       "12      None   None   None      None  None  None     None          None   \n",
       "13      None   None   None      None  None  None     None          None   \n",
       "14      None   None   None      None  None  None     None          None   \n",
       "15      None   None   None      None  None  None     None          None   \n",
       "16      None   None   None      None  None  None     None          None   \n",
       "17      None   None   None      None  None  None     None          None   \n",
       "18      None   None   None      None  None  None     None          None   \n",
       "19      None   None   None      None  None  None     None          None   \n",
       "20      None   None   None      None  None  None     None          None   \n",
       "21      None   None   None      None  None  None     None          None   \n",
       "22      None   None   None      None  None  None     None          None   \n",
       "23      None   None   None      None  None  None     None          None   \n",
       "24      None   None   None      None  None  None     None          None   \n",
       "25      None   None   None      None  None  None     None          None   \n",
       "\n",
       "   Reviews  Rating Genres  \n",
       "0     None     NaN     []  \n",
       "1     None     NaN     []  \n",
       "2     None     NaN     []  \n",
       "3     None     NaN     []  \n",
       "4     None     NaN     []  \n",
       "5     None     NaN     []  \n",
       "6     None     NaN     []  \n",
       "7     None     NaN     []  \n",
       "8     None     NaN     []  \n",
       "9     None     NaN     []  \n",
       "10    None     NaN     []  \n",
       "11    None     NaN     []  \n",
       "12    None     NaN     []  \n",
       "13    None     NaN     []  \n",
       "14    None     NaN     []  \n",
       "15    None     NaN     []  \n",
       "16    None     NaN     []  \n",
       "17    None     NaN     []  \n",
       "18    None     NaN     []  \n",
       "19    None     NaN     []  \n",
       "20    None     NaN     []  \n",
       "21    None     NaN     []  \n",
       "22    None     NaN     []  \n",
       "23    None     NaN     []  \n",
       "24    None     NaN     []  \n",
       "25    None     NaN     []  "
      ]
     },
     "execution_count": 8,
     "metadata": {},
     "output_type": "execute_result"
    }
   ],
   "source": [
    "query = \"\"\"\n",
    "SELECT *\n",
    "FROM df\n",
    "where Booktitle is NULL\n",
    "\"\"\"\n",
    "def results(query):\n",
    "    return duckdb.query(query).df()\n",
    "\n",
    "results(query)"
   ]
  },
  {
   "cell_type": "code",
   "execution_count": 9,
   "id": "6ee7130a",
   "metadata": {},
   "outputs": [
    {
     "data": {
      "application/vnd.microsoft.datawrangler.viewer.v0+json": {
       "columns": [
        {
         "name": "index",
         "rawType": "object",
         "type": "string"
        },
        {
         "name": "0",
         "rawType": "int64",
         "type": "integer"
        }
       ],
       "ref": "e563c2e3-05d3-452f-83eb-8ba40617facf",
       "rows": [
        [
         "BookTitle",
         "0"
        ],
        [
         "Author",
         "0"
        ],
        [
         "Format",
         "40"
        ],
        [
         "Published",
         "37"
        ],
        [
         "ISBN",
         "1653"
        ],
        [
         "ASIN",
         "1570"
        ],
        [
         "Language",
         "143"
        ],
        [
         "Total_Ratings",
         "0"
        ],
        [
         "Reviews",
         "0"
        ],
        [
         "Rating",
         "0"
        ],
        [
         "Genres",
         "0"
        ]
       ],
       "shape": {
        "columns": 1,
        "rows": 11
       }
      },
      "text/plain": [
       "BookTitle           0\n",
       "Author              0\n",
       "Format             40\n",
       "Published          37\n",
       "ISBN             1653\n",
       "ASIN             1570\n",
       "Language          143\n",
       "Total_Ratings       0\n",
       "Reviews             0\n",
       "Rating              0\n",
       "Genres              0\n",
       "dtype: int64"
      ]
     },
     "execution_count": 9,
     "metadata": {},
     "output_type": "execute_result"
    }
   ],
   "source": [
    "# Dropping rows where 'Booktitle' is null, as all other columns in those rows are also missing\n",
    "df.dropna(subset=\"BookTitle\",inplace=True)\n",
    "df.isnull().sum()"
   ]
  },
  {
   "cell_type": "code",
   "execution_count": 10,
   "id": "7001f538",
   "metadata": {},
   "outputs": [
    {
     "data": {
      "application/vnd.microsoft.datawrangler.viewer.v0+json": {
       "columns": [
        {
         "name": "index",
         "rawType": "int64",
         "type": "integer"
        },
        {
         "name": "BookTitle",
         "rawType": "object",
         "type": "string"
        },
        {
         "name": "Author",
         "rawType": "object",
         "type": "string"
        },
        {
         "name": "Format",
         "rawType": "object",
         "type": "unknown"
        },
        {
         "name": "Published",
         "rawType": "object",
         "type": "unknown"
        },
        {
         "name": "ISBN",
         "rawType": "object",
         "type": "unknown"
        },
        {
         "name": "ASIN",
         "rawType": "object",
         "type": "unknown"
        },
        {
         "name": "Language",
         "rawType": "object",
         "type": "unknown"
        },
        {
         "name": "Total_Ratings",
         "rawType": "object",
         "type": "string"
        },
        {
         "name": "Reviews",
         "rawType": "object",
         "type": "string"
        },
        {
         "name": "Rating",
         "rawType": "float64",
         "type": "float"
        },
        {
         "name": "Genres",
         "rawType": "object",
         "type": "string"
        }
       ],
       "ref": "f97a94b9-ac4c-467b-aa35-ab36da12ef04",
       "rows": [
        [
         "0",
         "Speechless: Silencing the Christians",
         "Donald E. Wildmon",
         "277 pages, Kindle Edition",
         null,
         null,
         "B002BNL52Q",
         "English",
         "33 ratings",
         "2 reviews",
         "2.55",
         "['Shapeshifters', 'Ghosts', 'Fairies']"
        ],
        [
         "1",
         "Undying",
         "Madeline Sheehan",
         null,
         null,
         null,
         null,
         "English",
         "1,003 ratings",
         "100 reviews",
         "4.2",
         "['Romance', 'Contemporary Romance', 'Dark', 'Erotica', 'Contemporary', 'New Adult', 'Erotic Romance']"
        ],
        [
         "2",
         "NOT A BOOK",
         "William Luther",
         null,
         null,
         "9781569800867 (ISBN10: 1569800863)",
         "1569800863",
         null,
         "1,411 ratings",
         "281 reviews",
         "2.95",
         "['Fiction', 'Politics', 'Race', 'Terrorism', 'Dystopia', 'War', 'Historical']"
        ],
        [
         "3",
         "Max",
         "James Patterson",
         "321 pages, Kindle Edition",
         null,
         null,
         "B001U5VJMC",
         "English",
         "75,089 ratings",
         "2,379 reviews",
         "4.05",
         "['Young Adult', 'Fantasy', 'Science Fiction', 'Fiction', 'Adventure', 'Romance', 'Paranormal']"
        ],
        [
         "4",
         "Snivel: The Fifth Circle of Heck",
         "Dale E. Basye",
         "448 pages, Kindle Edition",
         null,
         null,
         "B005KB0V0S",
         "English",
         "197 ratings",
         "23 reviews",
         "4.07",
         "['Fantasy', 'Fiction', 'Humor', 'Adventure', 'Middle Grade', 'Young Adult', 'Childrens']"
        ],
        [
         "5",
         "The Northern Queen",
         "Kim Vandervort",
         "313 pages, Kindle Edition",
         null,
         null,
         "B004BSH1U4",
         "English",
         "44 ratings",
         "15 reviews",
         "4.16",
         "['Fantasy', 'Fiction']"
        ],
        [
         "6",
         "Tycoon",
         "J.S. Cooper",
         null,
         null,
         null,
         null,
         null,
         "45 ratings",
         "1 review",
         "4.11",
         "['Romance']"
        ],
        [
         "7",
         "The Best Friend",
         "Ally Williams",
         "Kindle Edition",
         null,
         null,
         null,
         "English",
         "298 ratings",
         "32 reviews",
         "3.61",
         "['Romance', 'Young Adult', 'High School', 'Contemporary']"
        ],
        [
         "8",
         "Stolen Kisses",
         "Kerttu-Liis Kiili",
         null,
         null,
         null,
         null,
         null,
         "217 ratings",
         "10 reviews",
         "3.6",
         "['Romance']"
        ],
        [
         "9",
         "Recent Speeches of Governor Sarah Palin",
         "Sarah Palin",
         "37 pages, Kindle Edition",
         null,
         null,
         "B001FA10V2",
         "English",
         "10 ratings",
         "1 review",
         "1.8",
         "[]"
        ],
        [
         "10",
         "The Administration",
         "Manna Francis",
         "1635 pages, ebook",
         null,
         null,
         null,
         "English",
         "646 ratings",
         "53 reviews",
         "4.55",
         "['M M Romance', 'BDSM', 'Dystopia', 'Science Fiction', 'Romance', 'Erotica', 'Gay']"
        ],
        [
         "11",
         "His Mistress' Baby",
         "Prolifick Instinct",
         null,
         null,
         null,
         null,
         null,
         "169 ratings",
         "19 reviews",
         "3.94",
         "[]"
        ],
        [
         "12",
         "Obamaism is Socialism",
         "Mattie Jaxx",
         "258 pages, Kindle Edition",
         null,
         null,
         "B004H1TKYK",
         "Hungarian",
         "1 rating",
         "1 review",
         "5.0",
         "[]"
        ],
        [
         "13",
         "The Door to the Lost",
         "Jaleigh Johnson",
         "304 pages, Library Binding",
         null,
         "9781101933183 (ISBN10: 1101933186)",
         "1101933186",
         "English",
         "363 ratings",
         "89 reviews",
         "4.01",
         "['Fantasy', 'Middle Grade', 'Magic', 'Fiction', 'Childrens', 'Young Adult', 'Adventure']"
        ],
        [
         "14",
         "The Crack at the Heart of Everything",
         "Fiona Fenn",
         "336 pages, Paperback",
         null,
         "9781946501714 (ISBN10: 1946501719)",
         "1946501719",
         "English",
         "67 ratings",
         "52 reviews",
         "4.34",
         "['Fantasy', 'Queer', 'Romance', 'LGBT', 'Romantasy', 'Adult', 'M M Romance']"
        ],
        [
         "15",
         "Authority",
         "R.K. Lilley",
         null,
         null,
         null,
         null,
         "English",
         "147 ratings",
         "9 reviews",
         "3.87",
         "['BDSM', 'Erotica', 'Contemporary Romance', 'Adult', 'Erotic Romance', 'New Adult', 'Romance']"
        ],
        [
         "16",
         "In the Realms of the Unreal",
         "John M. MacGregor",
         "15145 pages",
         null,
         null,
         null,
         null,
         "150 ratings",
         "17 reviews",
         "4.42",
         "['Art', 'Biography', 'Nonfiction', 'Psychology', 'Visual Art', 'Art History']"
        ],
        [
         "17",
         "Bad Girls",
         "Aurora Yeo",
         null,
         null,
         null,
         null,
         null,
         "197 ratings",
         "8 reviews",
         "4.41",
         "['Young Adult', 'Romance', 'Contemporary']"
        ],
        [
         "18",
         "The Bridges of Madison County",
         "Robert James Waller",
         "224 pages, Kindle Edition",
         null,
         null,
         "B000FA6720",
         "English",
         "99,891 ratings",
         "6,462 reviews",
         "3.7",
         "['Fiction', 'Romance', 'Classics', 'Chick Lit', 'Contemporary', 'Novels', 'Historical Fiction']"
        ],
        [
         "19",
         "Enslaved",
         "Melinda Barron",
         "90 pages, Kindle Edition",
         null,
         "(ISBN10: 1607351676)",
         "B003WQBDB4",
         "English",
         "55 ratings",
         "6 reviews",
         "3.51",
         "['Fantasy', 'Erotica', 'BDSM', 'Time Travel', 'Paranormal', 'Erotic Romance', 'Science Fiction Romance']"
        ],
        [
         "20",
         "The Lost Continent",
         "Tui T. Sutherland",
         null,
         null,
         null,
         null,
         null,
         "16,750 ratings",
         "796 reviews",
         "4.46",
         "['Fantasy', 'Dragons', 'Middle Grade', 'Fiction', 'Childrens', 'Young Adult', 'Audiobook']"
        ],
        [
         "21",
         "Interference",
         "Zoe Reed",
         "478 pages, ebook",
         null,
         null,
         null,
         "English",
         "1,384 ratings",
         "126 reviews",
         "4.47",
         "['Romance', 'Sports', 'LGBT', 'Lesbian', 'Young Adult', 'Contemporary', 'Lesbian Romance']"
        ],
        [
         "22",
         "The Hand I Fan With",
         "Tina McElroy Ansa",
         "497 pages, Kindle Edition",
         null,
         null,
         "B00309SCNU",
         "English",
         "3,586 ratings",
         "85 reviews",
         "4.14",
         "['Fiction', 'African American', 'Romance', 'Chick Lit', 'Fantasy', 'Contemporary', 'African American Literature']"
        ],
        [
         "23",
         "Forbidden Flaws",
         "Pepper Winters",
         "430 pages",
         null,
         null,
         null,
         "English",
         "379 ratings",
         "53 reviews",
         "4.0",
         "['Romance', 'Dark', 'Contemporary', 'Contemporary Romance', 'Erotica', 'Adult', 'Erotic Romance']"
        ],
        [
         "24",
         "Hail Fire",
         "Brett Arquette",
         null,
         null,
         null,
         null,
         null,
         "1,388 ratings",
         "7 reviews",
         "4.98",
         "['Military Fiction']"
        ],
        [
         "25",
         "Diseases of Gene Hackman",
         "Sean Tejaratchi",
         null,
         null,
         null,
         null,
         "English",
         "1 rating",
         "1 review",
         "2.0",
         "[]"
        ],
        [
         "26",
         "Sarah Palin: In Her Own Words - Recent Speeches, Interviews and Official Biography",
         "Sarah Palin",
         "Kindle Edition",
         null,
         null,
         null,
         "English",
         "17 ratings",
         "2 reviews",
         "2.65",
         "[]"
        ],
        [
         "27",
         "أين الله",
         "كرم صابر",
         "128 pages, ebook",
         null,
         null,
         null,
         "Arabic",
         "102 ratings",
         "34 reviews",
         "2.3",
         "['Religion']"
        ],
        [
         "28",
         "Iron Council",
         "China Miéville",
         "Kindle Edition",
         null,
         null,
         null,
         "English",
         "16,087 ratings",
         "1,139 reviews",
         "3.72",
         "['Fantasy', 'Fiction', 'Science Fiction', 'Steampunk', 'New Weird', 'Weird Fiction', 'Science Fiction Fantasy']"
        ],
        [
         "29",
         "Crown of Starlight",
         "Cait Corrain",
         "560 pages, Paperback",
         null,
         "9780593598542 (ISBN10: 0593598547)",
         "593598547",
         "English",
         "449 ratings",
         "197 reviews",
         "1.74",
         "['Fantasy', 'Mythology', 'Romance', 'LGBT', 'Science Fiction', 'Retellings', 'Queer']"
        ],
        [
         "30",
         "Untitled",
         "Leigh Bardugo",
         null,
         null,
         null,
         null,
         "English",
         "1,367 ratings",
         "864 reviews",
         "4.77",
         "['Young Adult']"
        ],
        [
         "31",
         "Untitled",
         "Samantha Shannon",
         "ebook",
         null,
         "9.78141E+12",
         null,
         "English",
         "13 ratings",
         "1 review",
         "4.31",
         "['Fantasy', 'Young Adult', 'Dystopia', 'Fiction', 'Urban Fantasy', 'Science Fiction', 'Adult']"
        ],
        [
         "32",
         "Everything I Needed to Know about Women I Learned by Reading Twilight: A Vampire's Guide to Eternal Love",
         "Jim Lee",
         "82 pages, ebook",
         null,
         null,
         "B0025KUIFU",
         "English",
         "6 ratings",
         "4 reviews",
         "3.17",
         "[]"
        ],
        [
         "33",
         "الحقيقة الغائبة",
         "فرج فودة",
         "190 pages",
         null,
         null,
         null,
         "Arabic",
         "2,844 ratings",
         "493 reviews",
         "3.93",
         "['Religion', 'Politics', 'History', 'Nonfiction', 'Islam', 'Cultural', 'Egypt']"
        ],
        [
         "34",
         "The Red and the Black",
         "Stendhal",
         "522 pages, Kindle Edition",
         null,
         null,
         "B004PGN6UG",
         "French",
         "77,243 ratings",
         "3,459 reviews",
         "3.87",
         "['Fiction', 'France', 'French Literature', 'Classics', 'Literature', '19th Century', 'Novels']"
        ],
        [
         "35",
         "The Wheel of time series by Robert Jordan",
         "Robert Jordan",
         null,
         null,
         null,
         null,
         "English",
         "6,967 ratings",
         "247 reviews",
         "4.59",
         "['Fantasy', 'Fiction', 'Epic Fantasy', 'Science Fiction Fantasy', 'High Fantasy', 'Epic', 'Science Fiction']"
        ],
        [
         "36",
         "The Big One: An Island, an Obsession, and the Furious Pursuit of a Great Fish",
         "David Kinney",
         "289 pages, Kindle Edition",
         null,
         null,
         "B001T9OJTY",
         "English",
         "91 ratings",
         "13 reviews",
         "4.0",
         "['Nonfiction']"
        ]
       ],
       "shape": {
        "columns": 11,
        "rows": 37
       }
      },
      "text/html": [
       "<div>\n",
       "<style scoped>\n",
       "    .dataframe tbody tr th:only-of-type {\n",
       "        vertical-align: middle;\n",
       "    }\n",
       "\n",
       "    .dataframe tbody tr th {\n",
       "        vertical-align: top;\n",
       "    }\n",
       "\n",
       "    .dataframe thead th {\n",
       "        text-align: right;\n",
       "    }\n",
       "</style>\n",
       "<table border=\"1\" class=\"dataframe\">\n",
       "  <thead>\n",
       "    <tr style=\"text-align: right;\">\n",
       "      <th></th>\n",
       "      <th>BookTitle</th>\n",
       "      <th>Author</th>\n",
       "      <th>Format</th>\n",
       "      <th>Published</th>\n",
       "      <th>ISBN</th>\n",
       "      <th>ASIN</th>\n",
       "      <th>Language</th>\n",
       "      <th>Total_Ratings</th>\n",
       "      <th>Reviews</th>\n",
       "      <th>Rating</th>\n",
       "      <th>Genres</th>\n",
       "    </tr>\n",
       "  </thead>\n",
       "  <tbody>\n",
       "    <tr>\n",
       "      <th>0</th>\n",
       "      <td>Speechless: Silencing the Christians</td>\n",
       "      <td>Donald E. Wildmon</td>\n",
       "      <td>277 pages, Kindle Edition</td>\n",
       "      <td>None</td>\n",
       "      <td>None</td>\n",
       "      <td>B002BNL52Q</td>\n",
       "      <td>English</td>\n",
       "      <td>33 ratings</td>\n",
       "      <td>2 reviews</td>\n",
       "      <td>2.55</td>\n",
       "      <td>['Shapeshifters', 'Ghosts', 'Fairies']</td>\n",
       "    </tr>\n",
       "    <tr>\n",
       "      <th>1</th>\n",
       "      <td>Undying</td>\n",
       "      <td>Madeline Sheehan</td>\n",
       "      <td>None</td>\n",
       "      <td>None</td>\n",
       "      <td>None</td>\n",
       "      <td>None</td>\n",
       "      <td>English</td>\n",
       "      <td>1,003 ratings</td>\n",
       "      <td>100 reviews</td>\n",
       "      <td>4.20</td>\n",
       "      <td>['Romance', 'Contemporary Romance', 'Dark', 'E...</td>\n",
       "    </tr>\n",
       "    <tr>\n",
       "      <th>2</th>\n",
       "      <td>NOT A BOOK</td>\n",
       "      <td>William Luther</td>\n",
       "      <td>None</td>\n",
       "      <td>None</td>\n",
       "      <td>9781569800867 (ISBN10: 1569800863)</td>\n",
       "      <td>1569800863</td>\n",
       "      <td>None</td>\n",
       "      <td>1,411 ratings</td>\n",
       "      <td>281 reviews</td>\n",
       "      <td>2.95</td>\n",
       "      <td>['Fiction', 'Politics', 'Race', 'Terrorism', '...</td>\n",
       "    </tr>\n",
       "    <tr>\n",
       "      <th>3</th>\n",
       "      <td>Max</td>\n",
       "      <td>James Patterson</td>\n",
       "      <td>321 pages, Kindle Edition</td>\n",
       "      <td>None</td>\n",
       "      <td>None</td>\n",
       "      <td>B001U5VJMC</td>\n",
       "      <td>English</td>\n",
       "      <td>75,089 ratings</td>\n",
       "      <td>2,379 reviews</td>\n",
       "      <td>4.05</td>\n",
       "      <td>['Young Adult', 'Fantasy', 'Science Fiction', ...</td>\n",
       "    </tr>\n",
       "    <tr>\n",
       "      <th>4</th>\n",
       "      <td>Snivel: The Fifth Circle of Heck</td>\n",
       "      <td>Dale E. Basye</td>\n",
       "      <td>448 pages, Kindle Edition</td>\n",
       "      <td>None</td>\n",
       "      <td>None</td>\n",
       "      <td>B005KB0V0S</td>\n",
       "      <td>English</td>\n",
       "      <td>197 ratings</td>\n",
       "      <td>23 reviews</td>\n",
       "      <td>4.07</td>\n",
       "      <td>['Fantasy', 'Fiction', 'Humor', 'Adventure', '...</td>\n",
       "    </tr>\n",
       "    <tr>\n",
       "      <th>5</th>\n",
       "      <td>The Northern Queen</td>\n",
       "      <td>Kim Vandervort</td>\n",
       "      <td>313 pages, Kindle Edition</td>\n",
       "      <td>None</td>\n",
       "      <td>None</td>\n",
       "      <td>B004BSH1U4</td>\n",
       "      <td>English</td>\n",
       "      <td>44 ratings</td>\n",
       "      <td>15 reviews</td>\n",
       "      <td>4.16</td>\n",
       "      <td>['Fantasy', 'Fiction']</td>\n",
       "    </tr>\n",
       "    <tr>\n",
       "      <th>6</th>\n",
       "      <td>Tycoon</td>\n",
       "      <td>J.S. Cooper</td>\n",
       "      <td>None</td>\n",
       "      <td>None</td>\n",
       "      <td>None</td>\n",
       "      <td>None</td>\n",
       "      <td>None</td>\n",
       "      <td>45 ratings</td>\n",
       "      <td>1 review</td>\n",
       "      <td>4.11</td>\n",
       "      <td>['Romance']</td>\n",
       "    </tr>\n",
       "    <tr>\n",
       "      <th>7</th>\n",
       "      <td>The Best Friend</td>\n",
       "      <td>Ally Williams</td>\n",
       "      <td>Kindle Edition</td>\n",
       "      <td>None</td>\n",
       "      <td>None</td>\n",
       "      <td>None</td>\n",
       "      <td>English</td>\n",
       "      <td>298 ratings</td>\n",
       "      <td>32 reviews</td>\n",
       "      <td>3.61</td>\n",
       "      <td>['Romance', 'Young Adult', 'High School', 'Con...</td>\n",
       "    </tr>\n",
       "    <tr>\n",
       "      <th>8</th>\n",
       "      <td>Stolen Kisses</td>\n",
       "      <td>Kerttu-Liis Kiili</td>\n",
       "      <td>None</td>\n",
       "      <td>None</td>\n",
       "      <td>None</td>\n",
       "      <td>None</td>\n",
       "      <td>None</td>\n",
       "      <td>217 ratings</td>\n",
       "      <td>10 reviews</td>\n",
       "      <td>3.60</td>\n",
       "      <td>['Romance']</td>\n",
       "    </tr>\n",
       "    <tr>\n",
       "      <th>9</th>\n",
       "      <td>Recent Speeches of Governor Sarah Palin</td>\n",
       "      <td>Sarah Palin</td>\n",
       "      <td>37 pages, Kindle Edition</td>\n",
       "      <td>None</td>\n",
       "      <td>None</td>\n",
       "      <td>B001FA10V2</td>\n",
       "      <td>English</td>\n",
       "      <td>10 ratings</td>\n",
       "      <td>1 review</td>\n",
       "      <td>1.80</td>\n",
       "      <td>[]</td>\n",
       "    </tr>\n",
       "    <tr>\n",
       "      <th>10</th>\n",
       "      <td>The Administration</td>\n",
       "      <td>Manna Francis</td>\n",
       "      <td>1635 pages, ebook</td>\n",
       "      <td>None</td>\n",
       "      <td>None</td>\n",
       "      <td>None</td>\n",
       "      <td>English</td>\n",
       "      <td>646 ratings</td>\n",
       "      <td>53 reviews</td>\n",
       "      <td>4.55</td>\n",
       "      <td>['M M Romance', 'BDSM', 'Dystopia', 'Science F...</td>\n",
       "    </tr>\n",
       "    <tr>\n",
       "      <th>11</th>\n",
       "      <td>His Mistress' Baby</td>\n",
       "      <td>Prolifick Instinct</td>\n",
       "      <td>None</td>\n",
       "      <td>None</td>\n",
       "      <td>None</td>\n",
       "      <td>None</td>\n",
       "      <td>None</td>\n",
       "      <td>169 ratings</td>\n",
       "      <td>19 reviews</td>\n",
       "      <td>3.94</td>\n",
       "      <td>[]</td>\n",
       "    </tr>\n",
       "    <tr>\n",
       "      <th>12</th>\n",
       "      <td>Obamaism is Socialism</td>\n",
       "      <td>Mattie Jaxx</td>\n",
       "      <td>258 pages, Kindle Edition</td>\n",
       "      <td>None</td>\n",
       "      <td>None</td>\n",
       "      <td>B004H1TKYK</td>\n",
       "      <td>Hungarian</td>\n",
       "      <td>1 rating</td>\n",
       "      <td>1 review</td>\n",
       "      <td>5.00</td>\n",
       "      <td>[]</td>\n",
       "    </tr>\n",
       "    <tr>\n",
       "      <th>13</th>\n",
       "      <td>The Door to the Lost</td>\n",
       "      <td>Jaleigh Johnson</td>\n",
       "      <td>304 pages, Library Binding</td>\n",
       "      <td>None</td>\n",
       "      <td>9781101933183 (ISBN10: 1101933186)</td>\n",
       "      <td>1101933186</td>\n",
       "      <td>English</td>\n",
       "      <td>363 ratings</td>\n",
       "      <td>89 reviews</td>\n",
       "      <td>4.01</td>\n",
       "      <td>['Fantasy', 'Middle Grade', 'Magic', 'Fiction'...</td>\n",
       "    </tr>\n",
       "    <tr>\n",
       "      <th>14</th>\n",
       "      <td>The Crack at the Heart of Everything</td>\n",
       "      <td>Fiona Fenn</td>\n",
       "      <td>336 pages, Paperback</td>\n",
       "      <td>None</td>\n",
       "      <td>9781946501714 (ISBN10: 1946501719)</td>\n",
       "      <td>1946501719</td>\n",
       "      <td>English</td>\n",
       "      <td>67 ratings</td>\n",
       "      <td>52 reviews</td>\n",
       "      <td>4.34</td>\n",
       "      <td>['Fantasy', 'Queer', 'Romance', 'LGBT', 'Roman...</td>\n",
       "    </tr>\n",
       "    <tr>\n",
       "      <th>15</th>\n",
       "      <td>Authority</td>\n",
       "      <td>R.K. Lilley</td>\n",
       "      <td>None</td>\n",
       "      <td>None</td>\n",
       "      <td>None</td>\n",
       "      <td>None</td>\n",
       "      <td>English</td>\n",
       "      <td>147 ratings</td>\n",
       "      <td>9 reviews</td>\n",
       "      <td>3.87</td>\n",
       "      <td>['BDSM', 'Erotica', 'Contemporary Romance', 'A...</td>\n",
       "    </tr>\n",
       "    <tr>\n",
       "      <th>16</th>\n",
       "      <td>In the Realms of the Unreal</td>\n",
       "      <td>John M. MacGregor</td>\n",
       "      <td>15145 pages</td>\n",
       "      <td>None</td>\n",
       "      <td>None</td>\n",
       "      <td>None</td>\n",
       "      <td>None</td>\n",
       "      <td>150 ratings</td>\n",
       "      <td>17 reviews</td>\n",
       "      <td>4.42</td>\n",
       "      <td>['Art', 'Biography', 'Nonfiction', 'Psychology...</td>\n",
       "    </tr>\n",
       "    <tr>\n",
       "      <th>17</th>\n",
       "      <td>Bad Girls</td>\n",
       "      <td>Aurora Yeo</td>\n",
       "      <td>None</td>\n",
       "      <td>None</td>\n",
       "      <td>None</td>\n",
       "      <td>None</td>\n",
       "      <td>None</td>\n",
       "      <td>197 ratings</td>\n",
       "      <td>8 reviews</td>\n",
       "      <td>4.41</td>\n",
       "      <td>['Young Adult', 'Romance', 'Contemporary']</td>\n",
       "    </tr>\n",
       "    <tr>\n",
       "      <th>18</th>\n",
       "      <td>The Bridges of Madison County</td>\n",
       "      <td>Robert James Waller</td>\n",
       "      <td>224 pages, Kindle Edition</td>\n",
       "      <td>None</td>\n",
       "      <td>None</td>\n",
       "      <td>B000FA6720</td>\n",
       "      <td>English</td>\n",
       "      <td>99,891 ratings</td>\n",
       "      <td>6,462 reviews</td>\n",
       "      <td>3.70</td>\n",
       "      <td>['Fiction', 'Romance', 'Classics', 'Chick Lit'...</td>\n",
       "    </tr>\n",
       "    <tr>\n",
       "      <th>19</th>\n",
       "      <td>Enslaved</td>\n",
       "      <td>Melinda Barron</td>\n",
       "      <td>90 pages, Kindle Edition</td>\n",
       "      <td>None</td>\n",
       "      <td>(ISBN10: 1607351676)</td>\n",
       "      <td>B003WQBDB4</td>\n",
       "      <td>English</td>\n",
       "      <td>55 ratings</td>\n",
       "      <td>6 reviews</td>\n",
       "      <td>3.51</td>\n",
       "      <td>['Fantasy', 'Erotica', 'BDSM', 'Time Travel', ...</td>\n",
       "    </tr>\n",
       "    <tr>\n",
       "      <th>20</th>\n",
       "      <td>The Lost Continent</td>\n",
       "      <td>Tui T. Sutherland</td>\n",
       "      <td>None</td>\n",
       "      <td>None</td>\n",
       "      <td>None</td>\n",
       "      <td>None</td>\n",
       "      <td>None</td>\n",
       "      <td>16,750 ratings</td>\n",
       "      <td>796 reviews</td>\n",
       "      <td>4.46</td>\n",
       "      <td>['Fantasy', 'Dragons', 'Middle Grade', 'Fictio...</td>\n",
       "    </tr>\n",
       "    <tr>\n",
       "      <th>21</th>\n",
       "      <td>Interference</td>\n",
       "      <td>Zoe Reed</td>\n",
       "      <td>478 pages, ebook</td>\n",
       "      <td>None</td>\n",
       "      <td>None</td>\n",
       "      <td>None</td>\n",
       "      <td>English</td>\n",
       "      <td>1,384 ratings</td>\n",
       "      <td>126 reviews</td>\n",
       "      <td>4.47</td>\n",
       "      <td>['Romance', 'Sports', 'LGBT', 'Lesbian', 'Youn...</td>\n",
       "    </tr>\n",
       "    <tr>\n",
       "      <th>22</th>\n",
       "      <td>The Hand I Fan With</td>\n",
       "      <td>Tina McElroy Ansa</td>\n",
       "      <td>497 pages, Kindle Edition</td>\n",
       "      <td>None</td>\n",
       "      <td>None</td>\n",
       "      <td>B00309SCNU</td>\n",
       "      <td>English</td>\n",
       "      <td>3,586 ratings</td>\n",
       "      <td>85 reviews</td>\n",
       "      <td>4.14</td>\n",
       "      <td>['Fiction', 'African American', 'Romance', 'Ch...</td>\n",
       "    </tr>\n",
       "    <tr>\n",
       "      <th>23</th>\n",
       "      <td>Forbidden Flaws</td>\n",
       "      <td>Pepper Winters</td>\n",
       "      <td>430 pages</td>\n",
       "      <td>None</td>\n",
       "      <td>None</td>\n",
       "      <td>None</td>\n",
       "      <td>English</td>\n",
       "      <td>379 ratings</td>\n",
       "      <td>53 reviews</td>\n",
       "      <td>4.00</td>\n",
       "      <td>['Romance', 'Dark', 'Contemporary', 'Contempor...</td>\n",
       "    </tr>\n",
       "    <tr>\n",
       "      <th>24</th>\n",
       "      <td>Hail Fire</td>\n",
       "      <td>Brett Arquette</td>\n",
       "      <td>None</td>\n",
       "      <td>None</td>\n",
       "      <td>None</td>\n",
       "      <td>None</td>\n",
       "      <td>None</td>\n",
       "      <td>1,388 ratings</td>\n",
       "      <td>7 reviews</td>\n",
       "      <td>4.98</td>\n",
       "      <td>['Military Fiction']</td>\n",
       "    </tr>\n",
       "    <tr>\n",
       "      <th>25</th>\n",
       "      <td>Diseases of Gene Hackman</td>\n",
       "      <td>Sean Tejaratchi</td>\n",
       "      <td>None</td>\n",
       "      <td>None</td>\n",
       "      <td>None</td>\n",
       "      <td>None</td>\n",
       "      <td>English</td>\n",
       "      <td>1 rating</td>\n",
       "      <td>1 review</td>\n",
       "      <td>2.00</td>\n",
       "      <td>[]</td>\n",
       "    </tr>\n",
       "    <tr>\n",
       "      <th>26</th>\n",
       "      <td>Sarah Palin: In Her Own Words - Recent Speeche...</td>\n",
       "      <td>Sarah Palin</td>\n",
       "      <td>Kindle Edition</td>\n",
       "      <td>None</td>\n",
       "      <td>None</td>\n",
       "      <td>None</td>\n",
       "      <td>English</td>\n",
       "      <td>17 ratings</td>\n",
       "      <td>2 reviews</td>\n",
       "      <td>2.65</td>\n",
       "      <td>[]</td>\n",
       "    </tr>\n",
       "    <tr>\n",
       "      <th>27</th>\n",
       "      <td>أين الله</td>\n",
       "      <td>كرم صابر</td>\n",
       "      <td>128 pages, ebook</td>\n",
       "      <td>None</td>\n",
       "      <td>None</td>\n",
       "      <td>None</td>\n",
       "      <td>Arabic</td>\n",
       "      <td>102 ratings</td>\n",
       "      <td>34 reviews</td>\n",
       "      <td>2.30</td>\n",
       "      <td>['Religion']</td>\n",
       "    </tr>\n",
       "    <tr>\n",
       "      <th>28</th>\n",
       "      <td>Iron Council</td>\n",
       "      <td>China Miéville</td>\n",
       "      <td>Kindle Edition</td>\n",
       "      <td>None</td>\n",
       "      <td>None</td>\n",
       "      <td>None</td>\n",
       "      <td>English</td>\n",
       "      <td>16,087 ratings</td>\n",
       "      <td>1,139 reviews</td>\n",
       "      <td>3.72</td>\n",
       "      <td>['Fantasy', 'Fiction', 'Science Fiction', 'Ste...</td>\n",
       "    </tr>\n",
       "    <tr>\n",
       "      <th>29</th>\n",
       "      <td>Crown of Starlight</td>\n",
       "      <td>Cait Corrain</td>\n",
       "      <td>560 pages, Paperback</td>\n",
       "      <td>None</td>\n",
       "      <td>9780593598542 (ISBN10: 0593598547)</td>\n",
       "      <td>593598547</td>\n",
       "      <td>English</td>\n",
       "      <td>449 ratings</td>\n",
       "      <td>197 reviews</td>\n",
       "      <td>1.74</td>\n",
       "      <td>['Fantasy', 'Mythology', 'Romance', 'LGBT', 'S...</td>\n",
       "    </tr>\n",
       "    <tr>\n",
       "      <th>30</th>\n",
       "      <td>Untitled</td>\n",
       "      <td>Leigh Bardugo</td>\n",
       "      <td>None</td>\n",
       "      <td>None</td>\n",
       "      <td>None</td>\n",
       "      <td>None</td>\n",
       "      <td>English</td>\n",
       "      <td>1,367 ratings</td>\n",
       "      <td>864 reviews</td>\n",
       "      <td>4.77</td>\n",
       "      <td>['Young Adult']</td>\n",
       "    </tr>\n",
       "    <tr>\n",
       "      <th>31</th>\n",
       "      <td>Untitled</td>\n",
       "      <td>Samantha Shannon</td>\n",
       "      <td>ebook</td>\n",
       "      <td>None</td>\n",
       "      <td>9.78141E+12</td>\n",
       "      <td>None</td>\n",
       "      <td>English</td>\n",
       "      <td>13 ratings</td>\n",
       "      <td>1 review</td>\n",
       "      <td>4.31</td>\n",
       "      <td>['Fantasy', 'Young Adult', 'Dystopia', 'Fictio...</td>\n",
       "    </tr>\n",
       "    <tr>\n",
       "      <th>32</th>\n",
       "      <td>Everything I Needed to Know about Women I Lear...</td>\n",
       "      <td>Jim Lee</td>\n",
       "      <td>82 pages, ebook</td>\n",
       "      <td>None</td>\n",
       "      <td>None</td>\n",
       "      <td>B0025KUIFU</td>\n",
       "      <td>English</td>\n",
       "      <td>6 ratings</td>\n",
       "      <td>4 reviews</td>\n",
       "      <td>3.17</td>\n",
       "      <td>[]</td>\n",
       "    </tr>\n",
       "    <tr>\n",
       "      <th>33</th>\n",
       "      <td>الحقيقة الغائبة</td>\n",
       "      <td>فرج فودة</td>\n",
       "      <td>190 pages</td>\n",
       "      <td>None</td>\n",
       "      <td>None</td>\n",
       "      <td>None</td>\n",
       "      <td>Arabic</td>\n",
       "      <td>2,844 ratings</td>\n",
       "      <td>493 reviews</td>\n",
       "      <td>3.93</td>\n",
       "      <td>['Religion', 'Politics', 'History', 'Nonfictio...</td>\n",
       "    </tr>\n",
       "    <tr>\n",
       "      <th>34</th>\n",
       "      <td>The Red and the Black</td>\n",
       "      <td>Stendhal</td>\n",
       "      <td>522 pages, Kindle Edition</td>\n",
       "      <td>None</td>\n",
       "      <td>None</td>\n",
       "      <td>B004PGN6UG</td>\n",
       "      <td>French</td>\n",
       "      <td>77,243 ratings</td>\n",
       "      <td>3,459 reviews</td>\n",
       "      <td>3.87</td>\n",
       "      <td>['Fiction', 'France', 'French Literature', 'Cl...</td>\n",
       "    </tr>\n",
       "    <tr>\n",
       "      <th>35</th>\n",
       "      <td>The Wheel of time series by Robert Jordan</td>\n",
       "      <td>Robert Jordan</td>\n",
       "      <td>None</td>\n",
       "      <td>None</td>\n",
       "      <td>None</td>\n",
       "      <td>None</td>\n",
       "      <td>English</td>\n",
       "      <td>6,967 ratings</td>\n",
       "      <td>247 reviews</td>\n",
       "      <td>4.59</td>\n",
       "      <td>['Fantasy', 'Fiction', 'Epic Fantasy', 'Scienc...</td>\n",
       "    </tr>\n",
       "    <tr>\n",
       "      <th>36</th>\n",
       "      <td>The Big One: An Island, an Obsession, and the ...</td>\n",
       "      <td>David Kinney</td>\n",
       "      <td>289 pages, Kindle Edition</td>\n",
       "      <td>None</td>\n",
       "      <td>None</td>\n",
       "      <td>B001T9OJTY</td>\n",
       "      <td>English</td>\n",
       "      <td>91 ratings</td>\n",
       "      <td>13 reviews</td>\n",
       "      <td>4.00</td>\n",
       "      <td>['Nonfiction']</td>\n",
       "    </tr>\n",
       "  </tbody>\n",
       "</table>\n",
       "</div>"
      ],
      "text/plain": [
       "                                            BookTitle               Author  \\\n",
       "0                Speechless: Silencing the Christians    Donald E. Wildmon   \n",
       "1                                             Undying     Madeline Sheehan   \n",
       "2                                          NOT A BOOK       William Luther   \n",
       "3                                                 Max      James Patterson   \n",
       "4                    Snivel: The Fifth Circle of Heck        Dale E. Basye   \n",
       "5                                  The Northern Queen       Kim Vandervort   \n",
       "6                                              Tycoon          J.S. Cooper   \n",
       "7                                     The Best Friend        Ally Williams   \n",
       "8                                       Stolen Kisses    Kerttu-Liis Kiili   \n",
       "9             Recent Speeches of Governor Sarah Palin          Sarah Palin   \n",
       "10                                 The Administration        Manna Francis   \n",
       "11                                 His Mistress' Baby   Prolifick Instinct   \n",
       "12                              Obamaism is Socialism          Mattie Jaxx   \n",
       "13                               The Door to the Lost      Jaleigh Johnson   \n",
       "14               The Crack at the Heart of Everything           Fiona Fenn   \n",
       "15                                          Authority          R.K. Lilley   \n",
       "16                        In the Realms of the Unreal    John M. MacGregor   \n",
       "17                                          Bad Girls           Aurora Yeo   \n",
       "18                      The Bridges of Madison County  Robert James Waller   \n",
       "19                                           Enslaved       Melinda Barron   \n",
       "20                                 The Lost Continent    Tui T. Sutherland   \n",
       "21                                       Interference             Zoe Reed   \n",
       "22                                The Hand I Fan With    Tina McElroy Ansa   \n",
       "23                                    Forbidden Flaws       Pepper Winters   \n",
       "24                                          Hail Fire       Brett Arquette   \n",
       "25                           Diseases of Gene Hackman      Sean Tejaratchi   \n",
       "26  Sarah Palin: In Her Own Words - Recent Speeche...          Sarah Palin   \n",
       "27                                           أين الله             كرم صابر   \n",
       "28                                       Iron Council       China Miéville   \n",
       "29                                 Crown of Starlight         Cait Corrain   \n",
       "30                                           Untitled        Leigh Bardugo   \n",
       "31                                           Untitled     Samantha Shannon   \n",
       "32  Everything I Needed to Know about Women I Lear...              Jim Lee   \n",
       "33                                    الحقيقة الغائبة             فرج فودة   \n",
       "34                              The Red and the Black             Stendhal   \n",
       "35          The Wheel of time series by Robert Jordan        Robert Jordan   \n",
       "36  The Big One: An Island, an Obsession, and the ...         David Kinney   \n",
       "\n",
       "                        Format Published                                ISBN  \\\n",
       "0    277 pages, Kindle Edition      None                                None   \n",
       "1                         None      None                                None   \n",
       "2                         None      None  9781569800867 (ISBN10: 1569800863)   \n",
       "3    321 pages, Kindle Edition      None                                None   \n",
       "4    448 pages, Kindle Edition      None                                None   \n",
       "5    313 pages, Kindle Edition      None                                None   \n",
       "6                         None      None                                None   \n",
       "7               Kindle Edition      None                                None   \n",
       "8                         None      None                                None   \n",
       "9     37 pages, Kindle Edition      None                                None   \n",
       "10           1635 pages, ebook      None                                None   \n",
       "11                        None      None                                None   \n",
       "12   258 pages, Kindle Edition      None                                None   \n",
       "13  304 pages, Library Binding      None  9781101933183 (ISBN10: 1101933186)   \n",
       "14        336 pages, Paperback      None  9781946501714 (ISBN10: 1946501719)   \n",
       "15                        None      None                                None   \n",
       "16                 15145 pages      None                                None   \n",
       "17                        None      None                                None   \n",
       "18   224 pages, Kindle Edition      None                                None   \n",
       "19    90 pages, Kindle Edition      None                (ISBN10: 1607351676)   \n",
       "20                        None      None                                None   \n",
       "21            478 pages, ebook      None                                None   \n",
       "22   497 pages, Kindle Edition      None                                None   \n",
       "23                   430 pages      None                                None   \n",
       "24                        None      None                                None   \n",
       "25                        None      None                                None   \n",
       "26              Kindle Edition      None                                None   \n",
       "27            128 pages, ebook      None                                None   \n",
       "28              Kindle Edition      None                                None   \n",
       "29        560 pages, Paperback      None  9780593598542 (ISBN10: 0593598547)   \n",
       "30                        None      None                                None   \n",
       "31                       ebook      None                         9.78141E+12   \n",
       "32             82 pages, ebook      None                                None   \n",
       "33                   190 pages      None                                None   \n",
       "34   522 pages, Kindle Edition      None                                None   \n",
       "35                        None      None                                None   \n",
       "36   289 pages, Kindle Edition      None                                None   \n",
       "\n",
       "          ASIN   Language   Total_Ratings        Reviews  Rating  \\\n",
       "0   B002BNL52Q    English      33 ratings      2 reviews    2.55   \n",
       "1         None    English   1,003 ratings    100 reviews    4.20   \n",
       "2   1569800863       None   1,411 ratings    281 reviews    2.95   \n",
       "3   B001U5VJMC    English  75,089 ratings  2,379 reviews    4.05   \n",
       "4   B005KB0V0S    English     197 ratings     23 reviews    4.07   \n",
       "5   B004BSH1U4    English      44 ratings     15 reviews    4.16   \n",
       "6         None       None      45 ratings       1 review    4.11   \n",
       "7         None    English     298 ratings     32 reviews    3.61   \n",
       "8         None       None     217 ratings     10 reviews    3.60   \n",
       "9   B001FA10V2    English      10 ratings       1 review    1.80   \n",
       "10        None    English     646 ratings     53 reviews    4.55   \n",
       "11        None       None     169 ratings     19 reviews    3.94   \n",
       "12  B004H1TKYK  Hungarian        1 rating       1 review    5.00   \n",
       "13  1101933186    English     363 ratings     89 reviews    4.01   \n",
       "14  1946501719    English      67 ratings     52 reviews    4.34   \n",
       "15        None    English     147 ratings      9 reviews    3.87   \n",
       "16        None       None     150 ratings     17 reviews    4.42   \n",
       "17        None       None     197 ratings      8 reviews    4.41   \n",
       "18  B000FA6720    English  99,891 ratings  6,462 reviews    3.70   \n",
       "19  B003WQBDB4    English      55 ratings      6 reviews    3.51   \n",
       "20        None       None  16,750 ratings    796 reviews    4.46   \n",
       "21        None    English   1,384 ratings    126 reviews    4.47   \n",
       "22  B00309SCNU    English   3,586 ratings     85 reviews    4.14   \n",
       "23        None    English     379 ratings     53 reviews    4.00   \n",
       "24        None       None   1,388 ratings      7 reviews    4.98   \n",
       "25        None    English        1 rating       1 review    2.00   \n",
       "26        None    English      17 ratings      2 reviews    2.65   \n",
       "27        None     Arabic     102 ratings     34 reviews    2.30   \n",
       "28        None    English  16,087 ratings  1,139 reviews    3.72   \n",
       "29   593598547    English     449 ratings    197 reviews    1.74   \n",
       "30        None    English   1,367 ratings    864 reviews    4.77   \n",
       "31        None    English      13 ratings       1 review    4.31   \n",
       "32  B0025KUIFU    English       6 ratings      4 reviews    3.17   \n",
       "33        None     Arabic   2,844 ratings    493 reviews    3.93   \n",
       "34  B004PGN6UG     French  77,243 ratings  3,459 reviews    3.87   \n",
       "35        None    English   6,967 ratings    247 reviews    4.59   \n",
       "36  B001T9OJTY    English      91 ratings     13 reviews    4.00   \n",
       "\n",
       "                                               Genres  \n",
       "0              ['Shapeshifters', 'Ghosts', 'Fairies']  \n",
       "1   ['Romance', 'Contemporary Romance', 'Dark', 'E...  \n",
       "2   ['Fiction', 'Politics', 'Race', 'Terrorism', '...  \n",
       "3   ['Young Adult', 'Fantasy', 'Science Fiction', ...  \n",
       "4   ['Fantasy', 'Fiction', 'Humor', 'Adventure', '...  \n",
       "5                              ['Fantasy', 'Fiction']  \n",
       "6                                         ['Romance']  \n",
       "7   ['Romance', 'Young Adult', 'High School', 'Con...  \n",
       "8                                         ['Romance']  \n",
       "9                                                  []  \n",
       "10  ['M M Romance', 'BDSM', 'Dystopia', 'Science F...  \n",
       "11                                                 []  \n",
       "12                                                 []  \n",
       "13  ['Fantasy', 'Middle Grade', 'Magic', 'Fiction'...  \n",
       "14  ['Fantasy', 'Queer', 'Romance', 'LGBT', 'Roman...  \n",
       "15  ['BDSM', 'Erotica', 'Contemporary Romance', 'A...  \n",
       "16  ['Art', 'Biography', 'Nonfiction', 'Psychology...  \n",
       "17         ['Young Adult', 'Romance', 'Contemporary']  \n",
       "18  ['Fiction', 'Romance', 'Classics', 'Chick Lit'...  \n",
       "19  ['Fantasy', 'Erotica', 'BDSM', 'Time Travel', ...  \n",
       "20  ['Fantasy', 'Dragons', 'Middle Grade', 'Fictio...  \n",
       "21  ['Romance', 'Sports', 'LGBT', 'Lesbian', 'Youn...  \n",
       "22  ['Fiction', 'African American', 'Romance', 'Ch...  \n",
       "23  ['Romance', 'Dark', 'Contemporary', 'Contempor...  \n",
       "24                               ['Military Fiction']  \n",
       "25                                                 []  \n",
       "26                                                 []  \n",
       "27                                       ['Religion']  \n",
       "28  ['Fantasy', 'Fiction', 'Science Fiction', 'Ste...  \n",
       "29  ['Fantasy', 'Mythology', 'Romance', 'LGBT', 'S...  \n",
       "30                                    ['Young Adult']  \n",
       "31  ['Fantasy', 'Young Adult', 'Dystopia', 'Fictio...  \n",
       "32                                                 []  \n",
       "33  ['Religion', 'Politics', 'History', 'Nonfictio...  \n",
       "34  ['Fiction', 'France', 'French Literature', 'Cl...  \n",
       "35  ['Fantasy', 'Fiction', 'Epic Fantasy', 'Scienc...  \n",
       "36                                     ['Nonfiction']  "
      ]
     },
     "execution_count": 10,
     "metadata": {},
     "output_type": "execute_result"
    }
   ],
   "source": [
    "query = \"\"\"\n",
    "SELECT *\n",
    "FROM df\n",
    "where Published is null\n",
    "\"\"\"\n",
    "results(query)"
   ]
  },
  {
   "cell_type": "code",
   "execution_count": 11,
   "id": "ce7663f3",
   "metadata": {},
   "outputs": [],
   "source": [
    "# Dropping rows with null 'Published' values, since they account for only 0.043% of the dataset\n",
    "df.dropna(subset=\"Published\",inplace=True)"
   ]
  },
  {
   "cell_type": "code",
   "execution_count": 12,
   "id": "b35b116d",
   "metadata": {},
   "outputs": [
    {
     "data": {
      "text/plain": [
       "np.int64(28)"
      ]
     },
     "execution_count": 12,
     "metadata": {},
     "output_type": "execute_result"
    }
   ],
   "source": [
    "# Not dropping missing values in 'Format' since it will be split into 'no_of_pages' and 'format', and missing values can be filled using averages\n",
    "df['Format'].isnull().sum()"
   ]
  },
  {
   "cell_type": "code",
   "execution_count": 13,
   "id": "d6f42477",
   "metadata": {},
   "outputs": [
    {
     "name": "stdout",
     "output_type": "stream",
     "text": [
      "135\n"
     ]
    },
    {
     "data": {
      "application/vnd.microsoft.datawrangler.viewer.v0+json": {
       "columns": [
        {
         "name": "Language",
         "rawType": "object",
         "type": "string"
        },
        {
         "name": "count",
         "rawType": "int64",
         "type": "integer"
        }
       ],
       "ref": "77f1ae8e-6dd7-4502-a5c3-d42a1749cfe3",
       "rows": [
        [
         "English",
         "8268"
        ],
        [
         "Arabic",
         "95"
        ],
        [
         "French",
         "16"
        ],
        [
         "German",
         "15"
        ],
        [
         "Spanish; Castilian",
         "11"
        ],
        [
         "Japanese",
         "11"
        ],
        [
         "Dutch; Flemish",
         "9"
        ],
        [
         "Finnish",
         "8"
        ],
        [
         "Turkish",
         "6"
        ],
        [
         "Italian",
         "4"
        ],
        [
         "Polish",
         "3"
        ],
        [
         "Portuguese",
         "3"
        ],
        [
         "Czech",
         "2"
        ],
        [
         "Swedish",
         "1"
        ],
        [
         "Norwegian",
         "1"
        ],
        [
         "Aleut",
         "1"
        ],
        [
         "Bulgarian",
         "1"
        ],
        [
         "Russian",
         "1"
        ]
       ],
       "shape": {
        "columns": 1,
        "rows": 18
       }
      },
      "text/plain": [
       "Language\n",
       "English               8268\n",
       "Arabic                  95\n",
       "French                  16\n",
       "German                  15\n",
       "Spanish; Castilian      11\n",
       "Japanese                11\n",
       "Dutch; Flemish           9\n",
       "Finnish                  8\n",
       "Turkish                  6\n",
       "Italian                  4\n",
       "Polish                   3\n",
       "Portuguese               3\n",
       "Czech                    2\n",
       "Swedish                  1\n",
       "Norwegian                1\n",
       "Aleut                    1\n",
       "Bulgarian                1\n",
       "Russian                  1\n",
       "Name: count, dtype: int64"
      ]
     },
     "execution_count": 13,
     "metadata": {},
     "output_type": "execute_result"
    }
   ],
   "source": [
    "print(df['Language'].isnull().sum())\n",
    "df['Language'].value_counts()"
   ]
  },
  {
   "cell_type": "code",
   "execution_count": 14,
   "id": "fc1bd1cd",
   "metadata": {},
   "outputs": [],
   "source": [
    "# Replacing null values in 'Language' with 'English' since it's the most frequent language by a large margin\n",
    "df['Language'] = df['Language'].fillna('English')"
   ]
  },
  {
   "cell_type": "code",
   "execution_count": 15,
   "id": "22362b29",
   "metadata": {},
   "outputs": [],
   "source": [
    "# Dropping 'ISBN' and 'ASIN' due to high missing values and limited usefulness for analysis.\n",
    "df.drop(columns=['ISBN',\"ASIN\"],axis=1,inplace=True)"
   ]
  },
  {
   "cell_type": "code",
   "execution_count": 16,
   "id": "a8be04cb",
   "metadata": {},
   "outputs": [
    {
     "data": {
      "application/vnd.microsoft.datawrangler.viewer.v0+json": {
       "columns": [
        {
         "name": "index",
         "rawType": "int64",
         "type": "integer"
        },
        {
         "name": "BookTitle",
         "rawType": "object",
         "type": "string"
        },
        {
         "name": "Author",
         "rawType": "object",
         "type": "string"
        },
        {
         "name": "Format",
         "rawType": "object",
         "type": "unknown"
        },
        {
         "name": "Published",
         "rawType": "object",
         "type": "string"
        },
        {
         "name": "Language",
         "rawType": "object",
         "type": "string"
        },
        {
         "name": "Total_Ratings",
         "rawType": "object",
         "type": "string"
        },
        {
         "name": "Reviews",
         "rawType": "object",
         "type": "string"
        },
        {
         "name": "Rating",
         "rawType": "float64",
         "type": "float"
        },
        {
         "name": "Genres",
         "rawType": "object",
         "type": "string"
        }
       ],
       "ref": "c106fe6a-a9bc-4913-ab31-efb266dd37a5",
       "rows": [
        [
         "0",
         "بلد متعلم عليها",
         "مصطفى شهيب",
         "208 pages, Paperback",
         "January 1, 2010 by دار ابن النفيس للنشر والتوزيع",
         "English",
         "1,346 ratings",
         "223 reviews",
         "2.84",
         "[]"
        ],
        [
         "1",
         "Farewell, Rob Bell: A Biblical Response to Love Wins",
         "Larry Dixon",
         "71 pages, Kindle Edition",
         "June 13, 2011 by Theomedian Resources",
         "English",
         "11 ratings",
         "2 reviews",
         "1.91",
         "[]"
        ],
        [
         "2",
         "Metsänpeikot",
         "Katariina Katla",
         "55 pages, Paperback",
         "January 1, 2007 by Loka Kustannus",
         "English",
         "6 ratings",
         "0 reviews",
         "2.5",
         "[]"
        ],
        [
         "3",
         "اعترافات جرَّاح",
         "علي حلمي",
         "414 pages, Paperback",
         "January 1, 2010 by الدار المصرية اللبنانية",
         "Arabic",
         "62 ratings",
         "19 reviews",
         "2.82",
         "[]"
        ],
        [
         "4",
         "Lucky in Red",
         "Jianne Carlo",
         "333 pages, Paperback",
         "November 13, 2010 by Passion in Pring",
         "English",
         "4 ratings",
         "1 review",
         "4.25",
         "[]"
        ],
        [
         "5",
         "بنات الشات",
         "أحمد الجهيني",
         "93 pages, Paperback",
         "1-Jan-10",
         "Arabic",
         "5 ratings",
         "0 reviews",
         "1.4",
         "[]"
        ],
        [
         "6",
         "The Ark",
         "Andre Arnyvelde",
         "320 pages, Paperback",
         "August 1, 2015 by Blackcoat Press",
         "English",
         "1 rating",
         "1 review",
         "1.0",
         "[]"
        ],
        [
         "7",
         "My Summer Under a Crescent Moon",
         "Marsh Myers",
         "249 pages, Paperback",
         "March 24, 2021 by Laughing Boy Fiction",
         "English",
         "69 ratings",
         "31 reviews",
         "4.68",
         "[]"
        ],
        [
         "8",
         "Dead Low Tide",
         "Eddie Jones",
         "207 pages, Paperback",
         "December 24, 2013 by Zonderkidz",
         "English",
         "38 ratings",
         "7 reviews",
         "4.61",
         "[]"
        ],
        [
         "9",
         "The Godyssey",
         "Rob Liefeld",
         null,
         "September 1, 1996 by Maximum Press",
         "English",
         "2 ratings",
         "2 reviews",
         "1.5",
         "[]"
        ],
        [
         "10",
         "Gentle Fury",
         "Monica Barrie",
         "307 pages, Mass Market Paperback",
         "September 1, 1983 by Pocket Books",
         "English",
         "32 ratings",
         "3 reviews",
         "3.88",
         "[]"
        ],
        [
         "11",
         "Miley Cyrus",
         "Katie Franks",
         "24 pages, Library Binding",
         "July 30, 2008 by Powerkids Pr",
         "English",
         "25 ratings",
         "2 reviews",
         "4.08",
         "[]"
        ],
        [
         "12",
         "Bad Amateur Ebook Writer Romance Story",
         "Ivana Murleau",
         "22 pages, ebook",
         "December 4, 2012 by Open Mic Press",
         "English",
         "10 ratings",
         "6 reviews",
         "3.7",
         "[]"
        ],
        [
         "13",
         "The Crystal Keepers",
         "J.M. Arlen",
         "455 pages, Kindle Edition",
         "18-Mar-22",
         "English",
         "50 ratings",
         "18 reviews",
         "1.44",
         "[]"
        ],
        [
         "14",
         "Where Angels Fear to Tread & The Longest Journey",
         "E.M. Forster",
         "419 pages, Kindle Edition",
         "January 1, 2009 by Omnibus Select",
         "English",
         "1 rating",
         "0 reviews",
         "3.0",
         "[]"
        ],
        [
         "15",
         "Hell Behind Prison Walls: Shams, Charades & Circus From 25 Years Of Instructing Inmates",
         "John J. Pecchio",
         "255 pages, Hardcover",
         "January 1, 2003 by Brundage Publishing",
         "English",
         "1 rating",
         "1 review",
         "1.0",
         "[]"
        ],
        [
         "16",
         "North Market Cookbook: Recipes & Stories from Columbus, Ohio's Historic Public Market",
         "Michael Turback",
         "213 pages, Paperback",
         "November 1, 2013 by History Co Llc",
         "English",
         "3 ratings",
         "0 reviews",
         "2.67",
         "[]"
        ],
        [
         "17",
         "Paper Fashions Yesterday",
         "Jill Sawyer",
         "500 pages, Spiral-bound",
         "Klutz",
         "English",
         "3 ratings",
         "0 reviews",
         "2.0",
         "[]"
        ],
        [
         "18",
         "على حين وطن - قصص قصيرة جدا",
         "محمد ابراهيم نوايا",
         "100 pages, Paperback",
         "February 28, 2018 by دار الريم للنشر والتوزيع",
         "Arabic",
         "89 ratings",
         "22 reviews",
         "3.08",
         "[]"
        ],
        [
         "19",
         "Giant-Size Man-Thing #3",
         "Steve Gerber",
         "31 pages, Kindle Edition",
         "October 25, 2016 by Marvel",
         "English",
         "6 ratings",
         "1 review",
         "3.67",
         "[]"
        ],
        [
         "20",
         "Preformation",
         "Nick Askew",
         "220 pages, Kindle Edition",
         "November 25, 2020 by Amazon Digital Services",
         "English",
         "19 ratings",
         "5 reviews",
         "4.58",
         "[]"
        ],
        [
         "21",
         "A Demon's Diary: Book I",
         "Wesley E. King",
         "ebook",
         "July 25, 2013 by Smashwords Edition",
         "English",
         "2 ratings",
         "1 review",
         "2.5",
         "[]"
        ],
        [
         "22",
         "Under a Honeycomb Sky",
         "Judith-Victoria Douglas",
         "23 pages, Kindle Edition",
         "July 10, 2013 by Amazon Digital Services, Inc.",
         "English",
         "2 ratings",
         "0 reviews",
         "3.0",
         "[]"
        ],
        [
         "23",
         "WTFtoids",
         "R.J. Lawrence",
         "78 pages, Kindle Edition",
         "12-Aug-12",
         "English",
         "7 ratings",
         "0 reviews",
         "2.43",
         "[]"
        ],
        [
         "24",
         "Power of Pussy",
         "Sandy Patsy",
         "128 pages, Hardcover",
         "February 20, 2007 by Xlibris",
         "English",
         "27 ratings",
         "2 reviews",
         "3.89",
         "[]"
        ],
        [
         "25",
         "Mary Shelley, Author of Frankenstein",
         "Elizabeth Nitchie",
         "255 pages, Hardcover",
         "April 6, 1970 by Praeger",
         "English",
         "82 ratings",
         "7 reviews",
         "3.79",
         "[]"
        ],
        [
         "26",
         "Problems of bisexuality as reflected in circumcision",
         "Herman Nunberg",
         "83 pages, Hardcover",
         "January 1, 1949 by Imago Publishing Co., London",
         "English",
         "1 rating",
         "0 reviews",
         "1.0",
         "[]"
        ],
        [
         "27",
         "Allocation Formulas in Academic Libraries",
         "Beverly Jones",
         "90 pages, Paperback",
         "January 1, 1995 by Amer Library Assn",
         "English",
         "1 rating",
         "0 reviews",
         "2.0",
         "[]"
        ],
        [
         "28",
         "Unmasking 100 Liberal Myths, Media Bias, and the U.S. Moral Decay!: Independents, can you handle the truth? \"Every American Should Read!\" A Twelve Year Investigation!!",
         "John C. Hyland",
         "176 pages, Paperback",
         "July 2, 2008 by Trafford Publishing",
         "English",
         "2 ratings",
         "0 reviews",
         "1.0",
         "[]"
        ],
        [
         "29",
         "Sacred Hills",
         "Judith-Victoria Douglas",
         "498 pages, Mass Market Paperback",
         "August 20, 2013 by Create Space",
         "English",
         "4 ratings",
         "0 reviews",
         "3.25",
         "[]"
        ],
        [
         "30",
         "The Stinky Duck",
         "Onision",
         "69 pages, Paperback",
         "January 7, 2022 by Independently published",
         "English",
         "11 ratings",
         "2 reviews",
         "2.09",
         "[]"
        ],
        [
         "31",
         "Fraud and Fiction: The Real Truth Behind Fire and Fury: Inside The Trump White House",
         "Eddie Scarry",
         "122 pages, Kindle Edition",
         "April 2, 2018 by Bombardier Books",
         "English",
         "11 ratings",
         "2 reviews",
         "2.91",
         "[]"
        ],
        [
         "32",
         "Painted Tree: Two Novellas",
         "Judith-Victoria Douglas",
         "202 pages, Mass Market Paperback",
         "April 19, 2012 by CreateSpace Independent Publishing Platform",
         "English",
         "5 ratings",
         "1 review",
         "4.2",
         "[]"
        ],
        [
         "33",
         "Venus Does Adonis",
         "Tim Desmondes",
         "172 pages, Paperback",
         "May 30, 2008 by Nazca Plains",
         "English",
         "3 ratings",
         "0 reviews",
         "4.0",
         "[]"
        ],
        [
         "34",
         "The Devil and Secular Humanism: The Children of the Enlightenment",
         "Howard B. Radest",
         "Hardcover",
         "November 30, 1990 by Praeger",
         "English",
         "0 ratings",
         "0 reviews",
         "0.0",
         "[]"
        ],
        [
         "35",
         "We the People, June 8, 1789: A Christian Nation",
         "Richard McKenzie Neal",
         "368 pages, Paperback",
         "October 18, 2010 by AuthorHouse",
         "English",
         "0 ratings",
         "0 reviews",
         "0.0",
         "[]"
        ],
        [
         "36",
         "Mémoires D'immortels",
         "Chris Verhoest",
         "274 pages, Paperback",
         "January 21, 2012 by ADA",
         "French",
         "9 ratings",
         "2 reviews",
         "3.78",
         "[]"
        ],
        [
         "37",
         "Callie's Paradox",
         "Suzanne Fisher Staples",
         "124 pages, Kindle Edition",
         "September 19, 2012 by Mercer Arts and Letters",
         "English",
         "9 ratings",
         "2 reviews",
         "4.22",
         "[]"
        ],
        [
         "38",
         "Marietta",
         "Gina Veronese",
         "188 pages, Paperback",
         "August 1, 1980 by Worldwide Library",
         "English",
         "6 ratings",
         "1 review",
         "2.67",
         "[]"
        ],
        [
         "39",
         "Whatever she needs: Four tales from the journey to erotic satisfaction",
         "Cecelie Hart",
         "51 pages, Kindle Edition",
         "September 17, 2015 by Cecelie A.R. Hart",
         "English",
         "2 ratings",
         "0 reviews",
         "2.0",
         "[]"
        ],
        [
         "40",
         "What Emma Left Behind",
         "Anne Spackman",
         "ebook",
         "February 17, 2012 by Smashwords",
         "English",
         "0 ratings",
         "0 reviews",
         "0.0",
         "[]"
        ],
        [
         "41",
         "Robocunt and the Rug Niggers of Afrofaggotstan",
         "Shawn Wunjo",
         "68 pages, Paperback",
         "May 1, 2010 by Thunderune Publishing",
         "English",
         "13 ratings",
         "0 reviews",
         "4.08",
         "[]"
        ],
        [
         "42",
         "Vampire Mom",
         "Don Whittington",
         "Paperback",
         "August 1, 1995 by HarperCollins",
         "English",
         "13 ratings",
         "0 reviews",
         "3.38",
         "[]"
        ],
        [
         "43",
         "The Unexpected Warrior",
         "Nicholas A. Price",
         "656 pages, Paperback",
         "March 1, 2018 by Bulldog Publications, Est. 1980",
         "English",
         "12 ratings",
         "6 reviews",
         "4.83",
         "[]"
        ],
        [
         "44",
         "We the People: A Christian Nation",
         "Richard McKenzie Neal",
         "368 pages, Hardcover",
         "October 13, 2010 by Authorhouse",
         "English",
         "0 ratings",
         "0 reviews",
         "0.0",
         "[]"
        ],
        [
         "45",
         "An Entirely New Feature of a Thrilling Novel!: Entitled, The Social War of the Year 1900; Or, Conspirators and Lovers!",
         "Simon Mohler Landis",
         "416 pages, Unknown Binding",
         "January 1, 1872 by Landis Publishing Society",
         "English",
         "4 ratings",
         "2 reviews",
         "1.75",
         "[]"
        ],
        [
         "46",
         "Quaaludes: The Quest for Oblivion",
         "Solomon H. Snyder",
         "104 pages, Library Binding",
         "December 1, 1985 by Chelsea House Pub",
         "English",
         "5 ratings",
         "0 reviews",
         "3.2",
         "[]"
        ],
        [
         "47",
         "The Mighty Quinn",
         "Paula R. Stiles",
         "242 pages, Paperback",
         "September 1, 2012 by Dark Continents Publishing, Inc",
         "English",
         "24 ratings",
         "4 reviews",
         "3.88",
         "[]"
        ],
        [
         "48",
         "AMERICA - YES WE ARE A CHRISTIAN NATION",
         "Maryann Brickett",
         "220 pages, Paperback",
         "February 28, 2011 by Xulon Press",
         "English",
         "0 ratings",
         "0 reviews",
         "0.0",
         "[]"
        ],
        [
         "49",
         "The King's Throne: The Elysian Blade of Truth",
         "Mealea Mathews",
         "231 pages, Paperback",
         "March 22, 2014 by hbicambodia.com",
         "English",
         "19 ratings",
         "7 reviews",
         "4.16",
         "[]"
        ]
       ],
       "shape": {
        "columns": 9,
        "rows": 265
       }
      },
      "text/html": [
       "<div>\n",
       "<style scoped>\n",
       "    .dataframe tbody tr th:only-of-type {\n",
       "        vertical-align: middle;\n",
       "    }\n",
       "\n",
       "    .dataframe tbody tr th {\n",
       "        vertical-align: top;\n",
       "    }\n",
       "\n",
       "    .dataframe thead th {\n",
       "        text-align: right;\n",
       "    }\n",
       "</style>\n",
       "<table border=\"1\" class=\"dataframe\">\n",
       "  <thead>\n",
       "    <tr style=\"text-align: right;\">\n",
       "      <th></th>\n",
       "      <th>BookTitle</th>\n",
       "      <th>Author</th>\n",
       "      <th>Format</th>\n",
       "      <th>Published</th>\n",
       "      <th>Language</th>\n",
       "      <th>Total_Ratings</th>\n",
       "      <th>Reviews</th>\n",
       "      <th>Rating</th>\n",
       "      <th>Genres</th>\n",
       "    </tr>\n",
       "  </thead>\n",
       "  <tbody>\n",
       "    <tr>\n",
       "      <th>0</th>\n",
       "      <td>بلد متعلم عليها</td>\n",
       "      <td>مصطفى شهيب</td>\n",
       "      <td>208 pages, Paperback</td>\n",
       "      <td>January 1, 2010 by دار ابن النفيس للنشر والتوزيع</td>\n",
       "      <td>English</td>\n",
       "      <td>1,346 ratings</td>\n",
       "      <td>223 reviews</td>\n",
       "      <td>2.84</td>\n",
       "      <td>[]</td>\n",
       "    </tr>\n",
       "    <tr>\n",
       "      <th>1</th>\n",
       "      <td>Farewell, Rob Bell: A Biblical Response to Lov...</td>\n",
       "      <td>Larry Dixon</td>\n",
       "      <td>71 pages, Kindle Edition</td>\n",
       "      <td>June 13, 2011 by Theomedian Resources</td>\n",
       "      <td>English</td>\n",
       "      <td>11 ratings</td>\n",
       "      <td>2 reviews</td>\n",
       "      <td>1.91</td>\n",
       "      <td>[]</td>\n",
       "    </tr>\n",
       "    <tr>\n",
       "      <th>2</th>\n",
       "      <td>Metsänpeikot</td>\n",
       "      <td>Katariina Katla</td>\n",
       "      <td>55 pages, Paperback</td>\n",
       "      <td>January 1, 2007 by Loka Kustannus</td>\n",
       "      <td>English</td>\n",
       "      <td>6 ratings</td>\n",
       "      <td>0 reviews</td>\n",
       "      <td>2.50</td>\n",
       "      <td>[]</td>\n",
       "    </tr>\n",
       "    <tr>\n",
       "      <th>3</th>\n",
       "      <td>اعترافات جرَّاح</td>\n",
       "      <td>علي حلمي</td>\n",
       "      <td>414 pages, Paperback</td>\n",
       "      <td>January 1, 2010 by الدار المصرية اللبنانية</td>\n",
       "      <td>Arabic</td>\n",
       "      <td>62 ratings</td>\n",
       "      <td>19 reviews</td>\n",
       "      <td>2.82</td>\n",
       "      <td>[]</td>\n",
       "    </tr>\n",
       "    <tr>\n",
       "      <th>4</th>\n",
       "      <td>Lucky in Red</td>\n",
       "      <td>Jianne Carlo</td>\n",
       "      <td>333 pages, Paperback</td>\n",
       "      <td>November 13, 2010 by Passion in Pring</td>\n",
       "      <td>English</td>\n",
       "      <td>4 ratings</td>\n",
       "      <td>1 review</td>\n",
       "      <td>4.25</td>\n",
       "      <td>[]</td>\n",
       "    </tr>\n",
       "    <tr>\n",
       "      <th>...</th>\n",
       "      <td>...</td>\n",
       "      <td>...</td>\n",
       "      <td>...</td>\n",
       "      <td>...</td>\n",
       "      <td>...</td>\n",
       "      <td>...</td>\n",
       "      <td>...</td>\n",
       "      <td>...</td>\n",
       "      <td>...</td>\n",
       "    </tr>\n",
       "    <tr>\n",
       "      <th>260</th>\n",
       "      <td>Barks of a nazi dog</td>\n",
       "      <td>Lucy Bannard van Sickle</td>\n",
       "      <td>110 pages, Hardcover</td>\n",
       "      <td>January 1, 1937 by The Tuttle Publishing Company</td>\n",
       "      <td>English</td>\n",
       "      <td>2 ratings</td>\n",
       "      <td>0 reviews</td>\n",
       "      <td>3.50</td>\n",
       "      <td>[]</td>\n",
       "    </tr>\n",
       "    <tr>\n",
       "      <th>261</th>\n",
       "      <td>Don't Accept Me as I Am: Helping Retarded Peop...</td>\n",
       "      <td>Reuven Feuerstein</td>\n",
       "      <td>341 pages, Paperback</td>\n",
       "      <td>January 1, 1988 by Springer</td>\n",
       "      <td>English</td>\n",
       "      <td>14 ratings</td>\n",
       "      <td>0 reviews</td>\n",
       "      <td>3.57</td>\n",
       "      <td>[]</td>\n",
       "    </tr>\n",
       "    <tr>\n",
       "      <th>262</th>\n",
       "      <td>Here Come the Beavers!</td>\n",
       "      <td>Alice E. Goudey</td>\n",
       "      <td>94 pages, Hardcover</td>\n",
       "      <td>January 1, 1957 by Charles Scribner's Sons</td>\n",
       "      <td>English</td>\n",
       "      <td>8 ratings</td>\n",
       "      <td>2 reviews</td>\n",
       "      <td>4.63</td>\n",
       "      <td>[]</td>\n",
       "    </tr>\n",
       "    <tr>\n",
       "      <th>263</th>\n",
       "      <td>Sarah Palin The Real Deal</td>\n",
       "      <td>Stone Books White</td>\n",
       "      <td>240 pages, Paperback</td>\n",
       "      <td>October 1, 2008 by Word And Spirit Resources, LLC</td>\n",
       "      <td>English</td>\n",
       "      <td>30 ratings</td>\n",
       "      <td>1 review</td>\n",
       "      <td>2.37</td>\n",
       "      <td>[]</td>\n",
       "    </tr>\n",
       "    <tr>\n",
       "      <th>264</th>\n",
       "      <td>Complete Guide to Meeting Women</td>\n",
       "      <td>Don Diebel</td>\n",
       "      <td>201 pages, Paperback</td>\n",
       "      <td>January 1, 1991 by Gemini Pub Co</td>\n",
       "      <td>English</td>\n",
       "      <td>2 ratings</td>\n",
       "      <td>0 reviews</td>\n",
       "      <td>4.00</td>\n",
       "      <td>[]</td>\n",
       "    </tr>\n",
       "  </tbody>\n",
       "</table>\n",
       "<p>265 rows × 9 columns</p>\n",
       "</div>"
      ],
      "text/plain": [
       "                                             BookTitle  \\\n",
       "0                                      بلد متعلم عليها   \n",
       "1    Farewell, Rob Bell: A Biblical Response to Lov...   \n",
       "2                                         Metsänpeikot   \n",
       "3                                      اعترافات جرَّاح   \n",
       "4                                         Lucky in Red   \n",
       "..                                                 ...   \n",
       "260                                Barks of a nazi dog   \n",
       "261  Don't Accept Me as I Am: Helping Retarded Peop...   \n",
       "262                             Here Come the Beavers!   \n",
       "263                          Sarah Palin The Real Deal   \n",
       "264                    Complete Guide to Meeting Women   \n",
       "\n",
       "                      Author                    Format  \\\n",
       "0                 مصطفى شهيب      208 pages, Paperback   \n",
       "1                Larry Dixon  71 pages, Kindle Edition   \n",
       "2            Katariina Katla       55 pages, Paperback   \n",
       "3                   علي حلمي      414 pages, Paperback   \n",
       "4               Jianne Carlo      333 pages, Paperback   \n",
       "..                       ...                       ...   \n",
       "260  Lucy Bannard van Sickle      110 pages, Hardcover   \n",
       "261        Reuven Feuerstein      341 pages, Paperback   \n",
       "262          Alice E. Goudey       94 pages, Hardcover   \n",
       "263        Stone Books White      240 pages, Paperback   \n",
       "264               Don Diebel      201 pages, Paperback   \n",
       "\n",
       "                                             Published Language  \\\n",
       "0     January 1, 2010 by دار ابن النفيس للنشر والتوزيع  English   \n",
       "1                June 13, 2011 by Theomedian Resources  English   \n",
       "2                    January 1, 2007 by Loka Kustannus  English   \n",
       "3           January 1, 2010 by الدار المصرية اللبنانية   Arabic   \n",
       "4                November 13, 2010 by Passion in Pring  English   \n",
       "..                                                 ...      ...   \n",
       "260   January 1, 1937 by The Tuttle Publishing Company  English   \n",
       "261                        January 1, 1988 by Springer  English   \n",
       "262         January 1, 1957 by Charles Scribner's Sons  English   \n",
       "263  October 1, 2008 by Word And Spirit Resources, LLC  English   \n",
       "264                   January 1, 1991 by Gemini Pub Co  English   \n",
       "\n",
       "     Total_Ratings      Reviews  Rating Genres  \n",
       "0    1,346 ratings  223 reviews    2.84     []  \n",
       "1       11 ratings    2 reviews    1.91     []  \n",
       "2        6 ratings    0 reviews    2.50     []  \n",
       "3       62 ratings   19 reviews    2.82     []  \n",
       "4        4 ratings     1 review    4.25     []  \n",
       "..             ...          ...     ...    ...  \n",
       "260      2 ratings    0 reviews    3.50     []  \n",
       "261     14 ratings    0 reviews    3.57     []  \n",
       "262      8 ratings    2 reviews    4.63     []  \n",
       "263     30 ratings     1 review    2.37     []  \n",
       "264      2 ratings    0 reviews    4.00     []  \n",
       "\n",
       "[265 rows x 9 columns]"
      ]
     },
     "execution_count": 16,
     "metadata": {},
     "output_type": "execute_result"
    }
   ],
   "source": [
    "# Noticed that missing values in the 'Genres' column are represented as empty lists\n",
    "query = \"\"\"\n",
    "SELECT *\n",
    "FROM df\n",
    "where Genres = '[]'\n",
    "\"\"\"\n",
    "results(query)"
   ]
  },
  {
   "cell_type": "code",
   "execution_count": 17,
   "id": "22d59037",
   "metadata": {},
   "outputs": [
    {
     "data": {
      "application/vnd.microsoft.datawrangler.viewer.v0+json": {
       "columns": [
        {
         "name": "index",
         "rawType": "object",
         "type": "string"
        },
        {
         "name": "0",
         "rawType": "int64",
         "type": "integer"
        }
       ],
       "ref": "17b41551-f8a8-49b1-95ba-8d11ea5512d7",
       "rows": [
        [
         "BookTitle",
         "0"
        ],
        [
         "Author",
         "0"
        ],
        [
         "Format",
         "25"
        ],
        [
         "Published",
         "0"
        ],
        [
         "Language",
         "0"
        ],
        [
         "Total_Ratings",
         "0"
        ],
        [
         "Reviews",
         "0"
        ],
        [
         "Rating",
         "0"
        ],
        [
         "Genres",
         "0"
        ]
       ],
       "shape": {
        "columns": 1,
        "rows": 9
       }
      },
      "text/plain": [
       "BookTitle         0\n",
       "Author            0\n",
       "Format           25\n",
       "Published         0\n",
       "Language          0\n",
       "Total_Ratings     0\n",
       "Reviews           0\n",
       "Rating            0\n",
       "Genres            0\n",
       "dtype: int64"
      ]
     },
     "execution_count": 17,
     "metadata": {},
     "output_type": "execute_result"
    }
   ],
   "source": [
    "# Dropping 265 rows where 'Genres' is empty '[]' as this feature is important for analysis and modeling.\n",
    "df.drop(df[df['Genres'] == '[]'].index,inplace=True)\n",
    "df.isnull().sum()"
   ]
  },
  {
   "cell_type": "code",
   "execution_count": 18,
   "id": "2d808037",
   "metadata": {},
   "outputs": [
    {
     "data": {
      "application/vnd.microsoft.datawrangler.viewer.v0+json": {
       "columns": [
        {
         "name": "index",
         "rawType": "int64",
         "type": "integer"
        },
        {
         "name": "BookTitle",
         "rawType": "object",
         "type": "string"
        },
        {
         "name": "Author",
         "rawType": "object",
         "type": "string"
        },
        {
         "name": "Format",
         "rawType": "object",
         "type": "unknown"
        },
        {
         "name": "Published",
         "rawType": "object",
         "type": "string"
        },
        {
         "name": "Language",
         "rawType": "object",
         "type": "string"
        },
        {
         "name": "Total_Ratings",
         "rawType": "object",
         "type": "string"
        },
        {
         "name": "Reviews",
         "rawType": "object",
         "type": "string"
        },
        {
         "name": "Rating",
         "rawType": "float64",
         "type": "float"
        },
        {
         "name": "Genres",
         "rawType": "object",
         "type": "string"
        },
        {
         "name": "no_of_pages",
         "rawType": "object",
         "type": "string"
        }
       ],
       "ref": "5cfd7b8e-0110-46dc-b184-c1f6a87bb984",
       "rows": [
        [
         "437",
         "The Kingdoms and the Elves of the Reaches",
         "Robert Stanek",
         null,
         "February 1, 2002 by Rp Media",
         "English",
         "343 ratings",
         "67 reviews",
         "2.74",
         "['Fantasy', 'Fiction', 'Young Adult', 'Audiobook', 'Magic', 'Dragons']",
         "Paperback"
        ],
        [
         "634",
         "Nightmare’s Child",
         "James Farber",
         null,
         "January 1, 1983 by Pocket",
         "English",
         "8 ratings",
         "3 reviews",
         "2.5",
         "['Horror']",
         "Paperback"
        ],
        [
         "691",
         "The Children of Dynmouth",
         "William Trevor",
         null,
         "January 1, 2001 by Chivers Large print (Chivers, Windsor, Paragon & Camden)",
         "English",
         "1,055 ratings",
         "141 reviews",
         "3.98",
         "['Fiction', 'Irish Literature', 'Ireland', 'Classics', 'Literary Fiction', 'Horror', 'Literature']",
         "Paperback"
        ],
        [
         "1601",
         "Rumble Fish",
         "S.E. Hinton",
         null,
         "January 1, 1975 by Delacorte Press",
         "English",
         "24,018 ratings",
         "1,431 reviews",
         "3.8",
         "['Young Adult', 'Fiction', 'Classics', 'Coming Of Age', 'Realistic Fiction', 'Teen', 'Contemporary']",
         "Paperback"
        ],
        [
         "1674",
         "Same-Sex Partnerships?: A Christian Perspective",
         "John R.W. Stott",
         null,
         "October 1, 1998 by Revell",
         "English",
         "157 ratings",
         "33 reviews",
         "3.98",
         "['Theology', 'Sexuality', 'Christian', 'Christian Living', 'Nonfiction', 'Cultural', 'Relationships']",
         "Paperback"
        ],
        [
         "1710",
         "Virus Rising",
         "K.M. Heyward",
         null,
         "January 1, 2015 by Krieger Comics",
         "Finnish",
         "10 ratings",
         "4 reviews",
         "2.7",
         "['Science Fiction', 'Animals', 'Graphic Novels', 'Fantasy', 'Comics']",
         "Paperback"
        ],
        [
         "1782",
         "Guardians of the Garden",
         "Theresa Pocock",
         null,
         "October 1, 2020 by Immoral Works",
         "English",
         "147 ratings",
         "70 reviews",
         "4.63",
         "['Fantasy']",
         "Paperback"
        ],
        [
         "1942",
         "One Monday We Killed Them All",
         "John D. MacDonald",
         null,
         "December 1, 1961 by Fawcett",
         "English",
         "462 ratings",
         "41 reviews",
         "3.98",
         "['Mystery', 'Fiction', 'Crime', 'Adventure', 'United States', 'Hard Boiled', 'Thriller']",
         "Paperback"
        ],
        [
         "2144",
         "No Place Like Home",
         "Dee Romito",
         null,
         "January 1, 2017 by Simon & Schuster/ Aladdin M!X",
         "English",
         "108 ratings",
         "29 reviews",
         "4.49",
         "['Middle Grade', 'Realistic Fiction', 'Travel', 'Contemporary']",
         "Paperback"
        ],
        [
         "2525",
         "Columbo: The Grassy Knoll",
         "William Harrington",
         null,
         "July 15, 1994 by Tor Books",
         "English",
         "189 ratings",
         "24 reviews",
         "3.74",
         "['Mystery', 'Fiction', 'Crime', 'Mystery Thriller']",
         "Paperback"
        ],
        [
         "3849",
         "Michael Jackson Was My Lover: The Secret Diary Of Jordie Chandler",
         "Victor M. Gutiérrez",
         null,
         "December 12, 1941 by Alamo Square Distributors",
         "English",
         "64 ratings",
         "11 reviews",
         "2.8",
         "['Crime']",
         "Paperback"
        ],
        [
         "4125",
         "The Roar of the Huntids: A Novel about the Empowerment of an Empath",
         "Rose Rosetree",
         null,
         "May 1, 2002 by Women's Intuition Worldwide.",
         "English",
         "10 ratings",
         "2 reviews",
         "4.7",
         "['Spirituality']",
         "Paperback"
        ],
        [
         "4313",
         "Drowned Tomb",
         "James Fahy",
         null,
         "January 1, 2016 by Venture Press",
         "English",
         "780 ratings",
         "121 reviews",
         "4.45",
         "['Fantasy', 'Young Adult', 'Magic', 'Fiction']",
         "Paperback"
        ],
        [
         "4361",
         "A Series of Unfortunate Events Set books #1-9",
         "Lemony Snicket",
         null,
         "January 1, 2006 by Scholastic Inc.",
         "English",
         "841 ratings",
         "22 reviews",
         "4.21",
         "['Fiction', 'Childrens', 'Fantasy', 'Young Adult', 'Mystery']",
         "Paperback"
        ],
        [
         "4368",
         "Battle Club Volume 1",
         "Yuji Shiozaki",
         null,
         "March 1, 2006 by TokyoPop Inc",
         "English",
         "104 ratings",
         "9 reviews",
         "3.25",
         "['Manga', 'Humor', 'Comics']",
         "Paperback"
        ],
        [
         "4428",
         "Of Monsters and Planes",
         "Johnathon Nicolaou",
         null,
         "May 25, 2023 by JN Creations",
         "English",
         "274 ratings",
         "45 reviews",
         "4.57",
         "['Science Fiction', 'Fantasy', 'Autistic Spectrum Disorder', 'Dystopia']",
         "Paperback"
        ],
        [
         "4517",
         "The War Path: Hitler's Germany, 1933-1939",
         "David Irving",
         null,
         "January 1, 1983 by Macmillan Co.",
         "English",
         "132 ratings",
         "7 reviews",
         "4.23",
         "['History', 'World War II', 'Nonfiction', 'Germany', 'Military Fiction']",
         "Paperback"
        ],
        [
         "4762",
         "Follow Your Arrow",
         "Jessica Verdi",
         null,
         "March 2, 2021 by Scholastic",
         "English",
         "641 ratings",
         "153 reviews",
         "3.88",
         "['LGBT', 'Young Adult', 'Romance', 'Contemporary', 'Queer', 'Fiction', 'Lesbian']",
         "Paperback"
        ],
        [
         "4814",
         "The Echoes of Enigma: Illuminating Life's Profound Akashic Mysteries",
         "Ramzi Najjar",
         null,
         "March 1, 2024 by Independently published",
         "English",
         "21 ratings",
         "7 reviews",
         "4.95",
         "['Spirituality']",
         "Paperback"
        ],
        [
         "5035",
         "The Fury",
         "John Farris",
         null,
         "January 1, 1978 by Popular Library [1978]",
         "English",
         "653 ratings",
         "79 reviews",
         "3.3",
         "['Horror', 'Fiction', 'Thriller', 'Science Fiction', 'Novels', 'Collections', 'Fantasy']",
         "Paperback"
        ],
        [
         "5060",
         "Don't Close Your Eyes",
         "Lynessa James",
         null,
         "October 1, 2021 by Faszt Layne Publishing",
         "English",
         "589 ratings",
         "73 reviews",
         "3.75",
         "['Romance', 'Reverse Harem', 'Contemporary', 'Fiction', 'Crime', 'Suspense', 'Contemporary Romance']",
         "Paperback"
        ],
        [
         "5278",
         "The You Beyond You: The Knowledge of the Willing",
         "Ramzi Najjar",
         null,
         "February 1, 2024 by Ramzi Najjar",
         "English",
         "275 ratings",
         "91 reviews",
         "4.39",
         "['Self Help', 'Spirituality', 'Philosophy', 'Nonfiction', 'Inspirational', 'Psychology']",
         "Paperback"
        ],
        [
         "5969",
         "Smart as the Devil",
         "Felice Picano",
         null,
         "June 1, 1978 by Dell Publishing",
         "English",
         "43 ratings",
         "10 reviews",
         "3.3",
         "['Horror']",
         "Paperback"
        ],
        [
         "6507",
         "Hitler's Table Talk",
         "Martin Bormann",
         null,
         "October 26, 2016 by Ostara Publications",
         "English",
         "587 ratings",
         "47 reviews",
         "3.86",
         "['History', 'Nonfiction', 'Politics', 'World War II', 'Germany', 'Biography', 'German Literature']",
         "Paperback"
        ],
        [
         "6721",
         "Archie's Parables",
         "Al Hartley",
         null,
         "January 1, 1975 by Spire Christian Comics",
         "English",
         "5 ratings",
         "1 review",
         "3.2",
         "['Comics', 'Fiction']",
         "Paperback"
        ],
        [
         "7186",
         "Blue Heaven",
         "Joe Keenan",
         null,
         "January 1, 2002 by Arrow",
         "English",
         "998 ratings",
         "128 reviews",
         "4.16",
         "['Fiction', 'Humor', 'Gay', 'LGBT', 'Queer', 'Comedy', 'Gay Fiction']",
         "Paperback"
        ],
        [
         "7300",
         "The Princess Diaries Box Set, Volumes I-III",
         "Meg Cabot",
         null,
         "September 1, 2006 by HarperTeen",
         "English",
         "783 ratings",
         "29 reviews",
         "4.15",
         "['Young Adult', 'Fiction', 'Chick Lit', 'Romance', 'Princesses', 'Humor', 'Childrens']",
         "Paperback"
        ],
        [
         "7597",
         "The Last Faoii",
         "Tahani Nelson",
         null,
         "October 3, 2017 by Quill",
         "English",
         "136 ratings",
         "58 reviews",
         "4.41",
         "['Fantasy']",
         "Paperback"
        ],
        [
         "7658",
         "The Stopping Place",
         "Helen Slavin",
         null,
         "January 1, 2008 by Agora Books",
         "English",
         "125 ratings",
         "38 reviews",
         "3.39",
         "['Mystery', 'Fiction']",
         "Paperback"
        ],
        [
         "7986",
         "Baby-Sitters Club Boxed Set #1",
         "Ann M. Martin",
         null,
         "September 1, 1995 by Scholastic Inc.",
         "English",
         "6,257 ratings",
         "134 reviews",
         "3.92",
         "['Childrens', 'Young Adult', 'Fiction', 'Middle Grade', 'Juvenile', 'Classics', 'Kids']",
         "Paperback"
        ],
        [
         "8118",
         "Some Like It Hot",
         "Billy Widler",
         null,
         "January 1, 2008 by Reinhard Gratzke",
         "German",
         "29 ratings",
         "4 reviews",
         "4.45",
         "['Humor']",
         "Paperback"
        ]
       ],
       "shape": {
        "columns": 10,
        "rows": 31
       }
      },
      "text/html": [
       "<div>\n",
       "<style scoped>\n",
       "    .dataframe tbody tr th:only-of-type {\n",
       "        vertical-align: middle;\n",
       "    }\n",
       "\n",
       "    .dataframe tbody tr th {\n",
       "        vertical-align: top;\n",
       "    }\n",
       "\n",
       "    .dataframe thead th {\n",
       "        text-align: right;\n",
       "    }\n",
       "</style>\n",
       "<table border=\"1\" class=\"dataframe\">\n",
       "  <thead>\n",
       "    <tr style=\"text-align: right;\">\n",
       "      <th></th>\n",
       "      <th>BookTitle</th>\n",
       "      <th>Author</th>\n",
       "      <th>Format</th>\n",
       "      <th>Published</th>\n",
       "      <th>Language</th>\n",
       "      <th>Total_Ratings</th>\n",
       "      <th>Reviews</th>\n",
       "      <th>Rating</th>\n",
       "      <th>Genres</th>\n",
       "      <th>no_of_pages</th>\n",
       "    </tr>\n",
       "  </thead>\n",
       "  <tbody>\n",
       "    <tr>\n",
       "      <th>437</th>\n",
       "      <td>The Kingdoms and the Elves of the Reaches</td>\n",
       "      <td>Robert Stanek</td>\n",
       "      <td>NaN</td>\n",
       "      <td>February 1, 2002 by Rp Media</td>\n",
       "      <td>English</td>\n",
       "      <td>343 ratings</td>\n",
       "      <td>67 reviews</td>\n",
       "      <td>2.74</td>\n",
       "      <td>['Fantasy', 'Fiction', 'Young Adult', 'Audiobo...</td>\n",
       "      <td>Paperback</td>\n",
       "    </tr>\n",
       "    <tr>\n",
       "      <th>634</th>\n",
       "      <td>Nightmare’s Child</td>\n",
       "      <td>James Farber</td>\n",
       "      <td>NaN</td>\n",
       "      <td>January 1, 1983 by Pocket</td>\n",
       "      <td>English</td>\n",
       "      <td>8 ratings</td>\n",
       "      <td>3 reviews</td>\n",
       "      <td>2.50</td>\n",
       "      <td>['Horror']</td>\n",
       "      <td>Paperback</td>\n",
       "    </tr>\n",
       "    <tr>\n",
       "      <th>691</th>\n",
       "      <td>The Children of Dynmouth</td>\n",
       "      <td>William Trevor</td>\n",
       "      <td>NaN</td>\n",
       "      <td>January 1, 2001 by Chivers Large print (Chiver...</td>\n",
       "      <td>English</td>\n",
       "      <td>1,055 ratings</td>\n",
       "      <td>141 reviews</td>\n",
       "      <td>3.98</td>\n",
       "      <td>['Fiction', 'Irish Literature', 'Ireland', 'Cl...</td>\n",
       "      <td>Paperback</td>\n",
       "    </tr>\n",
       "    <tr>\n",
       "      <th>1601</th>\n",
       "      <td>Rumble Fish</td>\n",
       "      <td>S.E. Hinton</td>\n",
       "      <td>NaN</td>\n",
       "      <td>January 1, 1975 by Delacorte Press</td>\n",
       "      <td>English</td>\n",
       "      <td>24,018 ratings</td>\n",
       "      <td>1,431 reviews</td>\n",
       "      <td>3.80</td>\n",
       "      <td>['Young Adult', 'Fiction', 'Classics', 'Coming...</td>\n",
       "      <td>Paperback</td>\n",
       "    </tr>\n",
       "    <tr>\n",
       "      <th>1674</th>\n",
       "      <td>Same-Sex Partnerships?: A Christian Perspective</td>\n",
       "      <td>John R.W. Stott</td>\n",
       "      <td>NaN</td>\n",
       "      <td>October 1, 1998 by Revell</td>\n",
       "      <td>English</td>\n",
       "      <td>157 ratings</td>\n",
       "      <td>33 reviews</td>\n",
       "      <td>3.98</td>\n",
       "      <td>['Theology', 'Sexuality', 'Christian', 'Christ...</td>\n",
       "      <td>Paperback</td>\n",
       "    </tr>\n",
       "    <tr>\n",
       "      <th>1710</th>\n",
       "      <td>Virus Rising</td>\n",
       "      <td>K.M. Heyward</td>\n",
       "      <td>NaN</td>\n",
       "      <td>January 1, 2015 by Krieger Comics</td>\n",
       "      <td>Finnish</td>\n",
       "      <td>10 ratings</td>\n",
       "      <td>4 reviews</td>\n",
       "      <td>2.70</td>\n",
       "      <td>['Science Fiction', 'Animals', 'Graphic Novels...</td>\n",
       "      <td>Paperback</td>\n",
       "    </tr>\n",
       "    <tr>\n",
       "      <th>1782</th>\n",
       "      <td>Guardians of the Garden</td>\n",
       "      <td>Theresa Pocock</td>\n",
       "      <td>NaN</td>\n",
       "      <td>October 1, 2020 by Immoral Works</td>\n",
       "      <td>English</td>\n",
       "      <td>147 ratings</td>\n",
       "      <td>70 reviews</td>\n",
       "      <td>4.63</td>\n",
       "      <td>['Fantasy']</td>\n",
       "      <td>Paperback</td>\n",
       "    </tr>\n",
       "    <tr>\n",
       "      <th>1942</th>\n",
       "      <td>One Monday We Killed Them All</td>\n",
       "      <td>John D. MacDonald</td>\n",
       "      <td>NaN</td>\n",
       "      <td>December 1, 1961 by Fawcett</td>\n",
       "      <td>English</td>\n",
       "      <td>462 ratings</td>\n",
       "      <td>41 reviews</td>\n",
       "      <td>3.98</td>\n",
       "      <td>['Mystery', 'Fiction', 'Crime', 'Adventure', '...</td>\n",
       "      <td>Paperback</td>\n",
       "    </tr>\n",
       "    <tr>\n",
       "      <th>2144</th>\n",
       "      <td>No Place Like Home</td>\n",
       "      <td>Dee Romito</td>\n",
       "      <td>NaN</td>\n",
       "      <td>January 1, 2017 by Simon &amp; Schuster/ Aladdin M!X</td>\n",
       "      <td>English</td>\n",
       "      <td>108 ratings</td>\n",
       "      <td>29 reviews</td>\n",
       "      <td>4.49</td>\n",
       "      <td>['Middle Grade', 'Realistic Fiction', 'Travel'...</td>\n",
       "      <td>Paperback</td>\n",
       "    </tr>\n",
       "    <tr>\n",
       "      <th>2525</th>\n",
       "      <td>Columbo: The Grassy Knoll</td>\n",
       "      <td>William Harrington</td>\n",
       "      <td>NaN</td>\n",
       "      <td>July 15, 1994 by Tor Books</td>\n",
       "      <td>English</td>\n",
       "      <td>189 ratings</td>\n",
       "      <td>24 reviews</td>\n",
       "      <td>3.74</td>\n",
       "      <td>['Mystery', 'Fiction', 'Crime', 'Mystery Thril...</td>\n",
       "      <td>Paperback</td>\n",
       "    </tr>\n",
       "    <tr>\n",
       "      <th>3849</th>\n",
       "      <td>Michael Jackson Was My Lover: The Secret Diary...</td>\n",
       "      <td>Victor M. Gutiérrez</td>\n",
       "      <td>NaN</td>\n",
       "      <td>December 12, 1941 by Alamo Square Distributors</td>\n",
       "      <td>English</td>\n",
       "      <td>64 ratings</td>\n",
       "      <td>11 reviews</td>\n",
       "      <td>2.80</td>\n",
       "      <td>['Crime']</td>\n",
       "      <td>Paperback</td>\n",
       "    </tr>\n",
       "    <tr>\n",
       "      <th>4125</th>\n",
       "      <td>The Roar of the Huntids: A Novel about the Emp...</td>\n",
       "      <td>Rose Rosetree</td>\n",
       "      <td>NaN</td>\n",
       "      <td>May 1, 2002 by Women's Intuition Worldwide.</td>\n",
       "      <td>English</td>\n",
       "      <td>10 ratings</td>\n",
       "      <td>2 reviews</td>\n",
       "      <td>4.70</td>\n",
       "      <td>['Spirituality']</td>\n",
       "      <td>Paperback</td>\n",
       "    </tr>\n",
       "    <tr>\n",
       "      <th>4313</th>\n",
       "      <td>Drowned Tomb</td>\n",
       "      <td>James Fahy</td>\n",
       "      <td>NaN</td>\n",
       "      <td>January 1, 2016 by Venture Press</td>\n",
       "      <td>English</td>\n",
       "      <td>780 ratings</td>\n",
       "      <td>121 reviews</td>\n",
       "      <td>4.45</td>\n",
       "      <td>['Fantasy', 'Young Adult', 'Magic', 'Fiction']</td>\n",
       "      <td>Paperback</td>\n",
       "    </tr>\n",
       "    <tr>\n",
       "      <th>4361</th>\n",
       "      <td>A Series of Unfortunate Events Set books #1-9</td>\n",
       "      <td>Lemony Snicket</td>\n",
       "      <td>NaN</td>\n",
       "      <td>January 1, 2006 by Scholastic Inc.</td>\n",
       "      <td>English</td>\n",
       "      <td>841 ratings</td>\n",
       "      <td>22 reviews</td>\n",
       "      <td>4.21</td>\n",
       "      <td>['Fiction', 'Childrens', 'Fantasy', 'Young Adu...</td>\n",
       "      <td>Paperback</td>\n",
       "    </tr>\n",
       "    <tr>\n",
       "      <th>4368</th>\n",
       "      <td>Battle Club Volume 1</td>\n",
       "      <td>Yuji Shiozaki</td>\n",
       "      <td>NaN</td>\n",
       "      <td>March 1, 2006 by TokyoPop Inc</td>\n",
       "      <td>English</td>\n",
       "      <td>104 ratings</td>\n",
       "      <td>9 reviews</td>\n",
       "      <td>3.25</td>\n",
       "      <td>['Manga', 'Humor', 'Comics']</td>\n",
       "      <td>Paperback</td>\n",
       "    </tr>\n",
       "    <tr>\n",
       "      <th>4428</th>\n",
       "      <td>Of Monsters and Planes</td>\n",
       "      <td>Johnathon Nicolaou</td>\n",
       "      <td>NaN</td>\n",
       "      <td>May 25, 2023 by JN Creations</td>\n",
       "      <td>English</td>\n",
       "      <td>274 ratings</td>\n",
       "      <td>45 reviews</td>\n",
       "      <td>4.57</td>\n",
       "      <td>['Science Fiction', 'Fantasy', 'Autistic Spect...</td>\n",
       "      <td>Paperback</td>\n",
       "    </tr>\n",
       "    <tr>\n",
       "      <th>4517</th>\n",
       "      <td>The War Path: Hitler's Germany, 1933-1939</td>\n",
       "      <td>David Irving</td>\n",
       "      <td>NaN</td>\n",
       "      <td>January 1, 1983 by Macmillan Co.</td>\n",
       "      <td>English</td>\n",
       "      <td>132 ratings</td>\n",
       "      <td>7 reviews</td>\n",
       "      <td>4.23</td>\n",
       "      <td>['History', 'World War II', 'Nonfiction', 'Ger...</td>\n",
       "      <td>Paperback</td>\n",
       "    </tr>\n",
       "    <tr>\n",
       "      <th>4762</th>\n",
       "      <td>Follow Your Arrow</td>\n",
       "      <td>Jessica Verdi</td>\n",
       "      <td>NaN</td>\n",
       "      <td>March 2, 2021 by Scholastic</td>\n",
       "      <td>English</td>\n",
       "      <td>641 ratings</td>\n",
       "      <td>153 reviews</td>\n",
       "      <td>3.88</td>\n",
       "      <td>['LGBT', 'Young Adult', 'Romance', 'Contempora...</td>\n",
       "      <td>Paperback</td>\n",
       "    </tr>\n",
       "    <tr>\n",
       "      <th>4814</th>\n",
       "      <td>The Echoes of Enigma: Illuminating Life's Prof...</td>\n",
       "      <td>Ramzi Najjar</td>\n",
       "      <td>NaN</td>\n",
       "      <td>March 1, 2024 by Independently published</td>\n",
       "      <td>English</td>\n",
       "      <td>21 ratings</td>\n",
       "      <td>7 reviews</td>\n",
       "      <td>4.95</td>\n",
       "      <td>['Spirituality']</td>\n",
       "      <td>Paperback</td>\n",
       "    </tr>\n",
       "    <tr>\n",
       "      <th>5035</th>\n",
       "      <td>The Fury</td>\n",
       "      <td>John Farris</td>\n",
       "      <td>NaN</td>\n",
       "      <td>January 1, 1978 by Popular Library [1978]</td>\n",
       "      <td>English</td>\n",
       "      <td>653 ratings</td>\n",
       "      <td>79 reviews</td>\n",
       "      <td>3.30</td>\n",
       "      <td>['Horror', 'Fiction', 'Thriller', 'Science Fic...</td>\n",
       "      <td>Paperback</td>\n",
       "    </tr>\n",
       "    <tr>\n",
       "      <th>5060</th>\n",
       "      <td>Don't Close Your Eyes</td>\n",
       "      <td>Lynessa James</td>\n",
       "      <td>NaN</td>\n",
       "      <td>October 1, 2021 by Faszt Layne Publishing</td>\n",
       "      <td>English</td>\n",
       "      <td>589 ratings</td>\n",
       "      <td>73 reviews</td>\n",
       "      <td>3.75</td>\n",
       "      <td>['Romance', 'Reverse Harem', 'Contemporary', '...</td>\n",
       "      <td>Paperback</td>\n",
       "    </tr>\n",
       "    <tr>\n",
       "      <th>5278</th>\n",
       "      <td>The You Beyond You: The Knowledge of the Willing</td>\n",
       "      <td>Ramzi Najjar</td>\n",
       "      <td>NaN</td>\n",
       "      <td>February 1, 2024 by Ramzi Najjar</td>\n",
       "      <td>English</td>\n",
       "      <td>275 ratings</td>\n",
       "      <td>91 reviews</td>\n",
       "      <td>4.39</td>\n",
       "      <td>['Self Help', 'Spirituality', 'Philosophy', 'N...</td>\n",
       "      <td>Paperback</td>\n",
       "    </tr>\n",
       "    <tr>\n",
       "      <th>5969</th>\n",
       "      <td>Smart as the Devil</td>\n",
       "      <td>Felice Picano</td>\n",
       "      <td>NaN</td>\n",
       "      <td>June 1, 1978 by Dell Publishing</td>\n",
       "      <td>English</td>\n",
       "      <td>43 ratings</td>\n",
       "      <td>10 reviews</td>\n",
       "      <td>3.30</td>\n",
       "      <td>['Horror']</td>\n",
       "      <td>Paperback</td>\n",
       "    </tr>\n",
       "    <tr>\n",
       "      <th>6507</th>\n",
       "      <td>Hitler's Table Talk</td>\n",
       "      <td>Martin Bormann</td>\n",
       "      <td>NaN</td>\n",
       "      <td>October 26, 2016 by Ostara Publications</td>\n",
       "      <td>English</td>\n",
       "      <td>587 ratings</td>\n",
       "      <td>47 reviews</td>\n",
       "      <td>3.86</td>\n",
       "      <td>['History', 'Nonfiction', 'Politics', 'World W...</td>\n",
       "      <td>Paperback</td>\n",
       "    </tr>\n",
       "    <tr>\n",
       "      <th>6721</th>\n",
       "      <td>Archie's Parables</td>\n",
       "      <td>Al Hartley</td>\n",
       "      <td>NaN</td>\n",
       "      <td>January 1, 1975 by Spire Christian Comics</td>\n",
       "      <td>English</td>\n",
       "      <td>5 ratings</td>\n",
       "      <td>1 review</td>\n",
       "      <td>3.20</td>\n",
       "      <td>['Comics', 'Fiction']</td>\n",
       "      <td>Paperback</td>\n",
       "    </tr>\n",
       "    <tr>\n",
       "      <th>7186</th>\n",
       "      <td>Blue Heaven</td>\n",
       "      <td>Joe Keenan</td>\n",
       "      <td>NaN</td>\n",
       "      <td>January 1, 2002 by Arrow</td>\n",
       "      <td>English</td>\n",
       "      <td>998 ratings</td>\n",
       "      <td>128 reviews</td>\n",
       "      <td>4.16</td>\n",
       "      <td>['Fiction', 'Humor', 'Gay', 'LGBT', 'Queer', '...</td>\n",
       "      <td>Paperback</td>\n",
       "    </tr>\n",
       "    <tr>\n",
       "      <th>7300</th>\n",
       "      <td>The Princess Diaries Box Set, Volumes I-III</td>\n",
       "      <td>Meg Cabot</td>\n",
       "      <td>NaN</td>\n",
       "      <td>September 1, 2006 by HarperTeen</td>\n",
       "      <td>English</td>\n",
       "      <td>783 ratings</td>\n",
       "      <td>29 reviews</td>\n",
       "      <td>4.15</td>\n",
       "      <td>['Young Adult', 'Fiction', 'Chick Lit', 'Roman...</td>\n",
       "      <td>Paperback</td>\n",
       "    </tr>\n",
       "    <tr>\n",
       "      <th>7597</th>\n",
       "      <td>The Last Faoii</td>\n",
       "      <td>Tahani Nelson</td>\n",
       "      <td>NaN</td>\n",
       "      <td>October 3, 2017 by Quill</td>\n",
       "      <td>English</td>\n",
       "      <td>136 ratings</td>\n",
       "      <td>58 reviews</td>\n",
       "      <td>4.41</td>\n",
       "      <td>['Fantasy']</td>\n",
       "      <td>Paperback</td>\n",
       "    </tr>\n",
       "    <tr>\n",
       "      <th>7658</th>\n",
       "      <td>The Stopping Place</td>\n",
       "      <td>Helen Slavin</td>\n",
       "      <td>NaN</td>\n",
       "      <td>January 1, 2008 by Agora Books</td>\n",
       "      <td>English</td>\n",
       "      <td>125 ratings</td>\n",
       "      <td>38 reviews</td>\n",
       "      <td>3.39</td>\n",
       "      <td>['Mystery', 'Fiction']</td>\n",
       "      <td>Paperback</td>\n",
       "    </tr>\n",
       "    <tr>\n",
       "      <th>7986</th>\n",
       "      <td>Baby-Sitters Club Boxed Set #1</td>\n",
       "      <td>Ann M. Martin</td>\n",
       "      <td>NaN</td>\n",
       "      <td>September 1, 1995 by Scholastic Inc.</td>\n",
       "      <td>English</td>\n",
       "      <td>6,257 ratings</td>\n",
       "      <td>134 reviews</td>\n",
       "      <td>3.92</td>\n",
       "      <td>['Childrens', 'Young Adult', 'Fiction', 'Middl...</td>\n",
       "      <td>Paperback</td>\n",
       "    </tr>\n",
       "    <tr>\n",
       "      <th>8118</th>\n",
       "      <td>Some Like It Hot</td>\n",
       "      <td>Billy Widler</td>\n",
       "      <td>NaN</td>\n",
       "      <td>January 1, 2008 by Reinhard Gratzke</td>\n",
       "      <td>German</td>\n",
       "      <td>29 ratings</td>\n",
       "      <td>4 reviews</td>\n",
       "      <td>4.45</td>\n",
       "      <td>['Humor']</td>\n",
       "      <td>Paperback</td>\n",
       "    </tr>\n",
       "  </tbody>\n",
       "</table>\n",
       "</div>"
      ],
      "text/plain": [
       "                                              BookTitle               Author  \\\n",
       "437           The Kingdoms and the Elves of the Reaches        Robert Stanek   \n",
       "634                                   Nightmare’s Child         James Farber   \n",
       "691                            The Children of Dynmouth       William Trevor   \n",
       "1601                                        Rumble Fish          S.E. Hinton   \n",
       "1674    Same-Sex Partnerships?: A Christian Perspective      John R.W. Stott   \n",
       "1710                                       Virus Rising         K.M. Heyward   \n",
       "1782                            Guardians of the Garden       Theresa Pocock   \n",
       "1942                      One Monday We Killed Them All    John D. MacDonald   \n",
       "2144                                 No Place Like Home           Dee Romito   \n",
       "2525                          Columbo: The Grassy Knoll   William Harrington   \n",
       "3849  Michael Jackson Was My Lover: The Secret Diary...  Victor M. Gutiérrez   \n",
       "4125  The Roar of the Huntids: A Novel about the Emp...        Rose Rosetree   \n",
       "4313                                       Drowned Tomb           James Fahy   \n",
       "4361      A Series of Unfortunate Events Set books #1-9       Lemony Snicket   \n",
       "4368                               Battle Club Volume 1        Yuji Shiozaki   \n",
       "4428                             Of Monsters and Planes   Johnathon Nicolaou   \n",
       "4517          The War Path: Hitler's Germany, 1933-1939         David Irving   \n",
       "4762                                  Follow Your Arrow        Jessica Verdi   \n",
       "4814  The Echoes of Enigma: Illuminating Life's Prof...         Ramzi Najjar   \n",
       "5035                                           The Fury          John Farris   \n",
       "5060                              Don't Close Your Eyes        Lynessa James   \n",
       "5278   The You Beyond You: The Knowledge of the Willing         Ramzi Najjar   \n",
       "5969                                 Smart as the Devil        Felice Picano   \n",
       "6507                                Hitler's Table Talk       Martin Bormann   \n",
       "6721                                  Archie's Parables           Al Hartley   \n",
       "7186                                        Blue Heaven           Joe Keenan   \n",
       "7300        The Princess Diaries Box Set, Volumes I-III            Meg Cabot   \n",
       "7597                                     The Last Faoii        Tahani Nelson   \n",
       "7658                                 The Stopping Place         Helen Slavin   \n",
       "7986                     Baby-Sitters Club Boxed Set #1        Ann M. Martin   \n",
       "8118                                   Some Like It Hot         Billy Widler   \n",
       "\n",
       "     Format                                          Published Language  \\\n",
       "437     NaN                       February 1, 2002 by Rp Media  English   \n",
       "634     NaN                          January 1, 1983 by Pocket  English   \n",
       "691     NaN  January 1, 2001 by Chivers Large print (Chiver...  English   \n",
       "1601    NaN                 January 1, 1975 by Delacorte Press  English   \n",
       "1674    NaN                          October 1, 1998 by Revell  English   \n",
       "1710    NaN                  January 1, 2015 by Krieger Comics  Finnish   \n",
       "1782    NaN                   October 1, 2020 by Immoral Works  English   \n",
       "1942    NaN                        December 1, 1961 by Fawcett  English   \n",
       "2144    NaN   January 1, 2017 by Simon & Schuster/ Aladdin M!X  English   \n",
       "2525    NaN                         July 15, 1994 by Tor Books  English   \n",
       "3849    NaN     December 12, 1941 by Alamo Square Distributors  English   \n",
       "4125    NaN        May 1, 2002 by Women's Intuition Worldwide.  English   \n",
       "4313    NaN                   January 1, 2016 by Venture Press  English   \n",
       "4361    NaN                 January 1, 2006 by Scholastic Inc.  English   \n",
       "4368    NaN                      March 1, 2006 by TokyoPop Inc  English   \n",
       "4428    NaN                       May 25, 2023 by JN Creations  English   \n",
       "4517    NaN                   January 1, 1983 by Macmillan Co.  English   \n",
       "4762    NaN                        March 2, 2021 by Scholastic  English   \n",
       "4814    NaN           March 1, 2024 by Independently published  English   \n",
       "5035    NaN          January 1, 1978 by Popular Library [1978]  English   \n",
       "5060    NaN          October 1, 2021 by Faszt Layne Publishing  English   \n",
       "5278    NaN                   February 1, 2024 by Ramzi Najjar  English   \n",
       "5969    NaN                    June 1, 1978 by Dell Publishing  English   \n",
       "6507    NaN            October 26, 2016 by Ostara Publications  English   \n",
       "6721    NaN          January 1, 1975 by Spire Christian Comics  English   \n",
       "7186    NaN                           January 1, 2002 by Arrow  English   \n",
       "7300    NaN                    September 1, 2006 by HarperTeen  English   \n",
       "7597    NaN                           October 3, 2017 by Quill  English   \n",
       "7658    NaN                     January 1, 2008 by Agora Books  English   \n",
       "7986    NaN               September 1, 1995 by Scholastic Inc.  English   \n",
       "8118    NaN                January 1, 2008 by Reinhard Gratzke   German   \n",
       "\n",
       "       Total_Ratings        Reviews  Rating  \\\n",
       "437      343 ratings     67 reviews    2.74   \n",
       "634        8 ratings      3 reviews    2.50   \n",
       "691    1,055 ratings    141 reviews    3.98   \n",
       "1601  24,018 ratings  1,431 reviews    3.80   \n",
       "1674     157 ratings     33 reviews    3.98   \n",
       "1710      10 ratings      4 reviews    2.70   \n",
       "1782     147 ratings     70 reviews    4.63   \n",
       "1942     462 ratings     41 reviews    3.98   \n",
       "2144     108 ratings     29 reviews    4.49   \n",
       "2525     189 ratings     24 reviews    3.74   \n",
       "3849      64 ratings     11 reviews    2.80   \n",
       "4125      10 ratings      2 reviews    4.70   \n",
       "4313     780 ratings    121 reviews    4.45   \n",
       "4361     841 ratings     22 reviews    4.21   \n",
       "4368     104 ratings      9 reviews    3.25   \n",
       "4428     274 ratings     45 reviews    4.57   \n",
       "4517     132 ratings      7 reviews    4.23   \n",
       "4762     641 ratings    153 reviews    3.88   \n",
       "4814      21 ratings      7 reviews    4.95   \n",
       "5035     653 ratings     79 reviews    3.30   \n",
       "5060     589 ratings     73 reviews    3.75   \n",
       "5278     275 ratings     91 reviews    4.39   \n",
       "5969      43 ratings     10 reviews    3.30   \n",
       "6507     587 ratings     47 reviews    3.86   \n",
       "6721       5 ratings       1 review    3.20   \n",
       "7186     998 ratings    128 reviews    4.16   \n",
       "7300     783 ratings     29 reviews    4.15   \n",
       "7597     136 ratings     58 reviews    4.41   \n",
       "7658     125 ratings     38 reviews    3.39   \n",
       "7986   6,257 ratings    134 reviews    3.92   \n",
       "8118      29 ratings      4 reviews    4.45   \n",
       "\n",
       "                                                 Genres no_of_pages  \n",
       "437   ['Fantasy', 'Fiction', 'Young Adult', 'Audiobo...   Paperback  \n",
       "634                                          ['Horror']   Paperback  \n",
       "691   ['Fiction', 'Irish Literature', 'Ireland', 'Cl...   Paperback  \n",
       "1601  ['Young Adult', 'Fiction', 'Classics', 'Coming...   Paperback  \n",
       "1674  ['Theology', 'Sexuality', 'Christian', 'Christ...   Paperback  \n",
       "1710  ['Science Fiction', 'Animals', 'Graphic Novels...   Paperback  \n",
       "1782                                        ['Fantasy']   Paperback  \n",
       "1942  ['Mystery', 'Fiction', 'Crime', 'Adventure', '...   Paperback  \n",
       "2144  ['Middle Grade', 'Realistic Fiction', 'Travel'...   Paperback  \n",
       "2525  ['Mystery', 'Fiction', 'Crime', 'Mystery Thril...   Paperback  \n",
       "3849                                          ['Crime']   Paperback  \n",
       "4125                                   ['Spirituality']   Paperback  \n",
       "4313     ['Fantasy', 'Young Adult', 'Magic', 'Fiction']   Paperback  \n",
       "4361  ['Fiction', 'Childrens', 'Fantasy', 'Young Adu...   Paperback  \n",
       "4368                       ['Manga', 'Humor', 'Comics']   Paperback  \n",
       "4428  ['Science Fiction', 'Fantasy', 'Autistic Spect...   Paperback  \n",
       "4517  ['History', 'World War II', 'Nonfiction', 'Ger...   Paperback  \n",
       "4762  ['LGBT', 'Young Adult', 'Romance', 'Contempora...   Paperback  \n",
       "4814                                   ['Spirituality']   Paperback  \n",
       "5035  ['Horror', 'Fiction', 'Thriller', 'Science Fic...   Paperback  \n",
       "5060  ['Romance', 'Reverse Harem', 'Contemporary', '...   Paperback  \n",
       "5278  ['Self Help', 'Spirituality', 'Philosophy', 'N...   Paperback  \n",
       "5969                                         ['Horror']   Paperback  \n",
       "6507  ['History', 'Nonfiction', 'Politics', 'World W...   Paperback  \n",
       "6721                              ['Comics', 'Fiction']   Paperback  \n",
       "7186  ['Fiction', 'Humor', 'Gay', 'LGBT', 'Queer', '...   Paperback  \n",
       "7300  ['Young Adult', 'Fiction', 'Chick Lit', 'Roman...   Paperback  \n",
       "7597                                        ['Fantasy']   Paperback  \n",
       "7658                             ['Mystery', 'Fiction']   Paperback  \n",
       "7986  ['Childrens', 'Young Adult', 'Fiction', 'Middl...   Paperback  \n",
       "8118                                          ['Humor']   Paperback  "
      ]
     },
     "execution_count": 18,
     "metadata": {},
     "output_type": "execute_result"
    }
   ],
   "source": [
    "# Splitting the 'Format' column into two separate columns, as it violates 1NF by having multi-valued attributes\n",
    "df['no_of_pages'] = df['Format'].str.replace('pages','').str.split(',').str[0]\n",
    "df['Format'] = df['Format'].str.replace('pages','').str.split(',').str[1]\n",
    "df[df['no_of_pages'] == \"Paperback\"]"
   ]
  },
  {
   "cell_type": "code",
   "execution_count": 19,
   "id": "827874ee",
   "metadata": {},
   "outputs": [
    {
     "data": {
      "application/vnd.microsoft.datawrangler.viewer.v0+json": {
       "columns": [
        {
         "name": "index",
         "rawType": "object",
         "type": "string"
        },
        {
         "name": "0",
         "rawType": "int64",
         "type": "integer"
        }
       ],
       "ref": "3dcad1b9-192d-4204-8fe0-cf6ffc56283b",
       "rows": [
        [
         "BookTitle",
         "0"
        ],
        [
         "Author",
         "0"
        ],
        [
         "Format",
         "80"
        ],
        [
         "Published",
         "0"
        ],
        [
         "Language",
         "0"
        ],
        [
         "Total_Ratings",
         "0"
        ],
        [
         "Reviews",
         "0"
        ],
        [
         "Rating",
         "0"
        ],
        [
         "Genres",
         "0"
        ],
        [
         "no_of_pages",
         "136"
        ]
       ],
       "shape": {
        "columns": 1,
        "rows": 10
       }
      },
      "text/plain": [
       "BookTitle          0\n",
       "Author             0\n",
       "Format            80\n",
       "Published          0\n",
       "Language           0\n",
       "Total_Ratings      0\n",
       "Reviews            0\n",
       "Rating             0\n",
       "Genres             0\n",
       "no_of_pages      136\n",
       "dtype: int64"
      ]
     },
     "execution_count": 19,
     "metadata": {},
     "output_type": "execute_result"
    }
   ],
   "source": [
    "# Couldn't convert 'no_of_pages' to integers because some rows only have part of the 'Format' info.\n",
    "# Some entries had only 'Format' information without page count, causing the 'Format' values to end up in the 'no_of_pages' column after splitting.\n",
    "\n",
    "for idx, row in df.iterrows():\n",
    "    if pd.isna(pd.to_numeric(row['no_of_pages'], errors='coerce')): # If 'no_of_pages' is non-numeric, move it to 'Format' and set 'no_of_pages' to NaN\n",
    "        df.at[idx, 'Format'] = row['no_of_pages']\n",
    "        df.at[idx, 'no_of_pages'] = np.nan\n",
    "\n",
    "df.isnull().sum()"
   ]
  },
  {
   "cell_type": "code",
   "execution_count": 20,
   "id": "4c1fa9d5",
   "metadata": {},
   "outputs": [
    {
     "data": {
      "application/vnd.microsoft.datawrangler.viewer.v0+json": {
       "columns": [
        {
         "name": "Format",
         "rawType": "object",
         "type": "string"
        },
        {
         "name": "count",
         "rawType": "int64",
         "type": "integer"
        }
       ],
       "ref": "acb73c71-259b-4fc6-b1ab-321cd5675669",
       "rows": [
        [
         "Paperback",
         "2950"
        ],
        [
         "Hardcover",
         "2587"
        ],
        [
         "Kindle Edition",
         "1046"
        ],
        [
         "ebook",
         "900"
        ],
        [
         "Mass Market Paperback",
         "649"
        ],
        [
         "Nook",
         "22"
        ],
        [
         "Library Binding",
         "21"
        ],
        [
         "Audio CD",
         "19"
        ],
        [
         "Audiobook",
         "11"
        ],
        [
         "Audible Audio",
         "9"
        ],
        [
         "Unknown Binding",
         "8"
        ],
        [
         "MP3 CD",
         "4"
        ],
        [
         "Trade Paperback",
         "3"
        ],
        [
         "Board Book",
         "3"
        ],
        [
         "Audio Cassette",
         "3"
        ],
        [
         "Perfect Paperback",
         "1"
        ],
        [
         "ARC",
         "1"
        ],
        [
         "Leather Bound",
         "1"
        ],
        [
         "online graphic novel - complete",
         "1"
        ],
        [
         "Board book",
         "1"
        ],
        [
         "ePublished",
         "1"
        ],
        [
         "Digital Comic",
         "1"
        ],
        [
         "Imitation Leather",
         "1"
        ],
        [
         "Broché",
         "1"
        ],
        [
         "Broschiert",
         "1"
        ],
        [
         "Spiral-bound",
         "1"
        ]
       ],
       "shape": {
        "columns": 1,
        "rows": 26
       }
      },
      "text/plain": [
       "Format\n",
       "Paperback                          2950\n",
       "Hardcover                          2587\n",
       "Kindle Edition                     1046\n",
       "ebook                               900\n",
       "Mass Market Paperback               649\n",
       "Nook                                 22\n",
       "Library Binding                      21\n",
       "Audio CD                             19\n",
       "Audiobook                            11\n",
       "Audible Audio                         9\n",
       "Unknown Binding                       8\n",
       "MP3 CD                                4\n",
       "Trade Paperback                       3\n",
       "Board Book                            3\n",
       "Audio Cassette                        3\n",
       "Perfect Paperback                     1\n",
       "ARC                                   1\n",
       "Leather Bound                         1\n",
       "online graphic novel - complete       1\n",
       "Board book                            1\n",
       "ePublished                            1\n",
       "Digital Comic                         1\n",
       "Imitation Leather                     1\n",
       "Broché                                1\n",
       "Broschiert                            1\n",
       "Spiral-bound                          1\n",
       "Name: count, dtype: int64"
      ]
     },
     "execution_count": 20,
     "metadata": {},
     "output_type": "execute_result"
    }
   ],
   "source": [
    "df['Format'] = df['Format'].str.strip()\n",
    "df['Format'].value_counts()"
   ]
  },
  {
   "cell_type": "code",
   "execution_count": 21,
   "id": "e343cf7d",
   "metadata": {},
   "outputs": [
    {
     "data": {
      "text/plain": [
       "np.int64(136)"
      ]
     },
     "execution_count": 21,
     "metadata": {},
     "output_type": "execute_result"
    }
   ],
   "source": [
    "# Filling missing 'Format' values with 'Paperback' since it's the most common format in the dataset.\n",
    "# Only 80 values are missing 0.096% so this imputation won't significantly affect the distribution.\n",
    "df['Format'] = df['Format'].fillna('Paperback')\n",
    "df['no_of_pages'].isnull().sum()"
   ]
  },
  {
   "cell_type": "code",
   "execution_count": 22,
   "id": "c70c311b",
   "metadata": {},
   "outputs": [
    {
     "data": {
      "application/vnd.microsoft.datawrangler.viewer.v0+json": {
       "columns": [
        {
         "name": "index",
         "rawType": "object",
         "type": "string"
        },
        {
         "name": "0",
         "rawType": "int64",
         "type": "integer"
        }
       ],
       "ref": "7fded5ae-4767-4251-a26b-14793baeaff5",
       "rows": [
        [
         "BookTitle",
         "0"
        ],
        [
         "Author",
         "0"
        ],
        [
         "Format",
         "0"
        ],
        [
         "Published",
         "0"
        ],
        [
         "Language",
         "0"
        ],
        [
         "Total_Ratings",
         "0"
        ],
        [
         "Reviews",
         "0"
        ],
        [
         "Rating",
         "0"
        ],
        [
         "Genres",
         "0"
        ],
        [
         "no_of_pages",
         "0"
        ]
       ],
       "shape": {
        "columns": 1,
        "rows": 10
       }
      },
      "text/plain": [
       "BookTitle        0\n",
       "Author           0\n",
       "Format           0\n",
       "Published        0\n",
       "Language         0\n",
       "Total_Ratings    0\n",
       "Reviews          0\n",
       "Rating           0\n",
       "Genres           0\n",
       "no_of_pages      0\n",
       "dtype: int64"
      ]
     },
     "execution_count": 22,
     "metadata": {},
     "output_type": "execute_result"
    }
   ],
   "source": [
    "df['no_of_pages'] = df['no_of_pages'].fillna(df['no_of_pages'].astype(float).mean())\n",
    "df['no_of_pages'] = df['no_of_pages'].astype(int)\n",
    "df.isnull().sum()"
   ]
  },
  {
   "cell_type": "code",
   "execution_count": 23,
   "id": "778cb7e4",
   "metadata": {},
   "outputs": [
    {
     "data": {
      "application/vnd.microsoft.datawrangler.viewer.v0+json": {
       "columns": [
        {
         "name": "index",
         "rawType": "int64",
         "type": "integer"
        },
        {
         "name": "BookTitle",
         "rawType": "object",
         "type": "string"
        },
        {
         "name": "Author",
         "rawType": "object",
         "type": "string"
        },
        {
         "name": "Format",
         "rawType": "object",
         "type": "string"
        },
        {
         "name": "Published",
         "rawType": "object",
         "type": "string"
        },
        {
         "name": "Language",
         "rawType": "object",
         "type": "string"
        },
        {
         "name": "Total_Ratings",
         "rawType": "object",
         "type": "string"
        },
        {
         "name": "Reviews",
         "rawType": "object",
         "type": "string"
        },
        {
         "name": "Rating",
         "rawType": "float64",
         "type": "float"
        },
        {
         "name": "Genres",
         "rawType": "object",
         "type": "string"
        },
        {
         "name": "no_of_pages",
         "rawType": "int64",
         "type": "integer"
        }
       ],
       "ref": "d8db1efa-c2f6-4677-ab7e-586642298010",
       "rows": [
        [
         "0",
         "Mortality",
         "Kellie Sheridan",
         "ebook",
         "March 19, 2013 by Patchwork Press",
         "English",
         "541 ratings",
         "149 reviews",
         "3.82",
         "['Zombies', 'Young Adult', 'Horror', 'Fantasy', 'Romance', 'Post Apocalyptic', 'Dystopia']",
         "280"
        ],
        [
         "1",
         "Finnegans Wake",
         "James Joyce",
         "Paperback",
         "November 4, 2002 by Faber & Faber",
         "English",
         "13,079 ratings",
         "1,270 reviews",
         "3.68",
         "['Fiction', 'Classics', 'Literature', 'Ireland', 'Irish Literature', 'Novels', 'Literary Fiction']",
         "628"
        ],
        [
         "2",
         "Madame Bovary",
         "Gustave Flaubert",
         "Paperback",
         "December 14, 1991 by Vintage",
         "English",
         "344,293 ratings",
         "17,289 reviews",
         "3.7",
         "['Fiction', 'Classics', 'France', 'Literature', 'French Literature', 'Romance', '19th Century']",
         "411"
        ],
        [
         "3",
         "Skin Deep",
         "J.M. Stone",
         "Kindle Edition",
         "25-Apr-13",
         "English",
         "10,168 ratings",
         "724 reviews",
         "3.98",
         "['Romance', 'Contemporary Romance', 'Erotica', 'Contemporary', 'New Adult', 'Humor', 'Erotic Romance']",
         "277"
        ],
        [
         "4",
         "What I Didn't Say",
         "Keary Taylor",
         "Paperback",
         "April 28, 2012 by CreateSpace",
         "English",
         "7,665 ratings",
         "972 reviews",
         "3.95",
         "['Young Adult', 'Romance', 'Contemporary', 'High School', 'New Adult', 'Fiction', 'Disability']",
         "336"
        ]
       ],
       "shape": {
        "columns": 10,
        "rows": 5
       }
      },
      "text/html": [
       "<div>\n",
       "<style scoped>\n",
       "    .dataframe tbody tr th:only-of-type {\n",
       "        vertical-align: middle;\n",
       "    }\n",
       "\n",
       "    .dataframe tbody tr th {\n",
       "        vertical-align: top;\n",
       "    }\n",
       "\n",
       "    .dataframe thead th {\n",
       "        text-align: right;\n",
       "    }\n",
       "</style>\n",
       "<table border=\"1\" class=\"dataframe\">\n",
       "  <thead>\n",
       "    <tr style=\"text-align: right;\">\n",
       "      <th></th>\n",
       "      <th>BookTitle</th>\n",
       "      <th>Author</th>\n",
       "      <th>Format</th>\n",
       "      <th>Published</th>\n",
       "      <th>Language</th>\n",
       "      <th>Total_Ratings</th>\n",
       "      <th>Reviews</th>\n",
       "      <th>Rating</th>\n",
       "      <th>Genres</th>\n",
       "      <th>no_of_pages</th>\n",
       "    </tr>\n",
       "  </thead>\n",
       "  <tbody>\n",
       "    <tr>\n",
       "      <th>0</th>\n",
       "      <td>Mortality</td>\n",
       "      <td>Kellie Sheridan</td>\n",
       "      <td>ebook</td>\n",
       "      <td>March 19, 2013 by Patchwork Press</td>\n",
       "      <td>English</td>\n",
       "      <td>541 ratings</td>\n",
       "      <td>149 reviews</td>\n",
       "      <td>3.82</td>\n",
       "      <td>['Zombies', 'Young Adult', 'Horror', 'Fantasy'...</td>\n",
       "      <td>280</td>\n",
       "    </tr>\n",
       "    <tr>\n",
       "      <th>1</th>\n",
       "      <td>Finnegans Wake</td>\n",
       "      <td>James Joyce</td>\n",
       "      <td>Paperback</td>\n",
       "      <td>November 4, 2002 by Faber &amp; Faber</td>\n",
       "      <td>English</td>\n",
       "      <td>13,079 ratings</td>\n",
       "      <td>1,270 reviews</td>\n",
       "      <td>3.68</td>\n",
       "      <td>['Fiction', 'Classics', 'Literature', 'Ireland...</td>\n",
       "      <td>628</td>\n",
       "    </tr>\n",
       "    <tr>\n",
       "      <th>2</th>\n",
       "      <td>Madame Bovary</td>\n",
       "      <td>Gustave Flaubert</td>\n",
       "      <td>Paperback</td>\n",
       "      <td>December 14, 1991 by Vintage</td>\n",
       "      <td>English</td>\n",
       "      <td>344,293 ratings</td>\n",
       "      <td>17,289 reviews</td>\n",
       "      <td>3.70</td>\n",
       "      <td>['Fiction', 'Classics', 'France', 'Literature'...</td>\n",
       "      <td>411</td>\n",
       "    </tr>\n",
       "    <tr>\n",
       "      <th>3</th>\n",
       "      <td>Skin Deep</td>\n",
       "      <td>J.M. Stone</td>\n",
       "      <td>Kindle Edition</td>\n",
       "      <td>25-Apr-13</td>\n",
       "      <td>English</td>\n",
       "      <td>10,168 ratings</td>\n",
       "      <td>724 reviews</td>\n",
       "      <td>3.98</td>\n",
       "      <td>['Romance', 'Contemporary Romance', 'Erotica',...</td>\n",
       "      <td>277</td>\n",
       "    </tr>\n",
       "    <tr>\n",
       "      <th>4</th>\n",
       "      <td>What I Didn't Say</td>\n",
       "      <td>Keary Taylor</td>\n",
       "      <td>Paperback</td>\n",
       "      <td>April 28, 2012 by CreateSpace</td>\n",
       "      <td>English</td>\n",
       "      <td>7,665 ratings</td>\n",
       "      <td>972 reviews</td>\n",
       "      <td>3.95</td>\n",
       "      <td>['Young Adult', 'Romance', 'Contemporary', 'Hi...</td>\n",
       "      <td>336</td>\n",
       "    </tr>\n",
       "  </tbody>\n",
       "</table>\n",
       "</div>"
      ],
      "text/plain": [
       "           BookTitle            Author          Format  \\\n",
       "0          Mortality   Kellie Sheridan           ebook   \n",
       "1     Finnegans Wake       James Joyce       Paperback   \n",
       "2      Madame Bovary  Gustave Flaubert       Paperback   \n",
       "3          Skin Deep        J.M. Stone  Kindle Edition   \n",
       "4  What I Didn't Say      Keary Taylor       Paperback   \n",
       "\n",
       "                           Published Language    Total_Ratings  \\\n",
       "0  March 19, 2013 by Patchwork Press  English      541 ratings   \n",
       "1  November 4, 2002 by Faber & Faber  English   13,079 ratings   \n",
       "2       December 14, 1991 by Vintage  English  344,293 ratings   \n",
       "3                          25-Apr-13  English   10,168 ratings   \n",
       "4      April 28, 2012 by CreateSpace  English    7,665 ratings   \n",
       "\n",
       "          Reviews  Rating                                             Genres  \\\n",
       "0     149 reviews    3.82  ['Zombies', 'Young Adult', 'Horror', 'Fantasy'...   \n",
       "1   1,270 reviews    3.68  ['Fiction', 'Classics', 'Literature', 'Ireland...   \n",
       "2  17,289 reviews    3.70  ['Fiction', 'Classics', 'France', 'Literature'...   \n",
       "3     724 reviews    3.98  ['Romance', 'Contemporary Romance', 'Erotica',...   \n",
       "4     972 reviews    3.95  ['Young Adult', 'Romance', 'Contemporary', 'Hi...   \n",
       "\n",
       "   no_of_pages  \n",
       "0          280  \n",
       "1          628  \n",
       "2          411  \n",
       "3          277  \n",
       "4          336  "
      ]
     },
     "execution_count": 23,
     "metadata": {},
     "output_type": "execute_result"
    }
   ],
   "source": [
    "df.head(5)"
   ]
  },
  {
   "cell_type": "code",
   "execution_count": 24,
   "id": "f1422495",
   "metadata": {},
   "outputs": [],
   "source": [
    "df['Reviews'] = df['Reviews'].str.replace(\"reviews\",'').str.replace(\"review\",'').str.replace(\",\",'').astype(int)\n",
    "df['Total_Ratings'] = df['Total_Ratings'].str.replace(\"ratings\",'').str.replace(\"rating\",'').str.replace(\",\",'').astype(int)"
   ]
  },
  {
   "cell_type": "code",
   "execution_count": 25,
   "id": "0523665e",
   "metadata": {},
   "outputs": [
    {
     "data": {
      "application/vnd.microsoft.datawrangler.viewer.v0+json": {
       "columns": [
        {
         "name": "index",
         "rawType": "object",
         "type": "string"
        },
        {
         "name": "0",
         "rawType": "int64",
         "type": "integer"
        }
       ],
       "ref": "dc32ebd5-5fb5-4c21-842a-ccc6459dbcf3",
       "rows": [
        [
         "BookTitle",
         "0"
        ],
        [
         "Author",
         "0"
        ],
        [
         "Format",
         "0"
        ],
        [
         "Published",
         "0"
        ],
        [
         "Language",
         "0"
        ],
        [
         "Total_Ratings",
         "0"
        ],
        [
         "Reviews",
         "0"
        ],
        [
         "Rating",
         "0"
        ],
        [
         "Genres",
         "0"
        ],
        [
         "no_of_pages",
         "0"
        ],
        [
         "Release_date",
         "388"
        ],
        [
         "Publisher",
         "388"
        ]
       ],
       "shape": {
        "columns": 1,
        "rows": 12
       }
      },
      "text/plain": [
       "BookTitle          0\n",
       "Author             0\n",
       "Format             0\n",
       "Published          0\n",
       "Language           0\n",
       "Total_Ratings      0\n",
       "Reviews            0\n",
       "Rating             0\n",
       "Genres             0\n",
       "no_of_pages        0\n",
       "Release_date     388\n",
       "Publisher        388\n",
       "dtype: int64"
      ]
     },
     "execution_count": 25,
     "metadata": {},
     "output_type": "execute_result"
    }
   ],
   "source": [
    "# Splitting the 'Published' column into two separate columns, as it violates 1NF by having multi-valued attributes\n",
    "df['Release_date'] = df['Published'].str.split('by').str[0]\n",
    "df['Publisher'] = df['Published'].str.split('by').str[1]\n",
    "df['Release_date'] = pd.to_datetime(df['Release_date'], errors='coerce')\n",
    "df.isnull().sum()"
   ]
  },
  {
   "cell_type": "code",
   "execution_count": 26,
   "id": "124f761a",
   "metadata": {},
   "outputs": [
    {
     "data": {
      "application/vnd.microsoft.datawrangler.viewer.v0+json": {
       "columns": [
        {
         "name": "index",
         "rawType": "int64",
         "type": "integer"
        },
        {
         "name": "Release_date",
         "rawType": "datetime64[ns]",
         "type": "datetime"
        }
       ],
       "ref": "e8ff0937-19c6-4ac3-ba92-2d2e5f08acec",
       "rows": [
        [
         "0",
         "2013-03-19 00:00:00"
        ],
        [
         "1",
         "2002-11-04 00:00:00"
        ],
        [
         "2",
         "1991-12-14 00:00:00"
        ],
        [
         "3",
         null
        ],
        [
         "4",
         "2012-04-28 00:00:00"
        ]
       ],
       "shape": {
        "columns": 1,
        "rows": 5
       }
      },
      "text/plain": [
       "0   2013-03-19\n",
       "1   2002-11-04\n",
       "2   1991-12-14\n",
       "3          NaT\n",
       "4   2012-04-28\n",
       "Name: Release_date, dtype: datetime64[ns]"
      ]
     },
     "execution_count": 26,
     "metadata": {},
     "output_type": "execute_result"
    }
   ],
   "source": [
    "df['Release_date'].head(5)"
   ]
  },
  {
   "cell_type": "code",
   "execution_count": 27,
   "id": "aefae7d1",
   "metadata": {},
   "outputs": [
    {
     "data": {
      "application/vnd.microsoft.datawrangler.viewer.v0+json": {
       "columns": [
        {
         "name": "index",
         "rawType": "int64",
         "type": "integer"
        },
        {
         "name": "Release_date",
         "rawType": "datetime64[ns]",
         "type": "datetime"
        },
        {
         "name": "Publisher",
         "rawType": "object",
         "type": "unknown"
        }
       ],
       "ref": "9fbcbcd5-cd8b-4da8-85d8-926fcbb0a906",
       "rows": [
        [
         "0",
         null,
         null
        ],
        [
         "1",
         null,
         null
        ],
        [
         "2",
         null,
         null
        ],
        [
         "3",
         null,
         null
        ],
        [
         "4",
         null,
         null
        ],
        [
         "5",
         null,
         null
        ],
        [
         "6",
         null,
         null
        ],
        [
         "7",
         null,
         null
        ],
        [
         "8",
         null,
         null
        ],
        [
         "9",
         null,
         null
        ],
        [
         "10",
         null,
         null
        ],
        [
         "11",
         null,
         null
        ],
        [
         "12",
         null,
         null
        ],
        [
         "13",
         null,
         null
        ],
        [
         "14",
         null,
         null
        ],
        [
         "15",
         null,
         null
        ],
        [
         "16",
         null,
         null
        ],
        [
         "17",
         null,
         null
        ],
        [
         "18",
         null,
         null
        ],
        [
         "19",
         null,
         null
        ],
        [
         "20",
         null,
         null
        ],
        [
         "21",
         null,
         null
        ],
        [
         "22",
         null,
         null
        ],
        [
         "23",
         null,
         null
        ],
        [
         "24",
         null,
         null
        ],
        [
         "25",
         null,
         null
        ],
        [
         "26",
         null,
         null
        ],
        [
         "27",
         null,
         null
        ],
        [
         "28",
         null,
         null
        ],
        [
         "29",
         null,
         null
        ],
        [
         "30",
         null,
         null
        ],
        [
         "31",
         null,
         null
        ],
        [
         "32",
         null,
         null
        ],
        [
         "33",
         null,
         null
        ],
        [
         "34",
         null,
         null
        ],
        [
         "35",
         null,
         null
        ],
        [
         "36",
         null,
         null
        ],
        [
         "37",
         null,
         null
        ],
        [
         "38",
         null,
         null
        ],
        [
         "39",
         null,
         null
        ],
        [
         "40",
         null,
         null
        ],
        [
         "41",
         null,
         null
        ],
        [
         "42",
         null,
         null
        ],
        [
         "43",
         null,
         null
        ],
        [
         "44",
         null,
         null
        ],
        [
         "45",
         null,
         null
        ],
        [
         "46",
         null,
         null
        ],
        [
         "47",
         null,
         null
        ],
        [
         "48",
         null,
         null
        ],
        [
         "49",
         null,
         null
        ]
       ],
       "shape": {
        "columns": 2,
        "rows": 388
       }
      },
      "text/html": [
       "<div>\n",
       "<style scoped>\n",
       "    .dataframe tbody tr th:only-of-type {\n",
       "        vertical-align: middle;\n",
       "    }\n",
       "\n",
       "    .dataframe tbody tr th {\n",
       "        vertical-align: top;\n",
       "    }\n",
       "\n",
       "    .dataframe thead th {\n",
       "        text-align: right;\n",
       "    }\n",
       "</style>\n",
       "<table border=\"1\" class=\"dataframe\">\n",
       "  <thead>\n",
       "    <tr style=\"text-align: right;\">\n",
       "      <th></th>\n",
       "      <th>Release_date</th>\n",
       "      <th>Publisher</th>\n",
       "    </tr>\n",
       "  </thead>\n",
       "  <tbody>\n",
       "    <tr>\n",
       "      <th>0</th>\n",
       "      <td>NaT</td>\n",
       "      <td>None</td>\n",
       "    </tr>\n",
       "    <tr>\n",
       "      <th>1</th>\n",
       "      <td>NaT</td>\n",
       "      <td>None</td>\n",
       "    </tr>\n",
       "    <tr>\n",
       "      <th>2</th>\n",
       "      <td>NaT</td>\n",
       "      <td>None</td>\n",
       "    </tr>\n",
       "    <tr>\n",
       "      <th>3</th>\n",
       "      <td>NaT</td>\n",
       "      <td>None</td>\n",
       "    </tr>\n",
       "    <tr>\n",
       "      <th>4</th>\n",
       "      <td>NaT</td>\n",
       "      <td>None</td>\n",
       "    </tr>\n",
       "    <tr>\n",
       "      <th>...</th>\n",
       "      <td>...</td>\n",
       "      <td>...</td>\n",
       "    </tr>\n",
       "    <tr>\n",
       "      <th>383</th>\n",
       "      <td>NaT</td>\n",
       "      <td>None</td>\n",
       "    </tr>\n",
       "    <tr>\n",
       "      <th>384</th>\n",
       "      <td>NaT</td>\n",
       "      <td>None</td>\n",
       "    </tr>\n",
       "    <tr>\n",
       "      <th>385</th>\n",
       "      <td>NaT</td>\n",
       "      <td>None</td>\n",
       "    </tr>\n",
       "    <tr>\n",
       "      <th>386</th>\n",
       "      <td>NaT</td>\n",
       "      <td>None</td>\n",
       "    </tr>\n",
       "    <tr>\n",
       "      <th>387</th>\n",
       "      <td>NaT</td>\n",
       "      <td>None</td>\n",
       "    </tr>\n",
       "  </tbody>\n",
       "</table>\n",
       "<p>388 rows × 2 columns</p>\n",
       "</div>"
      ],
      "text/plain": [
       "    Release_date Publisher\n",
       "0            NaT      None\n",
       "1            NaT      None\n",
       "2            NaT      None\n",
       "3            NaT      None\n",
       "4            NaT      None\n",
       "..           ...       ...\n",
       "383          NaT      None\n",
       "384          NaT      None\n",
       "385          NaT      None\n",
       "386          NaT      None\n",
       "387          NaT      None\n",
       "\n",
       "[388 rows x 2 columns]"
      ]
     },
     "execution_count": 27,
     "metadata": {},
     "output_type": "execute_result"
    }
   ],
   "source": [
    "query = \"\"\"\n",
    "SELECT Release_date,Publisher\n",
    "FROM df\n",
    "where Publisher is null\n",
    "\"\"\"\n",
    "results(query)"
   ]
  },
  {
   "cell_type": "code",
   "execution_count": 28,
   "id": "636e2f93",
   "metadata": {},
   "outputs": [
    {
     "data": {
      "application/vnd.microsoft.datawrangler.viewer.v0+json": {
       "columns": [
        {
         "name": "index",
         "rawType": "object",
         "type": "string"
        },
        {
         "name": "0",
         "rawType": "int64",
         "type": "integer"
        }
       ],
       "ref": "ca252329-0304-4475-aef9-6f83549c55bb",
       "rows": [
        [
         "BookTitle",
         "0"
        ],
        [
         "Author",
         "0"
        ],
        [
         "Format",
         "0"
        ],
        [
         "Language",
         "0"
        ],
        [
         "Total_Ratings",
         "0"
        ],
        [
         "Reviews",
         "0"
        ],
        [
         "Rating",
         "0"
        ],
        [
         "Genres",
         "0"
        ],
        [
         "no_of_pages",
         "0"
        ],
        [
         "Release_date",
         "0"
        ],
        [
         "Publisher",
         "0"
        ]
       ],
       "shape": {
        "columns": 1,
        "rows": 11
       }
      },
      "text/plain": [
       "BookTitle        0\n",
       "Author           0\n",
       "Format           0\n",
       "Language         0\n",
       "Total_Ratings    0\n",
       "Reviews          0\n",
       "Rating           0\n",
       "Genres           0\n",
       "no_of_pages      0\n",
       "Release_date     0\n",
       "Publisher        0\n",
       "dtype: int64"
      ]
     },
     "execution_count": 28,
     "metadata": {},
     "output_type": "execute_result"
    }
   ],
   "source": [
    "# Since these missing values always occur together and the original data is unrecoverable for these rows, they were dropped to ensure data quality and usability.\n",
    "df.dropna(subset=['Release_date','Publisher'],inplace=True)\n",
    "\n",
    "df.drop(columns=\"Published\",inplace=True) # Dropping the 'Published' column since it is no longer needed\n",
    "df.isnull().sum()"
   ]
  },
  {
   "cell_type": "code",
   "execution_count": 29,
   "id": "d6fa7cc1",
   "metadata": {},
   "outputs": [
    {
     "data": {
      "application/vnd.microsoft.datawrangler.viewer.v0+json": {
       "columns": [
        {
         "name": "index",
         "rawType": "int64",
         "type": "integer"
        },
        {
         "name": "BookTitle",
         "rawType": "object",
         "type": "string"
        },
        {
         "name": "Author",
         "rawType": "object",
         "type": "string"
        },
        {
         "name": "Format",
         "rawType": "object",
         "type": "string"
        },
        {
         "name": "Language",
         "rawType": "object",
         "type": "string"
        },
        {
         "name": "Total_Ratings",
         "rawType": "int64",
         "type": "integer"
        },
        {
         "name": "Reviews",
         "rawType": "int64",
         "type": "integer"
        },
        {
         "name": "Rating",
         "rawType": "float64",
         "type": "float"
        },
        {
         "name": "Genres",
         "rawType": "object",
         "type": "string"
        },
        {
         "name": "no_of_pages",
         "rawType": "int64",
         "type": "integer"
        },
        {
         "name": "Release_date",
         "rawType": "datetime64[ns]",
         "type": "datetime"
        },
        {
         "name": "Publisher",
         "rawType": "object",
         "type": "string"
        }
       ],
       "ref": "3e452270-649d-480f-9ea7-7936fc1fc9b0",
       "rows": [
        [
         "0",
         "Mortality",
         "Kellie Sheridan",
         "ebook",
         "English",
         "541",
         "149",
         "3.82",
         "['Zombies', 'Young Adult', 'Horror', 'Fantasy', 'Romance', 'Post Apocalyptic', 'Dystopia']",
         "280",
         "2013-03-19 00:00:00",
         " Patchwork Press"
        ],
        [
         "1",
         "Finnegans Wake",
         "James Joyce",
         "Paperback",
         "English",
         "13079",
         "1270",
         "3.68",
         "['Fiction', 'Classics', 'Literature', 'Ireland', 'Irish Literature', 'Novels', 'Literary Fiction']",
         "628",
         "2002-11-04 00:00:00",
         " Faber & Faber"
        ],
        [
         "2",
         "Madame Bovary",
         "Gustave Flaubert",
         "Paperback",
         "English",
         "344293",
         "17289",
         "3.7",
         "['Fiction', 'Classics', 'France', 'Literature', 'French Literature', 'Romance', '19th Century']",
         "411",
         "1991-12-14 00:00:00",
         " Vintage"
        ],
        [
         "4",
         "What I Didn't Say",
         "Keary Taylor",
         "Paperback",
         "English",
         "7665",
         "972",
         "3.95",
         "['Young Adult', 'Romance', 'Contemporary', 'High School', 'New Adult', 'Fiction', 'Disability']",
         "336",
         "2012-04-28 00:00:00",
         " CreateSpace"
        ],
        [
         "5",
         "The Claiming of Sleeping Beauty",
         "A.N. Roquelaure",
         "ebook",
         "English",
         "58570",
         "5524",
         "3.22",
         "['Erotica', 'Fantasy', 'Fiction', 'Romance', 'BDSM', 'Adult', 'Fairy Tales']",
         "174",
         "1999-05-01 00:00:00",
         " Plume Books"
        ]
       ],
       "shape": {
        "columns": 11,
        "rows": 5
       }
      },
      "text/html": [
       "<div>\n",
       "<style scoped>\n",
       "    .dataframe tbody tr th:only-of-type {\n",
       "        vertical-align: middle;\n",
       "    }\n",
       "\n",
       "    .dataframe tbody tr th {\n",
       "        vertical-align: top;\n",
       "    }\n",
       "\n",
       "    .dataframe thead th {\n",
       "        text-align: right;\n",
       "    }\n",
       "</style>\n",
       "<table border=\"1\" class=\"dataframe\">\n",
       "  <thead>\n",
       "    <tr style=\"text-align: right;\">\n",
       "      <th></th>\n",
       "      <th>BookTitle</th>\n",
       "      <th>Author</th>\n",
       "      <th>Format</th>\n",
       "      <th>Language</th>\n",
       "      <th>Total_Ratings</th>\n",
       "      <th>Reviews</th>\n",
       "      <th>Rating</th>\n",
       "      <th>Genres</th>\n",
       "      <th>no_of_pages</th>\n",
       "      <th>Release_date</th>\n",
       "      <th>Publisher</th>\n",
       "    </tr>\n",
       "  </thead>\n",
       "  <tbody>\n",
       "    <tr>\n",
       "      <th>0</th>\n",
       "      <td>Mortality</td>\n",
       "      <td>Kellie Sheridan</td>\n",
       "      <td>ebook</td>\n",
       "      <td>English</td>\n",
       "      <td>541</td>\n",
       "      <td>149</td>\n",
       "      <td>3.82</td>\n",
       "      <td>['Zombies', 'Young Adult', 'Horror', 'Fantasy'...</td>\n",
       "      <td>280</td>\n",
       "      <td>2013-03-19</td>\n",
       "      <td>Patchwork Press</td>\n",
       "    </tr>\n",
       "    <tr>\n",
       "      <th>1</th>\n",
       "      <td>Finnegans Wake</td>\n",
       "      <td>James Joyce</td>\n",
       "      <td>Paperback</td>\n",
       "      <td>English</td>\n",
       "      <td>13079</td>\n",
       "      <td>1270</td>\n",
       "      <td>3.68</td>\n",
       "      <td>['Fiction', 'Classics', 'Literature', 'Ireland...</td>\n",
       "      <td>628</td>\n",
       "      <td>2002-11-04</td>\n",
       "      <td>Faber &amp; Faber</td>\n",
       "    </tr>\n",
       "    <tr>\n",
       "      <th>2</th>\n",
       "      <td>Madame Bovary</td>\n",
       "      <td>Gustave Flaubert</td>\n",
       "      <td>Paperback</td>\n",
       "      <td>English</td>\n",
       "      <td>344293</td>\n",
       "      <td>17289</td>\n",
       "      <td>3.70</td>\n",
       "      <td>['Fiction', 'Classics', 'France', 'Literature'...</td>\n",
       "      <td>411</td>\n",
       "      <td>1991-12-14</td>\n",
       "      <td>Vintage</td>\n",
       "    </tr>\n",
       "    <tr>\n",
       "      <th>4</th>\n",
       "      <td>What I Didn't Say</td>\n",
       "      <td>Keary Taylor</td>\n",
       "      <td>Paperback</td>\n",
       "      <td>English</td>\n",
       "      <td>7665</td>\n",
       "      <td>972</td>\n",
       "      <td>3.95</td>\n",
       "      <td>['Young Adult', 'Romance', 'Contemporary', 'Hi...</td>\n",
       "      <td>336</td>\n",
       "      <td>2012-04-28</td>\n",
       "      <td>CreateSpace</td>\n",
       "    </tr>\n",
       "    <tr>\n",
       "      <th>5</th>\n",
       "      <td>The Claiming of Sleeping Beauty</td>\n",
       "      <td>A.N. Roquelaure</td>\n",
       "      <td>ebook</td>\n",
       "      <td>English</td>\n",
       "      <td>58570</td>\n",
       "      <td>5524</td>\n",
       "      <td>3.22</td>\n",
       "      <td>['Erotica', 'Fantasy', 'Fiction', 'Romance', '...</td>\n",
       "      <td>174</td>\n",
       "      <td>1999-05-01</td>\n",
       "      <td>Plume Books</td>\n",
       "    </tr>\n",
       "  </tbody>\n",
       "</table>\n",
       "</div>"
      ],
      "text/plain": [
       "                         BookTitle            Author     Format Language  \\\n",
       "0                        Mortality   Kellie Sheridan      ebook  English   \n",
       "1                   Finnegans Wake       James Joyce  Paperback  English   \n",
       "2                    Madame Bovary  Gustave Flaubert  Paperback  English   \n",
       "4                What I Didn't Say      Keary Taylor  Paperback  English   \n",
       "5  The Claiming of Sleeping Beauty   A.N. Roquelaure      ebook  English   \n",
       "\n",
       "   Total_Ratings  Reviews  Rating  \\\n",
       "0            541      149    3.82   \n",
       "1          13079     1270    3.68   \n",
       "2         344293    17289    3.70   \n",
       "4           7665      972    3.95   \n",
       "5          58570     5524    3.22   \n",
       "\n",
       "                                              Genres  no_of_pages  \\\n",
       "0  ['Zombies', 'Young Adult', 'Horror', 'Fantasy'...          280   \n",
       "1  ['Fiction', 'Classics', 'Literature', 'Ireland...          628   \n",
       "2  ['Fiction', 'Classics', 'France', 'Literature'...          411   \n",
       "4  ['Young Adult', 'Romance', 'Contemporary', 'Hi...          336   \n",
       "5  ['Erotica', 'Fantasy', 'Fiction', 'Romance', '...          174   \n",
       "\n",
       "  Release_date         Publisher  \n",
       "0   2013-03-19   Patchwork Press  \n",
       "1   2002-11-04     Faber & Faber  \n",
       "2   1991-12-14           Vintage  \n",
       "4   2012-04-28       CreateSpace  \n",
       "5   1999-05-01       Plume Books  "
      ]
     },
     "execution_count": 29,
     "metadata": {},
     "output_type": "execute_result"
    }
   ],
   "source": [
    "df.head(5)"
   ]
  },
  {
   "cell_type": "markdown",
   "id": "730bef0b",
   "metadata": {},
   "source": [
    "# structuring the data"
   ]
  },
  {
   "cell_type": "code",
   "execution_count": 30,
   "id": "cb89af0c",
   "metadata": {},
   "outputs": [
    {
     "data": {
      "text/plain": [
       "np.int64(298)"
      ]
     },
     "execution_count": 30,
     "metadata": {},
     "output_type": "execute_result"
    }
   ],
   "source": [
    "# Creating a Primary key\n",
    "df[\"Book_ID\"] = df.groupby(['BookTitle','Author']).ngroup().astype(int)\n",
    "df = df[['Book_ID','BookTitle','Author','Publisher','Release_date','Format','Language','no_of_pages','Genres','Total_Ratings','Reviews','Rating']]\n",
    "\n",
    "df['Book_ID'].duplicated().sum()"
   ]
  },
  {
   "cell_type": "markdown",
   "id": "7ca1aa11",
   "metadata": {},
   "source": [
    "**Book_ID has duplicates because of multiple independent values in the Format, Language, and Publisher columns.**\n",
    "\n",
    "**These columns violate Fourth Normal Form (4NF) due to separate multi-valued dependencies.**\n",
    "\n",
    "**To fix this, separate mapping tables will be created for each.**\n",
    "\n",
    "**Rereleases also caused some duplicates, but Release_Date won't be split into its own table**\n",
    "\n",
    "**since it doesn't add useful variation for clustering because the book remains the same.**"
   ]
  },
  {
   "cell_type": "code",
   "execution_count": 31,
   "id": "cdfece85",
   "metadata": {},
   "outputs": [
    {
     "name": "stdout",
     "output_type": "stream",
     "text": [
      "Number of Duplicates Dropped: 74\n"
     ]
    },
    {
     "data": {
      "application/vnd.microsoft.datawrangler.viewer.v0+json": {
       "columns": [
        {
         "name": "index",
         "rawType": "int64",
         "type": "integer"
        },
        {
         "name": "Book_ID",
         "rawType": "int64",
         "type": "integer"
        },
        {
         "name": "Publisher",
         "rawType": "object",
         "type": "string"
        }
       ],
       "ref": "4eacef70-52c0-4938-85c9-508793fe24d4",
       "rows": [
        [
         "0",
         "3486",
         "Patchwork Press"
        ],
        [
         "1",
         "1894",
         "Faber & Faber"
        ],
        [
         "2",
         "3265",
         "Vintage"
        ],
        [
         "4",
         "7287",
         "CreateSpace"
        ],
        [
         "5",
         "5367",
         "Plume Books"
        ]
       ],
       "shape": {
        "columns": 2,
        "rows": 5
       }
      },
      "text/html": [
       "<div>\n",
       "<style scoped>\n",
       "    .dataframe tbody tr th:only-of-type {\n",
       "        vertical-align: middle;\n",
       "    }\n",
       "\n",
       "    .dataframe tbody tr th {\n",
       "        vertical-align: top;\n",
       "    }\n",
       "\n",
       "    .dataframe thead th {\n",
       "        text-align: right;\n",
       "    }\n",
       "</style>\n",
       "<table border=\"1\" class=\"dataframe\">\n",
       "  <thead>\n",
       "    <tr style=\"text-align: right;\">\n",
       "      <th></th>\n",
       "      <th>Book_ID</th>\n",
       "      <th>Publisher</th>\n",
       "    </tr>\n",
       "  </thead>\n",
       "  <tbody>\n",
       "    <tr>\n",
       "      <th>0</th>\n",
       "      <td>3486</td>\n",
       "      <td>Patchwork Press</td>\n",
       "    </tr>\n",
       "    <tr>\n",
       "      <th>1</th>\n",
       "      <td>1894</td>\n",
       "      <td>Faber &amp; Faber</td>\n",
       "    </tr>\n",
       "    <tr>\n",
       "      <th>2</th>\n",
       "      <td>3265</td>\n",
       "      <td>Vintage</td>\n",
       "    </tr>\n",
       "    <tr>\n",
       "      <th>4</th>\n",
       "      <td>7287</td>\n",
       "      <td>CreateSpace</td>\n",
       "    </tr>\n",
       "    <tr>\n",
       "      <th>5</th>\n",
       "      <td>5367</td>\n",
       "      <td>Plume Books</td>\n",
       "    </tr>\n",
       "  </tbody>\n",
       "</table>\n",
       "</div>"
      ],
      "text/plain": [
       "   Book_ID        Publisher\n",
       "0     3486  Patchwork Press\n",
       "1     1894    Faber & Faber\n",
       "2     3265          Vintage\n",
       "4     7287      CreateSpace\n",
       "5     5367      Plume Books"
      ]
     },
     "execution_count": 31,
     "metadata": {},
     "output_type": "execute_result"
    }
   ],
   "source": [
    "publisher_map = df[['Book_ID',\"Publisher\"]]\n",
    "print(f'Number of Duplicates Dropped: {publisher_map.duplicated().sum()}')\n",
    "publisher_map['Publisher'] = publisher_map['Publisher'].str.strip()\n",
    "publisher_map = publisher_map.drop_duplicates()\n",
    "publisher_map.to_csv('publisher_map.csv')\n",
    "\n",
    "publisher_map.head(5)"
   ]
  },
  {
   "cell_type": "code",
   "execution_count": 32,
   "id": "9fa8705e",
   "metadata": {},
   "outputs": [
    {
     "name": "stdout",
     "output_type": "stream",
     "text": [
      "Number of Duplicates Dropped: 97\n"
     ]
    },
    {
     "data": {
      "application/vnd.microsoft.datawrangler.viewer.v0+json": {
       "columns": [
        {
         "name": "index",
         "rawType": "int64",
         "type": "integer"
        },
        {
         "name": "Book_ID",
         "rawType": "int64",
         "type": "integer"
        },
        {
         "name": "Format",
         "rawType": "object",
         "type": "string"
        }
       ],
       "ref": "a9d1a0d5-9a59-4441-909c-72d1b571c036",
       "rows": [
        [
         "0",
         "3486",
         "ebook"
        ],
        [
         "1",
         "1894",
         "Paperback"
        ],
        [
         "2",
         "3265",
         "Paperback"
        ],
        [
         "4",
         "7287",
         "Paperback"
        ],
        [
         "5",
         "5367",
         "ebook"
        ]
       ],
       "shape": {
        "columns": 2,
        "rows": 5
       }
      },
      "text/html": [
       "<div>\n",
       "<style scoped>\n",
       "    .dataframe tbody tr th:only-of-type {\n",
       "        vertical-align: middle;\n",
       "    }\n",
       "\n",
       "    .dataframe tbody tr th {\n",
       "        vertical-align: top;\n",
       "    }\n",
       "\n",
       "    .dataframe thead th {\n",
       "        text-align: right;\n",
       "    }\n",
       "</style>\n",
       "<table border=\"1\" class=\"dataframe\">\n",
       "  <thead>\n",
       "    <tr style=\"text-align: right;\">\n",
       "      <th></th>\n",
       "      <th>Book_ID</th>\n",
       "      <th>Format</th>\n",
       "    </tr>\n",
       "  </thead>\n",
       "  <tbody>\n",
       "    <tr>\n",
       "      <th>0</th>\n",
       "      <td>3486</td>\n",
       "      <td>ebook</td>\n",
       "    </tr>\n",
       "    <tr>\n",
       "      <th>1</th>\n",
       "      <td>1894</td>\n",
       "      <td>Paperback</td>\n",
       "    </tr>\n",
       "    <tr>\n",
       "      <th>2</th>\n",
       "      <td>3265</td>\n",
       "      <td>Paperback</td>\n",
       "    </tr>\n",
       "    <tr>\n",
       "      <th>4</th>\n",
       "      <td>7287</td>\n",
       "      <td>Paperback</td>\n",
       "    </tr>\n",
       "    <tr>\n",
       "      <th>5</th>\n",
       "      <td>5367</td>\n",
       "      <td>ebook</td>\n",
       "    </tr>\n",
       "  </tbody>\n",
       "</table>\n",
       "</div>"
      ],
      "text/plain": [
       "   Book_ID     Format\n",
       "0     3486      ebook\n",
       "1     1894  Paperback\n",
       "2     3265  Paperback\n",
       "4     7287  Paperback\n",
       "5     5367      ebook"
      ]
     },
     "execution_count": 32,
     "metadata": {},
     "output_type": "execute_result"
    }
   ],
   "source": [
    "format_map = df[['Book_ID','Format']]\n",
    "print(f'Number of Duplicates Dropped: {format_map.duplicated().sum()}')\n",
    "format_map = format_map.drop_duplicates()\n",
    "format_map.to_csv(\"format_map.csv\",index=False)\n",
    "\n",
    "format_map.head(5)"
   ]
  },
  {
   "cell_type": "code",
   "execution_count": 33,
   "id": "2b7cec15",
   "metadata": {},
   "outputs": [
    {
     "name": "stdout",
     "output_type": "stream",
     "text": [
      "Number of Duplicates Dropped: 294"
     ]
    },
    {
     "name": "stdout",
     "output_type": "stream",
     "text": [
      "\n"
     ]
    },
    {
     "data": {
      "application/vnd.microsoft.datawrangler.viewer.v0+json": {
       "columns": [
        {
         "name": "index",
         "rawType": "int64",
         "type": "integer"
        },
        {
         "name": "Book_ID",
         "rawType": "int64",
         "type": "integer"
        },
        {
         "name": "Language",
         "rawType": "object",
         "type": "string"
        }
       ],
       "ref": "b01949fe-08d0-462b-b9db-3a23e776665d",
       "rows": [
        [
         "0",
         "3486",
         "English"
        ],
        [
         "1",
         "1894",
         "English"
        ],
        [
         "2",
         "3265",
         "English"
        ],
        [
         "4",
         "7287",
         "English"
        ],
        [
         "5",
         "5367",
         "English"
        ]
       ],
       "shape": {
        "columns": 2,
        "rows": 5
       }
      },
      "text/html": [
       "<div>\n",
       "<style scoped>\n",
       "    .dataframe tbody tr th:only-of-type {\n",
       "        vertical-align: middle;\n",
       "    }\n",
       "\n",
       "    .dataframe tbody tr th {\n",
       "        vertical-align: top;\n",
       "    }\n",
       "\n",
       "    .dataframe thead th {\n",
       "        text-align: right;\n",
       "    }\n",
       "</style>\n",
       "<table border=\"1\" class=\"dataframe\">\n",
       "  <thead>\n",
       "    <tr style=\"text-align: right;\">\n",
       "      <th></th>\n",
       "      <th>Book_ID</th>\n",
       "      <th>Language</th>\n",
       "    </tr>\n",
       "  </thead>\n",
       "  <tbody>\n",
       "    <tr>\n",
       "      <th>0</th>\n",
       "      <td>3486</td>\n",
       "      <td>English</td>\n",
       "    </tr>\n",
       "    <tr>\n",
       "      <th>1</th>\n",
       "      <td>1894</td>\n",
       "      <td>English</td>\n",
       "    </tr>\n",
       "    <tr>\n",
       "      <th>2</th>\n",
       "      <td>3265</td>\n",
       "      <td>English</td>\n",
       "    </tr>\n",
       "    <tr>\n",
       "      <th>4</th>\n",
       "      <td>7287</td>\n",
       "      <td>English</td>\n",
       "    </tr>\n",
       "    <tr>\n",
       "      <th>5</th>\n",
       "      <td>5367</td>\n",
       "      <td>English</td>\n",
       "    </tr>\n",
       "  </tbody>\n",
       "</table>\n",
       "</div>"
      ],
      "text/plain": [
       "   Book_ID Language\n",
       "0     3486  English\n",
       "1     1894  English\n",
       "2     3265  English\n",
       "4     7287  English\n",
       "5     5367  English"
      ]
     },
     "execution_count": 33,
     "metadata": {},
     "output_type": "execute_result"
    }
   ],
   "source": [
    "# The 'Language' column violates 1NF due to multi-valued attributes\n",
    "# To normalize it, the values are split by semicolon and expanded into separate rows.\n",
    "\n",
    "language_map = df[['Book_ID','Language']]\n",
    "language_map['Language'] = language_map['Language'].str.strip().str.split(';') # changing string format into a list format so the explode function can work\n",
    "language_map = language_map.explode('Language') \n",
    "\n",
    "print(f'Number of Duplicates Dropped: {language_map.duplicated().sum()}')\n",
    "language_map.drop_duplicates(inplace=True)\n",
    "language_map.to_csv(\"language_map.csv\",index=False)\n",
    "\n",
    "language_map.head(5)"
   ]
  },
  {
   "cell_type": "code",
   "execution_count": 34,
   "id": "229a1bb7",
   "metadata": {},
   "outputs": [],
   "source": [
    "# The 'Genres' column also violates 1NF due to multi-valued attributes\n",
    "# To normalize the data, I will create a separate mapping table by splitting the genres into individual rows using the explode function\n",
    "# This process will generate many duplicate rows, so the result will be stored in a separate table\n",
    "\n",
    "genre_map = df[[\"Book_ID\",'Genres']]\n",
    "genre_map['Genres'] = genre_map['Genres'].str.replace('[',\"\").str.replace(']',\"\").str.replace(\"'\",\"\") # changing json format into a list format so the explode function can work\n",
    "genre_map['Genres'] = genre_map['Genres'].str.split(',')"
   ]
  },
  {
   "cell_type": "code",
   "execution_count": 35,
   "id": "3866abf7",
   "metadata": {},
   "outputs": [
    {
     "name": "stdout",
     "output_type": "stream",
     "text": [
      "Number of Duplicates Dropped: 2082\n"
     ]
    },
    {
     "data": {
      "application/vnd.microsoft.datawrangler.viewer.v0+json": {
       "columns": [
        {
         "name": "index",
         "rawType": "int64",
         "type": "integer"
        },
        {
         "name": "Book_ID",
         "rawType": "int64",
         "type": "integer"
        },
        {
         "name": "Genres",
         "rawType": "object",
         "type": "string"
        }
       ],
       "ref": "819914f5-d89a-45bd-89c7-ad1901176451",
       "rows": [
        [
         "0",
         "3486",
         "Zombies"
        ],
        [
         "0",
         "3486",
         "Young Adult"
        ],
        [
         "0",
         "3486",
         "Horror"
        ],
        [
         "0",
         "3486",
         "Fantasy"
        ],
        [
         "0",
         "3486",
         "Romance"
        ]
       ],
       "shape": {
        "columns": 2,
        "rows": 5
       }
      },
      "text/html": [
       "<div>\n",
       "<style scoped>\n",
       "    .dataframe tbody tr th:only-of-type {\n",
       "        vertical-align: middle;\n",
       "    }\n",
       "\n",
       "    .dataframe tbody tr th {\n",
       "        vertical-align: top;\n",
       "    }\n",
       "\n",
       "    .dataframe thead th {\n",
       "        text-align: right;\n",
       "    }\n",
       "</style>\n",
       "<table border=\"1\" class=\"dataframe\">\n",
       "  <thead>\n",
       "    <tr style=\"text-align: right;\">\n",
       "      <th></th>\n",
       "      <th>Book_ID</th>\n",
       "      <th>Genres</th>\n",
       "    </tr>\n",
       "  </thead>\n",
       "  <tbody>\n",
       "    <tr>\n",
       "      <th>0</th>\n",
       "      <td>3486</td>\n",
       "      <td>Zombies</td>\n",
       "    </tr>\n",
       "    <tr>\n",
       "      <th>0</th>\n",
       "      <td>3486</td>\n",
       "      <td>Young Adult</td>\n",
       "    </tr>\n",
       "    <tr>\n",
       "      <th>0</th>\n",
       "      <td>3486</td>\n",
       "      <td>Horror</td>\n",
       "    </tr>\n",
       "    <tr>\n",
       "      <th>0</th>\n",
       "      <td>3486</td>\n",
       "      <td>Fantasy</td>\n",
       "    </tr>\n",
       "    <tr>\n",
       "      <th>0</th>\n",
       "      <td>3486</td>\n",
       "      <td>Romance</td>\n",
       "    </tr>\n",
       "  </tbody>\n",
       "</table>\n",
       "</div>"
      ],
      "text/plain": [
       "   Book_ID       Genres\n",
       "0     3486      Zombies\n",
       "0     3486  Young Adult\n",
       "0     3486       Horror\n",
       "0     3486      Fantasy\n",
       "0     3486      Romance"
      ]
     },
     "execution_count": 35,
     "metadata": {},
     "output_type": "execute_result"
    }
   ],
   "source": [
    "genre_map = genre_map.explode('Genres')\n",
    "genre_map['Genres'] = genre_map['Genres'].str.strip()\n",
    "\n",
    "\n",
    "print(f'Number of Duplicates Dropped: {genre_map.duplicated().sum()}')\n",
    "genre_map = genre_map.drop_duplicates()\n",
    "genre_map.to_csv('genre_map.csv',index=False)\n",
    "\n",
    "genre_map.head(5)"
   ]
  },
  {
   "cell_type": "code",
   "execution_count": 36,
   "id": "8bd1d2ff",
   "metadata": {},
   "outputs": [
    {
     "name": "stdout",
     "output_type": "stream",
     "text": [
      "298\n"
     ]
    }
   ],
   "source": [
    "# After normalization rows with the same Book_ID exist due to exploded mapping tables or minor differences in Total_Ratings, Rating, Reviews, or Release_date.\n",
    "# Now that multi-valued columns (Format, Publisher, etc.) are moved out, it's safe to drop duplicates.\n",
    "# Minor differences in Total_Ratings, Rating, Reviews, or Release_date aren't enough to change the book, so they don't justify keeping multiple rows.\n",
    "\n",
    "print(df.duplicated(subset=\"Book_ID\").sum())\n",
    "df = df.drop_duplicates(subset=\"Book_ID\")"
   ]
  },
  {
   "cell_type": "code",
   "execution_count": 37,
   "id": "ca9424e2",
   "metadata": {},
   "outputs": [
    {
     "data": {
      "application/vnd.microsoft.datawrangler.viewer.v0+json": {
       "columns": [
        {
         "name": "index",
         "rawType": "int64",
         "type": "integer"
        },
        {
         "name": "Book_ID",
         "rawType": "int64",
         "type": "integer"
        },
        {
         "name": "BookTitle",
         "rawType": "object",
         "type": "string"
        },
        {
         "name": "Author",
         "rawType": "object",
         "type": "string"
        },
        {
         "name": "Release_date",
         "rawType": "object",
         "type": "unknown"
        },
        {
         "name": "no_of_pages",
         "rawType": "int64",
         "type": "integer"
        },
        {
         "name": "no_of_formats",
         "rawType": "int64",
         "type": "integer"
        },
        {
         "name": "no_of_languages",
         "rawType": "int64",
         "type": "integer"
        },
        {
         "name": "no_of_publishers",
         "rawType": "int64",
         "type": "integer"
        },
        {
         "name": "no_of_genres",
         "rawType": "int64",
         "type": "integer"
        },
        {
         "name": "Total_Ratings",
         "rawType": "int64",
         "type": "integer"
        },
        {
         "name": "Reviews",
         "rawType": "int64",
         "type": "integer"
        },
        {
         "name": "Rating",
         "rawType": "float64",
         "type": "float"
        }
       ],
       "ref": "784d4425-b15c-47bf-b8d2-0d713bdf2715",
       "rows": [
        [
         "0",
         "7287",
         "What I Didn't Say",
         "Keary Taylor",
         "2012-04-28",
         "336",
         "1",
         "1",
         "1",
         "7",
         "7665",
         "972",
         "3.95"
        ],
        [
         "1",
         "7297",
         "What the Dog Said",
         "Randi Reisfeld",
         "2012-02-28",
         "256",
         "1",
         "1",
         "1",
         "7",
         "604",
         "104",
         "4.1"
        ],
        [
         "2",
         "7335",
         "Where Mercy Is Shown, Mercy Is Given",
         "Duane \"Dog\" Chapman",
         "2010-03-16",
         "287",
         "1",
         "1",
         "1",
         "6",
         "960",
         "112",
         "3.95"
        ],
        [
         "3",
         "6035",
         "The Magic in Your Touch",
         "Sara Bell",
         "2005-06-24",
         "244",
         "1",
         "1",
         "1",
         "7",
         "399",
         "53",
         "3.93"
        ],
        [
         "4",
         "6943",
         "To Catch A Fox",
         "Geoffrey Knight",
         "2012-09-27",
         "389",
         "1",
         "1",
         "1",
         "7",
         "368",
         "94",
         "3.9"
        ],
        [
         "5",
         "7158",
         "Upside Down",
         "Lia Riley",
         "2014-08-05",
         "246",
         "1",
         "1",
         "1",
         "7",
         "1692",
         "382",
         "3.68"
        ],
        [
         "6",
         "220",
         "A Ticket to the Boneyard",
         "Lawrence Block",
         "2000-12-07",
         "292",
         "1",
         "1",
         "1",
         "7",
         "3789",
         "271",
         "4.15"
        ],
        [
         "7",
         "259",
         "Acclamation",
         "Vee Hoffman",
         "2012-10-09",
         "404",
         "1",
         "1",
         "1",
         "7",
         "457",
         "87",
         "4.16"
        ],
        [
         "8",
         "4565",
         "Shattered Souls",
         "Mary Lindsey",
         "2011-12-08",
         "337",
         "1",
         "1",
         "1",
         "7",
         "7687",
         "837",
         "3.94"
        ],
        [
         "9",
         "1252",
         "Courage for Beginners",
         "Karen Harrington",
         "2014-08-12",
         "304",
         "1",
         "1",
         "1",
         "7",
         "2262",
         "352",
         "3.94"
        ],
        [
         "10",
         "180",
         "A Room with a View",
         "E.M. Forster",
         "2005-01-01",
         "119",
         "1",
         "1",
         "1",
         "7",
         "188927",
         "9251",
         "3.9"
        ],
        [
         "11",
         "5451",
         "The Darkest Whisper",
         "Gena Showalter",
         "2009-09-01",
         "406",
         "1",
         "1",
         "1",
         "7",
         "44182",
         "1274",
         "4.3"
        ],
        [
         "12",
         "4138",
         "Quid Pro Quo",
         "Manna Francis",
         "2008-05-27",
         "264",
         "1",
         "1",
         "1",
         "7",
         "1222",
         "133",
         "4.31"
        ],
        [
         "13",
         "2979",
         "L'élite",
         "Kiera Cass",
         "2013-04-18",
         "311",
         "1",
         "1",
         "1",
         "7",
         "801822",
         "47418",
         "3.94"
        ],
        [
         "14",
         "6603",
         "The Thomas Berryman Number",
         "James Patterson",
         "1996-04-01",
         "272",
         "1",
         "1",
         "1",
         "7",
         "6126",
         "524",
         "2.82"
        ],
        [
         "15",
         "5684",
         "The Girl Who Fell Beneath Fairyland and Led the Revels There",
         "Catherynne M. Valente",
         "2012-10-02",
         "258",
         "1",
         "1",
         "1",
         "7",
         "10384",
         "1322",
         "4.18"
        ],
        [
         "16",
         "1868",
         "Fifteen Hundred Miles from the Sun",
         "Jonny Garza Villa",
         "2021-06-08",
         "354",
         "1",
         "1",
         "1",
         "7",
         "5148",
         "1108",
         "4.16"
        ],
        [
         "17",
         "4703",
         "Snow Crash",
         "Neal Stephenson",
         "2018-06-01",
         "559",
         "2",
         "1",
         "2",
         "7",
         "285147",
         "12641",
         "4.02"
        ],
        [
         "18",
         "2682",
         "Impossible",
         "Nancy Werlin",
         "2009-08-11",
         "376",
         "1",
         "1",
         "1",
         "7",
         "18054",
         "2495",
         "3.64"
        ],
        [
         "19",
         "1196",
         "Come On Shore and We Will Kill and Eat You All: A New Zealand Story",
         "Christina Thompson",
         "2008-07-22",
         "288",
         "1",
         "1",
         "1",
         "7",
         "1478",
         "289",
         "3.58"
        ],
        [
         "20",
         "5273",
         "The Boy with the Painful Tattoo",
         "Josh Lanyon",
         "2014-10-05",
         "228",
         "1",
         "1",
         "1",
         "7",
         "3259",
         "499",
         "4.21"
        ],
        [
         "21",
         "2245",
         "Guilty: Liberal \"Victims\" and Their Assault on America",
         "Ann Coulter",
         "2009-01-06",
         "496",
         "1",
         "1",
         "1",
         "7",
         "2483",
         "175",
         "3.57"
        ],
        [
         "22",
         "936",
         "Breaking Point",
         "Kristen Simmons",
         "2013-02-12",
         "400",
         "1",
         "1",
         "1",
         "7",
         "11150",
         "705",
         "3.99"
        ],
        [
         "23",
         "5634",
         "The Forgotten Beasts of Eld",
         "Patricia A. McKillip",
         "2006-01-01",
         "343",
         "1",
         "1",
         "1",
         "7",
         "19428",
         "2005",
         "4.07"
        ],
        [
         "24",
         "960",
         "Brokeback Mountain",
         "Annie Proulx",
         "2005-12-02",
         "55",
         "1",
         "1",
         "1",
         "7",
         "46158",
         "4560",
         "4.0"
        ],
        [
         "25",
         "2706",
         "In the Shadow of Blackbirds",
         "Cat Winters",
         "2013-04-02",
         "387",
         "1",
         "1",
         "1",
         "7",
         "13231",
         "2071",
         "3.85"
        ],
        [
         "26",
         "350",
         "All Together Dead",
         "Charlaine Harris",
         "2007-05-01",
         "336",
         "1",
         "1",
         "1",
         "7",
         "203615",
         "4028",
         "4.05"
        ],
        [
         "27",
         "1162",
         "Clearly's Corruption",
         "Taylor Ann Bunker",
         "2014-06-13",
         "214",
         "1",
         "1",
         "1",
         "6",
         "43",
         "17",
         "4.37"
        ],
        [
         "28",
         "3009",
         "Last Day on Mars",
         "Kevin Emerson",
         "2017-02-14",
         "336",
         "1",
         "1",
         "1",
         "7",
         "2690",
         "479",
         "3.92"
        ],
        [
         "29",
         "16",
         "1984",
         "George Orwell",
         "2013-09-03",
         "298",
         "3",
         "1",
         "3",
         "7",
         "4796463",
         "124260",
         "4.19"
        ],
        [
         "30",
         "5773",
         "The Hand, the Eye and the Heart",
         "Zoë Marriott",
         "2019-04-04",
         "448",
         "1",
         "1",
         "1",
         "7",
         "823",
         "158",
         "3.81"
        ],
        [
         "31",
         "6666",
         "The Ultra Fuckers",
         "Carlton Mellick III",
         "2008-02-26",
         "95",
         "1",
         "1",
         "1",
         "7",
         "292",
         "32",
         "3.86"
        ],
        [
         "32",
         "4786",
         "Specials",
         "Scott Westerfeld",
         "2006-05-09",
         "384",
         "1",
         "1",
         "1",
         "7",
         "194486",
         "8872",
         "3.76"
        ],
        [
         "33",
         "122",
         "A Lesson Before Dying",
         "Ernest J. Gaines",
         "1993-01-01",
         "256",
         "1",
         "1",
         "1",
         "7",
         "61223",
         "4322",
         "3.98"
        ],
        [
         "34",
         "5244",
         "The Body Snatcher",
         "Robert Louis Stevenson",
         "2000-09-01",
         "22",
         "1",
         "1",
         "1",
         "7",
         "4894",
         "501",
         "3.4"
        ],
        [
         "35",
         "3302",
         "Mama Day",
         "Gloria Naylor",
         "1989-04-23",
         "312",
         "1",
         "1",
         "1",
         "7",
         "10912",
         "806",
         "4.19"
        ],
        [
         "36",
         "5822",
         "The House of Hades",
         "Rick Riordan",
         "2013-10-08",
         "597",
         "1",
         "1",
         "1",
         "7",
         "435783",
         "24180",
         "4.57"
        ],
        [
         "37",
         "1136",
         "City of Ashes",
         "Cassandra Clare",
         "2009-03-24",
         "453",
         "2",
         "1",
         "1",
         "7",
         "952383",
         "37571",
         "4.11"
        ],
        [
         "38",
         "3714",
         "Not So Pure and Simple",
         "Lamar Giles",
         "2020-01-21",
         "398",
         "1",
         "1",
         "1",
         "7",
         "3846",
         "794",
         "4.05"
        ],
        [
         "39",
         "3286",
         "Magyk",
         "Angie Sage",
         "2005-05-11",
         "564",
         "1",
         "1",
         "1",
         "7",
         "122226",
         "5803",
         "3.85"
        ],
        [
         "40",
         "1489",
         "Destined",
         "Aprilynne Pike",
         "2012-05-01",
         "307",
         "1",
         "1",
         "1",
         "7",
         "24481",
         "1766",
         "4.17"
        ],
        [
         "41",
         "4605",
         "Sideways Stories from Wayside School",
         "Louis Sachar",
         "2004-01-19",
         "144",
         "1",
         "1",
         "1",
         "7",
         "98645",
         "3413",
         "4.16"
        ],
        [
         "42",
         "67",
         "A Cursed Son",
         "Day Leitao",
         "2024-03-06",
         "420",
         "1",
         "1",
         "1",
         "7",
         "2156",
         "453",
         "4.03"
        ],
        [
         "43",
         "403",
         "American Gods",
         "Neil Gaiman",
         "2011-06-21",
         "635",
         "2",
         "1",
         "2",
         "7",
         "953496",
         "48529",
         "4.11"
        ],
        [
         "44",
         "2871",
         "Jump Rope",
         "Ruby Jean Jensen",
         "1988-01-01",
         "383",
         "1",
         "1",
         "1",
         "2",
         "68",
         "9",
         "3.85"
        ],
        [
         "45",
         "2640",
         "Ida",
         "Alison Evans",
         "2017-01-01",
         "246",
         "1",
         "1",
         "1",
         "7",
         "430",
         "146",
         "3.54"
        ],
        [
         "46",
         "5385",
         "The Color Purple",
         "Alice Walker",
         "2019-12-10",
         "304",
         "1",
         "1",
         "2",
         "7",
         "705718",
         "27576",
         "4.27"
        ],
        [
         "47",
         "1271",
         "Creed",
         "Trisha Leaver",
         "2014-11-08",
         "264",
         "1",
         "1",
         "1",
         "7",
         "970",
         "251",
         "3.25"
        ],
        [
         "48",
         "5226",
         "The Blackthorn Key",
         "Kevin Sands",
         "2015-09-01",
         "384",
         "1",
         "1",
         "1",
         "7",
         "13278",
         "1820",
         "4.16"
        ],
        [
         "49",
         "4774",
         "Sovereign",
         "April Daniels",
         "2017-07-25",
         "315",
         "1",
         "1",
         "1",
         "7",
         "3514",
         "514",
         "4.27"
        ]
       ],
       "shape": {
        "columns": 12,
        "rows": 7640
       }
      },
      "text/html": [
       "<div>\n",
       "<style scoped>\n",
       "    .dataframe tbody tr th:only-of-type {\n",
       "        vertical-align: middle;\n",
       "    }\n",
       "\n",
       "    .dataframe tbody tr th {\n",
       "        vertical-align: top;\n",
       "    }\n",
       "\n",
       "    .dataframe thead th {\n",
       "        text-align: right;\n",
       "    }\n",
       "</style>\n",
       "<table border=\"1\" class=\"dataframe\">\n",
       "  <thead>\n",
       "    <tr style=\"text-align: right;\">\n",
       "      <th></th>\n",
       "      <th>Book_ID</th>\n",
       "      <th>BookTitle</th>\n",
       "      <th>Author</th>\n",
       "      <th>Release_date</th>\n",
       "      <th>no_of_pages</th>\n",
       "      <th>no_of_formats</th>\n",
       "      <th>no_of_languages</th>\n",
       "      <th>no_of_publishers</th>\n",
       "      <th>no_of_genres</th>\n",
       "      <th>Total_Ratings</th>\n",
       "      <th>Reviews</th>\n",
       "      <th>Rating</th>\n",
       "    </tr>\n",
       "  </thead>\n",
       "  <tbody>\n",
       "    <tr>\n",
       "      <th>0</th>\n",
       "      <td>7287</td>\n",
       "      <td>What I Didn't Say</td>\n",
       "      <td>Keary Taylor</td>\n",
       "      <td>2012-04-28</td>\n",
       "      <td>336</td>\n",
       "      <td>1</td>\n",
       "      <td>1</td>\n",
       "      <td>1</td>\n",
       "      <td>7</td>\n",
       "      <td>7665</td>\n",
       "      <td>972</td>\n",
       "      <td>3.95</td>\n",
       "    </tr>\n",
       "    <tr>\n",
       "      <th>1</th>\n",
       "      <td>7297</td>\n",
       "      <td>What the Dog Said</td>\n",
       "      <td>Randi Reisfeld</td>\n",
       "      <td>2012-02-28</td>\n",
       "      <td>256</td>\n",
       "      <td>1</td>\n",
       "      <td>1</td>\n",
       "      <td>1</td>\n",
       "      <td>7</td>\n",
       "      <td>604</td>\n",
       "      <td>104</td>\n",
       "      <td>4.10</td>\n",
       "    </tr>\n",
       "    <tr>\n",
       "      <th>2</th>\n",
       "      <td>7335</td>\n",
       "      <td>Where Mercy Is Shown, Mercy Is Given</td>\n",
       "      <td>Duane \"Dog\" Chapman</td>\n",
       "      <td>2010-03-16</td>\n",
       "      <td>287</td>\n",
       "      <td>1</td>\n",
       "      <td>1</td>\n",
       "      <td>1</td>\n",
       "      <td>6</td>\n",
       "      <td>960</td>\n",
       "      <td>112</td>\n",
       "      <td>3.95</td>\n",
       "    </tr>\n",
       "    <tr>\n",
       "      <th>3</th>\n",
       "      <td>6035</td>\n",
       "      <td>The Magic in Your Touch</td>\n",
       "      <td>Sara Bell</td>\n",
       "      <td>2005-06-24</td>\n",
       "      <td>244</td>\n",
       "      <td>1</td>\n",
       "      <td>1</td>\n",
       "      <td>1</td>\n",
       "      <td>7</td>\n",
       "      <td>399</td>\n",
       "      <td>53</td>\n",
       "      <td>3.93</td>\n",
       "    </tr>\n",
       "    <tr>\n",
       "      <th>4</th>\n",
       "      <td>6943</td>\n",
       "      <td>To Catch A Fox</td>\n",
       "      <td>Geoffrey Knight</td>\n",
       "      <td>2012-09-27</td>\n",
       "      <td>389</td>\n",
       "      <td>1</td>\n",
       "      <td>1</td>\n",
       "      <td>1</td>\n",
       "      <td>7</td>\n",
       "      <td>368</td>\n",
       "      <td>94</td>\n",
       "      <td>3.90</td>\n",
       "    </tr>\n",
       "    <tr>\n",
       "      <th>...</th>\n",
       "      <td>...</td>\n",
       "      <td>...</td>\n",
       "      <td>...</td>\n",
       "      <td>...</td>\n",
       "      <td>...</td>\n",
       "      <td>...</td>\n",
       "      <td>...</td>\n",
       "      <td>...</td>\n",
       "      <td>...</td>\n",
       "      <td>...</td>\n",
       "      <td>...</td>\n",
       "      <td>...</td>\n",
       "    </tr>\n",
       "    <tr>\n",
       "      <th>7635</th>\n",
       "      <td>2544</td>\n",
       "      <td>How to Train Your Dom in Five Easy Steps</td>\n",
       "      <td>Josephine Myles</td>\n",
       "      <td>2014-09-23</td>\n",
       "      <td>306</td>\n",
       "      <td>1</td>\n",
       "      <td>1</td>\n",
       "      <td>1</td>\n",
       "      <td>7</td>\n",
       "      <td>2138</td>\n",
       "      <td>382</td>\n",
       "      <td>3.89</td>\n",
       "    </tr>\n",
       "    <tr>\n",
       "      <th>7636</th>\n",
       "      <td>3760</td>\n",
       "      <td>Of Triton</td>\n",
       "      <td>Anna Banks</td>\n",
       "      <td>2013-05-28</td>\n",
       "      <td>246</td>\n",
       "      <td>1</td>\n",
       "      <td>1</td>\n",
       "      <td>1</td>\n",
       "      <td>7</td>\n",
       "      <td>26487</td>\n",
       "      <td>2126</td>\n",
       "      <td>3.96</td>\n",
       "    </tr>\n",
       "    <tr>\n",
       "      <th>7637</th>\n",
       "      <td>170</td>\n",
       "      <td>A Quick Bite</td>\n",
       "      <td>Lynsay Sands</td>\n",
       "      <td>2005-10-25</td>\n",
       "      <td>360</td>\n",
       "      <td>1</td>\n",
       "      <td>1</td>\n",
       "      <td>1</td>\n",
       "      <td>7</td>\n",
       "      <td>44724</td>\n",
       "      <td>2051</td>\n",
       "      <td>3.91</td>\n",
       "    </tr>\n",
       "    <tr>\n",
       "      <th>7638</th>\n",
       "      <td>7510</td>\n",
       "      <td>Yes Please</td>\n",
       "      <td>Amy Poehler</td>\n",
       "      <td>2014-10-28</td>\n",
       "      <td>329</td>\n",
       "      <td>1</td>\n",
       "      <td>1</td>\n",
       "      <td>1</td>\n",
       "      <td>7</td>\n",
       "      <td>535502</td>\n",
       "      <td>28629</td>\n",
       "      <td>3.85</td>\n",
       "    </tr>\n",
       "    <tr>\n",
       "      <th>7639</th>\n",
       "      <td>4704</td>\n",
       "      <td>Snow Falls</td>\n",
       "      <td>Gerri Hill</td>\n",
       "      <td>2012-12-25</td>\n",
       "      <td>304</td>\n",
       "      <td>1</td>\n",
       "      <td>1</td>\n",
       "      <td>1</td>\n",
       "      <td>7</td>\n",
       "      <td>2834</td>\n",
       "      <td>191</td>\n",
       "      <td>3.94</td>\n",
       "    </tr>\n",
       "  </tbody>\n",
       "</table>\n",
       "<p>7640 rows × 12 columns</p>\n",
       "</div>"
      ],
      "text/plain": [
       "      Book_ID                                 BookTitle               Author  \\\n",
       "0        7287                         What I Didn't Say         Keary Taylor   \n",
       "1        7297                         What the Dog Said       Randi Reisfeld   \n",
       "2        7335      Where Mercy Is Shown, Mercy Is Given  Duane \"Dog\" Chapman   \n",
       "3        6035                   The Magic in Your Touch            Sara Bell   \n",
       "4        6943                            To Catch A Fox      Geoffrey Knight   \n",
       "...       ...                                       ...                  ...   \n",
       "7635     2544  How to Train Your Dom in Five Easy Steps      Josephine Myles   \n",
       "7636     3760                                 Of Triton           Anna Banks   \n",
       "7637      170                              A Quick Bite         Lynsay Sands   \n",
       "7638     7510                                Yes Please          Amy Poehler   \n",
       "7639     4704                                Snow Falls           Gerri Hill   \n",
       "\n",
       "     Release_date  no_of_pages  no_of_formats  no_of_languages  \\\n",
       "0      2012-04-28          336              1                1   \n",
       "1      2012-02-28          256              1                1   \n",
       "2      2010-03-16          287              1                1   \n",
       "3      2005-06-24          244              1                1   \n",
       "4      2012-09-27          389              1                1   \n",
       "...           ...          ...            ...              ...   \n",
       "7635   2014-09-23          306              1                1   \n",
       "7636   2013-05-28          246              1                1   \n",
       "7637   2005-10-25          360              1                1   \n",
       "7638   2014-10-28          329              1                1   \n",
       "7639   2012-12-25          304              1                1   \n",
       "\n",
       "      no_of_publishers  no_of_genres  Total_Ratings  Reviews  Rating  \n",
       "0                    1             7           7665      972    3.95  \n",
       "1                    1             7            604      104    4.10  \n",
       "2                    1             6            960      112    3.95  \n",
       "3                    1             7            399       53    3.93  \n",
       "4                    1             7            368       94    3.90  \n",
       "...                ...           ...            ...      ...     ...  \n",
       "7635                 1             7           2138      382    3.89  \n",
       "7636                 1             7          26487     2126    3.96  \n",
       "7637                 1             7          44724     2051    3.91  \n",
       "7638                 1             7         535502    28629    3.85  \n",
       "7639                 1             7           2834      191    3.94  \n",
       "\n",
       "[7640 rows x 12 columns]"
      ]
     },
     "execution_count": 37,
     "metadata": {},
     "output_type": "execute_result"
    }
   ],
   "source": [
    "# Creating count summaries for each mapping table before joining to avoid row duplication and adding 4 new columns\n",
    "\n",
    "query = \"\"\"\n",
    "With genre_ct as (\n",
    "    select Book_ID, count(*) as no_of_genres\n",
    "    from genre_map\n",
    "    group by Book_ID\n",
    "),\n",
    "format_ct as (\n",
    "    select Book_ID, count(*) as no_of_formats\n",
    "    from format_map\n",
    "    group by Book_ID\n",
    "),\n",
    "publisher_ct as (\n",
    "    select Book_ID, count(*) as no_of_publishers\n",
    "    from publisher_map\n",
    "    group by Book_ID\n",
    "),\n",
    "language_ct as (\n",
    "    select Book_ID, count(*) as no_of_languages\n",
    "    from language_map\n",
    "    group by Book_ID\n",
    ")\n",
    "\n",
    "select \n",
    "    b.Book_ID,\n",
    "    b.BookTitle,\n",
    "    b.Author,\n",
    "    b.Release_date,\n",
    "    b.no_of_pages,\n",
    "    f.no_of_formats,\n",
    "    l.no_of_languages,\n",
    "    p.no_of_publishers,\n",
    "    g.no_of_genres,\n",
    "    b.Total_Ratings,\n",
    "    b.Reviews,\n",
    "    b.Rating\n",
    "from df b\n",
    "left join genre_ct     g using(Book_ID)\n",
    "left join format_ct    f using(Book_ID)\n",
    "left join publisher_ct p using(Book_ID)\n",
    "left join language_ct  l using(Book_ID)\n",
    "\"\"\"\n",
    "df = results(query)\n",
    "df['Release_date'] = pd.to_datetime(df['Release_date']).dt.date\n",
    "df"
   ]
  },
  {
   "cell_type": "markdown",
   "id": "1ccea8fb",
   "metadata": {},
   "source": [
    "# Summary\n",
    "\n",
    "**The main dataset now contains 7,640 rows (out of 8,654)**\n",
    "\n",
    "**Removed 1,014 rows mostly due to missing critical values**\n",
    "\n",
    "**Created 4 mapping tables: genre, language, format, and publisher**\n",
    "\n",
    "**Extracted new columns: Release_date, publisher, format, and no_of_pages**\n",
    "\n",
    "**Dropped columns ISBN (1,653 nulls) and ASIN (1,570 nulls), which made up the bulk of missing data**\n",
    "\n",
    "**Filled missing values in:**\n",
    "\n",
    "    Format (80) filled with 'Paperback'\n",
    "\n",
    "    no_of_pages (136) filled with column average\n",
    "\n",
    "    Language (135) filled with 'English'\n",
    "\n",
    "**The data is now normalized and ready for modeling and EDA**"
   ]
  },
  {
   "cell_type": "markdown",
   "id": "ec3b532e",
   "metadata": {},
   "source": [
    "# Exploratory Data Analysis (EDA)"
   ]
  },
  {
   "cell_type": "code",
   "execution_count": 38,
   "id": "b2e0dbc0",
   "metadata": {},
   "outputs": [
    {
     "data": {
      "image/png": "[encoded data removed]",
      "text/plain": [
       "<Figure size 640x480 with 1 Axes>"
      ]
     },
     "metadata": {},
     "output_type": "display_data"
    }
   ],
   "source": [
    "query = \"\"\"\n",
    "Select BookTitle,Rating\n",
    "From df\n",
    "Where Total_Ratings >= (Select median(Total_Ratings) From df) and Reviews >= (Select median(Reviews) From df)\n",
    "Order By Rating Desc\n",
    "limit 15\n",
    "\"\"\"\n",
    "\n",
    "sns.barplot(results(query),y='BookTitle',x='Rating',hue='BookTitle',palette='viridis')\n",
    "plt.title('Top 15 Highly Rated Popular Books')\n",
    "plt.show()"
   ]
  },
  {
   "cell_type": "markdown",
   "id": "5c7c12ea",
   "metadata": {},
   "source": [
    "**Median was used to select books with higher engagement while reducing the effect of extreme values**"
   ]
  },
  {
   "cell_type": "code",
   "execution_count": 39,
   "id": "f78bd491",
   "metadata": {},
   "outputs": [
    {
     "data": {
      "image/png": "[encoded data removed]",
      "text/plain": [
       "<Figure size 640x480 with 1 Axes>"
      ]
     },
     "metadata": {},
     "output_type": "display_data"
    }
   ],
   "source": [
    "query = \"\"\"\n",
    "Select Round(Rating) as Rounded_Rating ,count(Book_ID) as book_count\n",
    "From df\n",
    "Group By Rounded_Rating\n",
    "\"\"\"\n",
    "sns.barplot(data=results(query),x='Rounded_Rating',y='book_count',hue='book_count',palette='viridis')\n",
    "plt.title('Distribution of Books by Rounded Rating')\n",
    "plt.show()"
   ]
  },
  {
   "cell_type": "markdown",
   "id": "8ed365fa",
   "metadata": {},
   "source": [
    "**Most books fall within the 4.0 rating bucket, highlighting a strong central tendency in reader ratings.**"
   ]
  },
  {
   "cell_type": "code",
   "execution_count": 40,
   "id": "26b5183d",
   "metadata": {},
   "outputs": [
    {
     "data": {
      "image/png": "[encoded data removed]",
      "text/plain": [
       "<Figure size 640x480 with 1 Axes>"
      ]
     },
     "metadata": {},
     "output_type": "display_data"
    }
   ],
   "source": [
    "query = \"\"\"\n",
    "Select Author, Count(Book_ID) as book_count\n",
    "From df\n",
    "Group By Author\n",
    "Order By Count(Book_ID) desc\n",
    "limit 15\n",
    "\"\"\"\n",
    "sns.barplot(data=results(query),y='Author',x='book_count',hue='Author',palette='viridis')\n",
    "plt.title('Top 15 Most Published Authors in the Dataset')\n",
    "plt.show()"
   ]
  },
  {
   "cell_type": "markdown",
   "id": "a1770963",
   "metadata": {},
   "source": [
    "**Even the most prolific authors in the dataset, like Josh Lanyon and Rick Riordan, have written fewer than 35 books indicating high cardinality with low frequency, which may pose challenges for modeling.**"
   ]
  },
  {
   "cell_type": "code",
   "execution_count": 41,
   "id": "8da05a7e",
   "metadata": {},
   "outputs": [
    {
     "data": {
      "image/png": "[encoded data removed]",
      "text/plain": [
       "<Figure size 1200x600 with 2 Axes>"
      ]
     },
     "metadata": {},
     "output_type": "display_data"
    }
   ],
   "source": [
    "plt.figure(figsize=(12,6))\n",
    "sns.heatmap(df.corr(numeric_only=True), annot=True, cmap='coolwarm')\n",
    "plt.show()"
   ]
  },
  {
   "cell_type": "markdown",
   "id": "0d4371e8",
   "metadata": {},
   "source": [
    "**no_of_publishers and no_of_formats showed a strong correlation (0.77), which could introduce multicollinearity.**\n",
    "\n",
    "**Total_Ratings and Reviews were highly correlated (0.80), but both will be retained as they capture different aspects of user engagement.**"
   ]
  },
  {
   "cell_type": "code",
   "execution_count": 42,
   "id": "6268ef4e",
   "metadata": {},
   "outputs": [
    {
     "data": {
      "image/png": "[encoded data removed]",
      "text/plain": [
       "<Figure size 640x480 with 1 Axes>"
      ]
     },
     "metadata": {},
     "output_type": "display_data"
    }
   ],
   "source": [
    "sns.barplot(data=language_map['Language'].value_counts().reset_index().head(10),x=\"count\",y='Language')\n",
    "plt.title('Language Distribution')\n",
    "plt.xlabel('Number of Books')\n",
    "plt.show()"
   ]
  },
  {
   "cell_type": "markdown",
   "id": "db0c2485",
   "metadata": {},
   "source": [
    "**Even after normalization, English remains overwhelmingly dominant, posing a risk of bias or imbalance in the clustering model if Language were included.**"
   ]
  },
  {
   "cell_type": "code",
   "execution_count": 43,
   "id": "528b1d08",
   "metadata": {},
   "outputs": [
    {
     "data": {
      "image/png": "[encoded data removed]",
      "text/plain": [
       "<Figure size 640x480 with 1 Axes>"
      ]
     },
     "metadata": {},
     "output_type": "display_data"
    }
   ],
   "source": [
    "query = \"\"\"\n",
    "Select Publisher,Count(Book_ID) as Book_count\n",
    "From df\n",
    "Join publisher_map Using(Book_ID)\n",
    "Group By Publisher\n",
    "Having avg(Rating) > 3\n",
    "Order by Count(Publisher) desc\n",
    "Limit 15\n",
    "\"\"\"\n",
    "sns.barplot(data=results(query),x='Book_count',y='Publisher',hue='Publisher',palette='viridis')\n",
    "plt.title('Top Publishers by Book Count (Average Rating ≥ 3.0)')\n",
    "plt.show()"
   ]
  },
  {
   "cell_type": "markdown",
   "id": "ff16327c",
   "metadata": {},
   "source": [
    "**Even the most active publishers in the dataset have published fewer than 150 books, reflecting high cardinality with relatively low frequency**"
   ]
  },
  {
   "cell_type": "code",
   "execution_count": 44,
   "id": "1e2045e2",
   "metadata": {},
   "outputs": [
    {
     "data": {
      "image/png": "[encoded data removed]",
      "text/plain": [
       "<Figure size 1200x600 with 4 Axes>"
      ]
     },
     "metadata": {},
     "output_type": "display_data"
    }
   ],
   "source": [
    "figs, axes = plt.subplots(ncols=2, nrows=2, figsize=(12, 6))\n",
    "\n",
    "axes = axes.flatten()\n",
    "sns.boxenplot(x=df['Total_Ratings'], ax=axes[0])\n",
    "sns.boxenplot(x=df['no_of_pages'], ax=axes[1])\n",
    "sns.boxenplot(x=df['Reviews'], ax=axes[2])\n",
    "sns.boxenplot(x=df['Rating'], ax=axes[3])\n",
    "\n",
    "plt.tight_layout()\n",
    "plt.show()\n"
   ]
  },
  {
   "cell_type": "markdown",
   "id": "7ad51e04",
   "metadata": {},
   "source": [
    "**All four features contain visible outliers that could impact clustering performance if not addressed.**"
   ]
  },
  {
   "cell_type": "code",
   "execution_count": 45,
   "id": "88378442",
   "metadata": {},
   "outputs": [
    {
     "data": {
      "image/png": "[encoded data removed]",
      "text/plain": [
       "<Figure size 1200x600 with 1 Axes>"
      ]
     },
     "metadata": {},
     "output_type": "display_data"
    }
   ],
   "source": [
    "query = \"\"\"\n",
    "Select year(Release_Date) as year,Count(Book_ID) as Book_count\n",
    "From df\n",
    "Group By year(Release_Date)\n",
    "Order By Count(Book_ID) desc\n",
    "Limit 15\"\"\"\n",
    "\n",
    "\n",
    "plt.figure(figsize=(12,6))\n",
    "sns.barplot(data=results(query),x='year',y='Book_count',hue='year',palette='viridis')\n",
    "plt.show()"
   ]
  },
  {
   "cell_type": "code",
   "execution_count": 46,
   "id": "938d85ac",
   "metadata": {},
   "outputs": [
    {
     "data": {
      "image/png": "[encoded data removed]",
      "text/plain": [
       "<Figure size 1200x600 with 1 Axes>"
      ]
     },
     "metadata": {},
     "output_type": "display_data"
    }
   ],
   "source": [
    "query = \"\"\"\n",
    "Select month(Release_Date) as month,Count(Book_ID) as Book_count\n",
    "From df\n",
    "Group By month(Release_Date)\n",
    "Order By Count(Book_ID) desc\n",
    "Limit 15\"\"\"\n",
    "\n",
    "\n",
    "plt.figure(figsize=(12,6))\n",
    "sns.barplot(data=results(query),x='month',y='Book_count',hue='month',palette='viridis')\n",
    "plt.show()"
   ]
  },
  {
   "cell_type": "markdown",
   "id": "e181fe47",
   "metadata": {},
   "source": [
    "**Both the year and month distributions show strong class balance and clear patterns, suggesting that release timing could influence book trends. These features may help the model capture temporal or seasonal effects in publishing behavior.**"
   ]
  },
  {
   "cell_type": "markdown",
   "id": "5cf7556d",
   "metadata": {},
   "source": [
    "# Feature Selection"
   ]
  },
  {
   "cell_type": "code",
   "execution_count": 47,
   "id": "668bd697",
   "metadata": {},
   "outputs": [
    {
     "data": {
      "application/vnd.microsoft.datawrangler.viewer.v0+json": {
       "columns": [
        {
         "name": "index",
         "rawType": "int64",
         "type": "integer"
        },
        {
         "name": "Book_ID",
         "rawType": "int64",
         "type": "integer"
        },
        {
         "name": "BookTitle",
         "rawType": "object",
         "type": "string"
        },
        {
         "name": "Author",
         "rawType": "object",
         "type": "string"
        },
        {
         "name": "Release_date",
         "rawType": "object",
         "type": "unknown"
        },
        {
         "name": "no_of_pages",
         "rawType": "int64",
         "type": "integer"
        },
        {
         "name": "no_of_formats",
         "rawType": "int64",
         "type": "integer"
        },
        {
         "name": "no_of_languages",
         "rawType": "int64",
         "type": "integer"
        },
        {
         "name": "no_of_publishers",
         "rawType": "int64",
         "type": "integer"
        },
        {
         "name": "no_of_genres",
         "rawType": "int64",
         "type": "integer"
        },
        {
         "name": "Total_Ratings",
         "rawType": "int64",
         "type": "integer"
        },
        {
         "name": "Reviews",
         "rawType": "int64",
         "type": "integer"
        },
        {
         "name": "Rating",
         "rawType": "float64",
         "type": "float"
        }
       ],
       "ref": "0015c9e4-75a5-4c69-830d-eb13dae3561f",
       "rows": [
        [
         "0",
         "7287",
         "What I Didn't Say",
         "Keary Taylor",
         "2012-04-28",
         "336",
         "1",
         "1",
         "1",
         "7",
         "7665",
         "972",
         "3.95"
        ],
        [
         "1",
         "7297",
         "What the Dog Said",
         "Randi Reisfeld",
         "2012-02-28",
         "256",
         "1",
         "1",
         "1",
         "7",
         "604",
         "104",
         "4.1"
        ],
        [
         "2",
         "7335",
         "Where Mercy Is Shown, Mercy Is Given",
         "Duane \"Dog\" Chapman",
         "2010-03-16",
         "287",
         "1",
         "1",
         "1",
         "6",
         "960",
         "112",
         "3.95"
        ],
        [
         "3",
         "6035",
         "The Magic in Your Touch",
         "Sara Bell",
         "2005-06-24",
         "244",
         "1",
         "1",
         "1",
         "7",
         "399",
         "53",
         "3.93"
        ],
        [
         "4",
         "6943",
         "To Catch A Fox",
         "Geoffrey Knight",
         "2012-09-27",
         "389",
         "1",
         "1",
         "1",
         "7",
         "368",
         "94",
         "3.9"
        ],
        [
         "5",
         "7158",
         "Upside Down",
         "Lia Riley",
         "2014-08-05",
         "246",
         "1",
         "1",
         "1",
         "7",
         "1692",
         "382",
         "3.68"
        ],
        [
         "6",
         "220",
         "A Ticket to the Boneyard",
         "Lawrence Block",
         "2000-12-07",
         "292",
         "1",
         "1",
         "1",
         "7",
         "3789",
         "271",
         "4.15"
        ],
        [
         "7",
         "259",
         "Acclamation",
         "Vee Hoffman",
         "2012-10-09",
         "404",
         "1",
         "1",
         "1",
         "7",
         "457",
         "87",
         "4.16"
        ],
        [
         "8",
         "4565",
         "Shattered Souls",
         "Mary Lindsey",
         "2011-12-08",
         "337",
         "1",
         "1",
         "1",
         "7",
         "7687",
         "837",
         "3.94"
        ],
        [
         "9",
         "1252",
         "Courage for Beginners",
         "Karen Harrington",
         "2014-08-12",
         "304",
         "1",
         "1",
         "1",
         "7",
         "2262",
         "352",
         "3.94"
        ]
       ],
       "shape": {
        "columns": 12,
        "rows": 10
       }
      },
      "text/html": [
       "<div>\n",
       "<style scoped>\n",
       "    .dataframe tbody tr th:only-of-type {\n",
       "        vertical-align: middle;\n",
       "    }\n",
       "\n",
       "    .dataframe tbody tr th {\n",
       "        vertical-align: top;\n",
       "    }\n",
       "\n",
       "    .dataframe thead th {\n",
       "        text-align: right;\n",
       "    }\n",
       "</style>\n",
       "<table border=\"1\" class=\"dataframe\">\n",
       "  <thead>\n",
       "    <tr style=\"text-align: right;\">\n",
       "      <th></th>\n",
       "      <th>Book_ID</th>\n",
       "      <th>BookTitle</th>\n",
       "      <th>Author</th>\n",
       "      <th>Release_date</th>\n",
       "      <th>no_of_pages</th>\n",
       "      <th>no_of_formats</th>\n",
       "      <th>no_of_languages</th>\n",
       "      <th>no_of_publishers</th>\n",
       "      <th>no_of_genres</th>\n",
       "      <th>Total_Ratings</th>\n",
       "      <th>Reviews</th>\n",
       "      <th>Rating</th>\n",
       "    </tr>\n",
       "  </thead>\n",
       "  <tbody>\n",
       "    <tr>\n",
       "      <th>0</th>\n",
       "      <td>7287</td>\n",
       "      <td>What I Didn't Say</td>\n",
       "      <td>Keary Taylor</td>\n",
       "      <td>2012-04-28</td>\n",
       "      <td>336</td>\n",
       "      <td>1</td>\n",
       "      <td>1</td>\n",
       "      <td>1</td>\n",
       "      <td>7</td>\n",
       "      <td>7665</td>\n",
       "      <td>972</td>\n",
       "      <td>3.95</td>\n",
       "    </tr>\n",
       "    <tr>\n",
       "      <th>1</th>\n",
       "      <td>7297</td>\n",
       "      <td>What the Dog Said</td>\n",
       "      <td>Randi Reisfeld</td>\n",
       "      <td>2012-02-28</td>\n",
       "      <td>256</td>\n",
       "      <td>1</td>\n",
       "      <td>1</td>\n",
       "      <td>1</td>\n",
       "      <td>7</td>\n",
       "      <td>604</td>\n",
       "      <td>104</td>\n",
       "      <td>4.10</td>\n",
       "    </tr>\n",
       "    <tr>\n",
       "      <th>2</th>\n",
       "      <td>7335</td>\n",
       "      <td>Where Mercy Is Shown, Mercy Is Given</td>\n",
       "      <td>Duane \"Dog\" Chapman</td>\n",
       "      <td>2010-03-16</td>\n",
       "      <td>287</td>\n",
       "      <td>1</td>\n",
       "      <td>1</td>\n",
       "      <td>1</td>\n",
       "      <td>6</td>\n",
       "      <td>960</td>\n",
       "      <td>112</td>\n",
       "      <td>3.95</td>\n",
       "    </tr>\n",
       "    <tr>\n",
       "      <th>3</th>\n",
       "      <td>6035</td>\n",
       "      <td>The Magic in Your Touch</td>\n",
       "      <td>Sara Bell</td>\n",
       "      <td>2005-06-24</td>\n",
       "      <td>244</td>\n",
       "      <td>1</td>\n",
       "      <td>1</td>\n",
       "      <td>1</td>\n",
       "      <td>7</td>\n",
       "      <td>399</td>\n",
       "      <td>53</td>\n",
       "      <td>3.93</td>\n",
       "    </tr>\n",
       "    <tr>\n",
       "      <th>4</th>\n",
       "      <td>6943</td>\n",
       "      <td>To Catch A Fox</td>\n",
       "      <td>Geoffrey Knight</td>\n",
       "      <td>2012-09-27</td>\n",
       "      <td>389</td>\n",
       "      <td>1</td>\n",
       "      <td>1</td>\n",
       "      <td>1</td>\n",
       "      <td>7</td>\n",
       "      <td>368</td>\n",
       "      <td>94</td>\n",
       "      <td>3.90</td>\n",
       "    </tr>\n",
       "    <tr>\n",
       "      <th>5</th>\n",
       "      <td>7158</td>\n",
       "      <td>Upside Down</td>\n",
       "      <td>Lia Riley</td>\n",
       "      <td>2014-08-05</td>\n",
       "      <td>246</td>\n",
       "      <td>1</td>\n",
       "      <td>1</td>\n",
       "      <td>1</td>\n",
       "      <td>7</td>\n",
       "      <td>1692</td>\n",
       "      <td>382</td>\n",
       "      <td>3.68</td>\n",
       "    </tr>\n",
       "    <tr>\n",
       "      <th>6</th>\n",
       "      <td>220</td>\n",
       "      <td>A Ticket to the Boneyard</td>\n",
       "      <td>Lawrence Block</td>\n",
       "      <td>2000-12-07</td>\n",
       "      <td>292</td>\n",
       "      <td>1</td>\n",
       "      <td>1</td>\n",
       "      <td>1</td>\n",
       "      <td>7</td>\n",
       "      <td>3789</td>\n",
       "      <td>271</td>\n",
       "      <td>4.15</td>\n",
       "    </tr>\n",
       "    <tr>\n",
       "      <th>7</th>\n",
       "      <td>259</td>\n",
       "      <td>Acclamation</td>\n",
       "      <td>Vee Hoffman</td>\n",
       "      <td>2012-10-09</td>\n",
       "      <td>404</td>\n",
       "      <td>1</td>\n",
       "      <td>1</td>\n",
       "      <td>1</td>\n",
       "      <td>7</td>\n",
       "      <td>457</td>\n",
       "      <td>87</td>\n",
       "      <td>4.16</td>\n",
       "    </tr>\n",
       "    <tr>\n",
       "      <th>8</th>\n",
       "      <td>4565</td>\n",
       "      <td>Shattered Souls</td>\n",
       "      <td>Mary Lindsey</td>\n",
       "      <td>2011-12-08</td>\n",
       "      <td>337</td>\n",
       "      <td>1</td>\n",
       "      <td>1</td>\n",
       "      <td>1</td>\n",
       "      <td>7</td>\n",
       "      <td>7687</td>\n",
       "      <td>837</td>\n",
       "      <td>3.94</td>\n",
       "    </tr>\n",
       "    <tr>\n",
       "      <th>9</th>\n",
       "      <td>1252</td>\n",
       "      <td>Courage for Beginners</td>\n",
       "      <td>Karen Harrington</td>\n",
       "      <td>2014-08-12</td>\n",
       "      <td>304</td>\n",
       "      <td>1</td>\n",
       "      <td>1</td>\n",
       "      <td>1</td>\n",
       "      <td>7</td>\n",
       "      <td>2262</td>\n",
       "      <td>352</td>\n",
       "      <td>3.94</td>\n",
       "    </tr>\n",
       "  </tbody>\n",
       "</table>\n",
       "</div>"
      ],
      "text/plain": [
       "   Book_ID                             BookTitle               Author  \\\n",
       "0     7287                     What I Didn't Say         Keary Taylor   \n",
       "1     7297                     What the Dog Said       Randi Reisfeld   \n",
       "2     7335  Where Mercy Is Shown, Mercy Is Given  Duane \"Dog\" Chapman   \n",
       "3     6035               The Magic in Your Touch            Sara Bell   \n",
       "4     6943                        To Catch A Fox      Geoffrey Knight   \n",
       "5     7158                           Upside Down            Lia Riley   \n",
       "6      220              A Ticket to the Boneyard       Lawrence Block   \n",
       "7      259                           Acclamation          Vee Hoffman   \n",
       "8     4565                       Shattered Souls         Mary Lindsey   \n",
       "9     1252                 Courage for Beginners     Karen Harrington   \n",
       "\n",
       "  Release_date  no_of_pages  no_of_formats  no_of_languages  no_of_publishers  \\\n",
       "0   2012-04-28          336              1                1                 1   \n",
       "1   2012-02-28          256              1                1                 1   \n",
       "2   2010-03-16          287              1                1                 1   \n",
       "3   2005-06-24          244              1                1                 1   \n",
       "4   2012-09-27          389              1                1                 1   \n",
       "5   2014-08-05          246              1                1                 1   \n",
       "6   2000-12-07          292              1                1                 1   \n",
       "7   2012-10-09          404              1                1                 1   \n",
       "8   2011-12-08          337              1                1                 1   \n",
       "9   2014-08-12          304              1                1                 1   \n",
       "\n",
       "   no_of_genres  Total_Ratings  Reviews  Rating  \n",
       "0             7           7665      972    3.95  \n",
       "1             7            604      104    4.10  \n",
       "2             6            960      112    3.95  \n",
       "3             7            399       53    3.93  \n",
       "4             7            368       94    3.90  \n",
       "5             7           1692      382    3.68  \n",
       "6             7           3789      271    4.15  \n",
       "7             7            457       87    4.16  \n",
       "8             7           7687      837    3.94  \n",
       "9             7           2262      352    3.94  "
      ]
     },
     "execution_count": 47,
     "metadata": {},
     "output_type": "execute_result"
    }
   ],
   "source": [
    "model_df = df.copy()\n",
    "model_df.head(10)"
   ]
  },
  {
   "cell_type": "code",
   "execution_count": 48,
   "id": "92025c99",
   "metadata": {},
   "outputs": [
    {
     "data": {
      "image/png": "[encoded data removed]",
      "text/plain": [
       "<Figure size 640x480 with 1 Axes>"
      ]
     },
     "metadata": {},
     "output_type": "display_data"
    },
    {
     "data": {
      "image/png": "[encoded data removed]",
      "text/plain": [
       "<Figure size 640x480 with 1 Axes>"
      ]
     },
     "metadata": {},
     "output_type": "display_data"
    },
    {
     "data": {
      "image/png": "[encoded data removed]",
      "text/plain": [
       "<Figure size 640x480 with 1 Axes>"
      ]
     },
     "metadata": {},
     "output_type": "display_data"
    },
    {
     "data": {
      "image/png": "[encoded data removed]",
      "text/plain": [
       "<Figure size 640x480 with 1 Axes>"
      ]
     },
     "metadata": {},
     "output_type": "display_data"
    }
   ],
   "source": [
    "l = ['no_of_formats', 'no_of_languages', 'no_of_publishers', 'no_of_genres']\n",
    "for i in l:\n",
    "    plot = model_df[i].value_counts().reset_index()\n",
    "    sns.barplot(data=plot, x=i, y='count')\n",
    "    plt.title(i)\n",
    "    plt.show()"
   ]
  },
  {
   "cell_type": "code",
   "execution_count": 49,
   "id": "00db8e6e",
   "metadata": {},
   "outputs": [
    {
     "data": {
      "application/vnd.microsoft.datawrangler.viewer.v0+json": {
       "columns": [
        {
         "name": "index",
         "rawType": "int64",
         "type": "integer"
        },
        {
         "name": "Book_ID",
         "rawType": "int64",
         "type": "integer"
        },
        {
         "name": "Release_date",
         "rawType": "object",
         "type": "unknown"
        },
        {
         "name": "no_of_pages",
         "rawType": "int64",
         "type": "integer"
        },
        {
         "name": "Total_Ratings",
         "rawType": "int64",
         "type": "integer"
        },
        {
         "name": "Reviews",
         "rawType": "int64",
         "type": "integer"
        },
        {
         "name": "Rating",
         "rawType": "float64",
         "type": "float"
        }
       ],
       "ref": "2079be24-dd3a-4ed5-8c78-736afc694179",
       "rows": [
        [
         "0",
         "7287",
         "2012-04-28",
         "336",
         "7665",
         "972",
         "3.95"
        ],
        [
         "1",
         "7297",
         "2012-02-28",
         "256",
         "604",
         "104",
         "4.1"
        ],
        [
         "2",
         "7335",
         "2010-03-16",
         "287",
         "960",
         "112",
         "3.95"
        ],
        [
         "3",
         "6035",
         "2005-06-24",
         "244",
         "399",
         "53",
         "3.93"
        ],
        [
         "4",
         "6943",
         "2012-09-27",
         "389",
         "368",
         "94",
         "3.9"
        ],
        [
         "5",
         "7158",
         "2014-08-05",
         "246",
         "1692",
         "382",
         "3.68"
        ],
        [
         "6",
         "220",
         "2000-12-07",
         "292",
         "3789",
         "271",
         "4.15"
        ],
        [
         "7",
         "259",
         "2012-10-09",
         "404",
         "457",
         "87",
         "4.16"
        ],
        [
         "8",
         "4565",
         "2011-12-08",
         "337",
         "7687",
         "837",
         "3.94"
        ],
        [
         "9",
         "1252",
         "2014-08-12",
         "304",
         "2262",
         "352",
         "3.94"
        ]
       ],
       "shape": {
        "columns": 6,
        "rows": 10
       }
      },
      "text/html": [
       "<div>\n",
       "<style scoped>\n",
       "    .dataframe tbody tr th:only-of-type {\n",
       "        vertical-align: middle;\n",
       "    }\n",
       "\n",
       "    .dataframe tbody tr th {\n",
       "        vertical-align: top;\n",
       "    }\n",
       "\n",
       "    .dataframe thead th {\n",
       "        text-align: right;\n",
       "    }\n",
       "</style>\n",
       "<table border=\"1\" class=\"dataframe\">\n",
       "  <thead>\n",
       "    <tr style=\"text-align: right;\">\n",
       "      <th></th>\n",
       "      <th>Book_ID</th>\n",
       "      <th>Release_date</th>\n",
       "      <th>no_of_pages</th>\n",
       "      <th>Total_Ratings</th>\n",
       "      <th>Reviews</th>\n",
       "      <th>Rating</th>\n",
       "    </tr>\n",
       "  </thead>\n",
       "  <tbody>\n",
       "    <tr>\n",
       "      <th>0</th>\n",
       "      <td>7287</td>\n",
       "      <td>2012-04-28</td>\n",
       "      <td>336</td>\n",
       "      <td>7665</td>\n",
       "      <td>972</td>\n",
       "      <td>3.95</td>\n",
       "    </tr>\n",
       "    <tr>\n",
       "      <th>1</th>\n",
       "      <td>7297</td>\n",
       "      <td>2012-02-28</td>\n",
       "      <td>256</td>\n",
       "      <td>604</td>\n",
       "      <td>104</td>\n",
       "      <td>4.10</td>\n",
       "    </tr>\n",
       "    <tr>\n",
       "      <th>2</th>\n",
       "      <td>7335</td>\n",
       "      <td>2010-03-16</td>\n",
       "      <td>287</td>\n",
       "      <td>960</td>\n",
       "      <td>112</td>\n",
       "      <td>3.95</td>\n",
       "    </tr>\n",
       "    <tr>\n",
       "      <th>3</th>\n",
       "      <td>6035</td>\n",
       "      <td>2005-06-24</td>\n",
       "      <td>244</td>\n",
       "      <td>399</td>\n",
       "      <td>53</td>\n",
       "      <td>3.93</td>\n",
       "    </tr>\n",
       "    <tr>\n",
       "      <th>4</th>\n",
       "      <td>6943</td>\n",
       "      <td>2012-09-27</td>\n",
       "      <td>389</td>\n",
       "      <td>368</td>\n",
       "      <td>94</td>\n",
       "      <td>3.90</td>\n",
       "    </tr>\n",
       "    <tr>\n",
       "      <th>5</th>\n",
       "      <td>7158</td>\n",
       "      <td>2014-08-05</td>\n",
       "      <td>246</td>\n",
       "      <td>1692</td>\n",
       "      <td>382</td>\n",
       "      <td>3.68</td>\n",
       "    </tr>\n",
       "    <tr>\n",
       "      <th>6</th>\n",
       "      <td>220</td>\n",
       "      <td>2000-12-07</td>\n",
       "      <td>292</td>\n",
       "      <td>3789</td>\n",
       "      <td>271</td>\n",
       "      <td>4.15</td>\n",
       "    </tr>\n",
       "    <tr>\n",
       "      <th>7</th>\n",
       "      <td>259</td>\n",
       "      <td>2012-10-09</td>\n",
       "      <td>404</td>\n",
       "      <td>457</td>\n",
       "      <td>87</td>\n",
       "      <td>4.16</td>\n",
       "    </tr>\n",
       "    <tr>\n",
       "      <th>8</th>\n",
       "      <td>4565</td>\n",
       "      <td>2011-12-08</td>\n",
       "      <td>337</td>\n",
       "      <td>7687</td>\n",
       "      <td>837</td>\n",
       "      <td>3.94</td>\n",
       "    </tr>\n",
       "    <tr>\n",
       "      <th>9</th>\n",
       "      <td>1252</td>\n",
       "      <td>2014-08-12</td>\n",
       "      <td>304</td>\n",
       "      <td>2262</td>\n",
       "      <td>352</td>\n",
       "      <td>3.94</td>\n",
       "    </tr>\n",
       "  </tbody>\n",
       "</table>\n",
       "</div>"
      ],
      "text/plain": [
       "   Book_ID Release_date  no_of_pages  Total_Ratings  Reviews  Rating\n",
       "0     7287   2012-04-28          336           7665      972    3.95\n",
       "1     7297   2012-02-28          256            604      104    4.10\n",
       "2     7335   2010-03-16          287            960      112    3.95\n",
       "3     6035   2005-06-24          244            399       53    3.93\n",
       "4     6943   2012-09-27          389            368       94    3.90\n",
       "5     7158   2014-08-05          246           1692      382    3.68\n",
       "6      220   2000-12-07          292           3789      271    4.15\n",
       "7      259   2012-10-09          404            457       87    4.16\n",
       "8     4565   2011-12-08          337           7687      837    3.94\n",
       "9     1252   2014-08-12          304           2262      352    3.94"
      ]
     },
     "execution_count": 49,
     "metadata": {},
     "output_type": "execute_result"
    }
   ],
   "source": [
    "model_df.drop(columns=['BookTitle','Author','no_of_formats','no_of_languages','no_of_publishers','no_of_genres'],axis=1,inplace=True)\n",
    "model_df.head(10)"
   ]
  },
  {
   "cell_type": "markdown",
   "id": "599d7c9f",
   "metadata": {},
   "source": [
    "**Feature Removal Explanation**\n",
    "\n",
    "**While Author and Publisher could influence a book’s popularity or content, the frequency is too low to train anything meaningful, so they were excluded from the model.**\n",
    "\n",
    "**no_of_formats, no_of_languages, no_of_publishers, and no_of_genres were removed due to major class imbalance. most books had just one format, one language, etc., so these columns didn’t add much variety for clustering.**\n",
    "**Additionally, language data from the language_map table will also be excluded for the same reason.**"
   ]
  },
  {
   "cell_type": "code",
   "execution_count": 50,
   "id": "a6faad00",
   "metadata": {},
   "outputs": [
    {
     "data": {
      "image/png": "[encoded data removed]",
      "text/plain": [
       "<Figure size 640x480 with 1 Axes>"
      ]
     },
     "metadata": {},
     "output_type": "display_data"
    }
   ],
   "source": [
    "sns.barplot(data=format_map['Format'].value_counts().reset_index().head(10),y='Format',x='count',hue='Format',palette='viridis')\n",
    "plt.show()"
   ]
  },
  {
   "cell_type": "code",
   "execution_count": 51,
   "id": "ad78fed8",
   "metadata": {},
   "outputs": [
    {
     "name": "stdout",
     "output_type": "stream",
     "text": [
      "Total Number of unique Formats: 25\n",
      "Number of uniques Formats converted: 21\n",
      "Percentage of Formats categorized as \"Other\": 10%\n"
     ]
    }
   ],
   "source": [
    "query = \"\"\"\n",
    "Select Book_ID,\n",
    "    Case\n",
    "        When Format In ('Paperback', 'Hardcover', 'ebook', 'Kindle Edition')\n",
    "            Then Format\n",
    "        Else 'other'\n",
    "    End as Format_Grouped\n",
    "From format_map\n",
    "\"\"\"\n",
    "format_encoded = pd.get_dummies(results(query),'Format')\n",
    "format_encoded = format_encoded.groupby('Book_ID',as_index=False).sum() # Removes duplicate Book_ID entries by summing one-hot encoded format columns\n",
    "\n",
    "print(f'Total Number of unique Formats: {format_map[\"Format\"].nunique()}')\n",
    "print(f'Number of uniques Formats converted: {(format_map[\"Format\"].nunique() - 4)}')\n",
    "print(f'Percentage of Formats categorized as \"Other\": {round((format_encoded[\"Format_other\"].sum() / format_map[\"Book_ID\"].count()) * 100)}%')"
   ]
  },
  {
   "cell_type": "markdown",
   "id": "9bd80900",
   "metadata": {},
   "source": [
    "**The Format column had a lot of categories, but most books were just in four formats  Paperback, Hardcover, eBook, and Kindle Edition. These top formats covered over 90% of the data. Instead of removing the column, the less common ones were grouped into an \"Other\" category to simplify things while keeping useful variation.**"
   ]
  },
  {
   "cell_type": "code",
   "execution_count": 52,
   "id": "2da2b7d7",
   "metadata": {},
   "outputs": [],
   "source": [
    "five_percentage_of_books = (0.005 * df['Book_ID'].nunique())\n",
    "query = f\"\"\"\n",
    "Select Genres\n",
    "From genre_map\n",
    "Group By Genres\n",
    "Having count(Book_ID) <= {five_percentage_of_books}\"\"\"\n",
    "less_frequency_genres = results(query)"
   ]
  },
  {
   "cell_type": "code",
   "execution_count": 53,
   "id": "acfd9804",
   "metadata": {},
   "outputs": [
    {
     "name": "stdout",
     "output_type": "stream",
     "text": [
      "Total Number of unique Genres: 547\n",
      "Number of uniques Genres covtered: Genres    421\n",
      "dtype: int64\n",
      "Percentage of Genres categorized as \"Other\": 6%\n"
     ]
    }
   ],
   "source": [
    "query = f\"\"\"\n",
    "Select Book_ID,\n",
    "    Case \n",
    "        When not Genres in {list(less_frequency_genres[\"Genres\"])}\n",
    "            Then Genres\n",
    "        Else 'Other'\n",
    "    End as Genres\n",
    "From genre_map \n",
    "\"\"\"\n",
    "genre_encoded = pd.get_dummies(results(query),'Genres')\n",
    "genre_encoded = genre_encoded.groupby('Book_ID',as_index=False).sum()\n",
    "\n",
    "print(f'Total Number of unique Genres: {genre_map[\"Genres\"].nunique()}')\n",
    "print(f'Number of uniques Genres covtered: {less_frequency_genres.nunique()}')\n",
    "print(f'Percentage of Genres categorized as \"Other\": {round((genre_encoded[\"Genres_Other\"].sum() / genre_map[\"Book_ID\"].count()) * 100)}%')"
   ]
  },
  {
   "cell_type": "markdown",
   "id": "f1f20223",
   "metadata": {},
   "source": [
    "**Most genres were represented by only a few books in the dataset. To reduce dimensionality and help the clustering model focus on general patterns, only the more common genres were retained. The less frequent ones were grouped into an \"Other\" category.**"
   ]
  },
  {
   "cell_type": "code",
   "execution_count": 54,
   "id": "50a410f3",
   "metadata": {},
   "outputs": [],
   "source": [
    "model_df['Total_Ratings'] = np.log1p(model_df['Total_Ratings'])\n",
    "model_df['Reviews'] = np.log1p(model_df['Reviews'])\n",
    "model_df['no_of_pages'] = np.log1p(model_df['no_of_pages'])"
   ]
  },
  {
   "cell_type": "markdown",
   "id": "3e085ba9",
   "metadata": {},
   "source": [
    "**The Total_Ratings, Reviews, and no_of_pages columns were highly right-skewed. To reduce the impact of extreme values and make these features more suitable for clustering, a log transformation was applied to better normalize their distributions.**"
   ]
  },
  {
   "cell_type": "code",
   "execution_count": 55,
   "id": "84b01bf5",
   "metadata": {},
   "outputs": [
    {
     "data": {
      "application/vnd.microsoft.datawrangler.viewer.v0+json": {
       "columns": [
        {
         "name": "index",
         "rawType": "int64",
         "type": "integer"
        },
        {
         "name": "Book_ID",
         "rawType": "int64",
         "type": "integer"
        },
        {
         "name": "no_of_pages",
         "rawType": "float64",
         "type": "float"
        },
        {
         "name": "Total_Ratings",
         "rawType": "float64",
         "type": "float"
        },
        {
         "name": "Reviews",
         "rawType": "float64",
         "type": "float"
        },
        {
         "name": "Rating",
         "rawType": "float64",
         "type": "float"
        },
        {
         "name": "Month",
         "rawType": "int64",
         "type": "integer"
        },
        {
         "name": "Year",
         "rawType": "int64",
         "type": "integer"
        }
       ],
       "ref": "55cadd61-e4f0-4d76-902d-dca77bc7c47e",
       "rows": [
        [
         "0",
         "7287",
         "5.820082930352362",
         "8.9445502459405",
         "6.880384082186005",
         "3.95",
         "4",
         "2012"
        ],
        [
         "1",
         "7297",
         "5.54907608489522",
         "6.405228458030842",
         "4.653960350157523",
         "4.1",
         "2",
         "2012"
        ],
        [
         "2",
         "7335",
         "5.662960480135946",
         "6.8679744089702925",
         "4.727387818712341",
         "3.95",
         "3",
         "2010"
        ],
        [
         "3",
         "6035",
         "5.501258210544727",
         "5.991464547107982",
         "3.9889840465642745",
         "3.93",
         "6",
         "2005"
        ],
        [
         "4",
         "6943",
         "5.966146739123692",
         "5.910796644040527",
         "4.553876891600541",
         "3.9",
         "9",
         "2012"
        ]
       ],
       "shape": {
        "columns": 7,
        "rows": 5
       }
      },
      "text/html": [
       "<div>\n",
       "<style scoped>\n",
       "    .dataframe tbody tr th:only-of-type {\n",
       "        vertical-align: middle;\n",
       "    }\n",
       "\n",
       "    .dataframe tbody tr th {\n",
       "        vertical-align: top;\n",
       "    }\n",
       "\n",
       "    .dataframe thead th {\n",
       "        text-align: right;\n",
       "    }\n",
       "</style>\n",
       "<table border=\"1\" class=\"dataframe\">\n",
       "  <thead>\n",
       "    <tr style=\"text-align: right;\">\n",
       "      <th></th>\n",
       "      <th>Book_ID</th>\n",
       "      <th>no_of_pages</th>\n",
       "      <th>Total_Ratings</th>\n",
       "      <th>Reviews</th>\n",
       "      <th>Rating</th>\n",
       "      <th>Month</th>\n",
       "      <th>Year</th>\n",
       "    </tr>\n",
       "  </thead>\n",
       "  <tbody>\n",
       "    <tr>\n",
       "      <th>0</th>\n",
       "      <td>7287</td>\n",
       "      <td>5.820083</td>\n",
       "      <td>8.944550</td>\n",
       "      <td>6.880384</td>\n",
       "      <td>3.95</td>\n",
       "      <td>4</td>\n",
       "      <td>2012</td>\n",
       "    </tr>\n",
       "    <tr>\n",
       "      <th>1</th>\n",
       "      <td>7297</td>\n",
       "      <td>5.549076</td>\n",
       "      <td>6.405228</td>\n",
       "      <td>4.653960</td>\n",
       "      <td>4.10</td>\n",
       "      <td>2</td>\n",
       "      <td>2012</td>\n",
       "    </tr>\n",
       "    <tr>\n",
       "      <th>2</th>\n",
       "      <td>7335</td>\n",
       "      <td>5.662960</td>\n",
       "      <td>6.867974</td>\n",
       "      <td>4.727388</td>\n",
       "      <td>3.95</td>\n",
       "      <td>3</td>\n",
       "      <td>2010</td>\n",
       "    </tr>\n",
       "    <tr>\n",
       "      <th>3</th>\n",
       "      <td>6035</td>\n",
       "      <td>5.501258</td>\n",
       "      <td>5.991465</td>\n",
       "      <td>3.988984</td>\n",
       "      <td>3.93</td>\n",
       "      <td>6</td>\n",
       "      <td>2005</td>\n",
       "    </tr>\n",
       "    <tr>\n",
       "      <th>4</th>\n",
       "      <td>6943</td>\n",
       "      <td>5.966147</td>\n",
       "      <td>5.910797</td>\n",
       "      <td>4.553877</td>\n",
       "      <td>3.90</td>\n",
       "      <td>9</td>\n",
       "      <td>2012</td>\n",
       "    </tr>\n",
       "  </tbody>\n",
       "</table>\n",
       "</div>"
      ],
      "text/plain": [
       "   Book_ID  no_of_pages  Total_Ratings   Reviews  Rating  Month  Year\n",
       "0     7287     5.820083       8.944550  6.880384    3.95      4  2012\n",
       "1     7297     5.549076       6.405228  4.653960    4.10      2  2012\n",
       "2     7335     5.662960       6.867974  4.727388    3.95      3  2010\n",
       "3     6035     5.501258       5.991465  3.988984    3.93      6  2005\n",
       "4     6943     5.966147       5.910797  4.553877    3.90      9  2012"
      ]
     },
     "execution_count": 55,
     "metadata": {},
     "output_type": "execute_result"
    }
   ],
   "source": [
    "# Extracting 'year' and 'month' from 'release_Date' based on insights from EDA\n",
    "query = \"\"\"\n",
    "Select month(Release_date) as month,Year(Release_date) as year\n",
    "From model_df\"\"\"\n",
    "model_df['Month'] = results(query)['month'].astype(int)\n",
    "model_df['Year'] = results(query)['year'].astype(int)\n",
    "model_df.drop(columns='Release_date',inplace=True) # Dropping Release_date as it's no longer needed\n",
    "model_df.head(5)"
   ]
  },
  {
   "cell_type": "markdown",
   "id": "49a55f0f",
   "metadata": {},
   "source": [
    "**To evaluate whether Year and Month are useful features in the model, a Chi-square test of independence will be performed between each time variable and the genre categories. Genre is selected as the target for this test as it plays a significant role in model performance.**\n",
    "\n",
    "**Hypotheses:**\n",
    "\n",
    "**Null Hypothesis: There is no significant association between the time variable (Year or Month) and book genre.**\n",
    "\n",
    "**Alternative Hypothesis : There is a significant association between the time variable (Year or Month) and book genre.**\n"
   ]
  },
  {
   "cell_type": "code",
   "execution_count": 56,
   "id": "d8605748",
   "metadata": {},
   "outputs": [
    {
     "data": {
      "application/vnd.microsoft.datawrangler.viewer.v0+json": {
       "columns": [
        {
         "name": "index",
         "rawType": "int64",
         "type": "integer"
        },
        {
         "name": "Book_ID",
         "rawType": "int64",
         "type": "integer"
        },
        {
         "name": "no_of_pages",
         "rawType": "float64",
         "type": "float"
        },
        {
         "name": "Total_Ratings",
         "rawType": "float64",
         "type": "float"
        },
        {
         "name": "Reviews",
         "rawType": "float64",
         "type": "float"
        },
        {
         "name": "Rating",
         "rawType": "float64",
         "type": "float"
        },
        {
         "name": "Month",
         "rawType": "int64",
         "type": "integer"
        },
        {
         "name": "Year",
         "rawType": "int64",
         "type": "integer"
        },
        {
         "name": "Genres_19th Century",
         "rawType": "int64",
         "type": "integer"
        },
        {
         "name": "Genres_Abuse",
         "rawType": "int64",
         "type": "integer"
        },
        {
         "name": "Genres_Action",
         "rawType": "int64",
         "type": "integer"
        },
        {
         "name": "Genres_Adult",
         "rawType": "int64",
         "type": "integer"
        },
        {
         "name": "Genres_Adult Fiction",
         "rawType": "int64",
         "type": "integer"
        },
        {
         "name": "Genres_Adventure",
         "rawType": "int64",
         "type": "integer"
        },
        {
         "name": "Genres_Aliens",
         "rawType": "int64",
         "type": "integer"
        },
        {
         "name": "Genres_American",
         "rawType": "int64",
         "type": "integer"
        },
        {
         "name": "Genres_Angels",
         "rawType": "int64",
         "type": "integer"
        },
        {
         "name": "Genres_Animals",
         "rawType": "int64",
         "type": "integer"
        },
        {
         "name": "Genres_Anthologies",
         "rawType": "int64",
         "type": "integer"
        },
        {
         "name": "Genres_Audiobook",
         "rawType": "int64",
         "type": "integer"
        },
        {
         "name": "Genres_Autobiography",
         "rawType": "int64",
         "type": "integer"
        },
        {
         "name": "Genres_BDSM",
         "rawType": "int64",
         "type": "integer"
        },
        {
         "name": "Genres_Biography",
         "rawType": "int64",
         "type": "integer"
        },
        {
         "name": "Genres_Biography Memoir",
         "rawType": "int64",
         "type": "integer"
        },
        {
         "name": "Genres_British Literature",
         "rawType": "int64",
         "type": "integer"
        },
        {
         "name": "Genres_Chick Lit",
         "rawType": "int64",
         "type": "integer"
        },
        {
         "name": "Genres_Childrens",
         "rawType": "int64",
         "type": "integer"
        },
        {
         "name": "Genres_Christian",
         "rawType": "int64",
         "type": "integer"
        },
        {
         "name": "Genres_Classics",
         "rawType": "int64",
         "type": "integer"
        },
        {
         "name": "Genres_College",
         "rawType": "int64",
         "type": "integer"
        },
        {
         "name": "Genres_Comedy",
         "rawType": "int64",
         "type": "integer"
        },
        {
         "name": "Genres_Comic Book",
         "rawType": "int64",
         "type": "integer"
        },
        {
         "name": "Genres_Comics",
         "rawType": "int64",
         "type": "integer"
        },
        {
         "name": "Genres_Coming Of Age",
         "rawType": "int64",
         "type": "integer"
        },
        {
         "name": "Genres_Contemporary",
         "rawType": "int64",
         "type": "integer"
        },
        {
         "name": "Genres_Contemporary Romance",
         "rawType": "int64",
         "type": "integer"
        },
        {
         "name": "Genres_Crime",
         "rawType": "int64",
         "type": "integer"
        },
        {
         "name": "Genres_Dark",
         "rawType": "int64",
         "type": "integer"
        },
        {
         "name": "Genres_Demons",
         "rawType": "int64",
         "type": "integer"
        },
        {
         "name": "Genres_Disability",
         "rawType": "int64",
         "type": "integer"
        },
        {
         "name": "Genres_Dragons",
         "rawType": "int64",
         "type": "integer"
        },
        {
         "name": "Genres_Drama",
         "rawType": "int64",
         "type": "integer"
        },
        {
         "name": "Genres_Dystopia",
         "rawType": "int64",
         "type": "integer"
        },
        {
         "name": "Genres_Epic Fantasy",
         "rawType": "int64",
         "type": "integer"
        },
        {
         "name": "Genres_Erotic Romance",
         "rawType": "int64",
         "type": "integer"
        },
        {
         "name": "Genres_Erotica",
         "rawType": "int64",
         "type": "integer"
        },
        {
         "name": "Genres_Fae",
         "rawType": "int64",
         "type": "integer"
        },
        {
         "name": "Genres_Fairy Tales",
         "rawType": "int64",
         "type": "integer"
        },
        {
         "name": "Genres_Family",
         "rawType": "int64",
         "type": "integer"
        },
        {
         "name": "Genres_Fantasy",
         "rawType": "int64",
         "type": "integer"
        },
        {
         "name": "Genres_Feminism",
         "rawType": "int64",
         "type": "integer"
        },
        {
         "name": "Genres_Fiction",
         "rawType": "int64",
         "type": "integer"
        },
        {
         "name": "Genres_Gay",
         "rawType": "int64",
         "type": "integer"
        },
        {
         "name": "Genres_Gay For You",
         "rawType": "int64",
         "type": "integer"
        },
        {
         "name": "Genres_Ghosts",
         "rawType": "int64",
         "type": "integer"
        },
        {
         "name": "Genres_Gothic",
         "rawType": "int64",
         "type": "integer"
        },
        {
         "name": "Genres_Graphic Novels",
         "rawType": "int64",
         "type": "integer"
        },
        {
         "name": "Genres_Graphic Novels Comics",
         "rawType": "int64",
         "type": "integer"
        },
        {
         "name": "Genres_Greek Mythology",
         "rawType": "int64",
         "type": "integer"
        },
        {
         "name": "Genres_High Fantasy",
         "rawType": "int64",
         "type": "integer"
        },
        {
         "name": "Genres_High School",
         "rawType": "int64",
         "type": "integer"
        },
        {
         "name": "Genres_Historical",
         "rawType": "int64",
         "type": "integer"
        },
        {
         "name": "Genres_Historical Fiction",
         "rawType": "int64",
         "type": "integer"
        },
        {
         "name": "Genres_Historical Romance",
         "rawType": "int64",
         "type": "integer"
        },
        {
         "name": "Genres_History",
         "rawType": "int64",
         "type": "integer"
        },
        {
         "name": "Genres_Horror",
         "rawType": "int64",
         "type": "integer"
        },
        {
         "name": "Genres_Humor",
         "rawType": "int64",
         "type": "integer"
        },
        {
         "name": "Genres_Juvenile",
         "rawType": "int64",
         "type": "integer"
        },
        {
         "name": "Genres_LGBT",
         "rawType": "int64",
         "type": "integer"
        },
        {
         "name": "Genres_Lesbian",
         "rawType": "int64",
         "type": "integer"
        },
        {
         "name": "Genres_Lesbian Romance",
         "rawType": "int64",
         "type": "integer"
        },
        {
         "name": "Genres_Literary Fiction",
         "rawType": "int64",
         "type": "integer"
        },
        {
         "name": "Genres_Literature",
         "rawType": "int64",
         "type": "integer"
        },
        {
         "name": "Genres_M M Romance",
         "rawType": "int64",
         "type": "integer"
        },
        {
         "name": "Genres_Magic",
         "rawType": "int64",
         "type": "integer"
        },
        {
         "name": "Genres_Magical Realism",
         "rawType": "int64",
         "type": "integer"
        },
        {
         "name": "Genres_Manga",
         "rawType": "int64",
         "type": "integer"
        },
        {
         "name": "Genres_Memoir",
         "rawType": "int64",
         "type": "integer"
        },
        {
         "name": "Genres_Menage",
         "rawType": "int64",
         "type": "integer"
        },
        {
         "name": "Genres_Mental Health",
         "rawType": "int64",
         "type": "integer"
        },
        {
         "name": "Genres_Mental Illness",
         "rawType": "int64",
         "type": "integer"
        },
        {
         "name": "Genres_Middle Grade",
         "rawType": "int64",
         "type": "integer"
        },
        {
         "name": "Genres_Military Fiction",
         "rawType": "int64",
         "type": "integer"
        },
        {
         "name": "Genres_Music",
         "rawType": "int64",
         "type": "integer"
        },
        {
         "name": "Genres_Mystery",
         "rawType": "int64",
         "type": "integer"
        },
        {
         "name": "Genres_Mystery Thriller",
         "rawType": "int64",
         "type": "integer"
        },
        {
         "name": "Genres_Mythology",
         "rawType": "int64",
         "type": "integer"
        },
        {
         "name": "Genres_New Adult",
         "rawType": "int64",
         "type": "integer"
        },
        {
         "name": "Genres_Nonfiction",
         "rawType": "int64",
         "type": "integer"
        },
        {
         "name": "Genres_Novella",
         "rawType": "int64",
         "type": "integer"
        },
        {
         "name": "Genres_Novels",
         "rawType": "int64",
         "type": "integer"
        },
        {
         "name": "Genres_Other",
         "rawType": "int64",
         "type": "integer"
        },
        {
         "name": "Genres_Paranormal",
         "rawType": "int64",
         "type": "integer"
        },
        {
         "name": "Genres_Paranormal Romance",
         "rawType": "int64",
         "type": "integer"
        },
        {
         "name": "Genres_Philosophy",
         "rawType": "int64",
         "type": "integer"
        },
        {
         "name": "Genres_Picture Books",
         "rawType": "int64",
         "type": "integer"
        },
        {
         "name": "Genres_Pirates",
         "rawType": "int64",
         "type": "integer"
        },
        {
         "name": "Genres_Poetry",
         "rawType": "int64",
         "type": "integer"
        },
        {
         "name": "Genres_Politics",
         "rawType": "int64",
         "type": "integer"
        },
        {
         "name": "Genres_Post Apocalyptic",
         "rawType": "int64",
         "type": "integer"
        },
        {
         "name": "Genres_Psychology",
         "rawType": "int64",
         "type": "integer"
        },
        {
         "name": "Genres_Queer",
         "rawType": "int64",
         "type": "integer"
        },
        {
         "name": "Genres_Realistic Fiction",
         "rawType": "int64",
         "type": "integer"
        },
        {
         "name": "Genres_Regency",
         "rawType": "int64",
         "type": "integer"
        },
        {
         "name": "Genres_Religion",
         "rawType": "int64",
         "type": "integer"
        },
        {
         "name": "Genres_Retellings",
         "rawType": "int64",
         "type": "integer"
        },
        {
         "name": "Genres_Romance",
         "rawType": "int64",
         "type": "integer"
        },
        {
         "name": "Genres_School",
         "rawType": "int64",
         "type": "integer"
        },
        {
         "name": "Genres_Science Fiction",
         "rawType": "int64",
         "type": "integer"
        },
        {
         "name": "Genres_Science Fiction Fantasy",
         "rawType": "int64",
         "type": "integer"
        },
        {
         "name": "Genres_Self Help",
         "rawType": "int64",
         "type": "integer"
        },
        {
         "name": "Genres_Shapeshifters",
         "rawType": "int64",
         "type": "integer"
        },
        {
         "name": "Genres_Short Stories",
         "rawType": "int64",
         "type": "integer"
        },
        {
         "name": "Genres_Space",
         "rawType": "int64",
         "type": "integer"
        },
        {
         "name": "Genres_Space Opera",
         "rawType": "int64",
         "type": "integer"
        },
        {
         "name": "Genres_Speculative Fiction",
         "rawType": "int64",
         "type": "integer"
        },
        {
         "name": "Genres_Spirituality",
         "rawType": "int64",
         "type": "integer"
        },
        {
         "name": "Genres_Sports",
         "rawType": "int64",
         "type": "integer"
        },
        {
         "name": "Genres_Steampunk",
         "rawType": "int64",
         "type": "integer"
        },
        {
         "name": "Genres_Superheroes",
         "rawType": "int64",
         "type": "integer"
        },
        {
         "name": "Genres_Supernatural",
         "rawType": "int64",
         "type": "integer"
        },
        {
         "name": "Genres_Suspense",
         "rawType": "int64",
         "type": "integer"
        },
        {
         "name": "Genres_Teen",
         "rawType": "int64",
         "type": "integer"
        },
        {
         "name": "Genres_Thriller",
         "rawType": "int64",
         "type": "integer"
        },
        {
         "name": "Genres_Time Travel",
         "rawType": "int64",
         "type": "integer"
        },
        {
         "name": "Genres_Urban Fantasy",
         "rawType": "int64",
         "type": "integer"
        },
        {
         "name": "Genres_Vampires",
         "rawType": "int64",
         "type": "integer"
        },
        {
         "name": "Genres_War",
         "rawType": "int64",
         "type": "integer"
        },
        {
         "name": "Genres_Werewolves",
         "rawType": "int64",
         "type": "integer"
        },
        {
         "name": "Genres_Westerns",
         "rawType": "int64",
         "type": "integer"
        },
        {
         "name": "Genres_Witches",
         "rawType": "int64",
         "type": "integer"
        },
        {
         "name": "Genres_Young Adult",
         "rawType": "int64",
         "type": "integer"
        },
        {
         "name": "Genres_Young Adult Contemporary",
         "rawType": "int64",
         "type": "integer"
        },
        {
         "name": "Genres_Young Adult Fantasy",
         "rawType": "int64",
         "type": "integer"
        },
        {
         "name": "Genres_Zombies",
         "rawType": "int64",
         "type": "integer"
        }
       ],
       "ref": "f3149204-f7d8-4482-adc1-a0ccf2b57844",
       "rows": [
        [
         "0",
         "0",
         "5.214935757608986",
         "7.142827401161621",
         "4.5217885770490405",
         "3.69",
         "6",
         "2010",
         "0",
         "0",
         "0",
         "0",
         "0",
         "0",
         "0",
         "0",
         "0",
         "0",
         "0",
         "0",
         "0",
         "1",
         "0",
         "0",
         "0",
         "0",
         "0",
         "0",
         "0",
         "0",
         "0",
         "0",
         "0",
         "0",
         "0",
         "0",
         "0",
         "0",
         "0",
         "0",
         "1",
         "0",
         "0",
         "0",
         "0",
         "0",
         "0",
         "0",
         "0",
         "1",
         "0",
         "0",
         "0",
         "0",
         "0",
         "0",
         "0",
         "0",
         "0",
         "0",
         "0",
         "0",
         "0",
         "0",
         "0",
         "0",
         "0",
         "0",
         "0",
         "0",
         "0",
         "0",
         "0",
         "1",
         "1",
         "0",
         "0",
         "0",
         "0",
         "0",
         "0",
         "0",
         "0",
         "0",
         "0",
         "0",
         "0",
         "0",
         "0",
         "0",
         "0",
         "0",
         "1",
         "0",
         "0",
         "0",
         "0",
         "0",
         "0",
         "0",
         "0",
         "0",
         "0",
         "0",
         "0",
         "0",
         "1",
         "0",
         "0",
         "0",
         "0",
         "0",
         "0",
         "0",
         "0",
         "0",
         "0",
         "0",
         "0",
         "0",
         "0",
         "0",
         "0",
         "0",
         "0",
         "0",
         "0",
         "0",
         "0",
         "0",
         "0",
         "0",
         "0",
         "0",
         "0"
        ],
        [
         "1",
         "1",
         "6.18826412308259",
         "8.479906606630221",
         "5.402677381872279",
         "4.46",
         "10",
         "2012",
         "0",
         "0",
         "0",
         "0",
         "0",
         "0",
         "0",
         "0",
         "0",
         "0",
         "0",
         "1",
         "0",
         "0",
         "0",
         "0",
         "0",
         "0",
         "0",
         "0",
         "0",
         "0",
         "0",
         "0",
         "0",
         "0",
         "0",
         "0",
         "0",
         "0",
         "0",
         "0",
         "0",
         "0",
         "0",
         "0",
         "0",
         "0",
         "0",
         "0",
         "0",
         "0",
         "0",
         "1",
         "0",
         "0",
         "0",
         "0",
         "0",
         "0",
         "0",
         "0",
         "0",
         "0",
         "0",
         "0",
         "0",
         "1",
         "0",
         "0",
         "0",
         "0",
         "0",
         "0",
         "0",
         "0",
         "0",
         "0",
         "0",
         "0",
         "0",
         "0",
         "0",
         "0",
         "0",
         "0",
         "0",
         "0",
         "0",
         "0",
         "0",
         "0",
         "0",
         "1",
         "0",
         "0",
         "0",
         "0",
         "0",
         "0",
         "0",
         "1",
         "0",
         "0",
         "0",
         "0",
         "0",
         "0",
         "0",
         "0",
         "0",
         "0",
         "0",
         "0",
         "0",
         "0",
         "0",
         "0",
         "0",
         "0",
         "0",
         "0",
         "0",
         "0",
         "0",
         "0",
         "0",
         "0",
         "1",
         "0",
         "0",
         "0",
         "0",
         "0",
         "0",
         "0",
         "1"
        ],
        [
         "2",
         "2",
         "6.206575926724928",
         "11.065966261532651",
         "7.862112211662748",
         "3.73",
         "1",
         "1999",
         "0",
         "0",
         "0",
         "0",
         "0",
         "0",
         "0",
         "0",
         "0",
         "0",
         "0",
         "0",
         "1",
         "0",
         "1",
         "1",
         "0",
         "0",
         "0",
         "0",
         "0",
         "0",
         "0",
         "0",
         "0",
         "0",
         "0",
         "0",
         "0",
         "0",
         "0",
         "0",
         "0",
         "0",
         "0",
         "0",
         "0",
         "0",
         "0",
         "0",
         "0",
         "0",
         "0",
         "0",
         "0",
         "0",
         "0",
         "0",
         "0",
         "0",
         "0",
         "0",
         "0",
         "0",
         "0",
         "0",
         "0",
         "0",
         "0",
         "0",
         "0",
         "0",
         "0",
         "0",
         "0",
         "0",
         "0",
         "0",
         "0",
         "1",
         "0",
         "0",
         "0",
         "0",
         "0",
         "0",
         "0",
         "0",
         "0",
         "0",
         "1",
         "0",
         "0",
         "2",
         "0",
         "0",
         "0",
         "0",
         "0",
         "0",
         "0",
         "0",
         "0",
         "0",
         "0",
         "0",
         "0",
         "0",
         "0",
         "0",
         "0",
         "0",
         "0",
         "0",
         "0",
         "0",
         "0",
         "0",
         "0",
         "0",
         "0",
         "0",
         "0",
         "0",
         "0",
         "0",
         "0",
         "0",
         "0",
         "0",
         "0",
         "0",
         "0",
         "0",
         "0",
         "0",
         "0"
        ],
        [
         "3",
         "3",
         "5.908082938168931",
         "6.93828448401696",
         "5.1298987149230735",
         "3.8",
         "5",
         "2012",
         "0",
         "0",
         "0",
         "0",
         "0",
         "0",
         "1",
         "0",
         "0",
         "0",
         "0",
         "0",
         "0",
         "0",
         "0",
         "0",
         "0",
         "0",
         "0",
         "0",
         "0",
         "0",
         "0",
         "0",
         "0",
         "0",
         "0",
         "0",
         "0",
         "0",
         "0",
         "0",
         "0",
         "0",
         "1",
         "0",
         "0",
         "0",
         "0",
         "0",
         "0",
         "1",
         "0",
         "1",
         "0",
         "0",
         "0",
         "0",
         "0",
         "0",
         "0",
         "0",
         "0",
         "0",
         "0",
         "0",
         "0",
         "0",
         "0",
         "0",
         "0",
         "0",
         "0",
         "0",
         "0",
         "0",
         "0",
         "0",
         "0",
         "0",
         "0",
         "0",
         "0",
         "0",
         "0",
         "0",
         "0",
         "0",
         "0",
         "0",
         "0",
         "0",
         "0",
         "0",
         "0",
         "0",
         "0",
         "0",
         "0",
         "0",
         "0",
         "0",
         "0",
         "0",
         "0",
         "0",
         "0",
         "0",
         "0",
         "0",
         "1",
         "0",
         "0",
         "0",
         "0",
         "0",
         "0",
         "0",
         "0",
         "0",
         "0",
         "0",
         "0",
         "0",
         "1",
         "0",
         "0",
         "0",
         "0",
         "0",
         "0",
         "0",
         "0",
         "1",
         "0",
         "0",
         "0"
        ],
        [
         "4",
         "4",
         "6.504288173536645",
         "9.876886870738948",
         "7.656810091480378",
         "4.02",
         "6",
         "2008",
         "0",
         "0",
         "0",
         "0",
         "0",
         "0",
         "0",
         "0",
         "0",
         "0",
         "0",
         "0",
         "0",
         "0",
         "0",
         "0",
         "0",
         "0",
         "0",
         "0",
         "0",
         "0",
         "0",
         "0",
         "0",
         "0",
         "0",
         "0",
         "0",
         "0",
         "0",
         "0",
         "0",
         "1",
         "0",
         "0",
         "0",
         "0",
         "0",
         "0",
         "0",
         "0",
         "0",
         "1",
         "0",
         "0",
         "0",
         "0",
         "0",
         "0",
         "0",
         "0",
         "0",
         "0",
         "0",
         "0",
         "0",
         "0",
         "0",
         "0",
         "0",
         "0",
         "0",
         "0",
         "1",
         "0",
         "0",
         "0",
         "0",
         "0",
         "0",
         "0",
         "0",
         "0",
         "0",
         "0",
         "0",
         "0",
         "0",
         "0",
         "0",
         "0",
         "1",
         "2",
         "0",
         "0",
         "0",
         "0",
         "0",
         "0",
         "0",
         "0",
         "0",
         "0",
         "0",
         "0",
         "0",
         "0",
         "0",
         "0",
         "0",
         "0",
         "0",
         "0",
         "0",
         "0",
         "0",
         "0",
         "0",
         "0",
         "0",
         "0",
         "0",
         "1",
         "0",
         "0",
         "0",
         "0",
         "0",
         "0",
         "0",
         "0",
         "0",
         "0",
         "0",
         "0",
         "0"
        ]
       ],
       "shape": {
        "columns": 134,
        "rows": 5
       }
      },
      "text/html": [
       "<div>\n",
       "<style scoped>\n",
       "    .dataframe tbody tr th:only-of-type {\n",
       "        vertical-align: middle;\n",
       "    }\n",
       "\n",
       "    .dataframe tbody tr th {\n",
       "        vertical-align: top;\n",
       "    }\n",
       "\n",
       "    .dataframe thead th {\n",
       "        text-align: right;\n",
       "    }\n",
       "</style>\n",
       "<table border=\"1\" class=\"dataframe\">\n",
       "  <thead>\n",
       "    <tr style=\"text-align: right;\">\n",
       "      <th></th>\n",
       "      <th>Book_ID</th>\n",
       "      <th>no_of_pages</th>\n",
       "      <th>Total_Ratings</th>\n",
       "      <th>Reviews</th>\n",
       "      <th>Rating</th>\n",
       "      <th>Month</th>\n",
       "      <th>Year</th>\n",
       "      <th>Genres_19th Century</th>\n",
       "      <th>Genres_Abuse</th>\n",
       "      <th>Genres_Action</th>\n",
       "      <th>...</th>\n",
       "      <th>Genres_Urban Fantasy</th>\n",
       "      <th>Genres_Vampires</th>\n",
       "      <th>Genres_War</th>\n",
       "      <th>Genres_Werewolves</th>\n",
       "      <th>Genres_Westerns</th>\n",
       "      <th>Genres_Witches</th>\n",
       "      <th>Genres_Young Adult</th>\n",
       "      <th>Genres_Young Adult Contemporary</th>\n",
       "      <th>Genres_Young Adult Fantasy</th>\n",
       "      <th>Genres_Zombies</th>\n",
       "    </tr>\n",
       "  </thead>\n",
       "  <tbody>\n",
       "    <tr>\n",
       "      <th>0</th>\n",
       "      <td>0</td>\n",
       "      <td>5.214936</td>\n",
       "      <td>7.142827</td>\n",
       "      <td>4.521789</td>\n",
       "      <td>3.69</td>\n",
       "      <td>6</td>\n",
       "      <td>2010</td>\n",
       "      <td>0</td>\n",
       "      <td>0</td>\n",
       "      <td>0</td>\n",
       "      <td>...</td>\n",
       "      <td>0</td>\n",
       "      <td>0</td>\n",
       "      <td>0</td>\n",
       "      <td>0</td>\n",
       "      <td>0</td>\n",
       "      <td>0</td>\n",
       "      <td>0</td>\n",
       "      <td>0</td>\n",
       "      <td>0</td>\n",
       "      <td>0</td>\n",
       "    </tr>\n",
       "    <tr>\n",
       "      <th>1</th>\n",
       "      <td>1</td>\n",
       "      <td>6.188264</td>\n",
       "      <td>8.479907</td>\n",
       "      <td>5.402677</td>\n",
       "      <td>4.46</td>\n",
       "      <td>10</td>\n",
       "      <td>2012</td>\n",
       "      <td>0</td>\n",
       "      <td>0</td>\n",
       "      <td>0</td>\n",
       "      <td>...</td>\n",
       "      <td>0</td>\n",
       "      <td>1</td>\n",
       "      <td>0</td>\n",
       "      <td>0</td>\n",
       "      <td>0</td>\n",
       "      <td>0</td>\n",
       "      <td>0</td>\n",
       "      <td>0</td>\n",
       "      <td>0</td>\n",
       "      <td>1</td>\n",
       "    </tr>\n",
       "    <tr>\n",
       "      <th>2</th>\n",
       "      <td>2</td>\n",
       "      <td>6.206576</td>\n",
       "      <td>11.065966</td>\n",
       "      <td>7.862112</td>\n",
       "      <td>3.73</td>\n",
       "      <td>1</td>\n",
       "      <td>1999</td>\n",
       "      <td>0</td>\n",
       "      <td>0</td>\n",
       "      <td>0</td>\n",
       "      <td>...</td>\n",
       "      <td>0</td>\n",
       "      <td>0</td>\n",
       "      <td>0</td>\n",
       "      <td>0</td>\n",
       "      <td>0</td>\n",
       "      <td>0</td>\n",
       "      <td>0</td>\n",
       "      <td>0</td>\n",
       "      <td>0</td>\n",
       "      <td>0</td>\n",
       "    </tr>\n",
       "    <tr>\n",
       "      <th>3</th>\n",
       "      <td>3</td>\n",
       "      <td>5.908083</td>\n",
       "      <td>6.938284</td>\n",
       "      <td>5.129899</td>\n",
       "      <td>3.80</td>\n",
       "      <td>5</td>\n",
       "      <td>2012</td>\n",
       "      <td>0</td>\n",
       "      <td>0</td>\n",
       "      <td>0</td>\n",
       "      <td>...</td>\n",
       "      <td>0</td>\n",
       "      <td>0</td>\n",
       "      <td>0</td>\n",
       "      <td>0</td>\n",
       "      <td>0</td>\n",
       "      <td>0</td>\n",
       "      <td>1</td>\n",
       "      <td>0</td>\n",
       "      <td>0</td>\n",
       "      <td>0</td>\n",
       "    </tr>\n",
       "    <tr>\n",
       "      <th>4</th>\n",
       "      <td>4</td>\n",
       "      <td>6.504288</td>\n",
       "      <td>9.876887</td>\n",
       "      <td>7.656810</td>\n",
       "      <td>4.02</td>\n",
       "      <td>6</td>\n",
       "      <td>2008</td>\n",
       "      <td>0</td>\n",
       "      <td>0</td>\n",
       "      <td>0</td>\n",
       "      <td>...</td>\n",
       "      <td>0</td>\n",
       "      <td>0</td>\n",
       "      <td>0</td>\n",
       "      <td>0</td>\n",
       "      <td>0</td>\n",
       "      <td>0</td>\n",
       "      <td>0</td>\n",
       "      <td>0</td>\n",
       "      <td>0</td>\n",
       "      <td>0</td>\n",
       "    </tr>\n",
       "  </tbody>\n",
       "</table>\n",
       "<p>5 rows × 134 columns</p>\n",
       "</div>"
      ],
      "text/plain": [
       "   Book_ID  no_of_pages  Total_Ratings   Reviews  Rating  Month  Year  \\\n",
       "0        0     5.214936       7.142827  4.521789    3.69      6  2010   \n",
       "1        1     6.188264       8.479907  5.402677    4.46     10  2012   \n",
       "2        2     6.206576      11.065966  7.862112    3.73      1  1999   \n",
       "3        3     5.908083       6.938284  5.129899    3.80      5  2012   \n",
       "4        4     6.504288       9.876887  7.656810    4.02      6  2008   \n",
       "\n",
       "   Genres_19th Century  Genres_Abuse  Genres_Action  ...  \\\n",
       "0                    0             0              0  ...   \n",
       "1                    0             0              0  ...   \n",
       "2                    0             0              0  ...   \n",
       "3                    0             0              0  ...   \n",
       "4                    0             0              0  ...   \n",
       "\n",
       "   Genres_Urban Fantasy  Genres_Vampires  Genres_War  Genres_Werewolves  \\\n",
       "0                     0                0           0                  0   \n",
       "1                     0                1           0                  0   \n",
       "2                     0                0           0                  0   \n",
       "3                     0                0           0                  0   \n",
       "4                     0                0           0                  0   \n",
       "\n",
       "   Genres_Westerns  Genres_Witches  Genres_Young Adult  \\\n",
       "0                0               0                   0   \n",
       "1                0               0                   0   \n",
       "2                0               0                   0   \n",
       "3                0               0                   1   \n",
       "4                0               0                   0   \n",
       "\n",
       "   Genres_Young Adult Contemporary  Genres_Young Adult Fantasy  Genres_Zombies  \n",
       "0                                0                           0               0  \n",
       "1                                0                           0               1  \n",
       "2                                0                           0               0  \n",
       "3                                0                           0               0  \n",
       "4                                0                           0               0  \n",
       "\n",
       "[5 rows x 134 columns]"
      ]
     },
     "execution_count": 56,
     "metadata": {},
     "output_type": "execute_result"
    }
   ],
   "source": [
    "query = '''\n",
    "Select *\n",
    "From model_df\n",
    "Join genre_encoded Using(Book_ID)\n",
    "'''\n",
    "model_df = results(query)\n",
    "model_df.head(5)"
   ]
  },
  {
   "cell_type": "code",
   "execution_count": 57,
   "id": "d999a2e4",
   "metadata": {},
   "outputs": [
    {
     "name": "stdout",
     "output_type": "stream",
     "text": [
      "Avg p-value for Month: 0.22380215466782832\n",
      "Median p-value for Month: 0.11061211306263655\n",
      "Proportion of p < 0.05 for Month: 0.3858267716535433\n",
      "\n",
      "\n",
      "Avg p-value for Year: 0.1380134821434174\n",
      "Median p-value for Year: 2.489021788008234e-08\n",
      "Proportion of p < 0.05 for Year: 0.7559055118110236\n",
      "\n",
      "\n"
     ]
    }
   ],
   "source": [
    "from scipy.stats import chi2_contingency\n",
    "\n",
    "columns = ['Month','Year']\n",
    "genre_columns = model_df.columns[7:]\n",
    "p_values = []\n",
    "\n",
    "for col in columns:\n",
    "    p_values = []\n",
    "    for genre in genre_columns:\n",
    "        contingency_table = pd.crosstab(model_df[col], model_df[genre])\n",
    "        p = chi2_contingency(contingency_table)[1]\n",
    "        p_values.append(p)\n",
    "    print(f\"Avg p-value for {col}: {np.mean(p_values)}\")\n",
    "    print(f\"Median p-value for {col}: {np.median(p_values)}\")\n",
    "    print(f\"Proportion of p < 0.05 for {col}: {np.mean(np.array(p_values) < 0.05)}\")\n",
    "    print('\\n')"
   ]
  },
  {
   "cell_type": "code",
   "execution_count": 58,
   "id": "2d7970cf",
   "metadata": {},
   "outputs": [],
   "source": [
    "model_df.drop(columns='Month',inplace=True) # Dropping Month since chi-square results showed weak relationship with genres"
   ]
  },
  {
   "cell_type": "markdown",
   "id": "baf5817a",
   "metadata": {},
   "source": [
    "**The chi-square test results indicate a strong association between Year and Genre over 76% of genre combinations were statistically significant. This suggests that publishing trends or genre preferences have shifted over time. The null hypothesis is therefore rejected for Year, supporting its inclusion as a meaningful modeling feature.**\n",
    "\n",
    "**In contrast, Month shows a much weaker association. Only 39% of combinations were significant, with notably higher average and median p-values. The null hypothesis cannot be rejected for Month, as its influence on genre appears limited and potentially noisy.**"
   ]
  },
  {
   "cell_type": "code",
   "execution_count": 59,
   "id": "d74e7ccb",
   "metadata": {},
   "outputs": [],
   "source": [
    "query = '''\n",
    "Select *\n",
    "From model_df\n",
    "Join format_encoded Using(Book_ID)\n",
    "'''\n",
    "model_df = results(query)\n",
    "\n",
    "model_df.set_index('Book_ID', inplace=True)"
   ]
  },
  {
   "cell_type": "markdown",
   "id": "bbc32f76",
   "metadata": {},
   "source": [
    "**Book_ID was made the index so it doesn’t interfere with the model while still being safely stored. This way, it won’t affect clustering but can still be used later to join back important columns like Author, BookTitle, or Publisher**"
   ]
  },
  {
   "cell_type": "code",
   "execution_count": 60,
   "id": "799eb986",
   "metadata": {},
   "outputs": [],
   "source": [
    "from sklearn.preprocessing import StandardScaler\n",
    "\n",
    "numeric_cols = ['no_of_pages', 'Total_Ratings', 'Reviews', 'Rating','Year']\n",
    "scaler = StandardScaler()\n",
    "model_df[numeric_cols] = scaler.fit_transform(model_df[numeric_cols])"
   ]
  },
  {
   "cell_type": "markdown",
   "id": "c746b00e",
   "metadata": {},
   "source": [
    "**StandardScaler was used to scale the features before clustering. This is important because features like Total_Ratings and Rating are on very different scales, and without scaling, K-Means would give more importance to the ones with larger values. Scaling makes sure all features are treated equally during clustering**"
   ]
  },
  {
   "cell_type": "markdown",
   "id": "69a206b3",
   "metadata": {},
   "source": [
    "# Modeling"
   ]
  },
  {
   "cell_type": "code",
   "execution_count": null,
   "id": "3ce4fa4d",
   "metadata": {},
   "outputs": [
    {
     "data": {
      "image/png": "[encoded data removed]",
      "text/plain": [
       "<Figure size 640x480 with 1 Axes>"
      ]
     },
     "metadata": {},
     "output_type": "display_data"
    }
   ],
   "source": [
    "inertia = []\n",
    "sil_scores = []\n",
    "\n",
    "k_range = range(2, 11)\n",
    "for k in k_range:\n",
    "    kmeans = KMeans(n_clusters=k, random_state=72,n_init=10)\n",
    "    kmeans.fit(model_df)\n",
    "    inertia.append(kmeans.inertia_)\n",
    "    sil_scores.append(silhouette_score(model_df, kmeans.labels_)) \n",
    "\n",
    "plt.plot(k_range, inertia, marker='o')\n",
    "plt.title('Inertia vs Number of Clusters (Elbow Method)')\n",
    "plt.xlabel('Number of clusters (k)')\n",
    "plt.ylabel('Inertia (Within-Cluster Sum of Squares)')\n",
    "plt.show()"
   ]
  },
  {
   "cell_type": "code",
   "execution_count": 62,
   "id": "184958f8",
   "metadata": {},
   "outputs": [
    {
     "data": {
      "text/plain": [
       "Text(0, 0.5, 'Silhouette Score')"
      ]
     },
     "execution_count": 62,
     "metadata": {},
     "output_type": "execute_result"
    },
    {
     "data": {
      "image/png": "[encoded data removed]",
      "text/plain": [
       "<Figure size 640x480 with 1 Axes>"
      ]
     },
     "metadata": {},
     "output_type": "display_data"
    }
   ],
   "source": [
    "plt.plot(K_range, sil_scores, marker='o', color='orange', label='Silhouette Score')\n",
    "plt.title('Silhouette Score vs Number of Clusters')\n",
    "plt.xlabel('Number of Clusters (k)')\n",
    "plt.ylabel('Silhouette Score')"
   ]
  },
  {
   "cell_type": "markdown",
   "id": "8111680f",
   "metadata": {},
   "source": [
    "# Clustering Outcome"
   ]
  },
  {
   "cell_type": "markdown",
   "id": "39cf9c6b",
   "metadata": {},
   "source": [
    "**Despite thorough preprocessing and well-structured feature selection, the clustering results were not particularly strong:**\n",
    "\n",
    "**Best Silhouette Score: ~0.115 at k = 2**\n",
    "\n",
    "**Overall Score Range: ~0.07 to 0.11**\n",
    "\n",
    "**Inertia Curve: Smoothly declining without a distinct elbow point**\n",
    "\n",
    "**The results point to a key limitation in the dataset: it lacks deeper behavioral or contextual features that could help uncover meaningful groupings. Genre and Format provide some insight, but they only scratch the surface. More nuanced signals like how popular an author is, the reputation of a publisher, or patterns in how readers engage with certain types of books could’ve added valuable structure for clustering.**\n",
    "\n",
    "**For example, two books from different genres might still appeal to a similar audience if they share a popular author, writing style, or publisher. But features like Author were left out due to high cardinality and low frequency most authors appeared only once making them more noisy than helpful. With richer data, like author popularity or reader engagement patterns, even these sparse features could support better clustering. Without them, the dataset lacks the depth needed for strong unsupervised learning.**"
   ]
  },
  {
   "cell_type": "markdown",
   "id": "34fdb3ae",
   "metadata": {},
   "source": [
    "# Recommendation Function"
   ]
  },
  {
   "cell_type": "code",
   "execution_count": 63,
   "id": "8f751942",
   "metadata": {},
   "outputs": [
    {
     "data": {
      "application/vnd.microsoft.datawrangler.viewer.v0+json": {
       "columns": [
        {
         "name": "Book_ID",
         "rawType": "int64",
         "type": "integer"
        },
        {
         "name": "BookTitle",
         "rawType": "object",
         "type": "string"
        },
        {
         "name": "Author",
         "rawType": "object",
         "type": "string"
        },
        {
         "name": "Release_date",
         "rawType": "object",
         "type": "unknown"
        },
        {
         "name": "no_of_pages",
         "rawType": "int64",
         "type": "integer"
        },
        {
         "name": "no_of_formats",
         "rawType": "int64",
         "type": "integer"
        },
        {
         "name": "no_of_languages",
         "rawType": "int64",
         "type": "integer"
        },
        {
         "name": "no_of_publishers",
         "rawType": "int64",
         "type": "integer"
        },
        {
         "name": "no_of_genres",
         "rawType": "int64",
         "type": "integer"
        },
        {
         "name": "Total_Ratings",
         "rawType": "int64",
         "type": "integer"
        },
        {
         "name": "Reviews",
         "rawType": "int64",
         "type": "integer"
        },
        {
         "name": "Rating",
         "rawType": "float64",
         "type": "float"
        },
        {
         "name": "cluster",
         "rawType": "int32",
         "type": "integer"
        }
       ],
       "ref": "64ca0907-34d9-4245-954a-71083878c1c4",
       "rows": [
        [
         "7287",
         "What I Didn't Say",
         "Keary Taylor",
         "2012-04-28",
         "336",
         "1",
         "1",
         "1",
         "7",
         "7665",
         "972",
         "3.95",
         "5"
        ],
        [
         "7297",
         "What the Dog Said",
         "Randi Reisfeld",
         "2012-02-28",
         "256",
         "1",
         "1",
         "1",
         "7",
         "604",
         "104",
         "4.1",
         "6"
        ],
        [
         "7335",
         "Where Mercy Is Shown, Mercy Is Given",
         "Duane \"Dog\" Chapman",
         "2010-03-16",
         "287",
         "1",
         "1",
         "1",
         "6",
         "960",
         "112",
         "3.95",
         "8"
        ],
        [
         "6035",
         "The Magic in Your Touch",
         "Sara Bell",
         "2005-06-24",
         "244",
         "1",
         "1",
         "1",
         "7",
         "399",
         "53",
         "3.93",
         "8"
        ],
        [
         "6943",
         "To Catch A Fox",
         "Geoffrey Knight",
         "2012-09-27",
         "389",
         "1",
         "1",
         "1",
         "7",
         "368",
         "94",
         "3.9",
         "2"
        ]
       ],
       "shape": {
        "columns": 12,
        "rows": 5
       }
      },
      "text/html": [
       "<div>\n",
       "<style scoped>\n",
       "    .dataframe tbody tr th:only-of-type {\n",
       "        vertical-align: middle;\n",
       "    }\n",
       "\n",
       "    .dataframe tbody tr th {\n",
       "        vertical-align: top;\n",
       "    }\n",
       "\n",
       "    .dataframe thead th {\n",
       "        text-align: right;\n",
       "    }\n",
       "</style>\n",
       "<table border=\"1\" class=\"dataframe\">\n",
       "  <thead>\n",
       "    <tr style=\"text-align: right;\">\n",
       "      <th></th>\n",
       "      <th>BookTitle</th>\n",
       "      <th>Author</th>\n",
       "      <th>Release_date</th>\n",
       "      <th>no_of_pages</th>\n",
       "      <th>no_of_formats</th>\n",
       "      <th>no_of_languages</th>\n",
       "      <th>no_of_publishers</th>\n",
       "      <th>no_of_genres</th>\n",
       "      <th>Total_Ratings</th>\n",
       "      <th>Reviews</th>\n",
       "      <th>Rating</th>\n",
       "      <th>cluster</th>\n",
       "    </tr>\n",
       "    <tr>\n",
       "      <th>Book_ID</th>\n",
       "      <th></th>\n",
       "      <th></th>\n",
       "      <th></th>\n",
       "      <th></th>\n",
       "      <th></th>\n",
       "      <th></th>\n",
       "      <th></th>\n",
       "      <th></th>\n",
       "      <th></th>\n",
       "      <th></th>\n",
       "      <th></th>\n",
       "      <th></th>\n",
       "    </tr>\n",
       "  </thead>\n",
       "  <tbody>\n",
       "    <tr>\n",
       "      <th>7287</th>\n",
       "      <td>What I Didn't Say</td>\n",
       "      <td>Keary Taylor</td>\n",
       "      <td>2012-04-28</td>\n",
       "      <td>336</td>\n",
       "      <td>1</td>\n",
       "      <td>1</td>\n",
       "      <td>1</td>\n",
       "      <td>7</td>\n",
       "      <td>7665</td>\n",
       "      <td>972</td>\n",
       "      <td>3.95</td>\n",
       "      <td>5</td>\n",
       "    </tr>\n",
       "    <tr>\n",
       "      <th>7297</th>\n",
       "      <td>What the Dog Said</td>\n",
       "      <td>Randi Reisfeld</td>\n",
       "      <td>2012-02-28</td>\n",
       "      <td>256</td>\n",
       "      <td>1</td>\n",
       "      <td>1</td>\n",
       "      <td>1</td>\n",
       "      <td>7</td>\n",
       "      <td>604</td>\n",
       "      <td>104</td>\n",
       "      <td>4.10</td>\n",
       "      <td>6</td>\n",
       "    </tr>\n",
       "    <tr>\n",
       "      <th>7335</th>\n",
       "      <td>Where Mercy Is Shown, Mercy Is Given</td>\n",
       "      <td>Duane \"Dog\" Chapman</td>\n",
       "      <td>2010-03-16</td>\n",
       "      <td>287</td>\n",
       "      <td>1</td>\n",
       "      <td>1</td>\n",
       "      <td>1</td>\n",
       "      <td>6</td>\n",
       "      <td>960</td>\n",
       "      <td>112</td>\n",
       "      <td>3.95</td>\n",
       "      <td>8</td>\n",
       "    </tr>\n",
       "    <tr>\n",
       "      <th>6035</th>\n",
       "      <td>The Magic in Your Touch</td>\n",
       "      <td>Sara Bell</td>\n",
       "      <td>2005-06-24</td>\n",
       "      <td>244</td>\n",
       "      <td>1</td>\n",
       "      <td>1</td>\n",
       "      <td>1</td>\n",
       "      <td>7</td>\n",
       "      <td>399</td>\n",
       "      <td>53</td>\n",
       "      <td>3.93</td>\n",
       "      <td>8</td>\n",
       "    </tr>\n",
       "    <tr>\n",
       "      <th>6943</th>\n",
       "      <td>To Catch A Fox</td>\n",
       "      <td>Geoffrey Knight</td>\n",
       "      <td>2012-09-27</td>\n",
       "      <td>389</td>\n",
       "      <td>1</td>\n",
       "      <td>1</td>\n",
       "      <td>1</td>\n",
       "      <td>7</td>\n",
       "      <td>368</td>\n",
       "      <td>94</td>\n",
       "      <td>3.90</td>\n",
       "      <td>2</td>\n",
       "    </tr>\n",
       "  </tbody>\n",
       "</table>\n",
       "</div>"
      ],
      "text/plain": [
       "                                    BookTitle               Author  \\\n",
       "Book_ID                                                              \n",
       "7287                        What I Didn't Say         Keary Taylor   \n",
       "7297                        What the Dog Said       Randi Reisfeld   \n",
       "7335     Where Mercy Is Shown, Mercy Is Given  Duane \"Dog\" Chapman   \n",
       "6035                  The Magic in Your Touch            Sara Bell   \n",
       "6943                           To Catch A Fox      Geoffrey Knight   \n",
       "\n",
       "        Release_date  no_of_pages  no_of_formats  no_of_languages  \\\n",
       "Book_ID                                                             \n",
       "7287      2012-04-28          336              1                1   \n",
       "7297      2012-02-28          256              1                1   \n",
       "7335      2010-03-16          287              1                1   \n",
       "6035      2005-06-24          244              1                1   \n",
       "6943      2012-09-27          389              1                1   \n",
       "\n",
       "         no_of_publishers  no_of_genres  Total_Ratings  Reviews  Rating  \\\n",
       "Book_ID                                                                   \n",
       "7287                    1             7           7665      972    3.95   \n",
       "7297                    1             7            604      104    4.10   \n",
       "7335                    1             6            960      112    3.95   \n",
       "6035                    1             7            399       53    3.93   \n",
       "6943                    1             7            368       94    3.90   \n",
       "\n",
       "         cluster  \n",
       "Book_ID           \n",
       "7287           5  \n",
       "7297           6  \n",
       "7335           8  \n",
       "6035           8  \n",
       "6943           2  "
      ]
     },
     "execution_count": 63,
     "metadata": {},
     "output_type": "execute_result"
    }
   ],
   "source": [
    "# Joining the clusters\n",
    "df.set_index('Book_ID', inplace=True)\n",
    "labels_series = pd.Series(kmeans.labels_, index=model_df.index, name='cluster')\n",
    "df = df.join(labels_series)\n",
    "df.head(5)"
   ]
  },
  {
   "cell_type": "code",
   "execution_count": 64,
   "id": "3b4863cf",
   "metadata": {},
   "outputs": [],
   "source": [
    "# Joining the rest of the data\n",
    "df = df.reset_index()\n",
    "query = \"\"\"\n",
    "Select *\n",
    "From df\n",
    "Join publisher_map Using(Book_ID)\n",
    "\"\"\"\n",
    "df = results(query)"
   ]
  },
  {
   "cell_type": "code",
   "execution_count": 65,
   "id": "4572cab6",
   "metadata": {},
   "outputs": [
    {
     "data": {
      "application/vnd.microsoft.datawrangler.viewer.v0+json": {
       "columns": [
        {
         "name": "index",
         "rawType": "int64",
         "type": "integer"
        },
        {
         "name": "BookTitle",
         "rawType": "object",
         "type": "string"
        },
        {
         "name": "Author",
         "rawType": "object",
         "type": "string"
        },
        {
         "name": "Publisher",
         "rawType": "object",
         "type": "string"
        },
        {
         "name": "Rating",
         "rawType": "float64",
         "type": "float"
        },
        {
         "name": "Total_Ratings",
         "rawType": "int64",
         "type": "integer"
        }
       ],
       "ref": "2cf3438a-fb63-4fd4-9f3b-4ffe74d5df85",
       "rows": [
        [
         "0",
         "Frostbite",
         "Richelle Mead",
         "Razorbill",
         "4.25",
         "360605"
        ],
        [
         "1",
         "Dark Lover",
         "J.R. Ward",
         "Penguin Group (USA)",
         "4.16",
         "340971"
        ],
        [
         "2",
         "Blood Promise",
         "Richelle Mead",
         "Razorbill",
         "4.3",
         "317468"
        ],
        [
         "3",
         "Spirit Bound",
         "Richelle Mead",
         "Razorbill",
         "4.32",
         "298759"
        ],
        [
         "4",
         "Dead to the World",
         "Charlaine Harris",
         "Ace Books",
         "4.12",
         "261997"
        ],
        [
         "5",
         "Club Dead",
         "Charlaine Harris",
         "Gollancz",
         "4.02",
         "239473"
        ],
        [
         "6",
         "Club Dead",
         "Charlaine Harris",
         "Orbit",
         "4.02",
         "239473"
        ],
        [
         "7",
         "Dead as a Doornail",
         "Charlaine Harris",
         "Ace Books",
         "4.01",
         "220185"
        ],
        [
         "8",
         "Moon Called",
         "Patricia Briggs",
         "Ace",
         "4.15",
         "210083"
        ],
        [
         "9",
         "Definitely Dead",
         "Charlaine Harris",
         "Ace Books",
         "4.01",
         "206788"
        ]
       ],
       "shape": {
        "columns": 5,
        "rows": 10
       }
      },
      "text/html": [
       "<div>\n",
       "<style scoped>\n",
       "    .dataframe tbody tr th:only-of-type {\n",
       "        vertical-align: middle;\n",
       "    }\n",
       "\n",
       "    .dataframe tbody tr th {\n",
       "        vertical-align: top;\n",
       "    }\n",
       "\n",
       "    .dataframe thead th {\n",
       "        text-align: right;\n",
       "    }\n",
       "</style>\n",
       "<table border=\"1\" class=\"dataframe\">\n",
       "  <thead>\n",
       "    <tr style=\"text-align: right;\">\n",
       "      <th></th>\n",
       "      <th>BookTitle</th>\n",
       "      <th>Author</th>\n",
       "      <th>Publisher</th>\n",
       "      <th>Rating</th>\n",
       "      <th>Total_Ratings</th>\n",
       "    </tr>\n",
       "  </thead>\n",
       "  <tbody>\n",
       "    <tr>\n",
       "      <th>0</th>\n",
       "      <td>Frostbite</td>\n",
       "      <td>Richelle Mead</td>\n",
       "      <td>Razorbill</td>\n",
       "      <td>4.25</td>\n",
       "      <td>360605</td>\n",
       "    </tr>\n",
       "    <tr>\n",
       "      <th>1</th>\n",
       "      <td>Dark Lover</td>\n",
       "      <td>J.R. Ward</td>\n",
       "      <td>Penguin Group (USA)</td>\n",
       "      <td>4.16</td>\n",
       "      <td>340971</td>\n",
       "    </tr>\n",
       "    <tr>\n",
       "      <th>2</th>\n",
       "      <td>Blood Promise</td>\n",
       "      <td>Richelle Mead</td>\n",
       "      <td>Razorbill</td>\n",
       "      <td>4.30</td>\n",
       "      <td>317468</td>\n",
       "    </tr>\n",
       "    <tr>\n",
       "      <th>3</th>\n",
       "      <td>Spirit Bound</td>\n",
       "      <td>Richelle Mead</td>\n",
       "      <td>Razorbill</td>\n",
       "      <td>4.32</td>\n",
       "      <td>298759</td>\n",
       "    </tr>\n",
       "    <tr>\n",
       "      <th>4</th>\n",
       "      <td>Dead to the World</td>\n",
       "      <td>Charlaine Harris</td>\n",
       "      <td>Ace Books</td>\n",
       "      <td>4.12</td>\n",
       "      <td>261997</td>\n",
       "    </tr>\n",
       "    <tr>\n",
       "      <th>5</th>\n",
       "      <td>Club Dead</td>\n",
       "      <td>Charlaine Harris</td>\n",
       "      <td>Gollancz</td>\n",
       "      <td>4.02</td>\n",
       "      <td>239473</td>\n",
       "    </tr>\n",
       "    <tr>\n",
       "      <th>6</th>\n",
       "      <td>Club Dead</td>\n",
       "      <td>Charlaine Harris</td>\n",
       "      <td>Orbit</td>\n",
       "      <td>4.02</td>\n",
       "      <td>239473</td>\n",
       "    </tr>\n",
       "    <tr>\n",
       "      <th>7</th>\n",
       "      <td>Dead as a Doornail</td>\n",
       "      <td>Charlaine Harris</td>\n",
       "      <td>Ace Books</td>\n",
       "      <td>4.01</td>\n",
       "      <td>220185</td>\n",
       "    </tr>\n",
       "    <tr>\n",
       "      <th>8</th>\n",
       "      <td>Moon Called</td>\n",
       "      <td>Patricia Briggs</td>\n",
       "      <td>Ace</td>\n",
       "      <td>4.15</td>\n",
       "      <td>210083</td>\n",
       "    </tr>\n",
       "    <tr>\n",
       "      <th>9</th>\n",
       "      <td>Definitely Dead</td>\n",
       "      <td>Charlaine Harris</td>\n",
       "      <td>Ace Books</td>\n",
       "      <td>4.01</td>\n",
       "      <td>206788</td>\n",
       "    </tr>\n",
       "  </tbody>\n",
       "</table>\n",
       "</div>"
      ],
      "text/plain": [
       "            BookTitle            Author            Publisher  Rating  \\\n",
       "0           Frostbite     Richelle Mead            Razorbill    4.25   \n",
       "1          Dark Lover         J.R. Ward  Penguin Group (USA)    4.16   \n",
       "2       Blood Promise     Richelle Mead            Razorbill    4.30   \n",
       "3        Spirit Bound     Richelle Mead            Razorbill    4.32   \n",
       "4   Dead to the World  Charlaine Harris            Ace Books    4.12   \n",
       "5           Club Dead  Charlaine Harris             Gollancz    4.02   \n",
       "6           Club Dead  Charlaine Harris                Orbit    4.02   \n",
       "7  Dead as a Doornail  Charlaine Harris            Ace Books    4.01   \n",
       "8         Moon Called   Patricia Briggs                  Ace    4.15   \n",
       "9     Definitely Dead  Charlaine Harris            Ace Books    4.01   \n",
       "\n",
       "   Total_Ratings  \n",
       "0         360605  \n",
       "1         340971  \n",
       "2         317468  \n",
       "3         298759  \n",
       "4         261997  \n",
       "5         239473  \n",
       "6         239473  \n",
       "7         220185  \n",
       "8         210083  \n",
       "9         206788  "
      ]
     },
     "execution_count": 65,
     "metadata": {},
     "output_type": "execute_result"
    }
   ],
   "source": [
    "def recommend_books(BookTitle=None,Author=None, df=df, top_n=5):\n",
    "    if BookTitle:\n",
    "        filter_column = \"BookTitle\"\n",
    "        filter_value = BookTitle\n",
    "    elif Author:\n",
    "        filter_column = \"Author\"\n",
    "        filter_value = Author\n",
    "    else:\n",
    "        return pd.DataFrame()\n",
    "    \n",
    "    query = f\"\"\"\n",
    "        Select BookTitle, Author, Publisher, Rating, Total_Ratings\n",
    "        From df\n",
    "        Where cluster = (Select cluster From df Where {filter_column} = '{filter_value}' Limit 1)\n",
    "        And {filter_column} != '{filter_value}' And Rating >= 4\n",
    "        Order By Total_Ratings Desc\n",
    "        Limit {top_n}\"\"\"\n",
    "    return results(query)\n",
    "\n",
    "# Call recommend_books() with either a BookTitle or an Author \n",
    "# For example: recommend_books(BookTitle='Sky Jumpers')\n",
    "\n",
    "recommend_books(Author='Lizzy Ford',top_n=10)"
   ]
  },
  {
   "cell_type": "markdown",
   "id": "62178a15",
   "metadata": {},
   "source": [
    "........................................................................................................................................................................................................................................................................................................................................................................................................................................................................................................................................................................................................................................................................................................................"
   ]
  }
 ],
 "metadata": {
  "kernelspec": {
   "display_name": "Python 3",
   "language": "python",
   "name": "python3"
  },
  "language_info": {
   "codemirror_mode": {
    "name": "ipython",
    "version": 3
   },
   "file_extension": ".py",
   "mimetype": "text/x-python",
   "name": "python",
   "nbconvert_exporter": "python",
   "pygments_lexer": "ipython3",
   "version": "3.11.9"
  }
 },
 "nbformat": 4,
 "nbformat_minor": 5
}
