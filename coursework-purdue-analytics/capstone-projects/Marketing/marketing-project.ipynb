{
 "cells": [
  {
   "cell_type": "markdown",
   "metadata": {},
   "source": [
    "**Problem Statement**\n",
    "\n",
    " \n",
    "\n",
    "**A restaurant consolidator is looking to revamp the B2C portal using \n",
    "intelligent automation tech. This requires a different matrix to identify the \n",
    "star restaurants and generate recommendations. To make sure an \n",
    "effective model can be achieved, it is important to understand the \n",
    "behavior of the data in hand.**"
   ]
  },
  {
   "cell_type": "markdown",
   "metadata": {},
   "source": [
    "**Data Preliminary analysis:**"
   ]
  },
  {
   "cell_type": "code",
   "execution_count": 1,
   "metadata": {},
   "outputs": [],
   "source": [
    "import pandas as pd\n",
    "import numpy as np\n",
    "import os\n",
    "import seaborn as sns\n",
    "import matplotlib.pyplot as plt"
   ]
  },
  {
   "cell_type": "code",
   "execution_count": 3,
   "metadata": {},
   "outputs": [],
   "source": [
    "Marketing_df = pd.read_excel('data.xlsx')"
   ]
  },
  {
   "cell_type": "code",
   "execution_count": 4,
   "metadata": {},
   "outputs": [
    {
     "data": {
      "text/html": [
       "<div>\n",
       "<style scoped>\n",
       "    .dataframe tbody tr th:only-of-type {\n",
       "        vertical-align: middle;\n",
       "    }\n",
       "\n",
       "    .dataframe tbody tr th {\n",
       "        vertical-align: top;\n",
       "    }\n",
       "\n",
       "    .dataframe thead th {\n",
       "        text-align: right;\n",
       "    }\n",
       "</style>\n",
       "<table border=\"1\" class=\"dataframe\">\n",
       "  <thead>\n",
       "    <tr style=\"text-align: right;\">\n",
       "      <th></th>\n",
       "      <th>Restaurant ID</th>\n",
       "      <th>Restaurant Name</th>\n",
       "      <th>Country Code</th>\n",
       "      <th>City</th>\n",
       "      <th>Address</th>\n",
       "      <th>Locality</th>\n",
       "      <th>Locality Verbose</th>\n",
       "      <th>Longitude</th>\n",
       "      <th>Latitude</th>\n",
       "      <th>Cuisines</th>\n",
       "      <th>Average Cost for two</th>\n",
       "      <th>Currency</th>\n",
       "      <th>Has Table booking</th>\n",
       "      <th>Has Online delivery</th>\n",
       "      <th>Price range</th>\n",
       "      <th>Aggregate rating</th>\n",
       "      <th>Rating color</th>\n",
       "      <th>Rating text</th>\n",
       "      <th>Votes</th>\n",
       "    </tr>\n",
       "  </thead>\n",
       "  <tbody>\n",
       "    <tr>\n",
       "      <th>0</th>\n",
       "      <td>7402935</td>\n",
       "      <td>Skye</td>\n",
       "      <td>94</td>\n",
       "      <td>Jakarta</td>\n",
       "      <td>Menara BCA, Lantai 56, Jl. MH. Thamrin, Thamri...</td>\n",
       "      <td>Grand Indonesia Mall, Thamrin</td>\n",
       "      <td>Grand Indonesia Mall, Thamrin, Jakarta</td>\n",
       "      <td>106.821999</td>\n",
       "      <td>-6.196778</td>\n",
       "      <td>Italian, Continental</td>\n",
       "      <td>800000</td>\n",
       "      <td>Indonesian Rupiah(IDR)</td>\n",
       "      <td>No</td>\n",
       "      <td>No</td>\n",
       "      <td>3</td>\n",
       "      <td>4.1</td>\n",
       "      <td>Green</td>\n",
       "      <td>Very Good</td>\n",
       "      <td>1498</td>\n",
       "    </tr>\n",
       "    <tr>\n",
       "      <th>1</th>\n",
       "      <td>7410290</td>\n",
       "      <td>Satoo - Hotel Shangri-La</td>\n",
       "      <td>94</td>\n",
       "      <td>Jakarta</td>\n",
       "      <td>Hotel Shangri-La, Jl. Jend. Sudirman</td>\n",
       "      <td>Hotel Shangri-La, Sudirman</td>\n",
       "      <td>Hotel Shangri-La, Sudirman, Jakarta</td>\n",
       "      <td>106.818961</td>\n",
       "      <td>-6.203292</td>\n",
       "      <td>Asian, Indonesian, Western</td>\n",
       "      <td>800000</td>\n",
       "      <td>Indonesian Rupiah(IDR)</td>\n",
       "      <td>No</td>\n",
       "      <td>No</td>\n",
       "      <td>3</td>\n",
       "      <td>4.6</td>\n",
       "      <td>Dark Green</td>\n",
       "      <td>Excellent</td>\n",
       "      <td>873</td>\n",
       "    </tr>\n",
       "    <tr>\n",
       "      <th>2</th>\n",
       "      <td>7420899</td>\n",
       "      <td>Sushi Masa</td>\n",
       "      <td>94</td>\n",
       "      <td>Jakarta</td>\n",
       "      <td>Jl. Tuna Raya No. 5, Penjaringan</td>\n",
       "      <td>Penjaringan</td>\n",
       "      <td>Penjaringan, Jakarta</td>\n",
       "      <td>106.800144</td>\n",
       "      <td>-6.101298</td>\n",
       "      <td>Sushi, Japanese</td>\n",
       "      <td>500000</td>\n",
       "      <td>Indonesian Rupiah(IDR)</td>\n",
       "      <td>No</td>\n",
       "      <td>No</td>\n",
       "      <td>3</td>\n",
       "      <td>4.9</td>\n",
       "      <td>Dark Green</td>\n",
       "      <td>Excellent</td>\n",
       "      <td>605</td>\n",
       "    </tr>\n",
       "    <tr>\n",
       "      <th>3</th>\n",
       "      <td>7421967</td>\n",
       "      <td>3 Wise Monkeys</td>\n",
       "      <td>94</td>\n",
       "      <td>Jakarta</td>\n",
       "      <td>Jl. Suryo No. 26, Senopati, Jakarta</td>\n",
       "      <td>Senopati</td>\n",
       "      <td>Senopati, Jakarta</td>\n",
       "      <td>106.813400</td>\n",
       "      <td>-6.235241</td>\n",
       "      <td>Japanese</td>\n",
       "      <td>450000</td>\n",
       "      <td>Indonesian Rupiah(IDR)</td>\n",
       "      <td>No</td>\n",
       "      <td>No</td>\n",
       "      <td>3</td>\n",
       "      <td>4.2</td>\n",
       "      <td>Green</td>\n",
       "      <td>Very Good</td>\n",
       "      <td>395</td>\n",
       "    </tr>\n",
       "    <tr>\n",
       "      <th>4</th>\n",
       "      <td>7422489</td>\n",
       "      <td>Avec Moi Restaurant and Bar</td>\n",
       "      <td>94</td>\n",
       "      <td>Jakarta</td>\n",
       "      <td>Gedung PIC, Jl. Teluk Betung 43, Thamrin, Jakarta</td>\n",
       "      <td>Thamrin</td>\n",
       "      <td>Thamrin, Jakarta</td>\n",
       "      <td>106.821023</td>\n",
       "      <td>-6.196270</td>\n",
       "      <td>French, Western</td>\n",
       "      <td>350000</td>\n",
       "      <td>Indonesian Rupiah(IDR)</td>\n",
       "      <td>No</td>\n",
       "      <td>No</td>\n",
       "      <td>3</td>\n",
       "      <td>4.3</td>\n",
       "      <td>Green</td>\n",
       "      <td>Very Good</td>\n",
       "      <td>243</td>\n",
       "    </tr>\n",
       "    <tr>\n",
       "      <th>5</th>\n",
       "      <td>18352452</td>\n",
       "      <td>Lucky Cat Coffee &amp; Kitchen</td>\n",
       "      <td>94</td>\n",
       "      <td>Jakarta</td>\n",
       "      <td>Plaza Festival, South Parking, Jl. HR Rasuna S...</td>\n",
       "      <td>Plaza Festival, Kuningan</td>\n",
       "      <td>Plaza Festival, Kuningan, Jakarta</td>\n",
       "      <td>106.831748</td>\n",
       "      <td>-6.218932</td>\n",
       "      <td>Cafe, Western</td>\n",
       "      <td>300000</td>\n",
       "      <td>Indonesian Rupiah(IDR)</td>\n",
       "      <td>No</td>\n",
       "      <td>No</td>\n",
       "      <td>3</td>\n",
       "      <td>4.3</td>\n",
       "      <td>Green</td>\n",
       "      <td>Very Good</td>\n",
       "      <td>458</td>\n",
       "    </tr>\n",
       "    <tr>\n",
       "      <th>6</th>\n",
       "      <td>18386856</td>\n",
       "      <td>Onokabe</td>\n",
       "      <td>94</td>\n",
       "      <td>Tangerang</td>\n",
       "      <td>Alam Sutera Town Center, Jl. Alam Utama, Serpo...</td>\n",
       "      <td>Alam Sutera Town Center, Serpong Utara</td>\n",
       "      <td>Alam Sutera Town Center, Serpong Utara, Tangerang</td>\n",
       "      <td>106.652688</td>\n",
       "      <td>-6.241792</td>\n",
       "      <td>Indonesian</td>\n",
       "      <td>300000</td>\n",
       "      <td>Indonesian Rupiah(IDR)</td>\n",
       "      <td>No</td>\n",
       "      <td>No</td>\n",
       "      <td>3</td>\n",
       "      <td>3.7</td>\n",
       "      <td>Yellow</td>\n",
       "      <td>Good</td>\n",
       "      <td>155</td>\n",
       "    </tr>\n",
       "    <tr>\n",
       "      <th>7</th>\n",
       "      <td>7423482</td>\n",
       "      <td>Lemongrass</td>\n",
       "      <td>94</td>\n",
       "      <td>Bogor</td>\n",
       "      <td>Jl. Raya Pajajaran No. 21, Bogor Utara, Bogor</td>\n",
       "      <td>Bogor Utara</td>\n",
       "      <td>Bogor Utara, Bogor</td>\n",
       "      <td>106.807850</td>\n",
       "      <td>-6.576578</td>\n",
       "      <td>Peranakan, Indonesian</td>\n",
       "      <td>250000</td>\n",
       "      <td>Indonesian Rupiah(IDR)</td>\n",
       "      <td>No</td>\n",
       "      <td>No</td>\n",
       "      <td>3</td>\n",
       "      <td>4.0</td>\n",
       "      <td>Green</td>\n",
       "      <td>Very Good</td>\n",
       "      <td>1159</td>\n",
       "    </tr>\n",
       "    <tr>\n",
       "      <th>8</th>\n",
       "      <td>18391256</td>\n",
       "      <td>MONKS</td>\n",
       "      <td>94</td>\n",
       "      <td>Jakarta</td>\n",
       "      <td>Komplek Graha Boulevard Timur, Summarecon Kela...</td>\n",
       "      <td>Kelapa Gading</td>\n",
       "      <td>Kelapa Gading, Jakarta</td>\n",
       "      <td>106.911335</td>\n",
       "      <td>-6.163948</td>\n",
       "      <td>Western, Asian, Cafe</td>\n",
       "      <td>250000</td>\n",
       "      <td>Indonesian Rupiah(IDR)</td>\n",
       "      <td>No</td>\n",
       "      <td>No</td>\n",
       "      <td>3</td>\n",
       "      <td>4.2</td>\n",
       "      <td>Green</td>\n",
       "      <td>Very Good</td>\n",
       "      <td>259</td>\n",
       "    </tr>\n",
       "    <tr>\n",
       "      <th>9</th>\n",
       "      <td>7422633</td>\n",
       "      <td>Talaga Sampireun</td>\n",
       "      <td>94</td>\n",
       "      <td>Jakarta</td>\n",
       "      <td>Jl. Lingkar Luar Barat</td>\n",
       "      <td>Cengkareng</td>\n",
       "      <td>Cengkareng, Jakarta</td>\n",
       "      <td>106.728508</td>\n",
       "      <td>-6.168467</td>\n",
       "      <td>Sunda, Indonesian</td>\n",
       "      <td>200000</td>\n",
       "      <td>Indonesian Rupiah(IDR)</td>\n",
       "      <td>No</td>\n",
       "      <td>No</td>\n",
       "      <td>3</td>\n",
       "      <td>4.9</td>\n",
       "      <td>Dark Green</td>\n",
       "      <td>Excellent</td>\n",
       "      <td>1662</td>\n",
       "    </tr>\n",
       "  </tbody>\n",
       "</table>\n",
       "</div>"
      ],
      "text/plain": [
       "   Restaurant ID              Restaurant Name  Country Code       City  \\\n",
       "0        7402935                         Skye            94    Jakarta   \n",
       "1        7410290     Satoo - Hotel Shangri-La            94    Jakarta   \n",
       "2        7420899                   Sushi Masa            94    Jakarta   \n",
       "3        7421967               3 Wise Monkeys            94    Jakarta   \n",
       "4        7422489  Avec Moi Restaurant and Bar            94    Jakarta   \n",
       "5       18352452   Lucky Cat Coffee & Kitchen            94    Jakarta   \n",
       "6       18386856                      Onokabe            94  Tangerang   \n",
       "7        7423482                   Lemongrass            94      Bogor   \n",
       "8       18391256                        MONKS            94    Jakarta   \n",
       "9        7422633             Talaga Sampireun            94    Jakarta   \n",
       "\n",
       "                                             Address  \\\n",
       "0  Menara BCA, Lantai 56, Jl. MH. Thamrin, Thamri...   \n",
       "1               Hotel Shangri-La, Jl. Jend. Sudirman   \n",
       "2                   Jl. Tuna Raya No. 5, Penjaringan   \n",
       "3                Jl. Suryo No. 26, Senopati, Jakarta   \n",
       "4  Gedung PIC, Jl. Teluk Betung 43, Thamrin, Jakarta   \n",
       "5  Plaza Festival, South Parking, Jl. HR Rasuna S...   \n",
       "6  Alam Sutera Town Center, Jl. Alam Utama, Serpo...   \n",
       "7      Jl. Raya Pajajaran No. 21, Bogor Utara, Bogor   \n",
       "8  Komplek Graha Boulevard Timur, Summarecon Kela...   \n",
       "9                             Jl. Lingkar Luar Barat   \n",
       "\n",
       "                                 Locality  \\\n",
       "0           Grand Indonesia Mall, Thamrin   \n",
       "1              Hotel Shangri-La, Sudirman   \n",
       "2                             Penjaringan   \n",
       "3                                Senopati   \n",
       "4                                 Thamrin   \n",
       "5                Plaza Festival, Kuningan   \n",
       "6  Alam Sutera Town Center, Serpong Utara   \n",
       "7                             Bogor Utara   \n",
       "8                           Kelapa Gading   \n",
       "9                              Cengkareng   \n",
       "\n",
       "                                    Locality Verbose   Longitude  Latitude  \\\n",
       "0             Grand Indonesia Mall, Thamrin, Jakarta  106.821999 -6.196778   \n",
       "1                Hotel Shangri-La, Sudirman, Jakarta  106.818961 -6.203292   \n",
       "2                               Penjaringan, Jakarta  106.800144 -6.101298   \n",
       "3                                  Senopati, Jakarta  106.813400 -6.235241   \n",
       "4                                   Thamrin, Jakarta  106.821023 -6.196270   \n",
       "5                  Plaza Festival, Kuningan, Jakarta  106.831748 -6.218932   \n",
       "6  Alam Sutera Town Center, Serpong Utara, Tangerang  106.652688 -6.241792   \n",
       "7                                 Bogor Utara, Bogor  106.807850 -6.576578   \n",
       "8                             Kelapa Gading, Jakarta  106.911335 -6.163948   \n",
       "9                                Cengkareng, Jakarta  106.728508 -6.168467   \n",
       "\n",
       "                     Cuisines  Average Cost for two                Currency  \\\n",
       "0        Italian, Continental                800000  Indonesian Rupiah(IDR)   \n",
       "1  Asian, Indonesian, Western                800000  Indonesian Rupiah(IDR)   \n",
       "2             Sushi, Japanese                500000  Indonesian Rupiah(IDR)   \n",
       "3                    Japanese                450000  Indonesian Rupiah(IDR)   \n",
       "4             French, Western                350000  Indonesian Rupiah(IDR)   \n",
       "5               Cafe, Western                300000  Indonesian Rupiah(IDR)   \n",
       "6                  Indonesian                300000  Indonesian Rupiah(IDR)   \n",
       "7       Peranakan, Indonesian                250000  Indonesian Rupiah(IDR)   \n",
       "8        Western, Asian, Cafe                250000  Indonesian Rupiah(IDR)   \n",
       "9           Sunda, Indonesian                200000  Indonesian Rupiah(IDR)   \n",
       "\n",
       "  Has Table booking Has Online delivery  Price range  Aggregate rating  \\\n",
       "0                No                  No            3               4.1   \n",
       "1                No                  No            3               4.6   \n",
       "2                No                  No            3               4.9   \n",
       "3                No                  No            3               4.2   \n",
       "4                No                  No            3               4.3   \n",
       "5                No                  No            3               4.3   \n",
       "6                No                  No            3               3.7   \n",
       "7                No                  No            3               4.0   \n",
       "8                No                  No            3               4.2   \n",
       "9                No                  No            3               4.9   \n",
       "\n",
       "  Rating color Rating text  Votes  \n",
       "0        Green   Very Good   1498  \n",
       "1   Dark Green   Excellent    873  \n",
       "2   Dark Green   Excellent    605  \n",
       "3        Green   Very Good    395  \n",
       "4        Green   Very Good    243  \n",
       "5        Green   Very Good    458  \n",
       "6       Yellow        Good    155  \n",
       "7        Green   Very Good   1159  \n",
       "8        Green   Very Good    259  \n",
       "9   Dark Green   Excellent   1662  "
      ]
     },
     "execution_count": 4,
     "metadata": {},
     "output_type": "execute_result"
    }
   ],
   "source": [
    "Marketing_df.head(10)"
   ]
  },
  {
   "cell_type": "code",
   "execution_count": 5,
   "metadata": {},
   "outputs": [
    {
     "data": {
      "text/plain": [
       "(9551, 19)"
      ]
     },
     "execution_count": 5,
     "metadata": {},
     "output_type": "execute_result"
    }
   ],
   "source": [
    "Marketing_df.shape"
   ]
  },
  {
   "cell_type": "code",
   "execution_count": 6,
   "metadata": {},
   "outputs": [
    {
     "data": {
      "text/html": [
       "<div>\n",
       "<style scoped>\n",
       "    .dataframe tbody tr th:only-of-type {\n",
       "        vertical-align: middle;\n",
       "    }\n",
       "\n",
       "    .dataframe tbody tr th {\n",
       "        vertical-align: top;\n",
       "    }\n",
       "\n",
       "    .dataframe thead th {\n",
       "        text-align: right;\n",
       "    }\n",
       "</style>\n",
       "<table border=\"1\" class=\"dataframe\">\n",
       "  <thead>\n",
       "    <tr style=\"text-align: right;\">\n",
       "      <th></th>\n",
       "      <th>Restaurant ID</th>\n",
       "      <th>Country Code</th>\n",
       "      <th>Longitude</th>\n",
       "      <th>Latitude</th>\n",
       "      <th>Average Cost for two</th>\n",
       "      <th>Price range</th>\n",
       "      <th>Aggregate rating</th>\n",
       "      <th>Votes</th>\n",
       "    </tr>\n",
       "  </thead>\n",
       "  <tbody>\n",
       "    <tr>\n",
       "      <th>count</th>\n",
       "      <td>9.541000e+03</td>\n",
       "      <td>9541.000000</td>\n",
       "      <td>9541.000000</td>\n",
       "      <td>9541.000000</td>\n",
       "      <td>9541.000000</td>\n",
       "      <td>9541.000000</td>\n",
       "      <td>9541.000000</td>\n",
       "      <td>9541.000000</td>\n",
       "    </tr>\n",
       "    <tr>\n",
       "      <th>mean</th>\n",
       "      <td>9.044236e+06</td>\n",
       "      <td>18.181008</td>\n",
       "      <td>64.274135</td>\n",
       "      <td>25.848826</td>\n",
       "      <td>1200.368096</td>\n",
       "      <td>1.804842</td>\n",
       "      <td>2.665171</td>\n",
       "      <td>156.707892</td>\n",
       "    </tr>\n",
       "    <tr>\n",
       "      <th>std</th>\n",
       "      <td>8.791953e+06</td>\n",
       "      <td>56.454284</td>\n",
       "      <td>41.199675</td>\n",
       "      <td>11.010633</td>\n",
       "      <td>16129.588655</td>\n",
       "      <td>0.905528</td>\n",
       "      <td>1.516672</td>\n",
       "      <td>430.180201</td>\n",
       "    </tr>\n",
       "    <tr>\n",
       "      <th>min</th>\n",
       "      <td>5.300000e+01</td>\n",
       "      <td>1.000000</td>\n",
       "      <td>-157.948486</td>\n",
       "      <td>-41.330428</td>\n",
       "      <td>0.000000</td>\n",
       "      <td>1.000000</td>\n",
       "      <td>0.000000</td>\n",
       "      <td>0.000000</td>\n",
       "    </tr>\n",
       "    <tr>\n",
       "      <th>25%</th>\n",
       "      <td>3.019320e+05</td>\n",
       "      <td>1.000000</td>\n",
       "      <td>77.081601</td>\n",
       "      <td>28.478683</td>\n",
       "      <td>250.000000</td>\n",
       "      <td>1.000000</td>\n",
       "      <td>2.500000</td>\n",
       "      <td>5.000000</td>\n",
       "    </tr>\n",
       "    <tr>\n",
       "      <th>50%</th>\n",
       "      <td>6.003426e+06</td>\n",
       "      <td>1.000000</td>\n",
       "      <td>77.192035</td>\n",
       "      <td>28.570444</td>\n",
       "      <td>400.000000</td>\n",
       "      <td>2.000000</td>\n",
       "      <td>3.200000</td>\n",
       "      <td>31.000000</td>\n",
       "    </tr>\n",
       "    <tr>\n",
       "      <th>75%</th>\n",
       "      <td>1.835266e+07</td>\n",
       "      <td>1.000000</td>\n",
       "      <td>77.282045</td>\n",
       "      <td>28.642713</td>\n",
       "      <td>700.000000</td>\n",
       "      <td>2.000000</td>\n",
       "      <td>3.700000</td>\n",
       "      <td>130.000000</td>\n",
       "    </tr>\n",
       "    <tr>\n",
       "      <th>max</th>\n",
       "      <td>1.850065e+07</td>\n",
       "      <td>216.000000</td>\n",
       "      <td>174.832089</td>\n",
       "      <td>55.976980</td>\n",
       "      <td>800000.000000</td>\n",
       "      <td>4.000000</td>\n",
       "      <td>4.900000</td>\n",
       "      <td>10934.000000</td>\n",
       "    </tr>\n",
       "  </tbody>\n",
       "</table>\n",
       "</div>"
      ],
      "text/plain": [
       "       Restaurant ID  Country Code    Longitude     Latitude  \\\n",
       "count   9.541000e+03   9541.000000  9541.000000  9541.000000   \n",
       "mean    9.044236e+06     18.181008    64.274135    25.848826   \n",
       "std     8.791953e+06     56.454284    41.199675    11.010633   \n",
       "min     5.300000e+01      1.000000  -157.948486   -41.330428   \n",
       "25%     3.019320e+05      1.000000    77.081601    28.478683   \n",
       "50%     6.003426e+06      1.000000    77.192035    28.570444   \n",
       "75%     1.835266e+07      1.000000    77.282045    28.642713   \n",
       "max     1.850065e+07    216.000000   174.832089    55.976980   \n",
       "\n",
       "       Average Cost for two  Price range  Aggregate rating         Votes  \n",
       "count           9541.000000  9541.000000       9541.000000   9541.000000  \n",
       "mean            1200.368096     1.804842          2.665171    156.707892  \n",
       "std            16129.588655     0.905528          1.516672    430.180201  \n",
       "min                0.000000     1.000000          0.000000      0.000000  \n",
       "25%              250.000000     1.000000          2.500000      5.000000  \n",
       "50%              400.000000     2.000000          3.200000     31.000000  \n",
       "75%              700.000000     2.000000          3.700000    130.000000  \n",
       "max           800000.000000     4.000000          4.900000  10934.000000  "
      ]
     },
     "execution_count": 6,
     "metadata": {},
     "output_type": "execute_result"
    }
   ],
   "source": [
    "Marketing_df.dropna(inplace=True)\n",
    "Marketing_df.drop_duplicates(inplace=True)\n",
    "Marketing_df.describe()"
   ]
  },
  {
   "cell_type": "code",
   "execution_count": 7,
   "metadata": {},
   "outputs": [
    {
     "data": {
      "text/plain": [
       "(9541, 19)"
      ]
     },
     "execution_count": 7,
     "metadata": {},
     "output_type": "execute_result"
    }
   ],
   "source": [
    "Marketing_df.shape"
   ]
  },
  {
   "cell_type": "code",
   "execution_count": 8,
   "metadata": {},
   "outputs": [],
   "source": [
    "Country_df = pd.read_excel('Country-Code.xlsx')"
   ]
  },
  {
   "cell_type": "code",
   "execution_count": 9,
   "metadata": {},
   "outputs": [
    {
     "name": "stdout",
     "output_type": "stream",
     "text": [
      "<class 'pandas.core.frame.DataFrame'>\n",
      "RangeIndex: 15 entries, 0 to 14\n",
      "Data columns (total 2 columns):\n",
      " #   Column        Non-Null Count  Dtype \n",
      "---  ------        --------------  ----- \n",
      " 0   Country Code  15 non-null     int64 \n",
      " 1   Country       15 non-null     object\n",
      "dtypes: int64(1), object(1)\n",
      "memory usage: 372.0+ bytes\n"
     ]
    }
   ],
   "source": [
    "Country_df.info()"
   ]
  },
  {
   "cell_type": "code",
   "execution_count": 10,
   "metadata": {},
   "outputs": [
    {
     "data": {
      "text/html": [
       "<div>\n",
       "<style scoped>\n",
       "    .dataframe tbody tr th:only-of-type {\n",
       "        vertical-align: middle;\n",
       "    }\n",
       "\n",
       "    .dataframe tbody tr th {\n",
       "        vertical-align: top;\n",
       "    }\n",
       "\n",
       "    .dataframe thead th {\n",
       "        text-align: right;\n",
       "    }\n",
       "</style>\n",
       "<table border=\"1\" class=\"dataframe\">\n",
       "  <thead>\n",
       "    <tr style=\"text-align: right;\">\n",
       "      <th></th>\n",
       "      <th>Country Code</th>\n",
       "      <th>Country</th>\n",
       "    </tr>\n",
       "  </thead>\n",
       "  <tbody>\n",
       "    <tr>\n",
       "      <th>0</th>\n",
       "      <td>1</td>\n",
       "      <td>India</td>\n",
       "    </tr>\n",
       "    <tr>\n",
       "      <th>1</th>\n",
       "      <td>14</td>\n",
       "      <td>Australia</td>\n",
       "    </tr>\n",
       "    <tr>\n",
       "      <th>2</th>\n",
       "      <td>30</td>\n",
       "      <td>Brazil</td>\n",
       "    </tr>\n",
       "    <tr>\n",
       "      <th>3</th>\n",
       "      <td>37</td>\n",
       "      <td>Canada</td>\n",
       "    </tr>\n",
       "    <tr>\n",
       "      <th>4</th>\n",
       "      <td>94</td>\n",
       "      <td>Indonesia</td>\n",
       "    </tr>\n",
       "    <tr>\n",
       "      <th>5</th>\n",
       "      <td>148</td>\n",
       "      <td>New Zealand</td>\n",
       "    </tr>\n",
       "    <tr>\n",
       "      <th>6</th>\n",
       "      <td>162</td>\n",
       "      <td>Phillipines</td>\n",
       "    </tr>\n",
       "    <tr>\n",
       "      <th>7</th>\n",
       "      <td>166</td>\n",
       "      <td>Qatar</td>\n",
       "    </tr>\n",
       "    <tr>\n",
       "      <th>8</th>\n",
       "      <td>184</td>\n",
       "      <td>Singapore</td>\n",
       "    </tr>\n",
       "    <tr>\n",
       "      <th>9</th>\n",
       "      <td>189</td>\n",
       "      <td>South Africa</td>\n",
       "    </tr>\n",
       "    <tr>\n",
       "      <th>10</th>\n",
       "      <td>191</td>\n",
       "      <td>Sri Lanka</td>\n",
       "    </tr>\n",
       "    <tr>\n",
       "      <th>11</th>\n",
       "      <td>208</td>\n",
       "      <td>Turkey</td>\n",
       "    </tr>\n",
       "    <tr>\n",
       "      <th>12</th>\n",
       "      <td>214</td>\n",
       "      <td>UAE</td>\n",
       "    </tr>\n",
       "    <tr>\n",
       "      <th>13</th>\n",
       "      <td>215</td>\n",
       "      <td>United Kingdom</td>\n",
       "    </tr>\n",
       "    <tr>\n",
       "      <th>14</th>\n",
       "      <td>216</td>\n",
       "      <td>United States</td>\n",
       "    </tr>\n",
       "  </tbody>\n",
       "</table>\n",
       "</div>"
      ],
      "text/plain": [
       "    Country Code         Country\n",
       "0              1           India\n",
       "1             14       Australia\n",
       "2             30          Brazil\n",
       "3             37          Canada\n",
       "4             94       Indonesia\n",
       "5            148     New Zealand\n",
       "6            162     Phillipines\n",
       "7            166           Qatar\n",
       "8            184       Singapore\n",
       "9            189    South Africa\n",
       "10           191       Sri Lanka\n",
       "11           208          Turkey\n",
       "12           214             UAE\n",
       "13           215  United Kingdom\n",
       "14           216   United States"
      ]
     },
     "execution_count": 10,
     "metadata": {},
     "output_type": "execute_result"
    }
   ],
   "source": [
    "Country_df"
   ]
  },
  {
   "cell_type": "code",
   "execution_count": 11,
   "metadata": {},
   "outputs": [
    {
     "name": "stdout",
     "output_type": "stream",
     "text": [
      "<class 'pandas.core.frame.DataFrame'>\n",
      "Index: 9541 entries, 0 to 9550\n",
      "Data columns (total 19 columns):\n",
      " #   Column                Non-Null Count  Dtype  \n",
      "---  ------                --------------  -----  \n",
      " 0   Restaurant ID         9541 non-null   int64  \n",
      " 1   Restaurant Name       9541 non-null   object \n",
      " 2   Country Code          9541 non-null   int64  \n",
      " 3   City                  9541 non-null   object \n",
      " 4   Address               9541 non-null   object \n",
      " 5   Locality              9541 non-null   object \n",
      " 6   Locality Verbose      9541 non-null   object \n",
      " 7   Longitude             9541 non-null   float64\n",
      " 8   Latitude              9541 non-null   float64\n",
      " 9   Cuisines              9541 non-null   object \n",
      " 10  Average Cost for two  9541 non-null   int64  \n",
      " 11  Currency              9541 non-null   object \n",
      " 12  Has Table booking     9541 non-null   object \n",
      " 13  Has Online delivery   9541 non-null   object \n",
      " 14  Price range           9541 non-null   int64  \n",
      " 15  Aggregate rating      9541 non-null   float64\n",
      " 16  Rating color          9541 non-null   object \n",
      " 17  Rating text           9541 non-null   object \n",
      " 18  Votes                 9541 non-null   int64  \n",
      "dtypes: float64(3), int64(5), object(11)\n",
      "memory usage: 1.5+ MB\n"
     ]
    }
   ],
   "source": [
    "Marketing_df.info()"
   ]
  },
  {
   "cell_type": "markdown",
   "metadata": {},
   "source": [
    "**I'm removing the \"Locality Verbose\" column because it contains redundant information and breaks the First Normal Form (1NF) by holding multiple values in a single field. The Cuisines column also violates 1NF, but I’ve tackled that issue later in the code.**"
   ]
  },
  {
   "cell_type": "code",
   "execution_count": 12,
   "metadata": {},
   "outputs": [
    {
     "data": {
      "text/html": [
       "<div>\n",
       "<style scoped>\n",
       "    .dataframe tbody tr th:only-of-type {\n",
       "        vertical-align: middle;\n",
       "    }\n",
       "\n",
       "    .dataframe tbody tr th {\n",
       "        vertical-align: top;\n",
       "    }\n",
       "\n",
       "    .dataframe thead th {\n",
       "        text-align: right;\n",
       "    }\n",
       "</style>\n",
       "<table border=\"1\" class=\"dataframe\">\n",
       "  <thead>\n",
       "    <tr style=\"text-align: right;\">\n",
       "      <th></th>\n",
       "      <th>Locality</th>\n",
       "      <th>City</th>\n",
       "      <th>Locality Verbose</th>\n",
       "    </tr>\n",
       "  </thead>\n",
       "  <tbody>\n",
       "    <tr>\n",
       "      <th>0</th>\n",
       "      <td>Grand Indonesia Mall, Thamrin</td>\n",
       "      <td>Jakarta</td>\n",
       "      <td>Grand Indonesia Mall, Thamrin, Jakarta</td>\n",
       "    </tr>\n",
       "    <tr>\n",
       "      <th>1</th>\n",
       "      <td>Hotel Shangri-La, Sudirman</td>\n",
       "      <td>Jakarta</td>\n",
       "      <td>Hotel Shangri-La, Sudirman, Jakarta</td>\n",
       "    </tr>\n",
       "    <tr>\n",
       "      <th>2</th>\n",
       "      <td>Penjaringan</td>\n",
       "      <td>Jakarta</td>\n",
       "      <td>Penjaringan, Jakarta</td>\n",
       "    </tr>\n",
       "    <tr>\n",
       "      <th>3</th>\n",
       "      <td>Senopati</td>\n",
       "      <td>Jakarta</td>\n",
       "      <td>Senopati, Jakarta</td>\n",
       "    </tr>\n",
       "    <tr>\n",
       "      <th>4</th>\n",
       "      <td>Thamrin</td>\n",
       "      <td>Jakarta</td>\n",
       "      <td>Thamrin, Jakarta</td>\n",
       "    </tr>\n",
       "  </tbody>\n",
       "</table>\n",
       "</div>"
      ],
      "text/plain": [
       "                        Locality     City  \\\n",
       "0  Grand Indonesia Mall, Thamrin  Jakarta   \n",
       "1     Hotel Shangri-La, Sudirman  Jakarta   \n",
       "2                    Penjaringan  Jakarta   \n",
       "3                       Senopati  Jakarta   \n",
       "4                        Thamrin  Jakarta   \n",
       "\n",
       "                         Locality Verbose  \n",
       "0  Grand Indonesia Mall, Thamrin, Jakarta  \n",
       "1     Hotel Shangri-La, Sudirman, Jakarta  \n",
       "2                    Penjaringan, Jakarta  \n",
       "3                       Senopati, Jakarta  \n",
       "4                        Thamrin, Jakarta  "
      ]
     },
     "execution_count": 12,
     "metadata": {},
     "output_type": "execute_result"
    }
   ],
   "source": [
    "Marketing_df.loc[:,['Locality','City','Locality Verbose']].head(5)"
   ]
  },
  {
   "cell_type": "code",
   "execution_count": 13,
   "metadata": {},
   "outputs": [],
   "source": [
    "Marketing_df.drop(columns=['Locality Verbose'],axis=1,inplace=True)"
   ]
  },
  {
   "cell_type": "markdown",
   "metadata": {},
   "source": [
    "**Performing EDA:**\n"
   ]
  },
  {
   "cell_type": "markdown",
   "metadata": {},
   "source": [
    "**Explore the geographical distribution of the restaurants**"
   ]
  },
  {
   "cell_type": "code",
   "execution_count": 14,
   "metadata": {},
   "outputs": [
    {
     "data": {
      "text/plain": [
       "(9541, 19)"
      ]
     },
     "execution_count": 14,
     "metadata": {},
     "output_type": "execute_result"
    }
   ],
   "source": [
    "merged_df = Marketing_df.merge(Country_df, how='left',on='Country Code')\n",
    "merged_df.shape"
   ]
  },
  {
   "cell_type": "code",
   "execution_count": 15,
   "metadata": {},
   "outputs": [],
   "source": [
    "restaurant_counts_country = merged_df.groupby('Country')['Restaurant ID'].count().reset_index()"
   ]
  },
  {
   "cell_type": "code",
   "execution_count": 16,
   "metadata": {},
   "outputs": [
    {
     "data": {
      "image/png": "[encoded data removed]",
      "text/plain": [
       "<Figure size 1200x600 with 1 Axes>"
      ]
     },
     "metadata": {},
     "output_type": "display_data"
    }
   ],
   "source": [
    "plt.figure(figsize=(12,6))\n",
    "sns.barplot(data=restaurant_counts_country,x='Country',y='Restaurant ID',hue='Restaurant ID')\n",
    "plt.xlabel('Countries')\n",
    "plt.ylabel('Count of Restaurants')\n",
    "plt.title('Number of Restaurants by Country')\n",
    "plt.xticks(rotation=45)\n",
    "plt.show()"
   ]
  },
  {
   "cell_type": "code",
   "execution_count": 17,
   "metadata": {},
   "outputs": [],
   "source": [
    "restaurant_counts_city = merged_df.groupby('City')['Restaurant ID'].count().reset_index()"
   ]
  },
  {
   "cell_type": "code",
   "execution_count": 18,
   "metadata": {},
   "outputs": [
    {
     "data": {
      "image/png": "[encoded data removed]",
      "text/plain": [
       "<Figure size 1200x600 with 1 Axes>"
      ]
     },
     "metadata": {},
     "output_type": "display_data"
    }
   ],
   "source": [
    "plt.figure(figsize=(12, 6))\n",
    "sns.barplot(data=restaurant_counts_city.sort_values(by='Restaurant ID',ascending=False).head(10),x='City',y='Restaurant ID',hue='Restaurant ID')\n",
    "plt.xlabel('Cities')\n",
    "plt.ylabel('Count of Restaurants')\n",
    "plt.title('Number of Restaurants by City')\n",
    "plt.xticks(rotation=45)\n",
    "plt.show()"
   ]
  },
  {
   "cell_type": "markdown",
   "metadata": {},
   "source": [
    "**Explore how ratings are distributed overall.**"
   ]
  },
  {
   "cell_type": "code",
   "execution_count": 19,
   "metadata": {},
   "outputs": [
    {
     "data": {
      "image/png": "[encoded data removed]",
      "text/plain": [
       "<Figure size 640x480 with 1 Axes>"
      ]
     },
     "metadata": {},
     "output_type": "display_data"
    }
   ],
   "source": [
    "sns.histplot(merged_df[['Aggregate rating']],bins=[0,1,2,3,4,5])\n",
    "plt.xlabel('Aggregate Rating')\n",
    "plt.ylabel('Count')\n",
    "plt.show()"
   ]
  },
  {
   "cell_type": "code",
   "execution_count": 20,
   "metadata": {},
   "outputs": [
    {
     "data": {
      "text/plain": [
       "count    9541.000000\n",
       "mean        2.665171\n",
       "std         1.516672\n",
       "min         0.000000\n",
       "25%         2.500000\n",
       "50%         3.200000\n",
       "75%         3.700000\n",
       "max         4.900000\n",
       "Name: Aggregate rating, dtype: float64"
      ]
     },
     "execution_count": 20,
     "metadata": {},
     "output_type": "execute_result"
    }
   ],
   "source": [
    "merged_df['Aggregate rating'].describe()"
   ]
  },
  {
   "cell_type": "markdown",
   "metadata": {},
   "source": [
    "**Restaurant franchising is a thriving venture. So, it is very important to explore the franchise with most national presence**"
   ]
  },
  {
   "cell_type": "code",
   "execution_count": 21,
   "metadata": {},
   "outputs": [
    {
     "data": {
      "text/html": [
       "<div>\n",
       "<style scoped>\n",
       "    .dataframe tbody tr th:only-of-type {\n",
       "        vertical-align: middle;\n",
       "    }\n",
       "\n",
       "    .dataframe tbody tr th {\n",
       "        vertical-align: top;\n",
       "    }\n",
       "\n",
       "    .dataframe thead th {\n",
       "        text-align: right;\n",
       "    }\n",
       "</style>\n",
       "<table border=\"1\" class=\"dataframe\">\n",
       "  <thead>\n",
       "    <tr style=\"text-align: right;\">\n",
       "      <th></th>\n",
       "      <th>Restaurant Name</th>\n",
       "      <th>Country</th>\n",
       "    </tr>\n",
       "  </thead>\n",
       "  <tbody>\n",
       "    <tr>\n",
       "      <th>0</th>\n",
       "      <td>12212</td>\n",
       "      <td>1</td>\n",
       "    </tr>\n",
       "    <tr>\n",
       "      <th>1</th>\n",
       "      <td>Let's Burrrp</td>\n",
       "      <td>1</td>\n",
       "    </tr>\n",
       "    <tr>\n",
       "      <th>2</th>\n",
       "      <td>#45</td>\n",
       "      <td>1</td>\n",
       "    </tr>\n",
       "    <tr>\n",
       "      <th>3</th>\n",
       "      <td>#Dilliwaala6</td>\n",
       "      <td>1</td>\n",
       "    </tr>\n",
       "    <tr>\n",
       "      <th>4</th>\n",
       "      <td>#InstaFreeze</td>\n",
       "      <td>1</td>\n",
       "    </tr>\n",
       "    <tr>\n",
       "      <th>...</th>\n",
       "      <td>...</td>\n",
       "      <td>...</td>\n",
       "    </tr>\n",
       "    <tr>\n",
       "      <th>7431</th>\n",
       "      <td>t Lounge by Dilmah</td>\n",
       "      <td>1</td>\n",
       "    </tr>\n",
       "    <tr>\n",
       "      <th>7432</th>\n",
       "      <td>tashas</td>\n",
       "      <td>1</td>\n",
       "    </tr>\n",
       "    <tr>\n",
       "      <th>7433</th>\n",
       "      <td>wagamama</td>\n",
       "      <td>1</td>\n",
       "    </tr>\n",
       "    <tr>\n",
       "      <th>7434</th>\n",
       "      <td>{Niche} - Cafe &amp; Bar</td>\n",
       "      <td>1</td>\n",
       "    </tr>\n",
       "    <tr>\n",
       "      <th>7435</th>\n",
       "      <td>Ìàukura€Ùa Sofras€±</td>\n",
       "      <td>1</td>\n",
       "    </tr>\n",
       "  </tbody>\n",
       "</table>\n",
       "<p>7436 rows × 2 columns</p>\n",
       "</div>"
      ],
      "text/plain": [
       "           Restaurant Name  Country\n",
       "0                    12212        1\n",
       "1             Let's Burrrp        1\n",
       "2                      #45        1\n",
       "3             #Dilliwaala6        1\n",
       "4             #InstaFreeze        1\n",
       "...                    ...      ...\n",
       "7431    t Lounge by Dilmah        1\n",
       "7432                tashas        1\n",
       "7433              wagamama        1\n",
       "7434  {Niche} - Cafe & Bar        1\n",
       "7435   Ìàukura€Ùa Sofras€±        1\n",
       "\n",
       "[7436 rows x 2 columns]"
      ]
     },
     "execution_count": 21,
     "metadata": {},
     "output_type": "execute_result"
    }
   ],
   "source": [
    "Top_10_restaurant_countries = merged_df.groupby('Restaurant Name')['Country'].count().reset_index()\n",
    "Top_10_restaurant_countries"
   ]
  },
  {
   "cell_type": "code",
   "execution_count": 22,
   "metadata": {},
   "outputs": [
    {
     "data": {
      "text/html": [
       "<div>\n",
       "<style scoped>\n",
       "    .dataframe tbody tr th:only-of-type {\n",
       "        vertical-align: middle;\n",
       "    }\n",
       "\n",
       "    .dataframe tbody tr th {\n",
       "        vertical-align: top;\n",
       "    }\n",
       "\n",
       "    .dataframe thead th {\n",
       "        text-align: right;\n",
       "    }\n",
       "</style>\n",
       "<table border=\"1\" class=\"dataframe\">\n",
       "  <thead>\n",
       "    <tr style=\"text-align: right;\">\n",
       "      <th></th>\n",
       "      <th>Restaurant Name</th>\n",
       "      <th>Country</th>\n",
       "    </tr>\n",
       "  </thead>\n",
       "  <tbody>\n",
       "    <tr>\n",
       "      <th>1098</th>\n",
       "      <td>Cafe Coffee Day</td>\n",
       "      <td>83</td>\n",
       "    </tr>\n",
       "    <tr>\n",
       "      <th>2096</th>\n",
       "      <td>Domino's Pizza</td>\n",
       "      <td>79</td>\n",
       "    </tr>\n",
       "    <tr>\n",
       "      <th>6097</th>\n",
       "      <td>Subway</td>\n",
       "      <td>63</td>\n",
       "    </tr>\n",
       "    <tr>\n",
       "      <th>2713</th>\n",
       "      <td>Green Chick Chop</td>\n",
       "      <td>51</td>\n",
       "    </tr>\n",
       "    <tr>\n",
       "      <th>4069</th>\n",
       "      <td>McDonald's</td>\n",
       "      <td>48</td>\n",
       "    </tr>\n",
       "    <tr>\n",
       "      <th>3472</th>\n",
       "      <td>Keventers</td>\n",
       "      <td>34</td>\n",
       "    </tr>\n",
       "    <tr>\n",
       "      <th>4952</th>\n",
       "      <td>Pizza Hut</td>\n",
       "      <td>30</td>\n",
       "    </tr>\n",
       "    <tr>\n",
       "      <th>2616</th>\n",
       "      <td>Giani</td>\n",
       "      <td>29</td>\n",
       "    </tr>\n",
       "    <tr>\n",
       "      <th>680</th>\n",
       "      <td>Baskin Robbins</td>\n",
       "      <td>28</td>\n",
       "    </tr>\n",
       "    <tr>\n",
       "      <th>663</th>\n",
       "      <td>Barbeque Nation</td>\n",
       "      <td>26</td>\n",
       "    </tr>\n",
       "  </tbody>\n",
       "</table>\n",
       "</div>"
      ],
      "text/plain": [
       "       Restaurant Name  Country\n",
       "1098   Cafe Coffee Day       83\n",
       "2096    Domino's Pizza       79\n",
       "6097            Subway       63\n",
       "2713  Green Chick Chop       51\n",
       "4069        McDonald's       48\n",
       "3472         Keventers       34\n",
       "4952         Pizza Hut       30\n",
       "2616             Giani       29\n",
       "680     Baskin Robbins       28\n",
       "663    Barbeque Nation       26"
      ]
     },
     "execution_count": 22,
     "metadata": {},
     "output_type": "execute_result"
    }
   ],
   "source": [
    "Top_10_restaurant_countries = Top_10_restaurant_countries.sort_values(by='Country', ascending=False).head(10)\n",
    "Top_10_restaurant_countries"
   ]
  },
  {
   "cell_type": "code",
   "execution_count": 23,
   "metadata": {},
   "outputs": [
    {
     "data": {
      "image/png": "[encoded data removed]",
      "text/plain": [
       "<Figure size 1200x600 with 1 Axes>"
      ]
     },
     "metadata": {},
     "output_type": "display_data"
    }
   ],
   "source": [
    "plt.figure(figsize=(12, 6))\n",
    "sns.barplot(data=Top_10_restaurant_countries, x='Restaurant Name', y='Country',hue='Country')\n",
    "plt.title('Number of Countries By Restaurants')\n",
    "plt.xlabel('Restaurant Name')\n",
    "plt.ylabel('Number of Countries')\n",
    "plt.xticks(rotation=45)\n",
    "plt.show()"
   ]
  },
  {
   "cell_type": "markdown",
   "metadata": {},
   "source": [
    "**What is the ratio between restaurants that allow table booking vs that do not allow table booking?**"
   ]
  },
  {
   "cell_type": "code",
   "execution_count": 24,
   "metadata": {},
   "outputs": [
    {
     "data": {
      "image/png": "[encoded data removed]",
      "text/plain": [
       "<Figure size 640x480 with 1 Axes>"
      ]
     },
     "metadata": {},
     "output_type": "display_data"
    }
   ],
   "source": [
    "table_booking_counts = merged_df['Has Table booking'].value_counts()\n",
    "plt.pie(table_booking_counts, labels=table_booking_counts.index, autopct='%1.1f%%')\n",
    "plt.title('Table booking Availability')\n",
    "plt.show()"
   ]
  },
  {
   "cell_type": "markdown",
   "metadata": {},
   "source": [
    "**What is the percentage of restaurants providing online delivery?**"
   ]
  },
  {
   "cell_type": "code",
   "execution_count": 25,
   "metadata": {},
   "outputs": [
    {
     "data": {
      "image/png": "[encoded data removed]",
      "text/plain": [
       "<Figure size 640x480 with 1 Axes>"
      ]
     },
     "metadata": {},
     "output_type": "display_data"
    }
   ],
   "source": [
    "online_delivery_counts = merged_df['Has Online delivery'].value_counts()\n",
    "plt.pie(online_delivery_counts, labels=online_delivery_counts.index, autopct='%1.2f%%')\n",
    "plt.title('Online Delivery Availability')\n",
    "plt.show()"
   ]
  },
  {
   "cell_type": "markdown",
   "metadata": {},
   "source": [
    "**Is there a difference in no. of votes for the restaurants that deliver and the restaurant that don’t?**"
   ]
  },
  {
   "cell_type": "markdown",
   "metadata": {},
   "source": [
    "**Hypothesis**\n",
    "\n",
    "**H0: There is no difference in the mean number of votes between restaurants that offer online delivery and those that do not.**\n",
    "\n",
    "**H1: There is a significant difference in the mean number of votes between restaurants that offer online delivery and those that do not.**"
   ]
  },
  {
   "cell_type": "code",
   "execution_count": 26,
   "metadata": {},
   "outputs": [
    {
     "name": "stdout",
     "output_type": "stream",
     "text": [
      "having delivery mean: 211.30722154222767, not having delivery mean: 137.83300423131172\n"
     ]
    }
   ],
   "source": [
    "Delivery_yes = merged_df[merged_df['Has Online delivery'] == \"Yes\"]\n",
    "Delivery_No = merged_df[merged_df['Has Online delivery'] == \"No\"]\n",
    "print(f'having delivery mean: {Delivery_yes['Votes'].mean()}, not having delivery mean: {Delivery_No['Votes'].mean()}')"
   ]
  },
  {
   "cell_type": "code",
   "execution_count": 27,
   "metadata": {},
   "outputs": [],
   "source": [
    "from scipy.stats import ttest_ind"
   ]
  },
  {
   "cell_type": "code",
   "execution_count": 28,
   "metadata": {},
   "outputs": [
    {
     "data": {
      "text/plain": [
       "(7.309242900296733, 2.902410753934874e-13)"
      ]
     },
     "execution_count": 28,
     "metadata": {},
     "output_type": "execute_result"
    }
   ],
   "source": [
    "t_stat, p_value = ttest_ind(Delivery_yes['Votes'],Delivery_No['Votes'])\n",
    "t_stat, p_value"
   ]
  },
  {
   "cell_type": "markdown",
   "metadata": {},
   "source": [
    "**Based on the p-value, we reject the null hypothesis. This indicates that there is a significant difference in the Average number of votes between restaurants that offer online delivery and those that do not.**"
   ]
  },
  {
   "cell_type": "markdown",
   "metadata": {},
   "source": [
    ".........."
   ]
  },
  {
   "cell_type": "markdown",
   "metadata": {},
   "source": [
    "**What are the top 10 cuisines served across cities?**"
   ]
  },
  {
   "cell_type": "markdown",
   "metadata": {},
   "source": [
    "**The Cuisines column is not compliant with the first normal form (NF1) because it contains multiple values in a single row. To address this, we need to split the data and expand it to get the top 10 cuisines across cities.**"
   ]
  },
  {
   "cell_type": "code",
   "execution_count": 29,
   "metadata": {},
   "outputs": [
    {
     "data": {
      "text/plain": [
       "(9541, 19)"
      ]
     },
     "execution_count": 29,
     "metadata": {},
     "output_type": "execute_result"
    }
   ],
   "source": [
    "#This turns the Cuisines column into a list, so the explode function can work properly.\n",
    "exploded_df = merged_df.copy()\n",
    "exploded_df['Cuisines_splitted'] = exploded_df['Cuisines'].str.split(',')\n",
    "merged_df.shape"
   ]
  },
  {
   "cell_type": "code",
   "execution_count": 30,
   "metadata": {},
   "outputs": [
    {
     "data": {
      "text/html": [
       "<div>\n",
       "<style scoped>\n",
       "    .dataframe tbody tr th:only-of-type {\n",
       "        vertical-align: middle;\n",
       "    }\n",
       "\n",
       "    .dataframe tbody tr th {\n",
       "        vertical-align: top;\n",
       "    }\n",
       "\n",
       "    .dataframe thead th {\n",
       "        text-align: right;\n",
       "    }\n",
       "</style>\n",
       "<table border=\"1\" class=\"dataframe\">\n",
       "  <thead>\n",
       "    <tr style=\"text-align: right;\">\n",
       "      <th></th>\n",
       "      <th>Restaurant ID</th>\n",
       "      <th>Cuisines</th>\n",
       "      <th>Cuisines_splitted</th>\n",
       "    </tr>\n",
       "  </thead>\n",
       "  <tbody>\n",
       "    <tr>\n",
       "      <th>0</th>\n",
       "      <td>7402935</td>\n",
       "      <td>Italian, Continental</td>\n",
       "      <td>Italian</td>\n",
       "    </tr>\n",
       "    <tr>\n",
       "      <th>0</th>\n",
       "      <td>7402935</td>\n",
       "      <td>Italian, Continental</td>\n",
       "      <td>Continental</td>\n",
       "    </tr>\n",
       "    <tr>\n",
       "      <th>1</th>\n",
       "      <td>7410290</td>\n",
       "      <td>Asian, Indonesian, Western</td>\n",
       "      <td>Asian</td>\n",
       "    </tr>\n",
       "    <tr>\n",
       "      <th>1</th>\n",
       "      <td>7410290</td>\n",
       "      <td>Asian, Indonesian, Western</td>\n",
       "      <td>Indonesian</td>\n",
       "    </tr>\n",
       "    <tr>\n",
       "      <th>1</th>\n",
       "      <td>7410290</td>\n",
       "      <td>Asian, Indonesian, Western</td>\n",
       "      <td>Western</td>\n",
       "    </tr>\n",
       "  </tbody>\n",
       "</table>\n",
       "</div>"
      ],
      "text/plain": [
       "  Restaurant ID                    Cuisines Cuisines_splitted\n",
       "0       7402935        Italian, Continental           Italian\n",
       "0       7402935        Italian, Continental       Continental\n",
       "1       7410290  Asian, Indonesian, Western             Asian\n",
       "1       7410290  Asian, Indonesian, Western        Indonesian\n",
       "1       7410290  Asian, Indonesian, Western           Western"
      ]
     },
     "execution_count": 30,
     "metadata": {},
     "output_type": "execute_result"
    }
   ],
   "source": [
    "exploded_df = exploded_df.explode('Cuisines_splitted').astype('str')\n",
    "exploded_df.loc[:,['Restaurant ID','Cuisines','Cuisines_splitted']].head(5)"
   ]
  },
  {
   "cell_type": "code",
   "execution_count": 31,
   "metadata": {},
   "outputs": [
    {
     "data": {
      "text/plain": [
       "array(['Italian', ' Continental', 'Asian', ' Indonesian', ' Western',\n",
       "       'Sushi', ' Japanese', 'Japanese', 'French', 'Cafe', 'Indonesian',\n",
       "       'Peranakan', 'Western', ' Asian', ' Cafe', 'Sunda', 'Korean',\n",
       "       'Desserts', ' Bakery', ' Sushi', ' Ramen', ' Italian',\n",
       "       ' Coffee and Tea', 'Burger', 'Seafood', ' Desserts', ' Beverages',\n",
       "       'European', ' Korean', ' Thai', ' Chinese', 'North Indian',\n",
       "       ' Indian', ' South Indian', 'Malaysian', ' Kerala', ' Vietnamese',\n",
       "       ' Sri Lankan', 'Chinese', 'Continental', ' North Indian',\n",
       "       'South American', 'Modern Indian', 'Finger Food', 'Mediterranean',\n",
       "       ' European', ' Middle Eastern', ' French', 'Spanish', 'Mughlai',\n",
       "       ' Seafood', ' Mediterranean', ' Filipino', 'Thai', 'South Indian',\n",
       "       ' Mughlai', 'American', ' Steak', ' Pizza', 'Drinks Only', 'Pizza',\n",
       "       ' Salad', ' Finger Food', ' American', ' Fast Food',\n",
       "       ' Street Food', ' Lebanese', ' Mexican', ' Tex-Mex', ' Lucknowi',\n",
       "       ' Awadhi', ' Burger', ' Charcoal Grill', ' Kashmiri', ' Moroccan',\n",
       "       'Mexican', 'Sri Lankan', 'Middle Eastern', ' Arabian',\n",
       "       ' Rajasthani', ' Malaysian', 'Burmese', 'Goan', 'Turkish',\n",
       "       ' Spanish', 'Tea', ' Tea', ' Burmese', 'Steak', 'Tex-Mex',\n",
       "       'Bakery', ' Belgian', 'Bengali', 'British', ' British',\n",
       "       ' Hyderabadi', ' Pakistani', 'Lebanese', 'Rajasthani',\n",
       "       ' Chettinad', ' Contemporary', ' Greek', ' Goan', ' German',\n",
       "       'North Eastern', ' Andhra', 'Fast Food', 'Parsi', ' Afghani',\n",
       "       ' Modern Indian', ' Biryani', 'Portuguese', ' African',\n",
       "       'Hyderabadi', ' North Eastern', ' Mangalorean', ' Iranian',\n",
       "       'Tibetan', ' Nepalese', 'Naga', ' Tibetan', 'Juices', 'Filipino',\n",
       "       'Persian', 'Greek', 'Kashmiri', 'Bihari', ' Parsi', 'Street Food',\n",
       "       ' Naga', ' Ice Cream', ' Bihari', ' Bengali', ' Maharashtrian',\n",
       "       ' Gujarati', 'Lucknowi', 'Biryani', 'Vietnamese', ' Deli',\n",
       "       ' Sandwich', ' Healthy Food', ' South African', ' Grill',\n",
       "       ' International', 'Gujarati', 'Afghani', 'Kerala', ' Turkish',\n",
       "       'Healthy Food', ' Juices', 'Charcoal Grill', 'Awadhi', ' Mithai',\n",
       "       'Nepalese', ' Assamese', ' Raw Meats', 'Tapas', 'Raw Meats',\n",
       "       'Ice Cream', 'Arabian', 'Mithai', 'Oriya', ' Portuguese',\n",
       "       'Assamese', 'Andhra', ' Armenian', 'International', 'Indian',\n",
       "       'Cuisine Varies', 'Salad', ' BBQ', ' Cajun', 'Maharashtrian',\n",
       "       'African', 'Contemporary', 'Beverages', 'Malwani', 'Grill',\n",
       "       ' Tapas', ' Durban', 'Brazilian', 'BBQ', ' Brazilian',\n",
       "       ' Singaporean', ' Cantonese', ' Dim Sum', ' Patisserie', ' Kiwi',\n",
       "       ' Vegetarian', 'Pakistani', ' World Cuisine', 'World Cuisine',\n",
       "       ' Bar Food', 'Bar Food', 'Gourmet Fast Food', 'Modern Australian',\n",
       "       'Restaurant Cafe', 'Peruvian', ' Latin American', ' Scottish',\n",
       "       'Kebab', ' Turkish Pizza', 'Asian Fusion', 'Kiwi', ' Izgara',\n",
       "       ' Curry', 'Argentine', 'Latin American', 'Hawaiian', ' Southern',\n",
       "       ' Pub Food', ' Fusion', ' Mineira', 'Singaporean', ' Australian',\n",
       "       'Irish', 'Taiwanese', 'Patisserie', ' DÌ_ner', 'Turkish Pizza',\n",
       "       'Caribbean', 'Scottish', ' Southwestern', ' Caribbean',\n",
       "       'Breakfast', ' Breakfast', ' Teriyaki', 'German', 'New American',\n",
       "       'Pub Food', 'Sandwich', 'Southern', 'Cuban', ' Fish and Chips',\n",
       "       'Ramen', ' BÌ_rek', ' Modern Australian', 'Coffee and Tea',\n",
       "       ' Malay', ' Diner', ' Canadian', ' Cuban', 'Cajun', ' Soul Food',\n",
       "       ' Persian', ' Hawaiian', 'Australian', ' Argentine', ' Bubble Tea'],\n",
       "      dtype=object)"
      ]
     },
     "execution_count": 31,
     "metadata": {},
     "output_type": "execute_result"
    }
   ],
   "source": [
    "exploded_df['Cuisines_splitted'].unique()"
   ]
  },
  {
   "cell_type": "code",
   "execution_count": 32,
   "metadata": {},
   "outputs": [
    {
     "data": {
      "text/plain": [
       "array(['Italian', 'Continental', 'Asian', 'Indonesian', 'Western',\n",
       "       'Sushi', 'Japanese', 'French', 'Cafe', 'Peranakan', 'Sunda',\n",
       "       'Korean', 'Desserts', 'Bakery', 'Ramen', 'Coffee and Tea',\n",
       "       'Burger', 'Seafood', 'Beverages', 'European', 'Thai', 'Chinese',\n",
       "       'North Indian', 'Indian', 'South Indian', 'Malaysian', 'Kerala',\n",
       "       'Vietnamese', 'Sri Lankan', 'South American', 'Modern Indian',\n",
       "       'Finger Food', 'Mediterranean', 'Middle Eastern', 'Spanish',\n",
       "       'Mughlai', 'Filipino', 'American', 'Steak', 'Pizza', 'Drinks Only',\n",
       "       'Salad', 'Fast Food', 'Street Food', 'Lebanese', 'Mexican',\n",
       "       'Tex-Mex', 'Lucknowi', 'Awadhi', 'Charcoal Grill', 'Kashmiri',\n",
       "       'Moroccan', 'Arabian', 'Rajasthani', 'Burmese', 'Goan', 'Turkish',\n",
       "       'Tea', 'Belgian', 'Bengali', 'British', 'Hyderabadi', 'Pakistani',\n",
       "       'Chettinad', 'Contemporary', 'Greek', 'German', 'North Eastern',\n",
       "       'Andhra', 'Parsi', 'Afghani', 'Biryani', 'Portuguese', 'African',\n",
       "       'Mangalorean', 'Iranian', 'Tibetan', 'Nepalese', 'Naga', 'Juices',\n",
       "       'Persian', 'Bihari', 'Ice Cream', 'Maharashtrian', 'Gujarati',\n",
       "       'Deli', 'Sandwich', 'Healthy Food', 'South African', 'Grill',\n",
       "       'International', 'Mithai', 'Assamese', 'Raw Meats', 'Tapas',\n",
       "       'Oriya', 'Armenian', 'Cuisine Varies', 'BBQ', 'Cajun', 'Malwani',\n",
       "       'Durban', 'Brazilian', 'Singaporean', 'Cantonese', 'Dim Sum',\n",
       "       'Patisserie', 'Kiwi', 'Vegetarian', 'World Cuisine', 'Bar Food',\n",
       "       'Gourmet Fast Food', 'Modern Australian', 'Restaurant Cafe',\n",
       "       'Peruvian', 'Latin American', 'Scottish', 'Kebab', 'Turkish Pizza',\n",
       "       'Asian Fusion', 'Izgara', 'Curry', 'Argentine', 'Hawaiian',\n",
       "       'Southern', 'Pub Food', 'Fusion', 'Mineira', 'Australian', 'Irish',\n",
       "       'Taiwanese', 'DÌ_ner', 'Caribbean', 'Southwestern', 'Breakfast',\n",
       "       'Teriyaki', 'New American', 'Cuban', 'Fish and Chips', 'BÌ_rek',\n",
       "       'Malay', 'Diner', 'Canadian', 'Soul Food', 'Bubble Tea'],\n",
       "      dtype=object)"
      ]
     },
     "execution_count": 32,
     "metadata": {},
     "output_type": "execute_result"
    }
   ],
   "source": [
    "# using \".str.strip()\" to remove white spaces\n",
    "exploded_df['Cuisines_splitted'] = exploded_df['Cuisines_splitted'].str.strip()\n",
    "exploded_df['Cuisines_splitted'].unique()"
   ]
  },
  {
   "cell_type": "code",
   "execution_count": 33,
   "metadata": {},
   "outputs": [
    {
     "data": {
      "text/plain": [
       "(19706, 20)"
      ]
     },
     "execution_count": 33,
     "metadata": {},
     "output_type": "execute_result"
    }
   ],
   "source": [
    "exploded_df.shape"
   ]
  },
  {
   "cell_type": "markdown",
   "metadata": {},
   "source": [
    "**Since I’ll be working with this data for further analysis, I needed to fix the data structure. To do this, I created two tables: cuisine_master and cuisines_mapping_table. The cuisine_master table stores information about each unique cuisine, while the cuisines_mapping_table links restaurants to their respective cuisines.**\n",
    "**I can’t use exploded_df directly because the Cuisines_splitted column violates the Fourth Normal Form (4NF).**"
   ]
  },
  {
   "cell_type": "code",
   "execution_count": 34,
   "metadata": {},
   "outputs": [
    {
     "data": {
      "text/html": [
       "<div>\n",
       "<style scoped>\n",
       "    .dataframe tbody tr th:only-of-type {\n",
       "        vertical-align: middle;\n",
       "    }\n",
       "\n",
       "    .dataframe tbody tr th {\n",
       "        vertical-align: top;\n",
       "    }\n",
       "\n",
       "    .dataframe thead th {\n",
       "        text-align: right;\n",
       "    }\n",
       "</style>\n",
       "<table border=\"1\" class=\"dataframe\">\n",
       "  <thead>\n",
       "    <tr style=\"text-align: right;\">\n",
       "      <th></th>\n",
       "      <th>Cuisine_id</th>\n",
       "      <th>Cuisines</th>\n",
       "    </tr>\n",
       "  </thead>\n",
       "  <tbody>\n",
       "    <tr>\n",
       "      <th>0</th>\n",
       "      <td>0</td>\n",
       "      <td>Italian</td>\n",
       "    </tr>\n",
       "    <tr>\n",
       "      <th>1</th>\n",
       "      <td>1</td>\n",
       "      <td>Continental</td>\n",
       "    </tr>\n",
       "    <tr>\n",
       "      <th>2</th>\n",
       "      <td>2</td>\n",
       "      <td>Asian</td>\n",
       "    </tr>\n",
       "    <tr>\n",
       "      <th>3</th>\n",
       "      <td>3</td>\n",
       "      <td>Indonesian</td>\n",
       "    </tr>\n",
       "    <tr>\n",
       "      <th>4</th>\n",
       "      <td>4</td>\n",
       "      <td>Western</td>\n",
       "    </tr>\n",
       "    <tr>\n",
       "      <th>...</th>\n",
       "      <td>...</td>\n",
       "      <td>...</td>\n",
       "    </tr>\n",
       "    <tr>\n",
       "      <th>140</th>\n",
       "      <td>140</td>\n",
       "      <td>Malay</td>\n",
       "    </tr>\n",
       "    <tr>\n",
       "      <th>141</th>\n",
       "      <td>141</td>\n",
       "      <td>Diner</td>\n",
       "    </tr>\n",
       "    <tr>\n",
       "      <th>142</th>\n",
       "      <td>142</td>\n",
       "      <td>Canadian</td>\n",
       "    </tr>\n",
       "    <tr>\n",
       "      <th>143</th>\n",
       "      <td>143</td>\n",
       "      <td>Soul Food</td>\n",
       "    </tr>\n",
       "    <tr>\n",
       "      <th>144</th>\n",
       "      <td>144</td>\n",
       "      <td>Bubble Tea</td>\n",
       "    </tr>\n",
       "  </tbody>\n",
       "</table>\n",
       "<p>145 rows × 2 columns</p>\n",
       "</div>"
      ],
      "text/plain": [
       "     Cuisine_id     Cuisines\n",
       "0             0      Italian\n",
       "1             1  Continental\n",
       "2             2        Asian\n",
       "3             3   Indonesian\n",
       "4             4      Western\n",
       "..          ...          ...\n",
       "140         140        Malay\n",
       "141         141        Diner\n",
       "142         142     Canadian\n",
       "143         143    Soul Food\n",
       "144         144   Bubble Tea\n",
       "\n",
       "[145 rows x 2 columns]"
      ]
     },
     "execution_count": 34,
     "metadata": {},
     "output_type": "execute_result"
    }
   ],
   "source": [
    "cuisine_master = pd.DataFrame(exploded_df['Cuisines_splitted'].unique())\n",
    "cuisine_master.reset_index(inplace=True)\n",
    "cuisine_master.rename(columns={0: 'Cuisines', 'index': 'Cuisine_id'}, inplace=True)\n",
    "cuisine_master"
   ]
  },
  {
   "cell_type": "code",
   "execution_count": 35,
   "metadata": {},
   "outputs": [
    {
     "data": {
      "text/plain": [
       "Cuisine_id\n",
       "22     3959\n",
       "21     2735\n",
       "42     1986\n",
       "35      995\n",
       "0       763\n",
       "       ... \n",
       "111       1\n",
       "129       1\n",
       "127       1\n",
       "114       1\n",
       "144       1\n",
       "Name: count, Length: 145, dtype: int64"
      ]
     },
     "execution_count": 35,
     "metadata": {},
     "output_type": "execute_result"
    }
   ],
   "source": [
    "Cuisines_mapping_table = pd.merge(cuisine_master, exploded_df, how='inner', left_on='Cuisines', right_on='Cuisines_splitted')\n",
    "Cuisines_mapping_table['Cuisine_id'].value_counts()"
   ]
  },
  {
   "cell_type": "code",
   "execution_count": 36,
   "metadata": {},
   "outputs": [
    {
     "data": {
      "text/html": [
       "<div>\n",
       "<style scoped>\n",
       "    .dataframe tbody tr th:only-of-type {\n",
       "        vertical-align: middle;\n",
       "    }\n",
       "\n",
       "    .dataframe tbody tr th {\n",
       "        vertical-align: top;\n",
       "    }\n",
       "\n",
       "    .dataframe thead th {\n",
       "        text-align: right;\n",
       "    }\n",
       "</style>\n",
       "<table border=\"1\" class=\"dataframe\">\n",
       "  <thead>\n",
       "    <tr style=\"text-align: right;\">\n",
       "      <th></th>\n",
       "      <th>Cuisine_id</th>\n",
       "      <th>Restaurant ID</th>\n",
       "    </tr>\n",
       "  </thead>\n",
       "  <tbody>\n",
       "    <tr>\n",
       "      <th>0</th>\n",
       "      <td>0</td>\n",
       "      <td>7402935</td>\n",
       "    </tr>\n",
       "    <tr>\n",
       "      <th>1</th>\n",
       "      <td>0</td>\n",
       "      <td>7405789</td>\n",
       "    </tr>\n",
       "    <tr>\n",
       "      <th>2</th>\n",
       "      <td>0</td>\n",
       "      <td>2724</td>\n",
       "    </tr>\n",
       "    <tr>\n",
       "      <th>3</th>\n",
       "      <td>0</td>\n",
       "      <td>3910</td>\n",
       "    </tr>\n",
       "    <tr>\n",
       "      <th>4</th>\n",
       "      <td>0</td>\n",
       "      <td>18255131</td>\n",
       "    </tr>\n",
       "    <tr>\n",
       "      <th>...</th>\n",
       "      <td>...</td>\n",
       "      <td>...</td>\n",
       "    </tr>\n",
       "    <tr>\n",
       "      <th>19701</th>\n",
       "      <td>141</td>\n",
       "      <td>17334364</td>\n",
       "    </tr>\n",
       "    <tr>\n",
       "      <th>19702</th>\n",
       "      <td>141</td>\n",
       "      <td>17621796</td>\n",
       "    </tr>\n",
       "    <tr>\n",
       "      <th>19703</th>\n",
       "      <td>142</td>\n",
       "      <td>16643459</td>\n",
       "    </tr>\n",
       "    <tr>\n",
       "      <th>19704</th>\n",
       "      <td>143</td>\n",
       "      <td>17066603</td>\n",
       "    </tr>\n",
       "    <tr>\n",
       "      <th>19705</th>\n",
       "      <td>144</td>\n",
       "      <td>17257684</td>\n",
       "    </tr>\n",
       "  </tbody>\n",
       "</table>\n",
       "<p>19706 rows × 2 columns</p>\n",
       "</div>"
      ],
      "text/plain": [
       "       Cuisine_id  Restaurant ID\n",
       "0               0        7402935\n",
       "1               0        7405789\n",
       "2               0           2724\n",
       "3               0           3910\n",
       "4               0       18255131\n",
       "...           ...            ...\n",
       "19701         141       17334364\n",
       "19702         141       17621796\n",
       "19703         142       16643459\n",
       "19704         143       17066603\n",
       "19705         144       17257684\n",
       "\n",
       "[19706 rows x 2 columns]"
      ]
     },
     "execution_count": 36,
     "metadata": {},
     "output_type": "execute_result"
    }
   ],
   "source": [
    "Cuisines_mapping_table = Cuisines_mapping_table.loc[:, ['Cuisine_id', 'Restaurant ID']]\n",
    "Cuisines_mapping_table['Restaurant ID'] = Cuisines_mapping_table['Restaurant ID'].astype('int')\n",
    "Cuisines_mapping_table"
   ]
  },
  {
   "cell_type": "markdown",
   "metadata": {},
   "source": [
    "**I'm going to remove the Original Cuisines column since it's no longer needed and would just be redundant information.**"
   ]
  },
  {
   "cell_type": "code",
   "execution_count": 37,
   "metadata": {},
   "outputs": [
    {
     "data": {
      "text/html": [
       "<div>\n",
       "<style scoped>\n",
       "    .dataframe tbody tr th:only-of-type {\n",
       "        vertical-align: middle;\n",
       "    }\n",
       "\n",
       "    .dataframe tbody tr th {\n",
       "        vertical-align: top;\n",
       "    }\n",
       "\n",
       "    .dataframe thead th {\n",
       "        text-align: right;\n",
       "    }\n",
       "</style>\n",
       "<table border=\"1\" class=\"dataframe\">\n",
       "  <thead>\n",
       "    <tr style=\"text-align: right;\">\n",
       "      <th></th>\n",
       "      <th>Cuisines</th>\n",
       "    </tr>\n",
       "  </thead>\n",
       "  <tbody>\n",
       "    <tr>\n",
       "      <th>0</th>\n",
       "      <td>Italian, Continental</td>\n",
       "    </tr>\n",
       "    <tr>\n",
       "      <th>1</th>\n",
       "      <td>Asian, Indonesian, Western</td>\n",
       "    </tr>\n",
       "    <tr>\n",
       "      <th>2</th>\n",
       "      <td>Sushi, Japanese</td>\n",
       "    </tr>\n",
       "    <tr>\n",
       "      <th>3</th>\n",
       "      <td>Japanese</td>\n",
       "    </tr>\n",
       "    <tr>\n",
       "      <th>4</th>\n",
       "      <td>French, Western</td>\n",
       "    </tr>\n",
       "    <tr>\n",
       "      <th>5</th>\n",
       "      <td>Cafe, Western</td>\n",
       "    </tr>\n",
       "  </tbody>\n",
       "</table>\n",
       "</div>"
      ],
      "text/plain": [
       "                     Cuisines\n",
       "0        Italian, Continental\n",
       "1  Asian, Indonesian, Western\n",
       "2             Sushi, Japanese\n",
       "3                    Japanese\n",
       "4             French, Western\n",
       "5               Cafe, Western"
      ]
     },
     "execution_count": 37,
     "metadata": {},
     "output_type": "execute_result"
    }
   ],
   "source": [
    "Marketing_df.loc[:5,['Cuisines']]"
   ]
  },
  {
   "cell_type": "code",
   "execution_count": 38,
   "metadata": {},
   "outputs": [],
   "source": [
    "merged_df.drop(columns=['Cuisines'],axis=1,inplace=True)\n",
    "Marketing_df.drop(columns=['Cuisines'],axis=1,inplace=True)"
   ]
  },
  {
   "cell_type": "markdown",
   "metadata": {},
   "source": [
    "**Displaying The Join System**"
   ]
  },
  {
   "cell_type": "code",
   "execution_count": 39,
   "metadata": {},
   "outputs": [
    {
     "data": {
      "text/html": [
       "<div>\n",
       "<style scoped>\n",
       "    .dataframe tbody tr th:only-of-type {\n",
       "        vertical-align: middle;\n",
       "    }\n",
       "\n",
       "    .dataframe tbody tr th {\n",
       "        vertical-align: top;\n",
       "    }\n",
       "\n",
       "    .dataframe thead th {\n",
       "        text-align: right;\n",
       "    }\n",
       "</style>\n",
       "<table border=\"1\" class=\"dataframe\">\n",
       "  <thead>\n",
       "    <tr style=\"text-align: right;\">\n",
       "      <th></th>\n",
       "      <th>Restaurant ID</th>\n",
       "      <th>Restaurant Name</th>\n",
       "      <th>Country Code</th>\n",
       "      <th>City</th>\n",
       "      <th>Address</th>\n",
       "      <th>Locality</th>\n",
       "      <th>Longitude</th>\n",
       "      <th>Latitude</th>\n",
       "      <th>Average Cost for two</th>\n",
       "      <th>Currency</th>\n",
       "      <th>Has Table booking</th>\n",
       "      <th>Has Online delivery</th>\n",
       "      <th>Price range</th>\n",
       "      <th>Aggregate rating</th>\n",
       "      <th>Rating color</th>\n",
       "      <th>Rating text</th>\n",
       "      <th>Votes</th>\n",
       "      <th>Country</th>\n",
       "      <th>Cuisine_id</th>\n",
       "      <th>Cuisines</th>\n",
       "    </tr>\n",
       "  </thead>\n",
       "  <tbody>\n",
       "    <tr>\n",
       "      <th>0</th>\n",
       "      <td>7402935</td>\n",
       "      <td>Skye</td>\n",
       "      <td>94</td>\n",
       "      <td>Jakarta</td>\n",
       "      <td>Menara BCA, Lantai 56, Jl. MH. Thamrin, Thamri...</td>\n",
       "      <td>Grand Indonesia Mall, Thamrin</td>\n",
       "      <td>106.821999</td>\n",
       "      <td>-6.196778</td>\n",
       "      <td>800000</td>\n",
       "      <td>Indonesian Rupiah(IDR)</td>\n",
       "      <td>No</td>\n",
       "      <td>No</td>\n",
       "      <td>3</td>\n",
       "      <td>4.1</td>\n",
       "      <td>Green</td>\n",
       "      <td>Very Good</td>\n",
       "      <td>1498</td>\n",
       "      <td>Indonesia</td>\n",
       "      <td>0</td>\n",
       "      <td>Italian</td>\n",
       "    </tr>\n",
       "    <tr>\n",
       "      <th>1</th>\n",
       "      <td>7402935</td>\n",
       "      <td>Skye</td>\n",
       "      <td>94</td>\n",
       "      <td>Jakarta</td>\n",
       "      <td>Menara BCA, Lantai 56, Jl. MH. Thamrin, Thamri...</td>\n",
       "      <td>Grand Indonesia Mall, Thamrin</td>\n",
       "      <td>106.821999</td>\n",
       "      <td>-6.196778</td>\n",
       "      <td>800000</td>\n",
       "      <td>Indonesian Rupiah(IDR)</td>\n",
       "      <td>No</td>\n",
       "      <td>No</td>\n",
       "      <td>3</td>\n",
       "      <td>4.1</td>\n",
       "      <td>Green</td>\n",
       "      <td>Very Good</td>\n",
       "      <td>1498</td>\n",
       "      <td>Indonesia</td>\n",
       "      <td>1</td>\n",
       "      <td>Continental</td>\n",
       "    </tr>\n",
       "    <tr>\n",
       "      <th>2</th>\n",
       "      <td>7410290</td>\n",
       "      <td>Satoo - Hotel Shangri-La</td>\n",
       "      <td>94</td>\n",
       "      <td>Jakarta</td>\n",
       "      <td>Hotel Shangri-La, Jl. Jend. Sudirman</td>\n",
       "      <td>Hotel Shangri-La, Sudirman</td>\n",
       "      <td>106.818961</td>\n",
       "      <td>-6.203292</td>\n",
       "      <td>800000</td>\n",
       "      <td>Indonesian Rupiah(IDR)</td>\n",
       "      <td>No</td>\n",
       "      <td>No</td>\n",
       "      <td>3</td>\n",
       "      <td>4.6</td>\n",
       "      <td>Dark Green</td>\n",
       "      <td>Excellent</td>\n",
       "      <td>873</td>\n",
       "      <td>Indonesia</td>\n",
       "      <td>2</td>\n",
       "      <td>Asian</td>\n",
       "    </tr>\n",
       "    <tr>\n",
       "      <th>3</th>\n",
       "      <td>7410290</td>\n",
       "      <td>Satoo - Hotel Shangri-La</td>\n",
       "      <td>94</td>\n",
       "      <td>Jakarta</td>\n",
       "      <td>Hotel Shangri-La, Jl. Jend. Sudirman</td>\n",
       "      <td>Hotel Shangri-La, Sudirman</td>\n",
       "      <td>106.818961</td>\n",
       "      <td>-6.203292</td>\n",
       "      <td>800000</td>\n",
       "      <td>Indonesian Rupiah(IDR)</td>\n",
       "      <td>No</td>\n",
       "      <td>No</td>\n",
       "      <td>3</td>\n",
       "      <td>4.6</td>\n",
       "      <td>Dark Green</td>\n",
       "      <td>Excellent</td>\n",
       "      <td>873</td>\n",
       "      <td>Indonesia</td>\n",
       "      <td>3</td>\n",
       "      <td>Indonesian</td>\n",
       "    </tr>\n",
       "    <tr>\n",
       "      <th>4</th>\n",
       "      <td>7410290</td>\n",
       "      <td>Satoo - Hotel Shangri-La</td>\n",
       "      <td>94</td>\n",
       "      <td>Jakarta</td>\n",
       "      <td>Hotel Shangri-La, Jl. Jend. Sudirman</td>\n",
       "      <td>Hotel Shangri-La, Sudirman</td>\n",
       "      <td>106.818961</td>\n",
       "      <td>-6.203292</td>\n",
       "      <td>800000</td>\n",
       "      <td>Indonesian Rupiah(IDR)</td>\n",
       "      <td>No</td>\n",
       "      <td>No</td>\n",
       "      <td>3</td>\n",
       "      <td>4.6</td>\n",
       "      <td>Dark Green</td>\n",
       "      <td>Excellent</td>\n",
       "      <td>873</td>\n",
       "      <td>Indonesia</td>\n",
       "      <td>4</td>\n",
       "      <td>Western</td>\n",
       "    </tr>\n",
       "    <tr>\n",
       "      <th>...</th>\n",
       "      <td>...</td>\n",
       "      <td>...</td>\n",
       "      <td>...</td>\n",
       "      <td>...</td>\n",
       "      <td>...</td>\n",
       "      <td>...</td>\n",
       "      <td>...</td>\n",
       "      <td>...</td>\n",
       "      <td>...</td>\n",
       "      <td>...</td>\n",
       "      <td>...</td>\n",
       "      <td>...</td>\n",
       "      <td>...</td>\n",
       "      <td>...</td>\n",
       "      <td>...</td>\n",
       "      <td>...</td>\n",
       "      <td>...</td>\n",
       "      <td>...</td>\n",
       "      <td>...</td>\n",
       "      <td>...</td>\n",
       "    </tr>\n",
       "    <tr>\n",
       "      <th>19701</th>\n",
       "      <td>18312106</td>\n",
       "      <td>UrbanCrave</td>\n",
       "      <td>1</td>\n",
       "      <td>Kanpur</td>\n",
       "      <td>14/125, The Mall, Mall Road, Colonelganj, Para...</td>\n",
       "      <td>Parade</td>\n",
       "      <td>80.342796</td>\n",
       "      <td>26.474986</td>\n",
       "      <td>0</td>\n",
       "      <td>Indian Rupees(Rs.)</td>\n",
       "      <td>No</td>\n",
       "      <td>No</td>\n",
       "      <td>1</td>\n",
       "      <td>3.9</td>\n",
       "      <td>Yellow</td>\n",
       "      <td>Good</td>\n",
       "      <td>127</td>\n",
       "      <td>India</td>\n",
       "      <td>18</td>\n",
       "      <td>Beverages</td>\n",
       "    </tr>\n",
       "    <tr>\n",
       "      <th>19702</th>\n",
       "      <td>18312106</td>\n",
       "      <td>UrbanCrave</td>\n",
       "      <td>1</td>\n",
       "      <td>Kanpur</td>\n",
       "      <td>14/125, The Mall, Mall Road, Colonelganj, Para...</td>\n",
       "      <td>Parade</td>\n",
       "      <td>80.342796</td>\n",
       "      <td>26.474986</td>\n",
       "      <td>0</td>\n",
       "      <td>Indian Rupees(Rs.)</td>\n",
       "      <td>No</td>\n",
       "      <td>No</td>\n",
       "      <td>1</td>\n",
       "      <td>3.9</td>\n",
       "      <td>Yellow</td>\n",
       "      <td>Good</td>\n",
       "      <td>127</td>\n",
       "      <td>India</td>\n",
       "      <td>82</td>\n",
       "      <td>Ice Cream</td>\n",
       "    </tr>\n",
       "    <tr>\n",
       "      <th>19703</th>\n",
       "      <td>3900245</td>\n",
       "      <td>Deena Chat Bhandar</td>\n",
       "      <td>1</td>\n",
       "      <td>Varanasi</td>\n",
       "      <td>D-47/184, Luxa Road, Dashaswmedh Road, Varanasi</td>\n",
       "      <td>Dashaswmedh Road</td>\n",
       "      <td>0.000000</td>\n",
       "      <td>0.000000</td>\n",
       "      <td>0</td>\n",
       "      <td>Indian Rupees(Rs.)</td>\n",
       "      <td>No</td>\n",
       "      <td>No</td>\n",
       "      <td>1</td>\n",
       "      <td>3.8</td>\n",
       "      <td>Yellow</td>\n",
       "      <td>Good</td>\n",
       "      <td>78</td>\n",
       "      <td>India</td>\n",
       "      <td>43</td>\n",
       "      <td>Street Food</td>\n",
       "    </tr>\n",
       "    <tr>\n",
       "      <th>19704</th>\n",
       "      <td>18246202</td>\n",
       "      <td>VNS Live Studio</td>\n",
       "      <td>1</td>\n",
       "      <td>Varanasi</td>\n",
       "      <td>Hotel Varuna Ground Floor, 22 Gulab Bagh, Sigr...</td>\n",
       "      <td>Sigra</td>\n",
       "      <td>82.991694</td>\n",
       "      <td>25.318345</td>\n",
       "      <td>0</td>\n",
       "      <td>Indian Rupees(Rs.)</td>\n",
       "      <td>No</td>\n",
       "      <td>No</td>\n",
       "      <td>1</td>\n",
       "      <td>3.5</td>\n",
       "      <td>Yellow</td>\n",
       "      <td>Good</td>\n",
       "      <td>109</td>\n",
       "      <td>India</td>\n",
       "      <td>21</td>\n",
       "      <td>Chinese</td>\n",
       "    </tr>\n",
       "    <tr>\n",
       "      <th>19705</th>\n",
       "      <td>18246202</td>\n",
       "      <td>VNS Live Studio</td>\n",
       "      <td>1</td>\n",
       "      <td>Varanasi</td>\n",
       "      <td>Hotel Varuna Ground Floor, 22 Gulab Bagh, Sigr...</td>\n",
       "      <td>Sigra</td>\n",
       "      <td>82.991694</td>\n",
       "      <td>25.318345</td>\n",
       "      <td>0</td>\n",
       "      <td>Indian Rupees(Rs.)</td>\n",
       "      <td>No</td>\n",
       "      <td>No</td>\n",
       "      <td>1</td>\n",
       "      <td>3.5</td>\n",
       "      <td>Yellow</td>\n",
       "      <td>Good</td>\n",
       "      <td>109</td>\n",
       "      <td>India</td>\n",
       "      <td>22</td>\n",
       "      <td>North Indian</td>\n",
       "    </tr>\n",
       "  </tbody>\n",
       "</table>\n",
       "<p>19706 rows × 20 columns</p>\n",
       "</div>"
      ],
      "text/plain": [
       "       Restaurant ID           Restaurant Name  Country Code      City  \\\n",
       "0            7402935                      Skye            94   Jakarta   \n",
       "1            7402935                      Skye            94   Jakarta   \n",
       "2            7410290  Satoo - Hotel Shangri-La            94   Jakarta   \n",
       "3            7410290  Satoo - Hotel Shangri-La            94   Jakarta   \n",
       "4            7410290  Satoo - Hotel Shangri-La            94   Jakarta   \n",
       "...              ...                       ...           ...       ...   \n",
       "19701       18312106                UrbanCrave             1    Kanpur   \n",
       "19702       18312106                UrbanCrave             1    Kanpur   \n",
       "19703        3900245        Deena Chat Bhandar             1  Varanasi   \n",
       "19704       18246202           VNS Live Studio             1  Varanasi   \n",
       "19705       18246202           VNS Live Studio             1  Varanasi   \n",
       "\n",
       "                                                 Address  \\\n",
       "0      Menara BCA, Lantai 56, Jl. MH. Thamrin, Thamri...   \n",
       "1      Menara BCA, Lantai 56, Jl. MH. Thamrin, Thamri...   \n",
       "2                   Hotel Shangri-La, Jl. Jend. Sudirman   \n",
       "3                   Hotel Shangri-La, Jl. Jend. Sudirman   \n",
       "4                   Hotel Shangri-La, Jl. Jend. Sudirman   \n",
       "...                                                  ...   \n",
       "19701  14/125, The Mall, Mall Road, Colonelganj, Para...   \n",
       "19702  14/125, The Mall, Mall Road, Colonelganj, Para...   \n",
       "19703    D-47/184, Luxa Road, Dashaswmedh Road, Varanasi   \n",
       "19704  Hotel Varuna Ground Floor, 22 Gulab Bagh, Sigr...   \n",
       "19705  Hotel Varuna Ground Floor, 22 Gulab Bagh, Sigr...   \n",
       "\n",
       "                            Locality   Longitude   Latitude  \\\n",
       "0      Grand Indonesia Mall, Thamrin  106.821999  -6.196778   \n",
       "1      Grand Indonesia Mall, Thamrin  106.821999  -6.196778   \n",
       "2         Hotel Shangri-La, Sudirman  106.818961  -6.203292   \n",
       "3         Hotel Shangri-La, Sudirman  106.818961  -6.203292   \n",
       "4         Hotel Shangri-La, Sudirman  106.818961  -6.203292   \n",
       "...                              ...         ...        ...   \n",
       "19701                         Parade   80.342796  26.474986   \n",
       "19702                         Parade   80.342796  26.474986   \n",
       "19703               Dashaswmedh Road    0.000000   0.000000   \n",
       "19704                          Sigra   82.991694  25.318345   \n",
       "19705                          Sigra   82.991694  25.318345   \n",
       "\n",
       "       Average Cost for two                Currency Has Table booking  \\\n",
       "0                    800000  Indonesian Rupiah(IDR)                No   \n",
       "1                    800000  Indonesian Rupiah(IDR)                No   \n",
       "2                    800000  Indonesian Rupiah(IDR)                No   \n",
       "3                    800000  Indonesian Rupiah(IDR)                No   \n",
       "4                    800000  Indonesian Rupiah(IDR)                No   \n",
       "...                     ...                     ...               ...   \n",
       "19701                     0      Indian Rupees(Rs.)                No   \n",
       "19702                     0      Indian Rupees(Rs.)                No   \n",
       "19703                     0      Indian Rupees(Rs.)                No   \n",
       "19704                     0      Indian Rupees(Rs.)                No   \n",
       "19705                     0      Indian Rupees(Rs.)                No   \n",
       "\n",
       "      Has Online delivery  Price range  Aggregate rating Rating color  \\\n",
       "0                      No            3               4.1        Green   \n",
       "1                      No            3               4.1        Green   \n",
       "2                      No            3               4.6   Dark Green   \n",
       "3                      No            3               4.6   Dark Green   \n",
       "4                      No            3               4.6   Dark Green   \n",
       "...                   ...          ...               ...          ...   \n",
       "19701                  No            1               3.9       Yellow   \n",
       "19702                  No            1               3.9       Yellow   \n",
       "19703                  No            1               3.8       Yellow   \n",
       "19704                  No            1               3.5       Yellow   \n",
       "19705                  No            1               3.5       Yellow   \n",
       "\n",
       "      Rating text  Votes    Country  Cuisine_id      Cuisines  \n",
       "0       Very Good   1498  Indonesia           0       Italian  \n",
       "1       Very Good   1498  Indonesia           1   Continental  \n",
       "2       Excellent    873  Indonesia           2         Asian  \n",
       "3       Excellent    873  Indonesia           3    Indonesian  \n",
       "4       Excellent    873  Indonesia           4       Western  \n",
       "...           ...    ...        ...         ...           ...  \n",
       "19701        Good    127      India          18     Beverages  \n",
       "19702        Good    127      India          82     Ice Cream  \n",
       "19703        Good     78      India          43   Street Food  \n",
       "19704        Good    109      India          21       Chinese  \n",
       "19705        Good    109      India          22  North Indian  \n",
       "\n",
       "[19706 rows x 20 columns]"
      ]
     },
     "execution_count": 39,
     "metadata": {},
     "output_type": "execute_result"
    }
   ],
   "source": [
    "joined_table = pd.merge(merged_df,Cuisines_mapping_table,how='inner',on='Restaurant ID')\n",
    "joined_table = pd.merge(joined_table,cuisine_master,how='inner',on='Cuisine_id')\n",
    "joined_table"
   ]
  },
  {
   "cell_type": "code",
   "execution_count": 40,
   "metadata": {},
   "outputs": [],
   "source": [
    "top_10_cuisines = joined_table.groupby(['Cuisines'])['City'].nunique().reset_index()\n",
    "top_10_cuisines = top_10_cuisines.sort_values(by='City', ascending=False).head(10)"
   ]
  },
  {
   "cell_type": "code",
   "execution_count": 41,
   "metadata": {},
   "outputs": [
    {
     "data": {
      "image/png": "[encoded data removed]",
      "text/plain": [
       "<Figure size 1200x600 with 1 Axes>"
      ]
     },
     "metadata": {},
     "output_type": "display_data"
    }
   ],
   "source": [
    "plt.figure(figsize=(12,6))\n",
    "sns.barplot(data=top_10_cuisines, x='Cuisines', y='City',hue='City')\n",
    "plt.title('Top 10 cuisines served across cities')\n",
    "plt.xlabel('Cuisines')\n",
    "plt.ylabel('Number of Cities')\n",
    "plt.xticks(rotation=45)\n",
    "plt.show()"
   ]
  },
  {
   "cell_type": "markdown",
   "metadata": {},
   "source": [
    "**What is the maximum and minimum no. of cuisines that a restaurant serves? Also, what is the relationship between No. of cuisines served and Votes**"
   ]
  },
  {
   "cell_type": "code",
   "execution_count": 42,
   "metadata": {},
   "outputs": [
    {
     "name": "stdout",
     "output_type": "stream",
     "text": [
      "Max: 8, Min: 1\n"
     ]
    }
   ],
   "source": [
    "Restaurant_cuisines_cnt = joined_table.groupby(['Restaurant ID','Votes'])['Cuisines'].count().reset_index()\n",
    "print(f'Max: {Restaurant_cuisines_cnt['Cuisines'].max()}, Min: {Restaurant_cuisines_cnt['Cuisines'].min()}')"
   ]
  },
  {
   "cell_type": "code",
   "execution_count": 43,
   "metadata": {},
   "outputs": [
    {
     "data": {
      "text/plain": [
       "0.18368287769235458"
      ]
     },
     "execution_count": 43,
     "metadata": {},
     "output_type": "execute_result"
    }
   ],
   "source": [
    "Restaurant_cuisines_cnt['Votes'].corr(Restaurant_cuisines_cnt['Cuisines'])"
   ]
  },
  {
   "cell_type": "code",
   "execution_count": 44,
   "metadata": {},
   "outputs": [
    {
     "data": {
      "text/plain": [
       "SignificanceResult(statistic=0.3266099053923786, pvalue=5.492488919195139e-236)"
      ]
     },
     "execution_count": 44,
     "metadata": {},
     "output_type": "execute_result"
    }
   ],
   "source": [
    "from scipy.stats import spearmanr\n",
    "spearmanr(Restaurant_cuisines_cnt['Votes'],Restaurant_cuisines_cnt['Cuisines'])"
   ]
  },
  {
   "cell_type": "markdown",
   "metadata": {},
   "source": [
    "**There is a weak positive correlation between the number of cuisines served and restaurant Votes**\n",
    "\n",
    "**This suggests that while restaurants offering more cuisines may receive slightly higher Votes, the relationship is not very strong despite being statistically significant.**"
   ]
  },
  {
   "cell_type": "markdown",
   "metadata": {},
   "source": [
    ".................."
   ]
  },
  {
   "cell_type": "markdown",
   "metadata": {},
   "source": [
    "**Explain the factors in the data that may have an effect on ratings e.g. No. of cuisines, cost, delivery option etc.**"
   ]
  },
  {
   "cell_type": "markdown",
   "metadata": {},
   "source": [
    "**I'm excluding columns like [Restaurant ID, Restaurant Name, Country, City, Address, Locality, Longitude, Latitude, Currency, Cuisines] to address the problem statement about making a matrix for star restarants because the data is biased towards India, particularly New Delhi. Including location based data like Country and City could skew the results, and Restaurant ID and Name don’t contribute to determining star quality. As for Cuisines, including it might shift the focus to identifying the 'Best in Category' rather than creating a comprehensive matrix for star restaurants. However, I will consider the count of cuisines each restaurant offers as a potential factor.**"
   ]
  },
  {
   "cell_type": "code",
   "execution_count": 45,
   "metadata": {},
   "outputs": [
    {
     "data": {
      "text/html": [
       "<div>\n",
       "<style scoped>\n",
       "    .dataframe tbody tr th:only-of-type {\n",
       "        vertical-align: middle;\n",
       "    }\n",
       "\n",
       "    .dataframe tbody tr th {\n",
       "        vertical-align: top;\n",
       "    }\n",
       "\n",
       "    .dataframe thead th {\n",
       "        text-align: right;\n",
       "    }\n",
       "</style>\n",
       "<table border=\"1\" class=\"dataframe\">\n",
       "  <thead>\n",
       "    <tr style=\"text-align: right;\">\n",
       "      <th></th>\n",
       "      <th>Country</th>\n",
       "      <th>Restaurant ID</th>\n",
       "    </tr>\n",
       "  </thead>\n",
       "  <tbody>\n",
       "    <tr>\n",
       "      <th>3</th>\n",
       "      <td>India</td>\n",
       "      <td>8651</td>\n",
       "    </tr>\n",
       "    <tr>\n",
       "      <th>14</th>\n",
       "      <td>United States</td>\n",
       "      <td>425</td>\n",
       "    </tr>\n",
       "    <tr>\n",
       "      <th>13</th>\n",
       "      <td>United Kingdom</td>\n",
       "      <td>80</td>\n",
       "    </tr>\n",
       "    <tr>\n",
       "      <th>1</th>\n",
       "      <td>Brazil</td>\n",
       "      <td>60</td>\n",
       "    </tr>\n",
       "    <tr>\n",
       "      <th>9</th>\n",
       "      <td>South Africa</td>\n",
       "      <td>60</td>\n",
       "    </tr>\n",
       "  </tbody>\n",
       "</table>\n",
       "</div>"
      ],
      "text/plain": [
       "           Country  Restaurant ID\n",
       "3            India           8651\n",
       "14   United States            425\n",
       "13  United Kingdom             80\n",
       "1           Brazil             60\n",
       "9     South Africa             60"
      ]
     },
     "execution_count": 45,
     "metadata": {},
     "output_type": "execute_result"
    }
   ],
   "source": [
    "restaurant_counts_country.sort_values(by='Restaurant ID',ascending=False).head(5)"
   ]
  },
  {
   "cell_type": "code",
   "execution_count": 46,
   "metadata": {},
   "outputs": [
    {
     "data": {
      "text/html": [
       "<div>\n",
       "<style scoped>\n",
       "    .dataframe tbody tr th:only-of-type {\n",
       "        vertical-align: middle;\n",
       "    }\n",
       "\n",
       "    .dataframe tbody tr th {\n",
       "        vertical-align: top;\n",
       "    }\n",
       "\n",
       "    .dataframe thead th {\n",
       "        text-align: right;\n",
       "    }\n",
       "</style>\n",
       "<table border=\"1\" class=\"dataframe\">\n",
       "  <thead>\n",
       "    <tr style=\"text-align: right;\">\n",
       "      <th></th>\n",
       "      <th>City</th>\n",
       "      <th>Restaurant ID</th>\n",
       "    </tr>\n",
       "  </thead>\n",
       "  <tbody>\n",
       "    <tr>\n",
       "      <th>87</th>\n",
       "      <td>New Delhi</td>\n",
       "      <td>5473</td>\n",
       "    </tr>\n",
       "    <tr>\n",
       "      <th>50</th>\n",
       "      <td>Gurgaon</td>\n",
       "      <td>1118</td>\n",
       "    </tr>\n",
       "    <tr>\n",
       "      <th>88</th>\n",
       "      <td>Noida</td>\n",
       "      <td>1080</td>\n",
       "    </tr>\n",
       "    <tr>\n",
       "      <th>43</th>\n",
       "      <td>Faridabad</td>\n",
       "      <td>251</td>\n",
       "    </tr>\n",
       "    <tr>\n",
       "      <th>48</th>\n",
       "      <td>Ghaziabad</td>\n",
       "      <td>25</td>\n",
       "    </tr>\n",
       "  </tbody>\n",
       "</table>\n",
       "</div>"
      ],
      "text/plain": [
       "         City  Restaurant ID\n",
       "87  New Delhi           5473\n",
       "50    Gurgaon           1118\n",
       "88      Noida           1080\n",
       "43  Faridabad            251\n",
       "48  Ghaziabad             25"
      ]
     },
     "execution_count": 46,
     "metadata": {},
     "output_type": "execute_result"
    }
   ],
   "source": [
    "restaurant_counts_city.sort_values(by='Restaurant ID',ascending=False).head(5)"
   ]
  },
  {
   "cell_type": "code",
   "execution_count": 47,
   "metadata": {},
   "outputs": [],
   "source": [
    "Cuisine_cnt = pd.merge(Marketing_df,joined_table.groupby('Restaurant ID')['Cuisines'].count().reset_index(),how='inner',on='Restaurant ID')"
   ]
  },
  {
   "cell_type": "code",
   "execution_count": 48,
   "metadata": {},
   "outputs": [
    {
     "data": {
      "text/html": [
       "<div>\n",
       "<style scoped>\n",
       "    .dataframe tbody tr th:only-of-type {\n",
       "        vertical-align: middle;\n",
       "    }\n",
       "\n",
       "    .dataframe tbody tr th {\n",
       "        vertical-align: top;\n",
       "    }\n",
       "\n",
       "    .dataframe thead th {\n",
       "        text-align: right;\n",
       "    }\n",
       "</style>\n",
       "<table border=\"1\" class=\"dataframe\">\n",
       "  <thead>\n",
       "    <tr style=\"text-align: right;\">\n",
       "      <th></th>\n",
       "      <th>Has Table booking</th>\n",
       "      <th>Has Online delivery</th>\n",
       "      <th>Cuisines</th>\n",
       "      <th>Average Cost for two</th>\n",
       "      <th>Votes</th>\n",
       "      <th>Price range</th>\n",
       "      <th>Aggregate rating</th>\n",
       "    </tr>\n",
       "  </thead>\n",
       "  <tbody>\n",
       "    <tr>\n",
       "      <th>0</th>\n",
       "      <td>No</td>\n",
       "      <td>No</td>\n",
       "      <td>2</td>\n",
       "      <td>800000</td>\n",
       "      <td>1498</td>\n",
       "      <td>3</td>\n",
       "      <td>4.1</td>\n",
       "    </tr>\n",
       "    <tr>\n",
       "      <th>1</th>\n",
       "      <td>No</td>\n",
       "      <td>No</td>\n",
       "      <td>3</td>\n",
       "      <td>800000</td>\n",
       "      <td>873</td>\n",
       "      <td>3</td>\n",
       "      <td>4.6</td>\n",
       "    </tr>\n",
       "    <tr>\n",
       "      <th>2</th>\n",
       "      <td>No</td>\n",
       "      <td>No</td>\n",
       "      <td>2</td>\n",
       "      <td>500000</td>\n",
       "      <td>605</td>\n",
       "      <td>3</td>\n",
       "      <td>4.9</td>\n",
       "    </tr>\n",
       "    <tr>\n",
       "      <th>3</th>\n",
       "      <td>No</td>\n",
       "      <td>No</td>\n",
       "      <td>1</td>\n",
       "      <td>450000</td>\n",
       "      <td>395</td>\n",
       "      <td>3</td>\n",
       "      <td>4.2</td>\n",
       "    </tr>\n",
       "    <tr>\n",
       "      <th>4</th>\n",
       "      <td>No</td>\n",
       "      <td>No</td>\n",
       "      <td>2</td>\n",
       "      <td>350000</td>\n",
       "      <td>243</td>\n",
       "      <td>3</td>\n",
       "      <td>4.3</td>\n",
       "    </tr>\n",
       "    <tr>\n",
       "      <th>...</th>\n",
       "      <td>...</td>\n",
       "      <td>...</td>\n",
       "      <td>...</td>\n",
       "      <td>...</td>\n",
       "      <td>...</td>\n",
       "      <td>...</td>\n",
       "      <td>...</td>\n",
       "    </tr>\n",
       "    <tr>\n",
       "      <th>9536</th>\n",
       "      <td>No</td>\n",
       "      <td>No</td>\n",
       "      <td>3</td>\n",
       "      <td>0</td>\n",
       "      <td>63</td>\n",
       "      <td>1</td>\n",
       "      <td>4.3</td>\n",
       "    </tr>\n",
       "    <tr>\n",
       "      <th>9537</th>\n",
       "      <td>No</td>\n",
       "      <td>No</td>\n",
       "      <td>3</td>\n",
       "      <td>0</td>\n",
       "      <td>34</td>\n",
       "      <td>1</td>\n",
       "      <td>3.6</td>\n",
       "    </tr>\n",
       "    <tr>\n",
       "      <th>9538</th>\n",
       "      <td>No</td>\n",
       "      <td>No</td>\n",
       "      <td>6</td>\n",
       "      <td>0</td>\n",
       "      <td>127</td>\n",
       "      <td>1</td>\n",
       "      <td>3.9</td>\n",
       "    </tr>\n",
       "    <tr>\n",
       "      <th>9539</th>\n",
       "      <td>No</td>\n",
       "      <td>No</td>\n",
       "      <td>1</td>\n",
       "      <td>0</td>\n",
       "      <td>78</td>\n",
       "      <td>1</td>\n",
       "      <td>3.8</td>\n",
       "    </tr>\n",
       "    <tr>\n",
       "      <th>9540</th>\n",
       "      <td>No</td>\n",
       "      <td>No</td>\n",
       "      <td>2</td>\n",
       "      <td>0</td>\n",
       "      <td>109</td>\n",
       "      <td>1</td>\n",
       "      <td>3.5</td>\n",
       "    </tr>\n",
       "  </tbody>\n",
       "</table>\n",
       "<p>9541 rows × 7 columns</p>\n",
       "</div>"
      ],
      "text/plain": [
       "     Has Table booking Has Online delivery  Cuisines  Average Cost for two  \\\n",
       "0                   No                  No         2                800000   \n",
       "1                   No                  No         3                800000   \n",
       "2                   No                  No         2                500000   \n",
       "3                   No                  No         1                450000   \n",
       "4                   No                  No         2                350000   \n",
       "...                ...                 ...       ...                   ...   \n",
       "9536                No                  No         3                     0   \n",
       "9537                No                  No         3                     0   \n",
       "9538                No                  No         6                     0   \n",
       "9539                No                  No         1                     0   \n",
       "9540                No                  No         2                     0   \n",
       "\n",
       "      Votes  Price range  Aggregate rating  \n",
       "0      1498            3               4.1  \n",
       "1       873            3               4.6  \n",
       "2       605            3               4.9  \n",
       "3       395            3               4.2  \n",
       "4       243            3               4.3  \n",
       "...     ...          ...               ...  \n",
       "9536     63            1               4.3  \n",
       "9537     34            1               3.6  \n",
       "9538    127            1               3.9  \n",
       "9539     78            1               3.8  \n",
       "9540    109            1               3.5  \n",
       "\n",
       "[9541 rows x 7 columns]"
      ]
     },
     "execution_count": 48,
     "metadata": {},
     "output_type": "execute_result"
    }
   ],
   "source": [
    "factors = Cuisine_cnt.loc[:,['Has Table booking','Has Online delivery','Cuisines','Average Cost for two','Votes','Price range','Aggregate rating',]]\n",
    "factors"
   ]
  },
  {
   "cell_type": "code",
   "execution_count": 49,
   "metadata": {},
   "outputs": [
    {
     "data": {
      "text/plain": [
       "<Axes: >"
      ]
     },
     "execution_count": 49,
     "metadata": {},
     "output_type": "execute_result"
    },
    {
     "data": {
      "image/png": "[encoded data removed]",
      "text/plain": [
       "<Figure size 640x480 with 1 Axes>"
      ]
     },
     "metadata": {},
     "output_type": "display_data"
    }
   ],
   "source": [
    "sns.boxplot(data=factors[['Average Cost for two','Votes']],showfliers=False)"
   ]
  },
  {
   "cell_type": "code",
   "execution_count": 50,
   "metadata": {},
   "outputs": [
    {
     "data": {
      "text/plain": [
       "<Axes: xlabel='Average Cost for two', ylabel='Count'>"
      ]
     },
     "execution_count": 50,
     "metadata": {},
     "output_type": "execute_result"
    },
    {
     "data": {
      "image/png": "[encoded data removed]",
      "text/plain": [
       "<Figure size 640x480 with 1 Axes>"
      ]
     },
     "metadata": {},
     "output_type": "display_data"
    }
   ],
   "source": [
    "sns.histplot(factors['Average Cost for two'],binrange=[0,8000],binwidth=1000)"
   ]
  },
  {
   "cell_type": "code",
   "execution_count": 51,
   "metadata": {},
   "outputs": [
    {
     "data": {
      "text/plain": [
       "count     9541.000000\n",
       "mean       156.707892\n",
       "std        430.180201\n",
       "min          0.000000\n",
       "25%          5.000000\n",
       "50%         31.000000\n",
       "75%        130.000000\n",
       "max      10934.000000\n",
       "Name: Votes, dtype: float64"
      ]
     },
     "execution_count": 51,
     "metadata": {},
     "output_type": "execute_result"
    }
   ],
   "source": [
    "factors['Votes'].describe()"
   ]
  },
  {
   "cell_type": "code",
   "execution_count": 52,
   "metadata": {},
   "outputs": [
    {
     "data": {
      "text/plain": [
       "<Axes: xlabel='Votes', ylabel='Count'>"
      ]
     },
     "execution_count": 52,
     "metadata": {},
     "output_type": "execute_result"
    },
    {
     "data": {
      "image/png": "[encoded data removed]",
      "text/plain": [
       "<Figure size 640x480 with 1 Axes>"
      ]
     },
     "metadata": {},
     "output_type": "display_data"
    }
   ],
   "source": [
    "sns.histplot(factors['Votes'],binrange=[0,1000],binwidth=100)"
   ]
  },
  {
   "cell_type": "code",
   "execution_count": null,
   "metadata": {},
   "outputs": [],
   "source": [
    "factors['Has Online delivery'] = factors['Has Online delivery'].replace({'Yes': 1, 'No': 0})\n",
    "factors['Has Table booking'] = factors['Has Table booking'].replace({'Yes': 1, 'No': 0})"
   ]
  },
  {
   "cell_type": "code",
   "execution_count": 54,
   "metadata": {},
   "outputs": [
    {
     "data": {
      "text/html": [
       "<div>\n",
       "<style scoped>\n",
       "    .dataframe tbody tr th:only-of-type {\n",
       "        vertical-align: middle;\n",
       "    }\n",
       "\n",
       "    .dataframe tbody tr th {\n",
       "        vertical-align: top;\n",
       "    }\n",
       "\n",
       "    .dataframe thead th {\n",
       "        text-align: right;\n",
       "    }\n",
       "</style>\n",
       "<table border=\"1\" class=\"dataframe\">\n",
       "  <thead>\n",
       "    <tr style=\"text-align: right;\">\n",
       "      <th></th>\n",
       "      <th>Has Table booking</th>\n",
       "      <th>Has Online delivery</th>\n",
       "      <th>Cuisines</th>\n",
       "      <th>Average Cost for two</th>\n",
       "      <th>Votes</th>\n",
       "      <th>Price range</th>\n",
       "      <th>Aggregate rating</th>\n",
       "    </tr>\n",
       "  </thead>\n",
       "  <tbody>\n",
       "    <tr>\n",
       "      <th>Has Table booking</th>\n",
       "      <td>1.000000</td>\n",
       "      <td>0.101021</td>\n",
       "      <td>0.222750</td>\n",
       "      <td>0.007732</td>\n",
       "      <td>0.169693</td>\n",
       "      <td>0.502267</td>\n",
       "      <td>0.190537</td>\n",
       "    </tr>\n",
       "    <tr>\n",
       "      <th>Has Online delivery</th>\n",
       "      <td>0.101021</td>\n",
       "      <td>1.000000</td>\n",
       "      <td>0.162190</td>\n",
       "      <td>-0.019019</td>\n",
       "      <td>0.074629</td>\n",
       "      <td>0.077976</td>\n",
       "      <td>0.226405</td>\n",
       "    </tr>\n",
       "    <tr>\n",
       "      <th>Cuisines</th>\n",
       "      <td>0.222750</td>\n",
       "      <td>0.162190</td>\n",
       "      <td>1.000000</td>\n",
       "      <td>0.013287</td>\n",
       "      <td>0.183683</td>\n",
       "      <td>0.312936</td>\n",
       "      <td>0.250342</td>\n",
       "    </tr>\n",
       "    <tr>\n",
       "      <th>Average Cost for two</th>\n",
       "      <td>0.007732</td>\n",
       "      <td>-0.019019</td>\n",
       "      <td>0.013287</td>\n",
       "      <td>1.000000</td>\n",
       "      <td>0.067844</td>\n",
       "      <td>0.075121</td>\n",
       "      <td>0.051869</td>\n",
       "    </tr>\n",
       "    <tr>\n",
       "      <th>Votes</th>\n",
       "      <td>0.169693</td>\n",
       "      <td>0.074629</td>\n",
       "      <td>0.183683</td>\n",
       "      <td>0.067844</td>\n",
       "      <td>1.000000</td>\n",
       "      <td>0.309339</td>\n",
       "      <td>0.313404</td>\n",
       "    </tr>\n",
       "    <tr>\n",
       "      <th>Price range</th>\n",
       "      <td>0.502267</td>\n",
       "      <td>0.077976</td>\n",
       "      <td>0.312936</td>\n",
       "      <td>0.075121</td>\n",
       "      <td>0.309339</td>\n",
       "      <td>1.000000</td>\n",
       "      <td>0.438398</td>\n",
       "    </tr>\n",
       "    <tr>\n",
       "      <th>Aggregate rating</th>\n",
       "      <td>0.190537</td>\n",
       "      <td>0.226405</td>\n",
       "      <td>0.250342</td>\n",
       "      <td>0.051869</td>\n",
       "      <td>0.313404</td>\n",
       "      <td>0.438398</td>\n",
       "      <td>1.000000</td>\n",
       "    </tr>\n",
       "  </tbody>\n",
       "</table>\n",
       "</div>"
      ],
      "text/plain": [
       "                      Has Table booking  Has Online delivery  Cuisines  \\\n",
       "Has Table booking              1.000000             0.101021  0.222750   \n",
       "Has Online delivery            0.101021             1.000000  0.162190   \n",
       "Cuisines                       0.222750             0.162190  1.000000   \n",
       "Average Cost for two           0.007732            -0.019019  0.013287   \n",
       "Votes                          0.169693             0.074629  0.183683   \n",
       "Price range                    0.502267             0.077976  0.312936   \n",
       "Aggregate rating               0.190537             0.226405  0.250342   \n",
       "\n",
       "                      Average Cost for two     Votes  Price range  \\\n",
       "Has Table booking                 0.007732  0.169693     0.502267   \n",
       "Has Online delivery              -0.019019  0.074629     0.077976   \n",
       "Cuisines                          0.013287  0.183683     0.312936   \n",
       "Average Cost for two              1.000000  0.067844     0.075121   \n",
       "Votes                             0.067844  1.000000     0.309339   \n",
       "Price range                       0.075121  0.309339     1.000000   \n",
       "Aggregate rating                  0.051869  0.313404     0.438398   \n",
       "\n",
       "                      Aggregate rating  \n",
       "Has Table booking             0.190537  \n",
       "Has Online delivery           0.226405  \n",
       "Cuisines                      0.250342  \n",
       "Average Cost for two          0.051869  \n",
       "Votes                         0.313404  \n",
       "Price range                   0.438398  \n",
       "Aggregate rating              1.000000  "
      ]
     },
     "execution_count": 54,
     "metadata": {},
     "output_type": "execute_result"
    }
   ],
   "source": [
    "factors.corr()"
   ]
  },
  {
   "cell_type": "code",
   "execution_count": 55,
   "metadata": {},
   "outputs": [
    {
     "name": "stdout",
     "output_type": "stream",
     "text": [
      "Has Table booking: correlation: 0.20359813329752693, p-value: 8.114395234276648e-90\n",
      "\n",
      "\n",
      "Has Online delivery: correlation: 0.16631009175259176, p-value: 3.893858963875474e-60\n",
      "\n",
      "\n",
      "Cuisines: correlation: 0.24313352289862766, p-value: 2.0443790900795443e-128\n",
      "\n",
      "\n",
      "Average Cost for two: correlation: 0.22214439501979394, p-value: 5.473199950019188e-107\n",
      "\n",
      "\n",
      "Votes: correlation: 0.8461889124958387, p-value: 0.0\n",
      "\n",
      "\n",
      "Price range: correlation: 0.49918933154491196, p-value: 0.0\n",
      "\n",
      "\n",
      "Aggregate rating: correlation: 1.0, p-value: 0.0\n",
      "\n",
      "\n"
     ]
    }
   ],
   "source": [
    "for i in factors.columns:\n",
    "    correlation, p_value = spearmanr(factors[i],factors['Aggregate rating'])\n",
    "    print(f'{i}: correlation: {correlation}, p-value: {p_value}')\n",
    "    print('\\n')"
   ]
  },
  {
   "cell_type": "markdown",
   "metadata": {},
   "source": [
    "**All The Columns are Statistically Significant based on the P-values**"
   ]
  },
  {
   "cell_type": "markdown",
   "metadata": {},
   "source": [
    "**Initially, I used Pearson's correlation, but the results seemed off, so I switched to Spearman's correlation to see if the columns were related. Given the skewed data and possible non-linear relationships, Spearman's correlation was more appropriate, revealing statistically significant correlations between the columns.**"
   ]
  },
  {
   "cell_type": "markdown",
   "metadata": {},
   "source": [
    "**I'll be grouping the data into different categories to see if there's a noticeable difference in ratings. Based on that, I'll create a matrix to identify the star restaurants.**"
   ]
  },
  {
   "cell_type": "code",
   "execution_count": 56,
   "metadata": {},
   "outputs": [
    {
     "data": {
      "text/plain": [
       "TtestResult(statistic=22.702018194453814, pvalue=3.64228018954869e-111, df=9539.0)"
      ]
     },
     "execution_count": 56,
     "metadata": {},
     "output_type": "execute_result"
    }
   ],
   "source": [
    "HOD_Y = factors[factors['Has Online delivery'] == 1]\n",
    "HOD_N = factors[factors['Has Online delivery'] == 0]\n",
    "ttest_ind(HOD_Y['Aggregate rating'],HOD_N['Aggregate rating'])"
   ]
  },
  {
   "cell_type": "code",
   "execution_count": 57,
   "metadata": {},
   "outputs": [
    {
     "name": "stdout",
     "output_type": "stream",
     "text": [
      "3.249163606691147\n",
      "2.4632863187588154\n"
     ]
    }
   ],
   "source": [
    "print(HOD_Y['Aggregate rating'].mean())\n",
    "print(HOD_N['Aggregate rating'].mean())"
   ]
  },
  {
   "cell_type": "markdown",
   "metadata": {},
   "source": [
    "**Having online delivery gets us higher rating mean and they are statistically different**"
   ]
  },
  {
   "cell_type": "code",
   "execution_count": 58,
   "metadata": {},
   "outputs": [
    {
     "data": {
      "text/plain": [
       "TtestResult(statistic=18.956629253219, pvalue=1.0770535923426257e-78, df=9539.0)"
      ]
     },
     "execution_count": 58,
     "metadata": {},
     "output_type": "execute_result"
    }
   ],
   "source": [
    "HTB_Y = factors[factors['Has Table booking'] == 1]\n",
    "HTB_N = factors[factors['Has Table booking'] == 0]\n",
    "ttest_ind(HTB_Y['Aggregate rating'],HTB_N['Aggregate rating'])"
   ]
  },
  {
   "cell_type": "code",
   "execution_count": 59,
   "metadata": {},
   "outputs": [
    {
     "name": "stdout",
     "output_type": "stream",
     "text": [
      "3.442659758203799\n",
      "2.557771680782536\n"
     ]
    }
   ],
   "source": [
    "print(HTB_Y['Aggregate rating'].mean())\n",
    "print(HTB_N['Aggregate rating'].mean())"
   ]
  },
  {
   "cell_type": "markdown",
   "metadata": {},
   "source": [
    "**Same case here Having Table booking gets us higher rating mean and they are statistically different**"
   ]
  },
  {
   "cell_type": "code",
   "execution_count": 60,
   "metadata": {},
   "outputs": [
    {
     "name": "stdout",
     "output_type": "stream",
     "text": [
      "T-test between Price range 1 and 2: TtestResult(statistic=-27.470147979886985, pvalue=2.0134006245867722e-158, df=7549.0)\n",
      "mean values: 1: 1.9974763406940061, 2: 2.9410536460006425\n",
      "\n",
      "\n",
      "T-test between Price range 2 and 3: TtestResult(statistic=-20.623080827554457, pvalue=2.2160382428304766e-90, df=4515.0)\n",
      "mean values: 2: 2.9410536460006425, 3: 3.6823361823361824\n",
      "\n",
      "\n",
      "T-test between Price range 3 and 4: TtestResult(statistic=-3.583987069402501, pvalue=0.0003465404605290799, df=1988.0)\n",
      "mean values: 3: 3.6823361823361824, 4: 3.819283276450512\n",
      "\n",
      "\n"
     ]
    }
   ],
   "source": [
    "price_ranges = [1, 2, 3, 4]\n",
    "for i in range(len(price_ranges) - 1):\n",
    "    PR_current = factors[factors['Price range'] == price_ranges[i]]\n",
    "    PR_next = factors[factors['Price range'] == price_ranges[i+1]]\n",
    "    ttest_result = ttest_ind(PR_current['Aggregate rating'], PR_next['Aggregate rating'])\n",
    "    \n",
    "    print(f\"T-test between Price range {price_ranges[i]} and {price_ranges[i+1]}: {ttest_result}\")\n",
    "    print(f'mean values: {price_ranges[i]}: {factors[factors['Price range'] == price_ranges[i]]['Aggregate rating'].mean()}, '\n",
    "          f'{price_ranges[i+1]}: {factors[factors['Price range'] == price_ranges[i+1]]['Aggregate rating'].mean()}')\n",
    "    print('\\n')"
   ]
  },
  {
   "cell_type": "markdown",
   "metadata": {},
   "source": [
    "**price range of 4 has the best rating average out of all them and they are statistically different**"
   ]
  },
  {
   "cell_type": "code",
   "execution_count": 61,
   "metadata": {},
   "outputs": [
    {
     "data": {
      "text/plain": [
       "array([2, 3, 1, 5, 4, 6, 7, 8], dtype=int64)"
      ]
     },
     "execution_count": 61,
     "metadata": {},
     "output_type": "execute_result"
    }
   ],
   "source": [
    "factors['Cuisines'].unique()"
   ]
  },
  {
   "cell_type": "code",
   "execution_count": 62,
   "metadata": {},
   "outputs": [
    {
     "name": "stdout",
     "output_type": "stream",
     "text": [
      "T-test between Cuisine range 1 and 2: TtestResult(statistic=-12.210627990246937, pvalue=6.144762447189284e-34, df=6836.0)\n",
      "mean values: 1: 2.2306717737183264, 2: 2.6932926829268293\n",
      "\n",
      "\n",
      "T-test between Cuisine range 2 and 3: TtestResult(statistic=-8.579242017725353, pvalue=1.2397259235336732e-17, df=5282.0)\n",
      "mean values: 2: 2.6932926829268293, 3: 3.039239130434783\n",
      "\n",
      "\n",
      "T-test between Cuisine range 3 and 4: TtestResult(statistic=-6.528643960464795, pvalue=8.058238249366328e-11, df=2421.0)\n",
      "mean values: 3: 3.039239130434783, 4: 3.4149228130360205\n",
      "\n",
      "\n",
      "T-test between Cuisine range 4 and 5: TtestResult(statistic=-1.2025797084534278, pvalue=0.22952106642863168, df=745.0)\n",
      "mean values: 4: 3.4149228130360205, 5: 3.510365853658536\n",
      "\n",
      "\n",
      "T-test between Cuisine range 5 and 6: TtestResult(statistic=-1.550461584785166, pvalue=0.12237072149557243, df=236.0)\n",
      "mean values: 5: 3.510365853658536, 6: 3.67972972972973\n",
      "\n",
      "\n",
      "T-test between Cuisine range 6 and 7: TtestResult(statistic=0.05019553858644796, pvalue=0.9600666911941242, df=100.0)\n",
      "mean values: 6: 3.67972972972973, 7: 3.6714285714285713\n",
      "\n",
      "\n",
      "T-test between Cuisine range 7 and 8: TtestResult(statistic=1.073681513124171, pvalue=0.28940008012699964, df=40.0)\n",
      "mean values: 7: 3.6714285714285713, 8: 3.4214285714285717\n",
      "\n",
      "\n"
     ]
    }
   ],
   "source": [
    "Cuisine_ranges = [1, 2, 3, 4, 5, 6, 7, 8]\n",
    "for i in range(len(Cuisine_ranges) - 1):\n",
    "    CR_current = factors[factors['Cuisines'] == Cuisine_ranges[i]]\n",
    "    CR_next = factors[factors['Cuisines'] == Cuisine_ranges[i+1]]\n",
    "    ttest_result = ttest_ind(CR_current['Aggregate rating'], CR_next['Aggregate rating'])\n",
    "    \n",
    "    print(f\"T-test between Cuisine range {Cuisine_ranges[i]} and {Cuisine_ranges[i+1]}: {ttest_result}\")\n",
    "    print(f'mean values: {Cuisine_ranges[i]}: {factors[factors['Cuisines'] == Cuisine_ranges[i]]['Aggregate rating'].mean()}, '\n",
    "          f'{Cuisine_ranges[i+1]}: {factors[factors['Cuisines'] == Cuisine_ranges[i+1]]['Aggregate rating'].mean()}')\n",
    "    print('\\n')"
   ]
  },
  {
   "cell_type": "markdown",
   "metadata": {},
   "source": [
    "**The cuisine count range of 4 to 8 shows no significant statistical differences and maintains a solid average rating**"
   ]
  },
  {
   "cell_type": "code",
   "execution_count": 63,
   "metadata": {},
   "outputs": [],
   "source": [
    "#grouping format (min-Q1, Q1-Q2, Q2-Q3, Q3-max, group of outliers)\n",
    "Q1_AC,Q2_AC,Q3_AC = np.percentile(factors['Average Cost for two'],[25,50,75])\n",
    "Min_to_Q1_AC = factors[factors['Average Cost for two'] <= Q1_AC]\n",
    "Q1_to_Q2_AC = factors[(factors['Average Cost for two'] > Q1_AC) & (factors['Average Cost for two'] <= Q2_AC)]\n",
    "Q2_to_Q3_AC = factors[(factors['Average Cost for two'] > Q2_AC) & (factors['Average Cost for two'] <= Q3_AC)]\n",
    "Q3_to_max_AC = factors[factors['Average Cost for two'] > Q3_AC]\n"
   ]
  },
  {
   "cell_type": "code",
   "execution_count": 64,
   "metadata": {},
   "outputs": [],
   "source": [
    "IQR_AC = Q3_AC - Q1_AC\n",
    "UCL_AC = Q3_AC + 1.5 * IQR_AC\n",
    "LCL_AC = Q1_AC - 1.5 * IQR_AC\n",
    "LCL_group_AC = factors[factors['Average Cost for two'] < LCL_AC]\n",
    "UCL_group_AC = factors[factors['Average Cost for two'] > UCL_AC]"
   ]
  },
  {
   "cell_type": "code",
   "execution_count": 65,
   "metadata": {},
   "outputs": [
    {
     "name": "stdout",
     "output_type": "stream",
     "text": [
      "T-test between Average Cost for two LCL_group and Min_to_Q1: TtestResult(statistic=nan, pvalue=nan, df=nan)\n",
      "mean values for LCL_group: nan, Min_to_Q1: 2.3494992295839756\n",
      "\n",
      "\n",
      "T-test between Average Cost for two Min_to_Q1 and Q1_to_Q2: TtestResult(statistic=4.056860022021449, pvalue=5.052243459065505e-05, df=4825.0)\n",
      "mean values for Min_to_Q1: 2.3494992295839756, Q1_to_Q2: 2.1518601523980276\n",
      "\n",
      "\n",
      "T-test between Average Cost for two Q1_to_Q2 and Q2_to_Q3: TtestResult(statistic=-14.827758995421854, pvalue=1.0937589906185532e-48, df=4886.0)\n",
      "mean values for Q1_to_Q2: 2.1518601523980276, Q2_to_Q3: 2.757847196085811\n",
      "\n",
      "\n",
      "T-test between Average Cost for two Q2_to_Q3 and Q3_to_Max: TtestResult(statistic=-22.60158954027015, pvalue=1.7959211953505725e-107, df=4712.0)\n",
      "mean values for Q2_to_Q3: 2.757847196085811, Q3_to_Max: 3.500583373845406\n",
      "\n",
      "\n",
      "T-test between Average Cost for two Q3_to_Max and UCL_group: TtestResult(statistic=-5.880708592015484, pvalue=4.550357600768381e-09, df=2908.0)\n",
      "mean values for Q3_to_Max: 3.500583373845406, UCL_group: 3.7018757327080887\n",
      "\n",
      "\n"
     ]
    }
   ],
   "source": [
    "group_names = [LCL_group_AC,Min_to_Q1_AC,Q1_to_Q2_AC,Q2_to_Q3_AC,Q3_to_max_AC,UCL_group_AC]\n",
    "gp =  ['LCL_group','Min_to_Q1','Q1_to_Q2','Q2_to_Q3','Q3_to_Max','UCL_group']\n",
    "\n",
    "for i in range(len(group_names) - 1):\n",
    "    ttest_result = ttest_ind(group_names[i]['Aggregate rating'], group_names[i+1]['Aggregate rating'])\n",
    "\n",
    "    print(f\"T-test between Average Cost for two {gp[i]} and {gp[i+1]}: {ttest_result}\")\n",
    "    print(f'mean values for {gp[i]}: {group_names[i]['Aggregate rating'].mean()}, {gp[i+1]}: {group_names[i+1]['Aggregate rating'].mean()}')\n",
    "    print('\\n')"
   ]
  },
  {
   "cell_type": "markdown",
   "metadata": {},
   "source": [
    "**The outliers group has the highest mean rating, and the difference is statistically significant.**"
   ]
  },
  {
   "cell_type": "code",
   "execution_count": 66,
   "metadata": {},
   "outputs": [],
   "source": [
    "Q1_V,Q2_V,Q3_V = np.percentile(factors['Votes'],[25,50,75])\n",
    "Min_to_Q1_V = factors[factors['Votes'] <= Q1_V]\n",
    "Q1_to_Q2_V = factors[(factors['Votes'] > Q1_V) & (factors['Votes'] <= Q2_V)]\n",
    "Q2_to_Q3_V = factors[(factors['Votes'] > Q2_V) & (factors['Votes'] <= Q3_V)]\n",
    "Q3_to_max_V = factors[factors['Votes'] > Q3_V]"
   ]
  },
  {
   "cell_type": "code",
   "execution_count": 67,
   "metadata": {},
   "outputs": [],
   "source": [
    "IQR_V = Q3_V - Q1_V\n",
    "UCL_V = Q3_V + 1.5 * IQR_V\n",
    "LCL_V = Q1_V - 1.5 * IQR_V\n",
    "LCL_group_V = factors[factors['Votes'] < LCL_V]\n",
    "UCL_group_V = factors[factors['Votes'] > UCL_V]"
   ]
  },
  {
   "cell_type": "code",
   "execution_count": 68,
   "metadata": {},
   "outputs": [
    {
     "name": "stdout",
     "output_type": "stream",
     "text": [
      "T-test between Vote groups LCL_group and Min_to_Q1: TtestResult(statistic=nan, pvalue=nan, df=nan)\n",
      "mean values for LCL_group: nan, Min_to_Q1: 0.4346963080587535 \n",
      "\n",
      "\n",
      "T-test between Vote groups Min_to_Q1 and Q1_to_Q2: TtestResult(statistic=-116.93753670090025, pvalue=0.0, df=4826.0)\n",
      "mean values for Min_to_Q1: 0.4346963080587535, Q1_to_Q2: 3.1014291901255957 \n",
      "\n",
      "\n",
      "T-test between Vote groups Q1_to_Q2 and Q2_to_Q3: TtestResult(statistic=-23.17773146263008, pvalue=1.530807800648381e-112, df=4636.0)\n",
      "mean values for Q1_to_Q2: 3.1014291901255957, Q2_to_Q3: 3.392958351223701 \n",
      "\n",
      "\n",
      "T-test between Vote groups Q2_to_Q3 and Q3_to_Max: TtestResult(statistic=-34.43807287880867, pvalue=5.1628136923031004e-232, df=4711.0)\n",
      "mean values for Q2_to_Q3: 3.392958351223701, Q3_to_Max: 3.8884228187919465 \n",
      "\n",
      "\n",
      "T-test between Vote groups Q3_to_Max and UCL_group: TtestResult(statistic=-9.668704694407156, pvalue=7.645978373572974e-22, df=3512.0)\n",
      "mean values for Q3_to_Max: 3.8884228187919465, UCL_group: 4.05070796460177 \n",
      "\n",
      "\n"
     ]
    }
   ],
   "source": [
    "group_names = [LCL_group_V,Min_to_Q1_V,Q1_to_Q2_V,Q2_to_Q3_V,Q3_to_max_V,UCL_group_V]\n",
    "gp =  ['LCL_group','Min_to_Q1','Q1_to_Q2','Q2_to_Q3','Q3_to_Max','UCL_group']\n",
    "\n",
    "for i in range(len(group_names) - 1):\n",
    "    ttest_result = ttest_ind(group_names[i]['Aggregate rating'], group_names[i+1]['Aggregate rating'])\n",
    "    \n",
    "    print(f\"T-test between Vote groups {gp[i]} and {gp[i+1]}: {ttest_result}\")\n",
    "    print(f'mean values for {gp[i]}: {group_names[i]['Aggregate rating'].mean()}, {gp[i+1]}: {group_names[i+1]['Aggregate rating'].mean()} ')\n",
    "    print('\\n')"
   ]
  },
  {
   "cell_type": "markdown",
   "metadata": {},
   "source": [
    "**Same case here The outliers group has the highest mean rating, and the difference is statistically significant.**"
   ]
  },
  {
   "cell_type": "code",
   "execution_count": 69,
   "metadata": {},
   "outputs": [],
   "source": [
    "star_restaurants = Cuisine_cnt.copy()"
   ]
  },
  {
   "cell_type": "code",
   "execution_count": 70,
   "metadata": {},
   "outputs": [],
   "source": [
    "star_restaurants = star_restaurants[(star_restaurants['Has Table booking'] == \"Yes\") & \n",
    "        (star_restaurants['Has Online delivery'] == \"Yes\") & \n",
    "        (star_restaurants['Cuisines'].isin([4, 6, 7, 8])) & \n",
    "        (star_restaurants['Average Cost for two'] > UCL_AC) & \n",
    "        (star_restaurants['Votes'] > UCL_V) &\n",
    "        (star_restaurants['Price range'] == 4)]"
   ]
  },
  {
   "cell_type": "code",
   "execution_count": 71,
   "metadata": {},
   "outputs": [
    {
     "data": {
      "text/html": [
       "<div>\n",
       "<style scoped>\n",
       "    .dataframe tbody tr th:only-of-type {\n",
       "        vertical-align: middle;\n",
       "    }\n",
       "\n",
       "    .dataframe tbody tr th {\n",
       "        vertical-align: top;\n",
       "    }\n",
       "\n",
       "    .dataframe thead th {\n",
       "        text-align: right;\n",
       "    }\n",
       "</style>\n",
       "<table border=\"1\" class=\"dataframe\">\n",
       "  <thead>\n",
       "    <tr style=\"text-align: right;\">\n",
       "      <th></th>\n",
       "      <th>Restaurant ID</th>\n",
       "      <th>Restaurant Name</th>\n",
       "      <th>Country Code</th>\n",
       "      <th>City</th>\n",
       "      <th>Address</th>\n",
       "      <th>Locality</th>\n",
       "      <th>Longitude</th>\n",
       "      <th>Latitude</th>\n",
       "      <th>Average Cost for two</th>\n",
       "      <th>Currency</th>\n",
       "      <th>Has Table booking</th>\n",
       "      <th>Has Online delivery</th>\n",
       "      <th>Price range</th>\n",
       "      <th>Aggregate rating</th>\n",
       "      <th>Rating color</th>\n",
       "      <th>Rating text</th>\n",
       "      <th>Votes</th>\n",
       "      <th>Cuisines</th>\n",
       "    </tr>\n",
       "  </thead>\n",
       "  <tbody>\n",
       "    <tr>\n",
       "      <th>211</th>\n",
       "      <td>929</td>\n",
       "      <td>Pebble Street</td>\n",
       "      <td>1</td>\n",
       "      <td>New Delhi</td>\n",
       "      <td>8, Community Center, New Friends Colony, New D...</td>\n",
       "      <td>Community Centre, New Friends Colony</td>\n",
       "      <td>77.268938</td>\n",
       "      <td>28.562538</td>\n",
       "      <td>2400</td>\n",
       "      <td>Indian Rupees(Rs.)</td>\n",
       "      <td>Yes</td>\n",
       "      <td>Yes</td>\n",
       "      <td>4</td>\n",
       "      <td>3.9</td>\n",
       "      <td>Yellow</td>\n",
       "      <td>Good</td>\n",
       "      <td>886</td>\n",
       "      <td>4</td>\n",
       "    </tr>\n",
       "    <tr>\n",
       "      <th>271</th>\n",
       "      <td>310737</td>\n",
       "      <td>7 Barrel Brew Pub</td>\n",
       "      <td>1</td>\n",
       "      <td>Gurgaon</td>\n",
       "      <td>242A &amp; 242B, 1st &amp; 2nd Floor, DLF Mega Mall, D...</td>\n",
       "      <td>DLF Mega Mall, DLF Phase 1</td>\n",
       "      <td>77.093354</td>\n",
       "      <td>28.476193</td>\n",
       "      <td>2000</td>\n",
       "      <td>Indian Rupees(Rs.)</td>\n",
       "      <td>Yes</td>\n",
       "      <td>Yes</td>\n",
       "      <td>4</td>\n",
       "      <td>4.4</td>\n",
       "      <td>Yellow</td>\n",
       "      <td>Good</td>\n",
       "      <td>490</td>\n",
       "      <td>6</td>\n",
       "    </tr>\n",
       "    <tr>\n",
       "      <th>282</th>\n",
       "      <td>4398</td>\n",
       "      <td>21 Gun Salute</td>\n",
       "      <td>1</td>\n",
       "      <td>Gurgaon</td>\n",
       "      <td>SCO 35-36, 1st Foor, Main Market, Sector 29, G...</td>\n",
       "      <td>Sector 29</td>\n",
       "      <td>77.063147</td>\n",
       "      <td>28.468189</td>\n",
       "      <td>2000</td>\n",
       "      <td>Indian Rupees(Rs.)</td>\n",
       "      <td>Yes</td>\n",
       "      <td>Yes</td>\n",
       "      <td>4</td>\n",
       "      <td>3.9</td>\n",
       "      <td>Yellow</td>\n",
       "      <td>Good</td>\n",
       "      <td>1365</td>\n",
       "      <td>4</td>\n",
       "    </tr>\n",
       "    <tr>\n",
       "      <th>296</th>\n",
       "      <td>7713</td>\n",
       "      <td>Ardor 2.1</td>\n",
       "      <td>1</td>\n",
       "      <td>New Delhi</td>\n",
       "      <td>N-55/56 &amp; 88/89, Outer Circle, Connaught Place...</td>\n",
       "      <td>Connaught Place</td>\n",
       "      <td>77.220172</td>\n",
       "      <td>28.630038</td>\n",
       "      <td>2000</td>\n",
       "      <td>Indian Rupees(Rs.)</td>\n",
       "      <td>Yes</td>\n",
       "      <td>Yes</td>\n",
       "      <td>4</td>\n",
       "      <td>4.1</td>\n",
       "      <td>Green</td>\n",
       "      <td>Very Good</td>\n",
       "      <td>1821</td>\n",
       "      <td>4</td>\n",
       "    </tr>\n",
       "    <tr>\n",
       "      <th>324</th>\n",
       "      <td>303753</td>\n",
       "      <td>Elma's Brasserie</td>\n",
       "      <td>1</td>\n",
       "      <td>New Delhi</td>\n",
       "      <td>73, Meherchand Market, Lodhi Colony, New Delhi</td>\n",
       "      <td>Lodhi Colony</td>\n",
       "      <td>77.226711</td>\n",
       "      <td>28.584460</td>\n",
       "      <td>2000</td>\n",
       "      <td>Indian Rupees(Rs.)</td>\n",
       "      <td>Yes</td>\n",
       "      <td>Yes</td>\n",
       "      <td>4</td>\n",
       "      <td>4.0</td>\n",
       "      <td>Yellow</td>\n",
       "      <td>Good</td>\n",
       "      <td>393</td>\n",
       "      <td>4</td>\n",
       "    </tr>\n",
       "  </tbody>\n",
       "</table>\n",
       "</div>"
      ],
      "text/plain": [
       "     Restaurant ID    Restaurant Name  Country Code       City  \\\n",
       "211            929      Pebble Street             1  New Delhi   \n",
       "271         310737  7 Barrel Brew Pub             1    Gurgaon   \n",
       "282           4398      21 Gun Salute             1    Gurgaon   \n",
       "296           7713          Ardor 2.1             1  New Delhi   \n",
       "324         303753   Elma's Brasserie             1  New Delhi   \n",
       "\n",
       "                                               Address  \\\n",
       "211  8, Community Center, New Friends Colony, New D...   \n",
       "271  242A & 242B, 1st & 2nd Floor, DLF Mega Mall, D...   \n",
       "282  SCO 35-36, 1st Foor, Main Market, Sector 29, G...   \n",
       "296  N-55/56 & 88/89, Outer Circle, Connaught Place...   \n",
       "324     73, Meherchand Market, Lodhi Colony, New Delhi   \n",
       "\n",
       "                                 Locality  Longitude   Latitude  \\\n",
       "211  Community Centre, New Friends Colony  77.268938  28.562538   \n",
       "271            DLF Mega Mall, DLF Phase 1  77.093354  28.476193   \n",
       "282                             Sector 29  77.063147  28.468189   \n",
       "296                       Connaught Place  77.220172  28.630038   \n",
       "324                          Lodhi Colony  77.226711  28.584460   \n",
       "\n",
       "     Average Cost for two            Currency Has Table booking  \\\n",
       "211                  2400  Indian Rupees(Rs.)               Yes   \n",
       "271                  2000  Indian Rupees(Rs.)               Yes   \n",
       "282                  2000  Indian Rupees(Rs.)               Yes   \n",
       "296                  2000  Indian Rupees(Rs.)               Yes   \n",
       "324                  2000  Indian Rupees(Rs.)               Yes   \n",
       "\n",
       "    Has Online delivery  Price range  Aggregate rating Rating color  \\\n",
       "211                 Yes            4               3.9       Yellow   \n",
       "271                 Yes            4               4.4       Yellow   \n",
       "282                 Yes            4               3.9       Yellow   \n",
       "296                 Yes            4               4.1        Green   \n",
       "324                 Yes            4               4.0       Yellow   \n",
       "\n",
       "    Rating text  Votes  Cuisines  \n",
       "211        Good    886         4  \n",
       "271        Good    490         6  \n",
       "282        Good   1365         4  \n",
       "296   Very Good   1821         4  \n",
       "324        Good    393         4  "
      ]
     },
     "execution_count": 71,
     "metadata": {},
     "output_type": "execute_result"
    }
   ],
   "source": [
    "star_restaurants"
   ]
  },
  {
   "cell_type": "code",
   "execution_count": 72,
   "metadata": {},
   "outputs": [
    {
     "data": {
      "text/plain": [
       "4.0600000000000005"
      ]
     },
     "execution_count": 72,
     "metadata": {},
     "output_type": "execute_result"
    }
   ],
   "source": [
    "star_restaurants['Aggregate rating'].mean()"
   ]
  },
  {
   "cell_type": "code",
   "execution_count": 73,
   "metadata": {},
   "outputs": [
    {
     "data": {
      "text/plain": [
       "Cuisines\n",
       "Afghani          1.971429\n",
       "African          3.525000\n",
       "American         3.662308\n",
       "Andhra           3.870000\n",
       "Arabian          3.385714\n",
       "                   ...   \n",
       "Turkish Pizza    4.325000\n",
       "Vegetarian       4.073913\n",
       "Vietnamese       3.923810\n",
       "Western          4.140000\n",
       "World Cuisine    4.300000\n",
       "Name: Aggregate rating, Length: 145, dtype: float64"
      ]
     },
     "execution_count": 73,
     "metadata": {},
     "output_type": "execute_result"
    }
   ],
   "source": [
    "joined_table.groupby('Cuisines')['Aggregate rating'].mean()"
   ]
  },
  {
   "cell_type": "markdown",
   "metadata": {},
   "source": [
    "**To identify star restaurants and offer useful recommendations, I've set up a matrix based on the data analysis. This matrix includes:**\n",
    "\n",
    "**Online Delivery: The restaurant should provide online delivery services.**\n",
    "\n",
    "**Table Booking: The restaurant should allow table booking.**\n",
    "\n",
    "**Cuisines: The restaurant should offer between 4 to 8 different cuisines, as this range has shown to have a favorable average rating.**\n",
    "\n",
    "**Average Cost for Two: The average cost for two people should be more than 1375.0.**\n",
    "\n",
    "**Votes: The number of votes should be above 317.5.**\n",
    "\n",
    "**Price Range: The restaurant should be in the 4th price range.**\n",
    "\n",
    "**This matrix helps spot top-performing restaurants and make spot-on recommendations, fitting perfectly with the plan to revamp the B2C portal using smart automation. Applying this matrix also gives us an average rating of 4.**"
   ]
  },
  {
   "cell_type": "markdown",
   "metadata": {},
   "source": [
    "................................................................................................................................................................................................................................................................................................................................................................................................................................................................................................................................................................................................................................................................................................................................................................................"
   ]
  }
 ],
 "metadata": {
  "kernelspec": {
   "display_name": "Python 3",
   "language": "python",
   "name": "python3"
  },
  "language_info": {
   "codemirror_mode": {
    "name": "ipython",
    "version": 3
   },
   "file_extension": ".py",
   "mimetype": "text/x-python",
   "name": "python",
   "nbconvert_exporter": "python",
   "pygments_lexer": "ipython3",
   "version": "3.12.2"
  }
 },
 "nbformat": 4,
 "nbformat_minor": 2
}
